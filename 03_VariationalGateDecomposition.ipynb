{
 "cells": [
  {
   "cell_type": "code",
   "execution_count": 2,
   "metadata": {},
   "outputs": [],
   "source": [
    "#!pip install qulacs\n",
    "#!pip install matplotlib\n",
    "#!pip install numpy\n",
    "#!pip install scipy\n",
    "from utility import *"
   ]
  },
  {
   "cell_type": "code",
   "execution_count": 3,
   "metadata": {},
   "outputs": [],
   "source": [
    "import matplotlib.pyplot as plt\n",
    "import numpy as np\n",
    "import time \n",
    "import random\n",
    "from qulacs import QuantumState\n",
    "from qulacs import QuantumCircuit\n",
    "from qulacs.gate import DenseMatrix\n",
    "from qulacs.circuit import QuantumCircuitOptimizer"
   ]
  },
  {
   "cell_type": "markdown",
   "metadata": {},
   "source": [
    "#  変分法を用いて量子演算を特定の演算で分解する\n",
    "- エンタングルメント状態の生成\n",
    "- エンタングルメント忠実度の計算\n",
    "- `ParametericQuantumCircuit` クラスを使う"
   ]
  },
  {
   "cell_type": "markdown",
   "metadata": {},
   "source": [
    "## 最大エンタングル状態の生成"
   ]
  },
  {
   "cell_type": "code",
   "execution_count": 9,
   "metadata": {},
   "outputs": [],
   "source": [
    "nqubits = 2\n",
    "mes = QuantumState(nqubits)\n",
    "H(0).update_quantum_state(mes)\n",
    "CNOT(0,1).update_quantum_state(mes)"
   ]
  },
  {
   "cell_type": "markdown",
   "metadata": {},
   "source": [
    "0,1基底での確率分布は、"
   ]
  },
  {
   "cell_type": "code",
   "execution_count": 10,
   "metadata": {},
   "outputs": [
    {
     "data": {
      "image/png": "[encoded data removed]",
      "text/plain": [
       "<Figure size 432x288 with 1 Axes>"
      ]
     },
     "metadata": {
      "needs_background": "light"
     },
     "output_type": "display_data"
    }
   ],
   "source": [
    "show_distribution(mes)"
   ]
  },
  {
   "cell_type": "markdown",
   "metadata": {},
   "source": [
    "$\\{ |+\\rangle , |-\\rangle \\} $基底での測定は、$H$を作用させてから0,1測定すればいいので"
   ]
  },
  {
   "cell_type": "code",
   "execution_count": 11,
   "metadata": {},
   "outputs": [
    {
     "data": {
      "image/png": "[encoded data removed]",
      "text/plain": [
       "<Figure size 432x288 with 1 Axes>"
      ]
     },
     "metadata": {
      "needs_background": "light"
     },
     "output_type": "display_data"
    }
   ],
   "source": [
    "H(0).update_quantum_state(mes)\n",
    "H(1).update_quantum_state(mes)\n",
    "show_distribution(mes)"
   ]
  },
  {
   "cell_type": "markdown",
   "metadata": {},
   "source": [
    "規定を変えても完全相関があることがわかる。2n qubitの最大エンタングル状態を生成する関数を作っておく。"
   ]
  },
  {
   "cell_type": "code",
   "execution_count": 12,
   "metadata": {},
   "outputs": [],
   "source": [
    "def maximally_entangled_state(nqubits):\n",
    "    state = QuantumState(2*nqubits)\n",
    "    for i in range(nqubits):\n",
    "        H(i).update_quantum_state(state)\n",
    "        CNOT(i,i+nqubits).update_quantum_state(state)\n",
    "    return state"
   ]
  },
  {
   "cell_type": "code",
   "execution_count": 13,
   "metadata": {},
   "outputs": [
    {
     "data": {
      "image/png": "[encoded data removed]",
      "text/plain": [
       "<Figure size 432x288 with 1 Axes>"
      ]
     },
     "metadata": {
      "needs_background": "light"
     },
     "output_type": "display_data"
    }
   ],
   "source": [
    "four_qubit_mes = maximally_entangled_state(2)\n",
    "show_distribution(four_qubit_mes)"
   ]
  },
  {
   "cell_type": "markdown",
   "metadata": {},
   "source": [
    "## エンタングルメント忠実度を計算する"
   ]
  },
  {
   "cell_type": "markdown",
   "metadata": {},
   "source": [
    "`RandomUnitary`を用いてターゲットとなるランダムな量子演算を作っておく"
   ]
  },
  {
   "cell_type": "code",
   "execution_count": 19,
   "metadata": {},
   "outputs": [
    {
     "name": "stdout",
     "output_type": "stream",
     "text": [
      " *** gate info *** \n",
      " * gate name : DenseMatrix\n",
      " * target    : \n",
      " 0 : commute       \n",
      " * control   : \n",
      " * Pauli     : no\n",
      " * Clifford  : no\n",
      " * Gaussian  : no\n",
      " * Parametric: no\n",
      " * Diagonal  : no\n",
      " * Matrix\n",
      " (0.110797,0.513608)  (-0.6056,-0.597644)\n",
      "(0.794854,-0.303543)  (0.308045,-0.42565)\n",
      "\n"
     ]
    }
   ],
   "source": [
    "from qulacs.gate import RandomUnitary\n",
    "target_list = [0]\n",
    "target_unitary = RandomUnitary(target_list)\n",
    "print(target_unitary)"
   ]
  },
  {
   "cell_type": "markdown",
   "metadata": {},
   "source": [
    "パラメータ付きの量子回路を`ParametricQuantumCircuit`に`add_parametric_RX_gate`で追加する生成する"
   ]
  },
  {
   "cell_type": "code",
   "execution_count": 106,
   "metadata": {},
   "outputs": [],
   "source": [
    "nqubits = 2 # 2qubitの空間考えているので2qubit分確保しておく\n",
    "\n",
    "#パラメータ付きの量子回路クラス\n",
    "ansatz = ParametricQuantumCircuit(nqubits)\n",
    "\n",
    "#パラメータを回路構成後に変更できる演算\n",
    "ansatz.add_parametric_RZ_gate(0,0.0)\n",
    "ansatz.add_parametric_RX_gate(0,0.0)\n",
    "ansatz.add_parametric_RZ_gate(0,0.0)\n",
    "\n",
    "#通常の量子演算\n",
    "ansatz.add_gate(target_unitary)"
   ]
  },
  {
   "cell_type": "markdown",
   "metadata": {},
   "source": [
    "エンタングルメント忠実度を計算する"
   ]
  },
  {
   "cell_type": "code",
   "execution_count": 107,
   "metadata": {},
   "outputs": [
    {
     "name": "stdout",
     "output_type": "stream",
     "text": [
      "0.045791443519621014\n"
     ]
    }
   ],
   "source": [
    "mes = maximally_entangled_state(1)\n",
    "mes_copy = mes.copy()\n",
    "ansatz.update_quantum_state(mes)\n",
    "\n",
    "from qulacs.state import inner_product\n",
    "ent_fidelity = abs(inner_product(mes_copy,mes))**2\n",
    "print(ent_fidelity)"
   ]
  },
  {
   "cell_type": "markdown",
   "metadata": {},
   "source": [
    "エンタングルメント忠実度を計算する関数を作っておく"
   ]
  },
  {
   "cell_type": "code",
   "execution_count": 108,
   "metadata": {},
   "outputs": [],
   "source": [
    "from qulacs.state import inner_product\n",
    "\n",
    "def entanglement_fidelity(ansatz,nqubits):\n",
    "    mes = maximally_entangled_state(int(nqubits/2))\n",
    "    mes_copy = mes.copy()\n",
    "    ansatz.update_quantum_state(mes)\n",
    "\n",
    "    ent_fidelity = abs(inner_product(mes_copy,mes))**2\n",
    "    return ent_fidelity"
   ]
  },
  {
   "cell_type": "code",
   "execution_count": 109,
   "metadata": {},
   "outputs": [
    {
     "data": {
      "text/plain": [
       "0.045791443519621014"
      ]
     },
     "execution_count": 109,
     "metadata": {},
     "output_type": "execute_result"
    }
   ],
   "source": [
    "entanglement_fidelity(ansatz,2)"
   ]
  },
  {
   "cell_type": "markdown",
   "metadata": {},
   "source": [
    "## 忠実度を最適化することで、演算の分解を見つける"
   ]
  },
  {
   "cell_type": "markdown",
   "metadata": {},
   "source": [
    "パラメータ付き回路のパラメータを変化させて、ターゲットの量子演算となるパラメータを見つけよう。i番目のパラメータの変更は、`set_parameter(i,new_parameter)`"
   ]
  },
  {
   "cell_type": "code",
   "execution_count": 110,
   "metadata": {},
   "outputs": [],
   "source": [
    "def cost(parameters):\n",
    "    num_paras = ansatz.get_parameter_count()\n",
    "\n",
    "    #パラメータを変更\n",
    "    for i in range(num_paras):\n",
    "        ansatz.set_parameter(i,parameters[i])\n",
    "    \n",
    "    return 1 - entanglement_fidelity(ansatz,nqubits)"
   ]
  },
  {
   "cell_type": "code",
   "execution_count": 111,
   "metadata": {},
   "outputs": [
    {
     "data": {
      "text/plain": [
       "0.9998970170666427"
      ]
     },
     "execution_count": 111,
     "metadata": {},
     "output_type": "execute_result"
    }
   ],
   "source": [
    "cost([random.random() for i in range(3)])"
   ]
  },
  {
   "cell_type": "markdown",
   "metadata": {},
   "source": [
    "scipyの最適化関数をつかって、パラメータを変分的に最適化しよう"
   ]
  },
  {
   "cell_type": "code",
   "execution_count": 112,
   "metadata": {},
   "outputs": [
    {
     "data": {
      "image/png": "[encoded data removed]",
      "text/plain": [
       "<Figure size 432x288 with 1 Axes>"
      ]
     },
     "metadata": {
      "needs_background": "light"
     },
     "output_type": "display_data"
    }
   ],
   "source": [
    "import scipy.optimize\n",
    "\n",
    "cost_history = []\n",
    "\n",
    "#パラメータの初期値\n",
    "init_theta_list = [random.random() for i in range(ansatz.get_parameter_count())]\n",
    "cost_history.append(cost(init_theta_list))\n",
    "\n",
    "method = \"BFGS\"\n",
    "options = {\"disp\": True, \"maxiter\": 50, \"gtol\": 1e-6}\n",
    "\n",
    "opt = scipy.optimize.minimize(cost, init_theta_list,\n",
    "               method=method,\n",
    "               callback=lambda x: cost_history.append(cost(x)))\n",
    "\n",
    "plt.rcParams[\"font.size\"] = 18\n",
    "plt.plot(cost_history)\n",
    "plt.xlabel(\"Iteration\")\n",
    "plt.ylabel(\"1-(entanglement fidelity)\")\n",
    "plt.show()"
   ]
  },
  {
   "cell_type": "code",
   "execution_count": 113,
   "metadata": {},
   "outputs": [
    {
     "name": "stdout",
     "output_type": "stream",
     "text": [
      "fidelity 1.6365353516789582e-11 parameters [-0.15233116  2.03516357 -2.15034665]\n"
     ]
    }
   ],
   "source": [
    "print(\"fidelity\",opt.fun,\"parameters\",opt.x)\n"
   ]
  },
  {
   "cell_type": "code",
   "execution_count": 114,
   "metadata": {},
   "outputs": [
    {
     "data": {
      "text/plain": [
       "1.4137135906366893e-10"
      ]
     },
     "execution_count": 114,
     "metadata": {},
     "output_type": "execute_result"
    }
   ],
   "source": [
    "cost([-0.1523479  , 2.03515578,-2.1503557 ])"
   ]
  },
  {
   "cell_type": "markdown",
   "metadata": {},
   "source": [
    "できた回路が同じであることを確認しておく（エルミート共役をとるので、パラメータの順序を逆にし、マイナスをつけることを忘れない）\n",
    "$$\n",
    "(R_z(\\alpha) R_x(\\beta) R_z(\\gamma))^{\\dagger} = R_z(-\\gamma) R_x(-\\beta) R_z(-\\alpha))\n",
    "$$"
   ]
  },
  {
   "cell_type": "code",
   "execution_count": 115,
   "metadata": {},
   "outputs": [
    {
     "data": {
      "text/plain": [
       "0.9999999999836513"
      ]
     },
     "execution_count": 115,
     "metadata": {},
     "output_type": "execute_result"
    }
   ],
   "source": [
    "nqubits = 1\n",
    "state0 = QuantumState(nqubits)\n",
    "state0.set_Haar_random_state()\n",
    "state1 = state0.copy()\n",
    "\n",
    "target_unitary.update_quantum_state(state0)\n",
    "\n",
    "RZ(0,-1.0*opt.x[2]).update_quantum_state(state1)\n",
    "RX(0,-1.0*opt.x[1]).update_quantum_state(state1)\n",
    "RZ(0,-1.0*opt.x[0]).update_quantum_state(state1)\n",
    "\n",
    "abs(inner_product(state0,state1))**2\n"
   ]
  },
  {
   "cell_type": "markdown",
   "metadata": {},
   "source": [
    "（全体の位相因子が異なる場合がある。）"
   ]
  },
  {
   "cell_type": "markdown",
   "metadata": {},
   "source": [
    "## 応用編：CNOT演算を分解する\n",
    "2量子ビット以上のパウリの回転演算子は`add_parametric_multi_Pauli_rotation_gate(index_list, pauli_id_list, angle)`\n",
    "で追加できる。`pauli_id_list`はX、Y、Z、をそれぞれ1,2,3として並べたリスト。\n"
   ]
  },
  {
   "cell_type": "code",
   "execution_count": 116,
   "metadata": {},
   "outputs": [],
   "source": [
    "nqubits = 4 # 4qubitの空間考えているので4qubit分確保しておく\n",
    "\n",
    "#パラメータ付きの量子回路クラス\n",
    "ansatz = ParametricQuantumCircuit(nqubits)\n",
    "\n",
    "#パラメータを回路構成後に変更できる演算\n",
    "ansatz.add_parametric_RZ_gate(0,0.0)\n",
    "ansatz.add_parametric_multi_Pauli_rotation_gate([0,1],[3,1], 0.0)\n",
    "ansatz.add_parametric_RX_gate(1,0.0)\n",
    "\n",
    "#ターゲットの量子演算\n",
    "ansatz.add_gate(CNOT(0,1))"
   ]
  },
  {
   "cell_type": "code",
   "execution_count": 119,
   "metadata": {},
   "outputs": [
    {
     "data": {
      "image/png": "[encoded data removed]",
      "text/plain": [
       "<Figure size 432x288 with 1 Axes>"
      ]
     },
     "metadata": {
      "needs_background": "light"
     },
     "output_type": "display_data"
    }
   ],
   "source": [
    "\n",
    "cost_history = []\n",
    "\n",
    "#パラメータの初期値\n",
    "init_theta_list = [random.random() for i in range(ansatz.get_parameter_count())]\n",
    "cost_history.append(cost(init_theta_list))\n",
    "\n",
    "method = \"BFGS\"\n",
    "options = {\"disp\": True, \"maxiter\": 50, \"gtol\": 1e-6}\n",
    "\n",
    "opt = scipy.optimize.minimize(cost, init_theta_list,\n",
    "               method=method,\n",
    "               callback=lambda x: cost_history.append(cost(x)))\n",
    "\n",
    "plt.rcParams[\"font.size\"] = 18\n",
    "plt.plot(cost_history)\n",
    "plt.xlabel(\"Iteration\")\n",
    "plt.ylabel(\"1-(entanglement fidelity)\")\n",
    "plt.show()"
   ]
  },
  {
   "cell_type": "code",
   "execution_count": 120,
   "metadata": {},
   "outputs": [
    {
     "data": {
      "text/plain": [
       "array([-1.57079668,  1.57079738, -1.5707957 ])"
      ]
     },
     "execution_count": 120,
     "metadata": {},
     "output_type": "execute_result"
    }
   ],
   "source": [
    "opt.x"
   ]
  }
 ],
 "metadata": {
  "kernelspec": {
   "display_name": "Python 3",
   "language": "python",
   "name": "python3"
  },
  "language_info": {
   "codemirror_mode": {
    "name": "ipython",
    "version": 3
   },
   "file_extension": ".py",
   "mimetype": "text/x-python",
   "name": "python",
   "nbconvert_exporter": "python",
   "pygments_lexer": "ipython3",
   "version": "3.7.4"
  }
 },
 "nbformat": 4,
 "nbformat_minor": 2
}
