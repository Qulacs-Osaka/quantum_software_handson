{
 "cells": [
  {
   "cell_type": "code",
   "execution_count": 1,
   "id": "cc975b90",
   "metadata": {},
   "outputs": [],
   "source": [
    "#!pip install qulacs\n",
    "#!pip install qulacsvis\n",
    "#!pip install matplotlib\n",
    "#!pip install numpy\n",
    "#!pip install scipy"
   ]
  },
  {
   "cell_type": "code",
   "execution_count": 2,
   "id": "0da16b5c",
   "metadata": {},
   "outputs": [],
   "source": [
    "import matplotlib.pyplot as plt\n",
    "import numpy as np\n",
    "from qulacs import Observable, QuantumState, PauliOperator, QuantumCircuit, ParametricQuantumCircuit, DensityMatrix\n",
    "from qulacs.gate import  Identity,X, Y, H, Z, S, Sdag, DepolarizingNoise, DephasingNoise, AmplitudeDampingNoise, TwoQubitDepolarizingNoise"
   ]
  },
  {
   "cell_type": "markdown",
   "id": "e562b01f",
   "metadata": {},
   "source": [
    "# 擬確率法を実装してみる\n",
    "シミュレーション・エラーの入れ方は外挿法のときと共通にして、擬確率法でエラーの影響を削減します。"
   ]
  },
  {
   "cell_type": "markdown",
   "id": "97439663",
   "metadata": {},
   "source": [
    "## エラーなしの場合"
   ]
  },
  {
   "cell_type": "markdown",
   "id": "f7235078",
   "metadata": {},
   "source": [
    "１次元横磁場イジング模型（４サイト）の基底状態をVQEで求める。解く対象は外挿法のものと共通。\n",
    "\\begin{align}\n",
    "H=\\sum_{i}(JZ_iZ_{i+1}+hX_i)\n",
    "\\end{align}"
   ]
  },
  {
   "cell_type": "code",
   "execution_count": 3,
   "id": "d22f254e",
   "metadata": {},
   "outputs": [],
   "source": [
    "#１次元横磁場イジング模型のハミルトニアンを定義\n",
    "n_qubits = 4\n",
    "transverse_Ising_hamiltonian = Observable(n_qubits)\n",
    "J = -1.0\n",
    "h = -1.0\n",
    "for i in range(n_qubits):\n",
    "    transverse_Ising_hamiltonian.add_operator(J, f\"Z {i} Z {(i+1)%n_qubits}\")\n",
    "    transverse_Ising_hamiltonian.add_operator(h, f\"X {i}\")"
   ]
  },
  {
   "cell_type": "code",
   "execution_count": 4,
   "id": "35593c9a",
   "metadata": {},
   "outputs": [
    {
     "data": {
      "image/png": "[encoded data removed]",
      "text/plain": [
       "<Figure size 1425.6x367.2 with 1 Axes>"
      ]
     },
     "execution_count": 4,
     "metadata": {},
     "output_type": "execute_result"
    }
   ],
   "source": [
    "## まずはエラーなしの場合\n",
    "from qulacsvis import circuit_drawer\n",
    "from scipy.optimize import minimize\n",
    "\n",
    "#状態ベクトル、ansatz回路を定義\n",
    "n_qubits = 4\n",
    "state = QuantumState(n_qubits)\n",
    "circuit_depth = 4\n",
    "circuit = ParametricQuantumCircuit(n_qubits)\n",
    "\n",
    "#ansatz回路を指定\n",
    "def Circuit(n_qubits,circuit_depth):\n",
    "    circuit = ParametricQuantumCircuit(n_qubits)\n",
    "    for d in range(circuit_depth):\n",
    "        for i in range(n_qubits):\n",
    "            circuit.add_parametric_RY_gate(i, 0.0)\n",
    "        for i in range(n_qubits):\n",
    "            circuit.add_CZ_gate(i, (i+1)%n_qubits)\n",
    "    return circuit\n",
    "circuit = Circuit(n_qubits,circuit_depth)\n",
    "params = np.zeros(circuit.get_parameter_count())\n",
    "\n",
    "#ansatz回路を表示\n",
    "circuit_drawer(circuit, \"mpl\")"
   ]
  },
  {
   "cell_type": "code",
   "execution_count": 5,
   "id": "b9151a5e",
   "metadata": {},
   "outputs": [],
   "source": [
    "#コスト関数を定義。ここではエネルギー期待値がコスト関数。\n",
    "def get_cost(params):\n",
    "    state = QuantumState(n_qubits)\n",
    "    for i, p in enumerate(params):\n",
    "        circuit.set_parameter(i,p)\n",
    "    circuit.update_quantum_state(state)\n",
    "    return transverse_Ising_hamiltonian.get_expectation_value(state)"
   ]
  },
  {
   "cell_type": "code",
   "execution_count": 6,
   "id": "f9762e55",
   "metadata": {},
   "outputs": [
    {
     "name": "stdout",
     "output_type": "stream",
     "text": [
      "VQEで求めたコスト関数の最小値 -5.072893485692576\n",
      "基底状態のエネルギー -5.203541892294178\n"
     ]
    }
   ],
   "source": [
    "#上で定義したansatz回路のもとで、コスト関数を最小化する。\n",
    "params_initial = np.zeros_like(params)\n",
    "minimized_costfunction = minimize(get_cost, params_initial, method='BFGS')\n",
    "exact_energy = transverse_Ising_hamiltonian.solve_ground_state_eigenvalue_by_power_method(state, 50)\n",
    "#コスト関数の最小値を表示\n",
    "print(\"VQEで求めたコスト関数の最小値\", minimized_costfunction.fun)\n",
    "print(\"基底状態のエネルギー\", np.real(exact_energy))"
   ]
  },
  {
   "cell_type": "code",
   "execution_count": 7,
   "id": "23f11a9f",
   "metadata": {},
   "outputs": [],
   "source": [
    "#エラーがない場合のansatz回路のパラメータを取得\n",
    "params_true = minimized_costfunction.x"
   ]
  },
  {
   "cell_type": "markdown",
   "id": "ae8f6ae4",
   "metadata": {},
   "source": [
    "## エラーありの場合"
   ]
  },
  {
   "cell_type": "markdown",
   "id": "6eb36860",
   "metadata": {},
   "source": [
    "外挿法のときと同様に、CZゲートに以下のエラーを作用させます。\n",
    "\n",
    "Depolarizing noise: $\\mathcal{E}[\\rho]=(1-p)\\rho+\\frac{p}{3} (X\\rho X+Y\\rho Y+Z\\rho Z)$"
   ]
  },
  {
   "cell_type": "code",
   "execution_count": null,
   "id": "42361f62",
   "metadata": {},
   "outputs": [],
   "source": [
    "## 次にdepolarizing noiseありの場合（１次元横磁場イジング模型）\n",
    "\n",
    "#密度演算子、ansatz回路を定義\n",
    "density_state = DensityMatrix(n_qubits)\n",
    "noisy_circuit = ParametricQuantumCircuit(n_qubits)\n",
    "error_rate = 0.01\n",
    "\n",
    "#ansatz回路を指定\n",
    "def NoisyCircuit(error_rate):\n",
    "    noisy_circuit = ParametricQuantumCircuit(n_qubits)\n",
    "    for d in range(circuit_depth):\n",
    "        for i in range(n_qubits):\n",
    "            noisy_circuit.add_parametric_RY_gate(i, 0.0)\n",
    "        for i in range(n_qubits):\n",
    "            noisy_circuit.add_CZ_gate(i, (i+1)%n_qubits)\n",
    "            noisy_circuit.add_gate(DepolarizingNoise(i, error_rate))\n",
    "            noisy_circuit.add_gate(DepolarizingNoise((i+1)%n_qubits, error_rate))\n",
    "    return noisy_circuit\n",
    "\n",
    "noisy_circuit = NoisyCircuit(error_rate)"
   ]
  },
  {
   "cell_type": "code",
   "execution_count": 9,
   "id": "d03e37ba",
   "metadata": {},
   "outputs": [],
   "source": [
    "#コスト関数を定義。ここではエネルギー期待値がコスト関数。\n",
    "def noisy_get_cost(params):\n",
    "    density_state = DensityMatrix(n_qubits)\n",
    "    for i, p in enumerate(params):\n",
    "        noisy_circuit.set_parameter(i,p)\n",
    "    noisy_circuit.update_quantum_state(density_state)\n",
    "    return transverse_Ising_hamiltonian.get_expectation_value(density_state)"
   ]
  },
  {
   "cell_type": "code",
   "execution_count": 10,
   "id": "46aba608",
   "metadata": {},
   "outputs": [
    {
     "name": "stdout",
     "output_type": "stream",
     "text": [
      "VQEで求めたコスト関数の最小値(エラーなし)： -5.072893485692576\n",
      "VQEで求めたコスト関数の最小値(エラーあり)： -4.210928860028173\n"
     ]
    }
   ],
   "source": [
    "#エラーなし、エラーありの場合で期待値を計算\n",
    "minimized_costfunction_noiseless = get_cost(params_true)\n",
    "minimized_costfunction_noise = noisy_get_cost(params_true)\n",
    "\n",
    "#コスト関数の最小値を表示\n",
    "print(\"VQEで求めたコスト関数の最小値(エラーなし)：\", minimized_costfunction_noiseless)\n",
    "print(\"VQEで求めたコスト関数の最小値(エラーあり)：\",minimized_costfunction_noise)"
   ]
  },
  {
   "cell_type": "markdown",
   "id": "49c9d3fc-3022-485b-946b-e5b779f94520",
   "metadata": {},
   "source": [
    "エラーの影響で期待値が変わっていることが確認できます。次にサンプリングにより、期待値を求めます。"
   ]
  },
  {
   "cell_type": "code",
   "execution_count": 11,
   "id": "c631850a",
   "metadata": {},
   "outputs": [],
   "source": [
    "def get_cost_sampling(shots,params,error_rate):\n",
    "    density_state = DensityMatrix(n_qubits)\n",
    "    noisy_circuit = NoisyCircuit(error_rate)\n",
    "    for i, p in enumerate(params):\n",
    "        noisy_circuit.set_parameter(i,p)\n",
    "    noisy_circuit.update_quantum_state(density_state)\n",
    "    density_copy_ZZ = DensityMatrix(n_qubits)\n",
    "    density_copy_X = DensityMatrix(n_qubits)\n",
    "    density_copy_ZZ = density_state.copy()\n",
    "    density_copy_X = density_state.copy()\n",
    "    mask_list_ZZ = [0b1100,0b0110,0b0011,0b1001]\n",
    "    mask_list_X = [0b1000,0b0100,0b0010,0b0001]   \n",
    "    for i in range(n_qubits):\n",
    "        gate = H(i)\n",
    "        gate.update_quantum_state(density_copy_X)\n",
    "    noise_sampling_ZZ = density_copy_ZZ.sampling(shots)\n",
    "    noise_sampling_X = density_copy_X.sampling(shots)\n",
    "    estimated_ZZ_average = 0.0\n",
    "    estimated_X_average = 0.0\n",
    "    for s in noise_sampling_ZZ:\n",
    "        for mask in mask_list_ZZ:\n",
    "            bitcount = bin(s & mask).count(\"1\")\n",
    "            estimated_ZZ_average += (-1)**bitcount/shots\n",
    "    for s in noise_sampling_X:\n",
    "        for mask in mask_list_X:\n",
    "            bitcount = bin(s & mask).count(\"1\")\n",
    "            estimated_X_average += (-1)**bitcount/shots\n",
    "    data_sampling_average = h * estimated_X_average + J * estimated_ZZ_average\n",
    "    return data_sampling_average"
   ]
  },
  {
   "cell_type": "code",
   "execution_count": 12,
   "id": "b82b5e72",
   "metadata": {},
   "outputs": [],
   "source": [
    "#エラー率を固定して、ヒストグラムを作成\n",
    "error_rate = 0.02\n",
    "n_test = 200\n",
    "shots = 1000\n",
    "no_mitigation_list = np.zeros(n_test)\n",
    "no_mitigation_noisy_list = np.zeros(n_test)\n",
    "\n",
    "for i in range(n_test):\n",
    "    density_state = DensityMatrix(n_qubits)\n",
    "    noiseless_circuit = NoisyCircuit(0.0)\n",
    "    no_mitigation_list[i] = get_cost_sampling(shots,params_true,0.0)\n",
    "    noisy_circuit = NoisyCircuit(error_rate)\n",
    "    no_mitigation_noisy_list[i] = get_cost_sampling(shots,params_true,error_rate)\n",
    "expec_value = noisy_get_cost(params_true)"
   ]
  },
  {
   "cell_type": "code",
   "execution_count": 13,
   "id": "cd867e19",
   "metadata": {},
   "outputs": [
    {
     "data": {
      "image/png": "[encoded data removed]",
      "text/plain": [
       "<Figure size 640x480 with 1 Axes>"
      ]
     },
     "metadata": {},
     "output_type": "display_data"
    }
   ],
   "source": [
    "plt.hist(no_mitigation_list, alpha=0.2, bins=20, label=f\"Noiseless\")\n",
    "plt.hist(no_mitigation_noisy_list, alpha=0.2, bins=20, label=f\"Noisy\")\n",
    "plt.axvline(expec_value, color=\"black\")\n",
    "plt.axvline(get_cost(params_true), color=\"red\")\n",
    "plt.legend(loc=\"upper left\", fontsize=13)\n",
    "plt.show()"
   ]
  },
  {
   "cell_type": "markdown",
   "id": "c9686b55",
   "metadata": {},
   "source": [
    "## 擬確率法"
   ]
  },
  {
   "cell_type": "markdown",
   "id": "8d18d6ae",
   "metadata": {},
   "source": [
    "擬確率法を実装して、エラーを抑制する。\n",
    "\n",
    "エラーの逆写像は以下の通り。\n",
    "\n",
    "$\\mathcal{E}^{-1}[\\rho]=\\frac{3-p}{3-4p}\\rho-\\frac{p}{3-4p} (X\\rho X+Y\\rho Y+Z\\rho Z)$\n",
    "\n",
    "この逆写像そのものは量子回路上で実装できないので、確率的に実装する。"
   ]
  },
  {
   "cell_type": "code",
   "execution_count": 14,
   "id": "c1b5199b",
   "metadata": {},
   "outputs": [],
   "source": [
    "#逆写像を確率的に実装するゲートを定義\n",
    "#パリティの値も取得する。恒等演算子のときは＋１、それ以外だと－１にする。\n",
    "import random\n",
    "def recovery_gate_depolarizing(i,error_rate):\n",
    "    ran = random.uniform(0, 1)\n",
    "    q1 = (3.0-error_rate)/(3.0-4.0*error_rate)\n",
    "    q2 = error_rate/(3.0-4.0*error_rate)\n",
    "    p1 = q1/(q1+3.0*q2)\n",
    "    p2 = (q1+q2)/(q1+3.0*q2)\n",
    "    p3 = (q1+2.0*q2)/(q1+3.0*q2)\n",
    "    if 0 < ran < p1:\n",
    "        gate = Identity(i)\n",
    "        parity = 1.0\n",
    "    elif p1 < ran < p2:\n",
    "        gate = X(i)\n",
    "        parity = -1.0\n",
    "    elif p2 < ran < p3:\n",
    "        gate = Y(i)\n",
    "        parity = -1.0\n",
    "    elif p3 < ran < 1.0:\n",
    "        gate = Z(i)\n",
    "        parity = -1.0\n",
    "    outcome = [gate,parity]\n",
    "    return outcome"
   ]
  },
  {
   "cell_type": "markdown",
   "id": "a2a2f3e5-ccdd-445c-88f0-9ff186c6c3df",
   "metadata": {},
   "source": [
    "エラーあり量子回路に対して擬確率法を実行する手順は以下の通り。\n",
    "- 上で定義した確率的なゲートを各depolarizing noiseの直後で実行\n",
    "- 確率的に選ばれたゲートが恒等演算子の場合は＋１、それ意外（X,Y,Z）の場合は－１としてパリティの値を定義。すべてのゲートについてパリティの積を計算し、測定結果にかける\n",
    "- この操作を何度も繰り返し、測定結果の平均値を求める\n",
    "- 求めた平均値に対して、$C^{N_g}$をかける。$C$は各ゲートのコスト（$=\\frac{3.0+2.0p}{3.0-4.0p}$）、$N_g$は実行するゲート数。\n",
    "\n"
   ]
  },
  {
   "cell_type": "code",
   "execution_count": null,
   "id": "adfd0a96",
   "metadata": {},
   "outputs": [],
   "source": [
    "#上で定義した確率的なゲートを脱分極エラーの直後に挿入\n",
    "def NoisyCircuit_recovery(error_rate):\n",
    "    noisy_circuit_PEC = ParametricQuantumCircuit(n_qubits)\n",
    "    parity_total = 1.0\n",
    "    for d in range(circuit_depth):\n",
    "        for i in range(n_qubits):\n",
    "            noisy_circuit_PEC.add_parametric_RY_gate(i, 0.0)\n",
    "        for i in range(n_qubits):\n",
    "            noisy_circuit_PEC.add_CZ_gate(i, (i+1)%n_qubits)\n",
    "            noisy_circuit_PEC.add_gate(DepolarizingNoise(i, error_rate))\n",
    "            gate_parity = recovery_gate_depolarizing(i,error_rate)\n",
    "            noisy_circuit_PEC.add_gate(gate_parity[0])\n",
    "            parity_total = parity_total*gate_parity[1]\n",
    "            noisy_circuit_PEC.add_gate(DepolarizingNoise((i+1)%n_qubits, error_rate))\n",
    "            gate_parity = recovery_gate_depolarizing((i+1)%n_qubits,error_rate)\n",
    "            noisy_circuit_PEC.add_gate(gate_parity[0])\n",
    "            #ここで、各ゲートのパリティの合計を計算する\n",
    "            parity_total = parity_total*gate_parity[1]\n",
    "    outcome = [noisy_circuit_PEC,parity_total]\n",
    "    return outcome\n",
    "\n",
    "noisy_circuit_PEC = NoisyCircuit_recovery(error_rate)[0]\n",
    "parity_tot = NoisyCircuit_recovery(error_rate)[1]"
   ]
  },
  {
   "cell_type": "code",
   "execution_count": 23,
   "id": "a8483c35",
   "metadata": {},
   "outputs": [],
   "source": [
    "#上で定義した回路からサンプリングする\n",
    "def get_cost_sampling_PEC(shots,params):\n",
    "    estimated_ZZ_average = 0.0\n",
    "    estimated_X_average = 0.0\n",
    "    for j in range(shots):\n",
    "        state = QuantumState(n_qubits)\n",
    "        outcome = NoisyCircuit_recovery(error_rate)\n",
    "        cost = (3.0+2.0* error_rate)/(3.0-4.0*error_rate)\n",
    "        noisy_circuit_PEC = outcome[0]\n",
    "        for i, p in enumerate(params):\n",
    "            noisy_circuit_PEC.set_parameter(i,p)\n",
    "        noisy_circuit_PEC.update_quantum_state(state)\n",
    "        state_copy_ZZ = QuantumState(n_qubits)\n",
    "        state_copy_X = QuantumState(n_qubits)\n",
    "        state_copy_ZZ = state.copy()\n",
    "        state_copy_X = state.copy()\n",
    "        mask_list_ZZ = [0b1100,0b0110,0b0011,0b1001]\n",
    "        mask_list_X = [0b1000,0b0100,0b0010,0b0001]\n",
    "        for i in range(n_qubits):\n",
    "            gate = H(i)\n",
    "            gate.update_quantum_state(state_copy_X)\n",
    "        noise_sampling_ZZ = state_copy_ZZ.sampling(1)\n",
    "        noise_sampling_X = state_copy_X.sampling(1)\n",
    "        for s in noise_sampling_ZZ:\n",
    "            for mask in mask_list_ZZ:\n",
    "                bitcount = bin(s & mask).count(\"1\")\n",
    "                #outcome[1]はパリティの値。パリティの値を作用させる。\n",
    "                estimated_ZZ_average += (-1)**bitcount/shots * outcome[1] \n",
    "        for s in noise_sampling_X:\n",
    "            for mask in mask_list_X:\n",
    "                bitcount = bin(s & mask).count(\"1\")\n",
    "                estimated_X_average += (-1)**bitcount/shots * outcome[1]\n",
    "    #最後に測定結果を足し合わせる際に、全体にコストを掛ける。\n",
    "    data_sampling_average = (h * estimated_X_average + J * estimated_ZZ_average) * cost**((2.0*n_qubits) * circuit_depth)\n",
    "    return data_sampling_average"
   ]
  },
  {
   "cell_type": "code",
   "execution_count": 24,
   "id": "50ee3066",
   "metadata": {},
   "outputs": [
    {
     "name": "stdout",
     "output_type": "stream",
     "text": [
      "VQEで求めたコスト関数の最小値(エラーなし)： -5.072893485692576\n",
      "VQEで求めたコスト関数の最小値(エラーあり)： -4.210928860028173\n",
      "エラーを擬確率で削減した結果（統計誤差を含む） -5.07164054660612\n"
     ]
    }
   ],
   "source": [
    "#擬確率法でエラーの影響を削減できていることを確認\n",
    "shots = 10000\n",
    "\n",
    "print(\"VQEで求めたコスト関数の最小値(エラーなし)：\", minimized_costfunction_noiseless)\n",
    "print(\"VQEで求めたコスト関数の最小値(エラーあり)：\",minimized_costfunction_noise)\n",
    "print(\"エラーを擬確率で削減した結果（統計誤差を含む）\", get_cost_sampling_PEC(shots,params_true))"
   ]
  },
  {
   "cell_type": "markdown",
   "id": "4c442dfe",
   "metadata": {},
   "source": [
    "## ヒストグラムを作成\n",
    "（※計算時間が長い）"
   ]
  },
  {
   "cell_type": "code",
   "execution_count": 25,
   "id": "abec556f",
   "metadata": {},
   "outputs": [],
   "source": [
    "#エラー率を固定して、ヒストグラムを作成\n",
    "error_rate = 0.02\n",
    "n_test = 200\n",
    "shots = 1000\n",
    "PEC_list = np.zeros(n_test)\n",
    "\n",
    "for i in range(n_test):\n",
    "    state = QuantumState(n_qubits)\n",
    "    noisy_circuit_PEC = ParametricQuantumCircuit(n_qubits)\n",
    "    PEC_list[i] = get_cost_sampling_PEC(shots,params_true)"
   ]
  },
  {
   "cell_type": "code",
   "execution_count": 26,
   "id": "0522ed6e",
   "metadata": {},
   "outputs": [
    {
     "data": {
      "image/png": "[encoded data removed]",
      "text/plain": [
       "<Figure size 640x480 with 1 Axes>"
      ]
     },
     "metadata": {},
     "output_type": "display_data"
    }
   ],
   "source": [
    "plt.hist(no_mitigation_noisy_list, alpha=0.2, bins=30, label=f\"no mitigation\")\n",
    "plt.hist(PEC_list, alpha=0.2, bins=30, label=f\"Mitigated\")\n",
    "plt.axvline(expec_value, color=\"black\")\n",
    "plt.axvline(get_cost(params_true), color=\"red\")\n",
    "plt.legend(loc=\"upper left\", fontsize=13)\n",
    "plt.show()"
   ]
  },
  {
   "cell_type": "markdown",
   "id": "6818d561",
   "metadata": {},
   "source": [
    "擬確率法により、確かにエラーが抑制できていることが分かります。バイアスが減ったぶん、分散が増えている様子が見えているので、サンプリングコストを計算してみます。"
   ]
  },
  {
   "cell_type": "code",
   "execution_count": 27,
   "id": "7f7ce581-3b54-45d1-b0d8-9ff50598919b",
   "metadata": {},
   "outputs": [],
   "source": [
    "#得られたヒストグラムから、それぞれの標準偏差を求めてみる。標準偏差の比から測定コストが求まる。\n",
    "std_no_mitigation = np.std(no_mitigation_noisy_list)\n",
    "std_PEC = np.std(PEC_list)"
   ]
  },
  {
   "cell_type": "code",
   "execution_count": 28,
   "id": "46b0f8d9",
   "metadata": {},
   "outputs": [],
   "source": [
    "cost_per_gate = (3.0+2.0* error_rate)/(3.0-4.0*error_rate)\n",
    "total_cost = cost_per_gate**((2.0*n_qubits) * circuit_depth)"
   ]
  },
  {
   "cell_type": "code",
   "execution_count": 29,
   "id": "80d02f34-517e-4c37-a332-95c03a317ef9",
   "metadata": {},
   "outputs": [
    {
     "name": "stdout",
     "output_type": "stream",
     "text": [
      "計算して得られた標準偏差の増加分： 5.118438985611442\n",
      "理論式から求めた測定コスト： 3.6283020078742023\n"
     ]
    }
   ],
   "source": [
    "#計算して得られた標準偏差の増加分と、コストの見積もりの比較\n",
    "print(\"計算して得られた標準偏差の増加分：\",std_PEC/std_no_mitigation)\n",
    "print(\"理論式から求めた測定コスト：\",total_cost)"
   ]
  },
  {
   "cell_type": "markdown",
   "id": "29cbf2b1",
   "metadata": {},
   "source": [
    "測定コストの理論式は、少し小さめの値になっていることが分かりました。"
   ]
  },
  {
   "cell_type": "code",
   "execution_count": null,
   "id": "56839266",
   "metadata": {},
   "outputs": [],
   "source": []
  }
 ],
 "metadata": {
  "kernelspec": {
   "display_name": "base",
   "language": "python",
   "name": "python3"
  },
  "language_info": {
   "codemirror_mode": {
    "name": "ipython",
    "version": 3
   },
   "file_extension": ".py",
   "mimetype": "text/x-python",
   "name": "python",
   "nbconvert_exporter": "python",
   "pygments_lexer": "ipython3",
   "version": "3.9.7"
  }
 },
 "nbformat": 4,
 "nbformat_minor": 5
}
