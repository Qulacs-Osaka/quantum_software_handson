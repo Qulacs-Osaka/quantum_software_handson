{
 "cells": [
  {
   "cell_type": "markdown",
   "metadata": {},
   "source": [
    "量子ソフトウェア勉強会第13回目:「量子インスパイアード古典アルゴリズム」ハンズオン資料 1  \n",
    "2022年10月7日(金)  \n",
    "高比良宗一\n",
    "\n",
    "# $\\mathrm{SQ}(A)$と$\\mathrm{SQ}(b)$の実装について\n",
    "このノートブックでは，SQデータ構造を実装します．\n",
    "最初にセグメント木構造を実装します．次に，それを用いてベクトルに基づくデータ構造$\\mathrm{SQ}(v)$を実装します．その後に行列に基づくデータ構造$\\mathrm{SQ}(A)$を，ベクトルに基づくデータ構造を用いて実装します．\n",
    "$$\n",
    "%  ![image.png](attachment:image.png)\n",
    "\\newcommand{\\abs}[1]{|#1|}\n",
    "\\newcommand{\\norm}[1]{\\lVert#1\\rVert}\n",
    "$$"
   ]
  },
  {
   "cell_type": "code",
   "execution_count": 2,
   "metadata": {},
   "outputs": [],
   "source": [
    "import random\n",
    "import math\n",
    "import numpy as np\n",
    "import matplotlib.pyplot as plt"
   ]
  },
  {
   "cell_type": "markdown",
   "metadata": {},
   "source": [
    "## セグメント木構造の実装\n",
    "[セグメント木構造](https://en.wikipedia.org/wiki/Segment_tree)は，次のセルのように実装できます．"
   ]
  },
  {
   "cell_type": "code",
   "execution_count": 3,
   "metadata": {},
   "outputs": [],
   "source": [
    "class SegmentTree:\n",
    "    def __init__(self, n):\n",
    "        self.size   = 2**(math.ceil(math.log2(n)) + 1)\n",
    "        self.height = math.ceil(math.log2(n))\n",
    "        self.data   = np.zeros(self.size)\n",
    "\n",
    "    def root(self):\n",
    "        return self.data[1] \n",
    "               \n",
    "    def leaf(self, i):\n",
    "        index = self.size//2 + i\n",
    "        return self.data[index]\n",
    "    \n",
    "    def update(self, k, val):\n",
    "        size = self.size\n",
    "        for _ in (range(self.height+1)):\n",
    "            size = size//2\n",
    "            self.data[size + k] += val\n",
    "            k = k // 2 \n",
    "            \n",
    "    def __str__(self):\n",
    "        return str(self.data)"
   ]
  },
  {
   "cell_type": "markdown",
   "metadata": {},
   "source": [
    "## ベクトルに関するデータ構造 $\\mathrm{SQ}(v)$ の実装\n",
    "セグメント木構造を用いて，ベクトルに基づいたデータ構造$\\mathrm{SQ}(v)$を実装します．簡単のために実ベクトルのみを扱います．"
   ]
  },
  {
   "cell_type": "markdown",
   "metadata": {},
   "source": [
    "### 定義\n",
    "$\\mathrm{SQ}(v)$の定義は下記の通りです．\n",
    "\n",
    "ベクトル$v \\in \\mathbb{C}^n$に対して，$\\mathrm{SQ}(v)$を次の操作(1-3)が行えるようなデータ構造とする．([2.](https://dl.acm.org/doi/10.1145/3357713.3384314)のDefinition 2.5や[3.](https://quantum-journal.org/papers/q-2022-06-30-754/)のDefinition 1.1など)\n",
    "- $\\text{Sample}()$.  確率$\\abs{v_i}^2/\\norm{v}^2$で添字$i$を出力する\n",
    "- $\\text{Query}(i)$. ベクトルの第$i$成分を出力する\n",
    "- $\\text{Norm}()$. ベクトルの2ノルム$\\norm{v}$を出力する  \n",
    "\n",
    "### 実装"
   ]
  },
  {
   "cell_type": "code",
   "execution_count": 4,
   "metadata": {},
   "outputs": [],
   "source": [
    "class VectorBasedDataStructure:    \n",
    "    def __init__(self, vector):\n",
    "        self.n = vector.size\n",
    "        self.segment_tree = SegmentTree(self.n)\n",
    "        self.sgn = np.sign(vector)\n",
    "        for i in range(self.n):\n",
    "            self.segment_tree.update(i, abs(vector[i])**2)\n",
    "            \n",
    "    def sample(self):\n",
    "        return self._sample2()\n",
    "                            \n",
    "    def _sample1(self):\n",
    "        height = self.segment_tree.height    \n",
    "        size   = self.segment_tree.size\n",
    "        k = 1\n",
    "        for _ in range(height):\n",
    "            if random.random() < self.segment_tree.data[2*k]/self.segment_tree.data[k]:\n",
    "                k = 2*k\n",
    "            else:\n",
    "                k = 2*k+1\n",
    "        return k - size//2\n",
    "    \n",
    "    def _sample2(self):\n",
    "        height = self.segment_tree.height    \n",
    "        size   = self.segment_tree.size\n",
    "        k = 1\n",
    "        for _ in range(height):\n",
    "            if random.random()*self.segment_tree.data[k] < self.segment_tree.data[2*k]:\n",
    "                k = 2*k\n",
    "            else:\n",
    "                k = 2*k+1\n",
    "        return k - size//2    \n",
    "    \n",
    "    def query(self, i):\n",
    "        val = self.segment_tree.leaf(i)\n",
    "        return self.sgn[i]*math.sqrt(val)    \n",
    "            \n",
    "    def norm(self):\n",
    "        return math.sqrt(self.segment_tree.root())\n",
    "    \n",
    "    def print_structure(self):\n",
    "        data = self.segment_tree.data\n",
    "        height = self.segment_tree.height\n",
    "        print(\"height =\", height)\n",
    "        k = 1\n",
    "        for i in range(height+1):\n",
    "            lst = []\n",
    "            for j in range(2**i,2**(i+1)):  \n",
    "                lst.append(data[j])\n",
    "            print(lst)   \n",
    "        print(self.sgn)"
   ]
  },
  {
   "cell_type": "markdown",
   "metadata": {},
   "source": [
    "### 確認\n",
    "上のセルの`VectorBasedDataStructure`が$\\mathrm{SQ}(v)$を実装できているか確認します．\n",
    "各関数$\\mathrm{Norm}(), \\mathrm{Query}(i), \\mathrm{Sample}()$それぞれについて確認していきます．"
   ]
  },
  {
   "cell_type": "code",
   "execution_count": 5,
   "metadata": {},
   "outputs": [],
   "source": [
    "import numpy as np\n",
    "n = 10\n",
    "v = np.random.rand(n) - np.random.rand(n)\n",
    "SQv = VectorBasedDataStructure(v)"
   ]
  },
  {
   "cell_type": "code",
   "execution_count": 6,
   "metadata": {},
   "outputs": [
    {
     "name": "stdout",
     "output_type": "stream",
     "text": [
      "height = 4\n",
      "[2.120901804620469]\n",
      "[2.0975887317480506, 0.023313072872418364]\n",
      "[0.139778771605787, 1.9578099601422638, 0.023313072872418364, 0.0]\n",
      "[0.08036850697945108, 0.05941026462633593, 0.8641459326645209, 1.093664027477743, 0.023313072872418364, 0.0, 0.0, 0.0]\n",
      "[0.018301360350497137, 0.06206714662895395, 0.03737714446339606, 0.022033120162939873, 0.03560276152483325, 0.8285431711396877, 0.8181854663602242, 0.2754785611175187, 6.490920279708548e-05, 0.023248163669621277, 0.0, 0.0, 0.0, 0.0, 0.0, 0.0]\n",
      "[-1.  1. -1.  1.  1. -1. -1.  1.  1. -1.]\n"
     ]
    }
   ],
   "source": [
    "SQv.print_structure()"
   ]
  },
  {
   "cell_type": "markdown",
   "metadata": {},
   "source": [
    "#### $\\mathrm{Norm}()$について\n",
    "ベクトルの2ノルムが計算できているかどうか，NumPyの結果と比較をして確認してみます．"
   ]
  },
  {
   "cell_type": "code",
   "execution_count": 7,
   "metadata": {},
   "outputs": [
    {
     "name": "stdout",
     "output_type": "stream",
     "text": [
      "SQv.norm() = 1.4563316259082162,\n",
      "numpy.linalg.norm(v) = 1.4563316259082162\n"
     ]
    }
   ],
   "source": [
    "val = SQv.norm()\n",
    "normv = np.linalg.norm(v, 2)\n",
    "\n",
    "print(f\"SQv.norm() = {val},\\nnumpy.linalg.norm(v) = {normv}\")"
   ]
  },
  {
   "cell_type": "markdown",
   "metadata": {},
   "source": [
    "#### $\\mathrm{Query}(i)$について\n",
    "全ての$i$に対して，元々のベクトル$v$の$i$番目の成分と比較をしてみます．"
   ]
  },
  {
   "cell_type": "code",
   "execution_count": 8,
   "metadata": {},
   "outputs": [
    {
     "name": "stdout",
     "output_type": "stream",
     "text": [
      "SQv.query(0) = -0.13528252049136702, v_0 = -0.13528252049136702\n",
      "SQv.query(1) = 0.24913278914858628, v_1 = 0.24913278914858628\n",
      "SQv.query(2) = -0.19333169544437367, v_2 = -0.19333169544437367\n",
      "SQv.query(3) = 0.14843557579953626, v_3 = 0.14843557579953626\n",
      "SQv.query(4) = 0.18868694052539314, v_4 = 0.18868694052539314\n",
      "SQv.query(5) = -0.9102434680565896, v_5 = -0.9102434680565896\n",
      "SQv.query(6) = -0.904536050337533, v_6 = -0.904536050337533\n",
      "SQv.query(7) = 0.5248605158682816, v_7 = 0.5248605158682816\n",
      "SQv.query(8) = 0.008056624776982324, v_8 = 0.008056624776982324\n",
      "SQv.query(9) = -0.15247348513633863, v_9 = -0.15247348513633863\n"
     ]
    },
    {
     "data": {
      "text/plain": [
       "True"
      ]
     },
     "execution_count": 8,
     "metadata": {},
     "output_type": "execute_result"
    }
   ],
   "source": [
    "for i in range(n):\n",
    "    val = SQv.query(i) \n",
    "    vi  = v[i]\n",
    "    print(f\"SQv.query({i}) = {val}, v_{i} = {vi}\")\n",
    "    \n",
    "test_vector = np.array([SQv.query(i) for i in range(n)])\n",
    "np.allclose(test_vector, v)"
   ]
  },
  {
   "cell_type": "markdown",
   "metadata": {},
   "source": [
    "#### $\\mathrm{Sample}()$について\n",
    "`SQv.sample()`を何度も実行して得られた結果と，真の確率分布$\\mathcal{D}_v (\\Pr(i) = |v_i|^2/\\norm{v}^2)$とを比較します．"
   ]
  },
  {
   "cell_type": "code",
   "execution_count": 9,
   "metadata": {},
   "outputs": [
    {
     "name": "stdout",
     "output_type": "stream",
     "text": [
      "SQ(v) [9.500e-03 2.900e-02 1.660e-02 8.800e-03 1.690e-02 3.810e-01 3.920e-01\n",
      " 1.351e-01 2.000e-04 1.090e-02]\n",
      "exact [8.62904653e-03 2.92645074e-02 1.76232320e-02 1.03885621e-02\n",
      " 1.67866148e-02 3.90656073e-01 3.85772441e-01 1.29887466e-01\n",
      " 3.06045299e-05 1.09614522e-02]\n",
      "error = 0.012792073328308338\n"
     ]
    },
    {
     "data": {
      "image/png": "[encoded data removed]",
      "text/plain": [
       "<Figure size 800x600 with 1 Axes>"
      ]
     },
     "metadata": {},
     "output_type": "display_data"
    }
   ],
   "source": [
    "normv = np.linalg.norm(v, 2)\n",
    "Dv = np.array([abs(v[i])**2/normv**2 for i in range(n)])\n",
    "\n",
    "counts = np.zeros(n)\n",
    "\n",
    "sample_size = 10000\n",
    "for _ in range(sample_size):\n",
    "    i = SQv.sample() \n",
    "    counts[i] += 1\n",
    "\n",
    "print(\"SQ(v)\", counts/sample_size)\n",
    "print(\"exact\", Dv)\n",
    "\n",
    "print(\"error =\", np.linalg.norm(Dv - counts/sample_size))\n",
    "\n",
    "plt.figure(figsize=(8,6))\n",
    "plt.bar(range(n), counts/sample_size, alpha=0.7, label=\"SQ(v).sample()\")\n",
    "plt.bar(range(n), Dv                , alpha=0.6, label=\"Dv(exact)\")\n",
    "\n",
    "plt.legend()\n",
    "plt.xlabel(\"index i\")\n",
    "plt.show()"
   ]
  },
  {
   "cell_type": "markdown",
   "metadata": {},
   "source": [
    "グラフの青色は$\\mathrm{SQ}(v)$の結果を表し，オレンジ色は真の分布$\\mathcal{D}_v$を表します．視覚的に見て大体同じであることを確認できると思います．"
   ]
  },
  {
   "cell_type": "markdown",
   "metadata": {},
   "source": [
    "## 行列に基づくデータ構造 $\\mathrm{SQ}(A)$ の実装\n",
    "$\\mathrm{SQ}(v)$について実装しました．これを用いて$\\mathrm{SQ}(A)$を実装します．\n",
    "簡単のために実行列のみを扱います．\n",
    "\n",
    "### 定義\n",
    "\n",
    "行列$A \\in \\mathbb{C}^{m \\times n}$に対して，$\\mathrm{SQ}(A)$を次の操作(1-5)が行えるようなデータ構造とする．([2.](https://dl.acm.org/doi/10.1145/3357713.3384314)のDefinition 2.10や[3.](https://quantum-journal.org/papers/q-2022-06-30-754/)のDefinition 1.2など)\n",
    "- $\\text{Sample1}()$. 確率$\\norm{A_{i,\\ast}}^2/\\norm{A}_\\mathrm{F}^2$で行添字$i$を出力する\n",
    "- $\\text{Sample2}(i)$. 確率$\\abs{A_{ij}}^2/\\norm{A_{i,\\ast}}^2$で列添字$j$を出力する\n",
    "- $\\text{Query}(i,j)$.  第$(i,j)$成分$A_{ij}$を出力する\n",
    "- $\\text{Norm}(i)$. 第$i$行の2ノルム$\\norm{A_{i,\\ast}}$を出力する\n",
    "- $\\text{Norm}()$.  フロべニウスノルム$\\norm{A}_\\mathrm{F}$を出力する\n"
   ]
  },
  {
   "cell_type": "markdown",
   "metadata": {},
   "source": [
    "### 実装\n",
    "`VectorBasedDataStructure`を用いて$\\mathrm{SQ(A)}$を実装します．"
   ]
  },
  {
   "cell_type": "code",
   "execution_count": 10,
   "metadata": {},
   "outputs": [],
   "source": [
    "class MatrixBasedDataStructure:\n",
    "    def __init__(self, matrix):\n",
    "        self.m, self.n = matrix.shape\n",
    "        self.shape = matrix.shape\n",
    "        \n",
    "        self.vecFro = np.array([np.linalg.norm(matrix[i,:]) for i in range(self.m)])\n",
    "        self.SQvecFro = VectorBasedDataStructure(self.vecFro)\n",
    "        self.SQrowlist = [VectorBasedDataStructure(matrix[i,:]) for i in range(self.m)]\n",
    "            \n",
    "\n",
    "    def sample1(self):\n",
    "        return self.SQvecFro.sample()\n",
    "\n",
    "    def sample2(self, i):\n",
    "        return self.SQrowlist[i].sample()\n",
    "    \n",
    "    def query(self, i, j):\n",
    "        return self.SQrowlist[i].query(j)\n",
    "    \n",
    "    def norm(self, i):\n",
    "        return self.SQrowlist[i].norm()\n",
    "    \n",
    "    def normF(self):\n",
    "        return self.SQvecFro.norm()"
   ]
  },
  {
   "cell_type": "markdown",
   "metadata": {},
   "source": [
    "### 確認"
   ]
  },
  {
   "cell_type": "markdown",
   "metadata": {},
   "source": [
    "上のセルの`MatrixBasedDataStructure`が$\\mathrm{SQ}(A)$を実装できているか確認します．\n",
    "各関数$\\mathrm{Sample1}()$, $\\mathrm{Sample2}()$, $\\mathrm{Query}()$, $\\mathrm{Norm}(i)$, $\\mathrm{Norm}()$ (`normF`), それぞれ確認していきます．"
   ]
  },
  {
   "cell_type": "code",
   "execution_count": 11,
   "metadata": {},
   "outputs": [],
   "source": [
    "m, n = 8, 16\n",
    "A = np.random.rand(m, n) - np.random.rand(m, n)\n",
    "SQA = MatrixBasedDataStructure(A)"
   ]
  },
  {
   "cell_type": "markdown",
   "metadata": {},
   "source": [
    "#### $\\mathrm{Sample1}()$について\n",
    "`SQA.sample1()`を何度も実行して得られた結果と，真の確率分布$\\Pr(i) = \\norm{A_{i,\\ast}}^2/\\norm{A}_\\mathrm{F}^2$とを比較します．"
   ]
  },
  {
   "cell_type": "code",
   "execution_count": 12,
   "metadata": {},
   "outputs": [
    {
     "name": "stdout",
     "output_type": "stream",
     "text": [
      "SQ(A).sample1()\n",
      " [0.1074 0.1594 0.056  0.1202 0.1715 0.1518 0.116  0.1177]\n",
      "exact\n",
      " [0.10282038 0.15322317 0.05685199 0.12203012 0.17638788 0.15067793\n",
      " 0.1183215  0.11968703]\n",
      "error = 0.009883797274048613\n"
     ]
    },
    {
     "data": {
      "image/png": "[encoded data removed]",
      "text/plain": [
       "<Figure size 800x600 with 1 Axes>"
      ]
     },
     "metadata": {},
     "output_type": "display_data"
    }
   ],
   "source": [
    "normAF = np.linalg.norm(A) # Aのフロべニウスノルム\n",
    "Da = np.array([np.linalg.norm(A[i,:])**2/normAF**2 for i in range(m)])\n",
    "\n",
    "sample_size = 10000\n",
    "counts = np.zeros(m)\n",
    "for _ in range(sample_size):\n",
    "    i = SQA.sample1()\n",
    "    counts[i] += 1\n",
    "\n",
    "print(\"SQ(A).sample1()\\n\", counts/sample_size)\n",
    "print(\"exact\\n\", Da)\n",
    "print(\"error =\", np.linalg.norm(Da - counts/sample_size))\n",
    "\n",
    "plt.figure(figsize=(8,6))\n",
    "\n",
    "plt.bar(range(m), counts/sample_size, alpha=0.7, label=\"SQ(A).sample1()\")\n",
    "plt.bar(range(m), Da,                 alpha=0.6, label=\"exact\")\n",
    "\n",
    "plt.legend()\n",
    "plt.xlabel(\"index i\")\n",
    "plt.show()"
   ]
  },
  {
   "cell_type": "markdown",
   "metadata": {},
   "source": [
    "#### $\\mathrm{Sample2}(i)$について\n",
    "$\\mathrm{Sample2}(i)$について確認します．$i = 0,1,2,\\dots,m-1$の全てを調査すると図がたくさん表示されるので，\n",
    "図については$i=0,1,2$までを見ます．\n",
    "`SQA.sample2()`を何度も実行して得られた結果と，真の確率分布$\\Pr(j) = |A_{i,j}|^2/\\norm{A_{i,\\ast}}^2)$とを比較します．"
   ]
  },
  {
   "cell_type": "code",
   "execution_count": 13,
   "metadata": {},
   "outputs": [
    {
     "name": "stdout",
     "output_type": "stream",
     "text": [
      "--------- i = 0 ----------\n",
      "SQ(A).sample2(0):\n",
      " [0.026 0.008 0.    0.04  0.012 0.137 0.064 0.06  0.035 0.071 0.04  0.072\n",
      " 0.38  0.005 0.017 0.033]\n",
      "exact:\n",
      " [2.61589305e-02 5.43838777e-03 7.12260289e-05 4.09045050e-02\n",
      " 1.17076758e-02 1.46687110e-01 7.63977358e-02 5.58589520e-02\n",
      " 3.49893460e-02 6.01797400e-02 3.03242259e-02 7.79174672e-02\n",
      " 3.77870925e-01 4.13006695e-03 2.00947909e-02 3.12689151e-02]\n",
      "error = 0.023146647598591138\n"
     ]
    },
    {
     "data": {
      "image/png": "[encoded data removed]",
      "text/plain": [
       "<Figure size 800x600 with 1 Axes>"
      ]
     },
     "metadata": {},
     "output_type": "display_data"
    },
    {
     "name": "stdout",
     "output_type": "stream",
     "text": [
      "--------- i = 1 ----------\n",
      "SQ(A).sample2(1):\n",
      " [0.15  0.218 0.182 0.058 0.011 0.071 0.002 0.007 0.168 0.028 0.006 0.001\n",
      " 0.001 0.047 0.049 0.001]\n",
      "exact:\n",
      " [0.15364116 0.20022576 0.17234216 0.05975188 0.01254292 0.07700894\n",
      " 0.00165842 0.00705121 0.17524188 0.01733796 0.00318492 0.00348038\n",
      " 0.00062585 0.05626658 0.05836748 0.00127251]\n",
      "error = 0.02860360503672554\n"
     ]
    },
    {
     "data": {
      "image/png": "[encoded data removed]",
      "text/plain": [
       "<Figure size 800x600 with 1 Axes>"
      ]
     },
     "metadata": {},
     "output_type": "display_data"
    },
    {
     "name": "stdout",
     "output_type": "stream",
     "text": [
      "--------- i = 2 ----------\n",
      "SQ(A).sample2(2):\n",
      " [0.267 0.029 0.047 0.077 0.    0.036 0.134 0.012 0.004 0.02  0.006 0.039\n",
      " 0.008 0.005 0.316 0.   ]\n",
      "exact:\n",
      " [2.97310594e-01 3.49424249e-02 4.43479664e-02 7.87117376e-02\n",
      " 1.04588378e-03 2.84099189e-02 1.22766266e-01 1.07283563e-02\n",
      " 1.66576306e-03 1.30660945e-02 3.24114925e-03 4.10916978e-02\n",
      " 1.07398985e-02 4.51190733e-03 3.07415815e-01 4.52714206e-06]\n",
      "error = 0.0360204468989882\n"
     ]
    },
    {
     "data": {
      "image/png": "[encoded data removed]",
      "text/plain": [
       "<Figure size 800x600 with 1 Axes>"
      ]
     },
     "metadata": {},
     "output_type": "display_data"
    },
    {
     "name": "stdout",
     "output_type": "stream",
     "text": [
      "--------- i = 3 ----------\n",
      "SQ(A).sample2(3):\n",
      " [0.121 0.012 0.014 0.134 0.022 0.12  0.013 0.041 0.03  0.112 0.09  0.007\n",
      " 0.009 0.018 0.059 0.198]\n",
      "exact:\n",
      " [0.12650471 0.01124571 0.0137039  0.14462051 0.02122042 0.12634149\n",
      " 0.01084034 0.03499785 0.02977037 0.10949382 0.09215462 0.0076607\n",
      " 0.00889631 0.01949074 0.05797309 0.18508543]\n",
      "error = 0.020168095562929002\n",
      "--------- i = 4 ----------\n",
      "SQ(A).sample2(4):\n",
      " [0.083 0.019 0.115 0.05  0.033 0.003 0.02  0.105 0.039 0.155 0.069 0.124\n",
      " 0.096 0.041 0.001 0.047]\n",
      "exact:\n",
      " [0.08606608 0.0265392  0.10741687 0.06293396 0.02962027 0.00079901\n",
      " 0.0223592  0.09870016 0.04926015 0.16711282 0.04760761 0.11911806\n",
      " 0.09701586 0.03398356 0.00125728 0.05020992]\n",
      "error = 0.03386211981035436\n",
      "--------- i = 5 ----------\n",
      "SQ(A).sample2(5):\n",
      " [0.092 0.004 0.003 0.022 0.158 0.031 0.006 0.138 0.139 0.013 0.012 0.117\n",
      " 0.16  0.095 0.001 0.009]\n",
      "exact:\n",
      " [0.09144526 0.00160718 0.0048929  0.02824854 0.16411036 0.03155316\n",
      " 0.00428561 0.14134491 0.14548735 0.0131875  0.0144568  0.11291834\n",
      " 0.15587874 0.08390405 0.00039349 0.00628582]\n",
      "error = 0.01769425954630108\n",
      "--------- i = 6 ----------\n",
      "SQ(A).sample2(6):\n",
      " [0.08  0.007 0.035 0.093 0.    0.182 0.022 0.002 0.302 0.099 0.    0.006\n",
      " 0.    0.001 0.003 0.168]\n",
      "exact:\n",
      " [0.09146026 0.00512616 0.03675251 0.07794015 0.00113147 0.19122092\n",
      " 0.02197223 0.00207659 0.28460209 0.0929698  0.00252154 0.00907162\n",
      " 0.0010078  0.00120111 0.0065953  0.17435046]\n",
      "error = 0.029328923707191562\n",
      "--------- i = 7 ----------\n",
      "SQ(A).sample2(7):\n",
      " [0.01  0.189 0.022 0.    0.143 0.014 0.128 0.033 0.101 0.119 0.028 0.059\n",
      " 0.022 0.075 0.007 0.05 ]\n",
      "exact:\n",
      " [1.03065756e-02 1.76390989e-01 2.09324456e-02 1.39945604e-04\n",
      " 1.26301748e-01 1.34252113e-02 1.22365354e-01 3.74288424e-02\n",
      " 1.14846742e-01 1.23772495e-01 2.09436653e-02 6.61513178e-02\n",
      " 2.28600570e-02 8.06023831e-02 6.37167300e-03 5.71605548e-02]\n",
      "error = 0.029832921287860296\n"
     ]
    }
   ],
   "source": [
    "sample_size = 1000\n",
    "for i in range(m):  \n",
    "    normAi = np.linalg.norm(A[i,:])\n",
    "    Dai = np.array([abs(A[i,j])**2/normAi**2 for j in range(n)])\n",
    "    \n",
    "    counts = np.zeros(n)\n",
    "    for _ in range(sample_size):\n",
    "        j = SQA.sample2(i)\n",
    "        counts[j] += 1\n",
    "        \n",
    "    print(f\"--------- i = {i} ----------\")    \n",
    "    print(f\"SQ(A).sample2({i}):\\n\", counts/sample_size)\n",
    "    print(\"exact:\\n\", Dai)\n",
    "    print(\"error =\", np.linalg.norm(Dai - counts/sample_size))\n",
    "\n",
    "    if i < 3: \n",
    "        plt.figure(figsize=(8,6))\n",
    "        plt.bar(range(n), counts/sample_size, alpha=0.7, label=f\"SQ(A).sample1({i})\")\n",
    "        plt.bar(range(n), Dai, alpha=0.6, label=\"exact\")\n",
    "        plt.legend()\n",
    "        plt.xlabel(\"index j\")\n",
    "        plt.show()"
   ]
  },
  {
   "cell_type": "markdown",
   "metadata": {},
   "source": [
    "#### $\\mathrm{Query}(i,j)$について\n",
    "全ての$i,j$に対して，元々の行列$A$の$i,j$番目の成分と比較をしていきます．"
   ]
  },
  {
   "cell_type": "code",
   "execution_count": 14,
   "metadata": {},
   "outputs": [
    {
     "name": "stdout",
     "output_type": "stream",
     "text": [
      "SQA.query(0,0) = 0.24673634912174847, A[0,0] = 0.24673634912174847\n",
      "SQA.query(0,1) = 0.11250147779193254, A[0,1] = 0.11250147779193254\n",
      "SQA.query(0,2) = 0.012874859784769876, A[0,2] = 0.012874859784769876\n",
      "SQA.query(0,3) = -0.30853803765666965, A[0,3] = -0.30853803765666965\n",
      "SQA.query(0,4) = 0.16506632668228316, A[0,4] = 0.16506632668228316\n",
      "SQA.query(0,5) = -0.584277440516464, A[0,5] = -0.584277440516464\n",
      "SQA.query(0,6) = -0.42166095282004157, A[0,6] = -0.42166095282004157\n",
      "SQA.query(0,7) = 0.3605533487658288, A[0,7] = 0.3605533487658288\n",
      "SQA.query(0,8) = 0.28535865845082664, A[0,8] = 0.28535865845082664\n",
      "SQA.query(0,9) = 0.3742383549700018, A[0,9] = 0.3742383549700018\n",
      "SQA.query(0,10) = 0.26565500570949485, A[0,10] = 0.26565500570949485\n",
      "SQA.query(0,11) = 0.4258342170488666, A[0,11] = 0.4258342170488666\n",
      "SQA.query(0,12) = 0.9377668588378694, A[0,12] = 0.9377668588378694\n",
      "SQA.query(0,13) = -0.09803963553172723, A[0,13] = -0.09803963553172723\n",
      "SQA.query(0,14) = 0.21625436799722275, A[0,14] = 0.21625436799722275\n",
      "SQA.query(0,15) = 0.2697612395459955, A[0,15] = 0.2697612395459955\n",
      "SQA.query(1,0) = -0.7299608203865269, A[1,0] = -0.7299608203865269\n",
      "SQA.query(1,1) = 0.8333083393953221, A[1,1] = 0.8333083393953221\n",
      "SQA.query(1,2) = 0.7731104177481722, A[1,2] = 0.7731104177481722\n",
      "SQA.query(1,3) = -0.45522021323121287, A[1,3] = -0.45522021323121287\n",
      "SQA.query(1,4) = 0.20856678787488292, A[1,4] = 0.20856678787488292\n",
      "SQA.query(1,5) = 0.5167926591064899, A[1,5] = 0.5167926591064899\n",
      "SQA.query(1,6) = -0.0758390750814637, A[1,6] = -0.0758390750814637\n",
      "SQA.query(1,7) = -0.15637870336357795, A[1,7] = -0.15637870336357795\n",
      "SQA.query(1,8) = 0.7795872077696384, A[1,8] = 0.7795872077696384\n",
      "SQA.query(1,9) = 0.2452137497843706, A[1,9] = 0.2452137497843706\n",
      "SQA.query(1,10) = -0.10509806467091909, A[1,10] = -0.10509806467091909\n",
      "SQA.query(1,11) = -0.10986486489243019, A[1,11] = -0.10986486489243019\n",
      "SQA.query(1,12) = -0.0465886315103472, A[1,12] = -0.0465886315103472\n",
      "SQA.query(1,13) = -0.4417443655197838, A[1,13] = -0.4417443655197838\n",
      "SQA.query(1,14) = -0.44991578396820264, A[1,14] = -0.44991578396820264\n",
      "SQA.query(1,15) = -0.06643173351377951, A[1,15] = -0.06643173351377951\n",
      "SQA.query(2,0) = 0.6185311212526934, A[2,0] = 0.6185311212526934\n",
      "SQA.query(2,1) = 0.21204736686836534, A[2,1] = 0.21204736686836534\n",
      "SQA.query(2,2) = 0.2388873861483718, A[2,2] = 0.2388873861483718\n",
      "SQA.query(2,3) = 0.3182556436301801, A[2,3] = 0.3182556436301801\n",
      "SQA.query(2,4) = -0.03668580705203983, A[2,4] = -0.03668580705203983\n",
      "SQA.query(2,5) = 0.191201528822187, A[2,5] = 0.191201528822187\n",
      "SQA.query(2,6) = 0.39746224975753874, A[2,6] = 0.39746224975753874\n",
      "SQA.query(2,7) = -0.11749596641242566, A[2,7] = -0.11749596641242566\n",
      "SQA.query(2,8) = -0.046298079570315176, A[2,8] = -0.046298079570315176\n",
      "SQA.query(2,9) = 0.12966693998038026, A[2,9] = 0.12966693998038026\n",
      "SQA.query(2,10) = 0.06458116551653748, A[2,10] = 0.06458116551653748\n",
      "SQA.query(2,11) = -0.2299499961454199, A[2,11] = -0.2299499961454199\n",
      "SQA.query(2,12) = 0.11755915391003868, A[2,12] = 0.11755915391003868\n",
      "SQA.query(2,13) = 0.07619675027692918, A[2,13] = 0.07619675027692918\n",
      "SQA.query(2,14) = -0.6289548451843676, A[2,14] = -0.6289548451843676\n",
      "SQA.query(2,15) = -0.002413617383871025, A[2,15] = -0.002413617383871025\n",
      "SQA.query(3,0) = -0.5911128643351204, A[3,0] = -0.5911128643351204\n",
      "SQA.query(3,1) = 0.17624244220809804, A[3,1] = 0.17624244220809804\n",
      "SQA.query(3,2) = -0.1945535684839267, A[3,2] = -0.1945535684839267\n",
      "SQA.query(3,3) = -0.6320217234732717, A[3,3] = -0.6320217234732717\n",
      "SQA.query(3,4) = 0.242099600627819, A[3,4] = 0.242099600627819\n",
      "SQA.query(3,5) = -0.5907313976669135, A[3,5] = -0.5907313976669135\n",
      "SQA.query(3,6) = 0.17303679484002754, A[3,6] = 0.17303679484002754\n",
      "SQA.query(3,7) = 0.31091218667671516, A[3,7] = 0.31091218667671516\n",
      "SQA.query(3,8) = 0.2867538034005368, A[3,8] = 0.2867538034005368\n",
      "SQA.query(3,9) = 0.5499356338385218, A[3,9] = 0.5499356338385218\n",
      "SQA.query(3,10) = -0.5045167786279124, A[3,10] = -0.5045167786279124\n",
      "SQA.query(3,11) = 0.14546258278116297, A[3,11] = 0.14546258278116297\n",
      "SQA.query(3,12) = -0.15675522088301097, A[3,12] = -0.15675522088301097\n",
      "SQA.query(3,13) = -0.2320230995728314, A[3,13] = -0.2320230995728314\n",
      "SQA.query(3,14) = -0.40015689631469986, A[3,14] = -0.40015689631469986\n",
      "SQA.query(3,15) = 0.7149952888364521, A[3,15] = 0.7149952888364521\n",
      "SQA.query(4,0) = -0.586183929868981, A[4,0] = -0.586183929868981\n",
      "SQA.query(4,1) = -0.32550809523233704, A[4,1] = -0.32550809523233704\n",
      "SQA.query(4,2) = -0.654868570964269, A[4,2] = -0.654868570964269\n",
      "SQA.query(4,3) = -0.5012569845958675, A[4,3] = -0.5012569845958675\n",
      "SQA.query(4,4) = -0.34388433490484804, A[4,4] = -0.34388433490484804\n",
      "SQA.query(4,5) = -0.05647987602060445, A[4,5] = -0.05647987602060445\n",
      "SQA.query(4,6) = -0.29877621666636567, A[4,6] = -0.29877621666636567\n",
      "SQA.query(4,7) = 0.6277357114475264, A[4,7] = 0.6277357114475264\n",
      "SQA.query(4,8) = 0.4434715641604027, A[4,8] = 0.4434715641604027\n",
      "SQA.query(4,9) = -0.8168132799090656, A[4,9] = -0.8168132799090656\n",
      "SQA.query(4,10) = 0.43596950538405754, A[4,10] = 0.43596950538405754\n",
      "SQA.query(4,11) = 0.689615018349504, A[4,11] = 0.689615018349504\n",
      "SQA.query(4,12) = 0.6223565815474689, A[4,12] = 0.6223565815474689\n",
      "SQA.query(4,13) = 0.3683429223408494, A[4,13] = 0.3683429223408494\n",
      "SQA.query(4,14) = -0.07084901426325418, A[4,14] = -0.07084901426325418\n",
      "SQA.query(4,15) = -0.44772637245834657, A[4,15] = -0.44772637245834657\n",
      "SQA.query(5,0) = 0.558456001231237, A[5,0] = 0.558456001231237\n",
      "SQA.query(5,1) = 0.07403553413849095, A[5,1] = 0.07403553413849095\n",
      "SQA.query(5,2) = -0.12917890081878391, A[5,2] = -0.12917890081878391\n",
      "SQA.query(5,3) = 0.3103890247779444, A[5,3] = 0.3103890247779444\n",
      "SQA.query(5,4) = 0.7481287681704697, A[5,4] = 0.7481287681704697\n",
      "SQA.query(5,5) = 0.32804225875041715, A[5,5] = 0.32804225875041715\n",
      "SQA.query(5,6) = -0.12089680827027227, A[5,6] = -0.12089680827027227\n",
      "SQA.query(5,7) = -0.6943020467907778, A[5,7] = -0.6943020467907778\n",
      "SQA.query(5,8) = 0.7044026455602324, A[5,8] = 0.7044026455602324\n",
      "SQA.query(5,9) = -0.21207505242429137, A[5,9] = -0.21207505242429137\n",
      "SQA.query(5,10) = -0.22204675009227215, A[5,10] = -0.22204675009227215\n",
      "SQA.query(5,11) = -0.6205697420943074, A[5,11] = -0.6205697420943074\n",
      "SQA.query(5,12) = -0.7291246832146973, A[5,12] = -0.7291246832146973\n",
      "SQA.query(5,13) = 0.5349335404058227, A[5,13] = 0.5349335404058227\n",
      "SQA.query(5,14) = -0.03663333103788102, A[5,14] = -0.03663333103788102\n",
      "SQA.query(5,15) = -0.1464162674209859, A[5,15] = -0.1464162674209859\n",
      "SQA.query(6,0) = 0.4949160882925826, A[6,0] = 0.4949160882925826\n",
      "SQA.query(6,1) = 0.11716869150629228, A[6,1] = 0.11716869150629228\n",
      "SQA.query(6,2) = 0.3137320244708325, A[6,2] = 0.3137320244708325\n",
      "SQA.query(6,3) = 0.4568735055079639, A[6,3] = 0.4568735055079639\n",
      "SQA.query(6,4) = -0.05504752021050008, A[6,4] = -0.05504752021050008\n",
      "SQA.query(6,5) = 0.7156209853382922, A[6,5] = 0.7156209853382922\n",
      "SQA.query(6,6) = 0.24257857620570622, A[6,6] = 0.24257857620570622\n",
      "SQA.query(6,7) = 0.07457448934473199, A[6,7] = 0.07457448934473199\n",
      "SQA.query(6,8) = -0.8730405330732002, A[6,8] = -0.8730405330732002\n",
      "SQA.query(6,9) = 0.4989836451024824, A[6,9] = 0.4989836451024824\n",
      "SQA.query(6,10) = 0.08217668872868888, A[6,10] = 0.08217668872868888\n",
      "SQA.query(6,11) = -0.15586826770477313, A[6,11] = -0.15586826770477313\n",
      "SQA.query(6,12) = -0.05195203877240617, A[6,12] = -0.05195203877240617\n",
      "SQA.query(6,13) = 0.05671613914492646, A[6,13] = 0.05671613914492646\n",
      "SQA.query(6,14) = 0.13290239362722656, A[6,14] = 0.13290239362722656\n",
      "SQA.query(6,15) = -0.6833243739906927, A[6,15] = -0.6833243739906927\n",
      "SQA.query(7,0) = 0.1670953193809973, A[7,0] = 0.1670953193809973\n",
      "SQA.query(7,1) = 0.6912661429591236, A[7,1] = 0.6912661429591236\n",
      "SQA.query(7,2) = -0.23813162414005484, A[7,2] = -0.23813162414005484\n",
      "SQA.query(7,3) = -0.019470931058728103, A[7,3] = -0.019470931058728103\n",
      "SQA.query(7,4) = 0.5849406052162949, A[7,4] = 0.5849406052162949\n",
      "SQA.query(7,5) = 0.1907074477480124, A[7,5] = 0.1907074477480124\n",
      "SQA.query(7,6) = 0.5757531514364354, A[7,6] = 0.5757531514364354\n",
      "SQA.query(7,7) = 0.31842729423518656, A[7,7] = 0.31842729423518656\n",
      "SQA.query(7,8) = -0.5577844835583963, A[7,8] = -0.5577844835583963\n",
      "SQA.query(7,9) = 0.5790541275267532, A[7,9] = 0.5790541275267532\n",
      "SQA.query(7,10) = 0.23819543442769964, A[7,10] = 0.23819543442769964\n",
      "SQA.query(7,11) = 0.42332736061839404, A[7,11] = 0.42332736061839404\n",
      "SQA.query(7,12) = 0.24885464017544268, A[7,12] = 0.24885464017544268\n",
      "SQA.query(7,13) = 0.46728412815962417, A[7,13] = 0.46728412815962417\n",
      "SQA.query(7,14) = 0.1313813827450735, A[7,14] = 0.1313813827450735\n",
      "SQA.query(7,15) = -0.3935095769803745, A[7,15] = -0.3935095769803745\n"
     ]
    },
    {
     "data": {
      "text/plain": [
       "True"
      ]
     },
     "execution_count": 14,
     "metadata": {},
     "output_type": "execute_result"
    }
   ],
   "source": [
    "for i in range(m):\n",
    "    for j in range(n):\n",
    "        val = SQA.query(i,j)\n",
    "        Aij = A[i, j]\n",
    "        print(f\"SQA.query({i},{j}) = {val}, A[{i},{j}] = {Aij}\")\n",
    "\n",
    "test_matrix = np.array([[SQA.query(i,j) for j in range(n)] for i in range(m)])\n",
    "np.allclose(test_matrix, A)"
   ]
  },
  {
   "cell_type": "markdown",
   "metadata": {},
   "source": [
    "#### $\\mathrm{Norm}(i)$について\n",
    "行列$A$の各列ベクトル$A_{0,\\ast},\\dots,A_{m,\\ast}$の2ノルムが計算できているかどうか，NumPyの関数を用いた時の結果と比較をして確認してみます．"
   ]
  },
  {
   "cell_type": "code",
   "execution_count": 15,
   "metadata": {},
   "outputs": [
    {
     "name": "stdout",
     "output_type": "stream",
     "text": [
      "SQ(A).norm(0) = 1.525538393413868 \t, np.linalg.norm(Ai) = 1.525538393413868\n",
      "SQ(A).norm(1) = 1.862283338358721 \t, np.linalg.norm(Ai) = 1.8622833383587214\n",
      "SQ(A).norm(2) = 1.1343742611231984 \t, np.linalg.norm(Ai) = 1.1343742611231982\n",
      "SQ(A).norm(3) = 1.6619465991868285 \t, np.linalg.norm(Ai) = 1.6619465991868285\n",
      "SQ(A).norm(4) = 1.9981031627183627 \t, np.linalg.norm(Ai) = 1.9981031627183625\n",
      "SQ(A).norm(5) = 1.846751079073428 \t, np.linalg.norm(Ai) = 1.8467510790734278\n",
      "SQ(A).norm(6) = 1.6364975773818458 \t, np.linalg.norm(Ai) = 1.6364975773818458\n",
      "SQ(A).norm(7) = 1.6459138082844538 \t, np.linalg.norm(Ai) = 1.6459138082844536\n"
     ]
    }
   ],
   "source": [
    "for i in range(m):\n",
    "    val    = SQA.norm(i)\n",
    "    normAi =  np.linalg.norm(A[i,:])\n",
    "    print(f\"SQ(A).norm({i}) = {val} \\t, np.linalg.norm(Ai) = {normAi}\")"
   ]
  },
  {
   "cell_type": "markdown",
   "metadata": {},
   "source": [
    "#### $\\mathrm{Norm}()$について\n",
    "行列のフロべニウスノルムが計算できているかどうか，NumPyの関数を用いた時の結果と比較をして確認してみます．"
   ]
  },
  {
   "cell_type": "code",
   "execution_count": 16,
   "metadata": {},
   "outputs": [
    {
     "name": "stdout",
     "output_type": "stream",
     "text": [
      "SQ(A) norm()   4.7575519405423\n",
      "Frobenius norm 4.7575519405423\n"
     ]
    }
   ],
   "source": [
    "print(\"SQ(A) norm()  \", SQA.normF())\n",
    "print(\"Frobenius norm\", np.linalg.norm(A))"
   ]
  },
  {
   "cell_type": "markdown",
   "metadata": {},
   "source": [
    "## まとめ\n",
    "$\\mathrm{SQ}(v), \\mathrm{SQ}(A)$をそれぞれ`VectorBasedDataStructure`, `MatrixBasedDataStructure`で実装しました．"
   ]
  },
  {
   "cell_type": "markdown",
   "metadata": {},
   "source": [
    "## 参考文献\n",
    "1. Ewin Tang. 2019. A quantum-inspired classical algorithm for recommendation systems. In Proceedings of the 51st Annual ACM SIGACT Symposium on Theory of Computing (STOC 2019). Association for Computing Machinery, New York, NY, USA, 217–228. https://doi.org/10.1145/3313276.3316310\n",
    "\n",
    "2. Nai-Hui Chia, András Gilyén, Tongyang Li, Han-Hsuan Lin, Ewin Tang, and Chunhao Wang. 2020. Sampling-based sublinear low-rank matrix arithmetic framework for dequantizing Quantum machine learning. In Proceedings of the 52nd Annual ACM SIGACT Symposium on Theory of Computing (STOC 2020). Association for Computing Machinery, New York, NY, USA, 387–400. https://doi.org/10.1145/3357713.3384314\n",
    "\n",
    "3. András Gilyén, Zhao Song and Ewin Tang. 2022. An improved quantum-inspired algorithm for linear regression. Quantum, 6, 754. https://doi.org/10.22331/q-2022-06-30-754\n",
    "\n",
    "4. https://en.wikipedia.org/wiki/Segment_tree"
   ]
  },
  {
   "cell_type": "code",
   "execution_count": null,
   "metadata": {},
   "outputs": [],
   "source": []
  }
 ],
 "metadata": {
  "instance_type": "ml.t3.medium",
  "kernelspec": {
   "display_name": "Python 3 (Data Science)",
   "language": "python",
   "name": "python3__SAGEMAKER_INTERNAL__arn:aws:sagemaker:us-west-1:742091327244:image/datascience-1.0"
  },
  "language_info": {
   "codemirror_mode": {
    "name": "ipython",
    "version": 3
   },
   "file_extension": ".py",
   "mimetype": "text/x-python",
   "name": "python",
   "nbconvert_exporter": "python",
   "pygments_lexer": "ipython3",
   "version": "3.7.10"
  }
 },
 "nbformat": 4,
 "nbformat_minor": 4
}
