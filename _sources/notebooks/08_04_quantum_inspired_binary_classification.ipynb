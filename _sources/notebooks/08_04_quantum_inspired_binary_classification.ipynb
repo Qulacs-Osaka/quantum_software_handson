{
 "cells": [
  {
   "cell_type": "markdown",
   "metadata": {},
   "source": [
    "量子ソフトウェア勉強会第13回目:「量子インスパイアード古典アルゴリズム」ハンズオン資料 4\n",
    "2022年10月7日(金)  \n",
    "高比良宗一\n",
    "$$\n",
    "\\newcommand{\\norm}[1]{\\lVert#1\\rVert}\n",
    "\\renewcommand{\\top}{\\mathsf{T}}\n",
    "\\newcommand{\\SQ}{\\mathrm{SQ}}\n",
    "$$\n",
    "\n",
    "# 2クラス問題に対する量子インスパイアード古典アルゴリズム\n",
    "このノートブックでは，2クラス問題について考察します．具体的にはIRISデータセットを例にして，線形識別関数の係数ベクトル$\\theta$に関する$\\SQ(\\theta)$を考察します．そして，テスト用のデータがどちらのクラスであるかどうか，$\\theta$をそのまま構成することなく，判別することについて考えます．"
   ]
  },
  {
   "cell_type": "code",
   "execution_count": 1,
   "metadata": {},
   "outputs": [],
   "source": [
    "import numpy as np\n",
    "import scipy as sp\n",
    "import numpy.linalg as la\n",
    "import random\n",
    "import cmath, math\n",
    "import matplotlib.pyplot as plt\n",
    "import pprint\n",
    "from sklearn.datasets import load_iris\n",
    "from sklearn.model_selection import train_test_split"
   ]
  },
  {
   "cell_type": "markdown",
   "metadata": {},
   "source": [
    "## データセットを読み込む\n",
    "\n",
    "IRISデータセットはPythonのライブラリ[scikit-learn](https://scikit-learn.org/stable/)に含まれています．\n",
    "このライブラリにある`load_iris`を使うことで読み込むことができます．次のセルでデータをロードしてみます．"
   ]
  },
  {
   "cell_type": "code",
   "execution_count": 2,
   "metadata": {},
   "outputs": [
    {
     "name": "stdout",
     "output_type": "stream",
     "text": [
      "{'DESCR': '.. _iris_dataset:\\n'\n",
      "          '\\n'\n",
      "          'Iris plants dataset\\n'\n",
      "          '--------------------\\n'\n",
      "          '\\n'\n",
      "          '**Data Set Characteristics:**\\n'\n",
      "          '\\n'\n",
      "          '    :Number of Instances: 150 (50 in each of three classes)\\n'\n",
      "          '    :Number of Attributes: 4 numeric, predictive attributes and the '\n",
      "          'class\\n'\n",
      "          '    :Attribute Information:\\n'\n",
      "          '        - sepal length in cm\\n'\n",
      "          '        - sepal width in cm\\n'\n",
      "          '        - petal length in cm\\n'\n",
      "          '        - petal width in cm\\n'\n",
      "          '        - class:\\n'\n",
      "          '                - Iris-Setosa\\n'\n",
      "          '                - Iris-Versicolour\\n'\n",
      "          '                - Iris-Virginica\\n'\n",
      "          '                \\n'\n",
      "          '    :Summary Statistics:\\n'\n",
      "          '\\n'\n",
      "          '    ============== ==== ==== ======= ===== ====================\\n'\n",
      "          '                    Min  Max   Mean    SD   Class Correlation\\n'\n",
      "          '    ============== ==== ==== ======= ===== ====================\\n'\n",
      "          '    sepal length:   4.3  7.9   5.84   0.83    0.7826\\n'\n",
      "          '    sepal width:    2.0  4.4   3.05   0.43   -0.4194\\n'\n",
      "          '    petal length:   1.0  6.9   3.76   1.76    0.9490  (high!)\\n'\n",
      "          '    petal width:    0.1  2.5   1.20   0.76    0.9565  (high!)\\n'\n",
      "          '    ============== ==== ==== ======= ===== ====================\\n'\n",
      "          '\\n'\n",
      "          '    :Missing Attribute Values: None\\n'\n",
      "          '    :Class Distribution: 33.3% for each of 3 classes.\\n'\n",
      "          '    :Creator: R.A. Fisher\\n'\n",
      "          '    :Donor: Michael Marshall (MARSHALL%PLU@io.arc.nasa.gov)\\n'\n",
      "          '    :Date: July, 1988\\n'\n",
      "          '\\n'\n",
      "          'The famous Iris database, first used by Sir R.A. Fisher. The '\n",
      "          'dataset is taken\\n'\n",
      "          \"from Fisher's paper. Note that it's the same as in R, but not as in \"\n",
      "          'the UCI\\n'\n",
      "          'Machine Learning Repository, which has two wrong data points.\\n'\n",
      "          '\\n'\n",
      "          'This is perhaps the best known database to be found in the\\n'\n",
      "          \"pattern recognition literature.  Fisher's paper is a classic in the \"\n",
      "          'field and\\n'\n",
      "          'is referenced frequently to this day.  (See Duda & Hart, for '\n",
      "          'example.)  The\\n'\n",
      "          'data set contains 3 classes of 50 instances each, where each class '\n",
      "          'refers to a\\n'\n",
      "          'type of iris plant.  One class is linearly separable from the other '\n",
      "          '2; the\\n'\n",
      "          'latter are NOT linearly separable from each other.\\n'\n",
      "          '\\n'\n",
      "          '.. topic:: References\\n'\n",
      "          '\\n'\n",
      "          '   - Fisher, R.A. \"The use of multiple measurements in taxonomic '\n",
      "          'problems\"\\n'\n",
      "          '     Annual Eugenics, 7, Part II, 179-188 (1936); also in '\n",
      "          '\"Contributions to\\n'\n",
      "          '     Mathematical Statistics\" (John Wiley, NY, 1950).\\n'\n",
      "          '   - Duda, R.O., & Hart, P.E. (1973) Pattern Classification and '\n",
      "          'Scene Analysis.\\n'\n",
      "          '     (Q327.D83) John Wiley & Sons.  ISBN 0-471-22361-1.  See page '\n",
      "          '218.\\n'\n",
      "          '   - Dasarathy, B.V. (1980) \"Nosing Around the Neighborhood: A New '\n",
      "          'System\\n'\n",
      "          '     Structure and Classification Rule for Recognition in Partially '\n",
      "          'Exposed\\n'\n",
      "          '     Environments\".  IEEE Transactions on Pattern Analysis and '\n",
      "          'Machine\\n'\n",
      "          '     Intelligence, Vol. PAMI-2, No. 1, 67-71.\\n'\n",
      "          '   - Gates, G.W. (1972) \"The Reduced Nearest Neighbor Rule\".  IEEE '\n",
      "          'Transactions\\n'\n",
      "          '     on Information Theory, May 1972, 431-433.\\n'\n",
      "          '   - See also: 1988 MLC Proceedings, 54-64.  Cheeseman et al\"s '\n",
      "          'AUTOCLASS II\\n'\n",
      "          '     conceptual clustering system finds 3 classes in the data.\\n'\n",
      "          '   - Many, many more ...',\n",
      " 'data': array([[5.1, 3.5, 1.4, 0.2],\n",
      "       [4.9, 3. , 1.4, 0.2],\n",
      "       [4.7, 3.2, 1.3, 0.2],\n",
      "       [4.6, 3.1, 1.5, 0.2],\n",
      "       [5. , 3.6, 1.4, 0.2],\n",
      "       [5.4, 3.9, 1.7, 0.4],\n",
      "       [4.6, 3.4, 1.4, 0.3],\n",
      "       [5. , 3.4, 1.5, 0.2],\n",
      "       [4.4, 2.9, 1.4, 0.2],\n",
      "       [4.9, 3.1, 1.5, 0.1],\n",
      "       [5.4, 3.7, 1.5, 0.2],\n",
      "       [4.8, 3.4, 1.6, 0.2],\n",
      "       [4.8, 3. , 1.4, 0.1],\n",
      "       [4.3, 3. , 1.1, 0.1],\n",
      "       [5.8, 4. , 1.2, 0.2],\n",
      "       [5.7, 4.4, 1.5, 0.4],\n",
      "       [5.4, 3.9, 1.3, 0.4],\n",
      "       [5.1, 3.5, 1.4, 0.3],\n",
      "       [5.7, 3.8, 1.7, 0.3],\n",
      "       [5.1, 3.8, 1.5, 0.3],\n",
      "       [5.4, 3.4, 1.7, 0.2],\n",
      "       [5.1, 3.7, 1.5, 0.4],\n",
      "       [4.6, 3.6, 1. , 0.2],\n",
      "       [5.1, 3.3, 1.7, 0.5],\n",
      "       [4.8, 3.4, 1.9, 0.2],\n",
      "       [5. , 3. , 1.6, 0.2],\n",
      "       [5. , 3.4, 1.6, 0.4],\n",
      "       [5.2, 3.5, 1.5, 0.2],\n",
      "       [5.2, 3.4, 1.4, 0.2],\n",
      "       [4.7, 3.2, 1.6, 0.2],\n",
      "       [4.8, 3.1, 1.6, 0.2],\n",
      "       [5.4, 3.4, 1.5, 0.4],\n",
      "       [5.2, 4.1, 1.5, 0.1],\n",
      "       [5.5, 4.2, 1.4, 0.2],\n",
      "       [4.9, 3.1, 1.5, 0.2],\n",
      "       [5. , 3.2, 1.2, 0.2],\n",
      "       [5.5, 3.5, 1.3, 0.2],\n",
      "       [4.9, 3.6, 1.4, 0.1],\n",
      "       [4.4, 3. , 1.3, 0.2],\n",
      "       [5.1, 3.4, 1.5, 0.2],\n",
      "       [5. , 3.5, 1.3, 0.3],\n",
      "       [4.5, 2.3, 1.3, 0.3],\n",
      "       [4.4, 3.2, 1.3, 0.2],\n",
      "       [5. , 3.5, 1.6, 0.6],\n",
      "       [5.1, 3.8, 1.9, 0.4],\n",
      "       [4.8, 3. , 1.4, 0.3],\n",
      "       [5.1, 3.8, 1.6, 0.2],\n",
      "       [4.6, 3.2, 1.4, 0.2],\n",
      "       [5.3, 3.7, 1.5, 0.2],\n",
      "       [5. , 3.3, 1.4, 0.2],\n",
      "       [7. , 3.2, 4.7, 1.4],\n",
      "       [6.4, 3.2, 4.5, 1.5],\n",
      "       [6.9, 3.1, 4.9, 1.5],\n",
      "       [5.5, 2.3, 4. , 1.3],\n",
      "       [6.5, 2.8, 4.6, 1.5],\n",
      "       [5.7, 2.8, 4.5, 1.3],\n",
      "       [6.3, 3.3, 4.7, 1.6],\n",
      "       [4.9, 2.4, 3.3, 1. ],\n",
      "       [6.6, 2.9, 4.6, 1.3],\n",
      "       [5.2, 2.7, 3.9, 1.4],\n",
      "       [5. , 2. , 3.5, 1. ],\n",
      "       [5.9, 3. , 4.2, 1.5],\n",
      "       [6. , 2.2, 4. , 1. ],\n",
      "       [6.1, 2.9, 4.7, 1.4],\n",
      "       [5.6, 2.9, 3.6, 1.3],\n",
      "       [6.7, 3.1, 4.4, 1.4],\n",
      "       [5.6, 3. , 4.5, 1.5],\n",
      "       [5.8, 2.7, 4.1, 1. ],\n",
      "       [6.2, 2.2, 4.5, 1.5],\n",
      "       [5.6, 2.5, 3.9, 1.1],\n",
      "       [5.9, 3.2, 4.8, 1.8],\n",
      "       [6.1, 2.8, 4. , 1.3],\n",
      "       [6.3, 2.5, 4.9, 1.5],\n",
      "       [6.1, 2.8, 4.7, 1.2],\n",
      "       [6.4, 2.9, 4.3, 1.3],\n",
      "       [6.6, 3. , 4.4, 1.4],\n",
      "       [6.8, 2.8, 4.8, 1.4],\n",
      "       [6.7, 3. , 5. , 1.7],\n",
      "       [6. , 2.9, 4.5, 1.5],\n",
      "       [5.7, 2.6, 3.5, 1. ],\n",
      "       [5.5, 2.4, 3.8, 1.1],\n",
      "       [5.5, 2.4, 3.7, 1. ],\n",
      "       [5.8, 2.7, 3.9, 1.2],\n",
      "       [6. , 2.7, 5.1, 1.6],\n",
      "       [5.4, 3. , 4.5, 1.5],\n",
      "       [6. , 3.4, 4.5, 1.6],\n",
      "       [6.7, 3.1, 4.7, 1.5],\n",
      "       [6.3, 2.3, 4.4, 1.3],\n",
      "       [5.6, 3. , 4.1, 1.3],\n",
      "       [5.5, 2.5, 4. , 1.3],\n",
      "       [5.5, 2.6, 4.4, 1.2],\n",
      "       [6.1, 3. , 4.6, 1.4],\n",
      "       [5.8, 2.6, 4. , 1.2],\n",
      "       [5. , 2.3, 3.3, 1. ],\n",
      "       [5.6, 2.7, 4.2, 1.3],\n",
      "       [5.7, 3. , 4.2, 1.2],\n",
      "       [5.7, 2.9, 4.2, 1.3],\n",
      "       [6.2, 2.9, 4.3, 1.3],\n",
      "       [5.1, 2.5, 3. , 1.1],\n",
      "       [5.7, 2.8, 4.1, 1.3],\n",
      "       [6.3, 3.3, 6. , 2.5],\n",
      "       [5.8, 2.7, 5.1, 1.9],\n",
      "       [7.1, 3. , 5.9, 2.1],\n",
      "       [6.3, 2.9, 5.6, 1.8],\n",
      "       [6.5, 3. , 5.8, 2.2],\n",
      "       [7.6, 3. , 6.6, 2.1],\n",
      "       [4.9, 2.5, 4.5, 1.7],\n",
      "       [7.3, 2.9, 6.3, 1.8],\n",
      "       [6.7, 2.5, 5.8, 1.8],\n",
      "       [7.2, 3.6, 6.1, 2.5],\n",
      "       [6.5, 3.2, 5.1, 2. ],\n",
      "       [6.4, 2.7, 5.3, 1.9],\n",
      "       [6.8, 3. , 5.5, 2.1],\n",
      "       [5.7, 2.5, 5. , 2. ],\n",
      "       [5.8, 2.8, 5.1, 2.4],\n",
      "       [6.4, 3.2, 5.3, 2.3],\n",
      "       [6.5, 3. , 5.5, 1.8],\n",
      "       [7.7, 3.8, 6.7, 2.2],\n",
      "       [7.7, 2.6, 6.9, 2.3],\n",
      "       [6. , 2.2, 5. , 1.5],\n",
      "       [6.9, 3.2, 5.7, 2.3],\n",
      "       [5.6, 2.8, 4.9, 2. ],\n",
      "       [7.7, 2.8, 6.7, 2. ],\n",
      "       [6.3, 2.7, 4.9, 1.8],\n",
      "       [6.7, 3.3, 5.7, 2.1],\n",
      "       [7.2, 3.2, 6. , 1.8],\n",
      "       [6.2, 2.8, 4.8, 1.8],\n",
      "       [6.1, 3. , 4.9, 1.8],\n",
      "       [6.4, 2.8, 5.6, 2.1],\n",
      "       [7.2, 3. , 5.8, 1.6],\n",
      "       [7.4, 2.8, 6.1, 1.9],\n",
      "       [7.9, 3.8, 6.4, 2. ],\n",
      "       [6.4, 2.8, 5.6, 2.2],\n",
      "       [6.3, 2.8, 5.1, 1.5],\n",
      "       [6.1, 2.6, 5.6, 1.4],\n",
      "       [7.7, 3. , 6.1, 2.3],\n",
      "       [6.3, 3.4, 5.6, 2.4],\n",
      "       [6.4, 3.1, 5.5, 1.8],\n",
      "       [6. , 3. , 4.8, 1.8],\n",
      "       [6.9, 3.1, 5.4, 2.1],\n",
      "       [6.7, 3.1, 5.6, 2.4],\n",
      "       [6.9, 3.1, 5.1, 2.3],\n",
      "       [5.8, 2.7, 5.1, 1.9],\n",
      "       [6.8, 3.2, 5.9, 2.3],\n",
      "       [6.7, 3.3, 5.7, 2.5],\n",
      "       [6.7, 3. , 5.2, 2.3],\n",
      "       [6.3, 2.5, 5. , 1.9],\n",
      "       [6.5, 3. , 5.2, 2. ],\n",
      "       [6.2, 3.4, 5.4, 2.3],\n",
      "       [5.9, 3. , 5.1, 1.8]]),\n",
      " 'feature_names': ['sepal length (cm)',\n",
      "                   'sepal width (cm)',\n",
      "                   'petal length (cm)',\n",
      "                   'petal width (cm)'],\n",
      " 'filename': '/opt/conda/lib/python3.7/site-packages/sklearn/datasets/data/iris.csv',\n",
      " 'target': array([0, 0, 0, 0, 0, 0, 0, 0, 0, 0, 0, 0, 0, 0, 0, 0, 0, 0, 0, 0, 0, 0,\n",
      "       0, 0, 0, 0, 0, 0, 0, 0, 0, 0, 0, 0, 0, 0, 0, 0, 0, 0, 0, 0, 0, 0,\n",
      "       0, 0, 0, 0, 0, 0, 1, 1, 1, 1, 1, 1, 1, 1, 1, 1, 1, 1, 1, 1, 1, 1,\n",
      "       1, 1, 1, 1, 1, 1, 1, 1, 1, 1, 1, 1, 1, 1, 1, 1, 1, 1, 1, 1, 1, 1,\n",
      "       1, 1, 1, 1, 1, 1, 1, 1, 1, 1, 1, 1, 2, 2, 2, 2, 2, 2, 2, 2, 2, 2,\n",
      "       2, 2, 2, 2, 2, 2, 2, 2, 2, 2, 2, 2, 2, 2, 2, 2, 2, 2, 2, 2, 2, 2,\n",
      "       2, 2, 2, 2, 2, 2, 2, 2, 2, 2, 2, 2, 2, 2, 2, 2, 2, 2]),\n",
      " 'target_names': array(['setosa', 'versicolor', 'virginica'], dtype='<U10')}\n"
     ]
    }
   ],
   "source": [
    "from sklearn.datasets import load_iris\n",
    "iris = load_iris()\n",
    "pprint.pprint(iris)"
   ]
  },
  {
   "cell_type": "markdown",
   "metadata": {},
   "source": [
    "## 分類問題"
   ]
  },
  {
   "cell_type": "markdown",
   "metadata": {},
   "source": [
    "scikit-learnに含まれている`train_test_split`を使うと，データを訓練用とテスト用の配列に分割することができます．"
   ]
  },
  {
   "cell_type": "code",
   "execution_count": 3,
   "metadata": {},
   "outputs": [
    {
     "name": "stdout",
     "output_type": "stream",
     "text": [
      "訓練用データ\n",
      " [[6.  3.4 4.5 1.6]\n",
      " [6.7 3.3 5.7 2.5]\n",
      " [6.7 3.  5.  1.7]\n",
      " [5.7 2.9 4.2 1.3]\n",
      " [5.6 3.  4.1 1.3]\n",
      " [7.7 3.8 6.7 2.2]\n",
      " [5.9 3.  5.1 1.8]\n",
      " [6.5 3.  5.8 2.2]\n",
      " [6.7 3.  5.2 2.3]\n",
      " [6.  3.  4.8 1.8]\n",
      " [5.5 2.6 4.4 1.2]\n",
      " [5.1 2.5 3.  1.1]\n",
      " [7.2 3.6 6.1 2.5]\n",
      " [6.1 2.8 4.7 1.2]\n",
      " [5.4 3.  4.5 1.5]\n",
      " [6.3 3.4 5.6 2.4]\n",
      " [6.3 2.9 5.6 1.8]\n",
      " [6.1 3.  4.9 1.8]\n",
      " [6.7 3.1 4.4 1.4]\n",
      " [6.3 2.8 5.1 1.5]\n",
      " [6.1 3.  4.6 1.4]\n",
      " [5.7 3.  4.2 1.2]\n",
      " [6.9 3.1 5.1 2.3]\n",
      " [6.8 2.8 4.8 1.4]\n",
      " [6.2 3.4 5.4 2.3]\n",
      " [5.  2.3 3.3 1. ]\n",
      " [7.6 3.  6.6 2.1]\n",
      " [6.4 2.9 4.3 1.3]\n",
      " [6.5 2.8 4.6 1.5]\n",
      " [6.7 2.5 5.8 1.8]\n",
      " [5.7 2.8 4.1 1.3]\n",
      " [6.1 2.8 4.  1.3]\n",
      " [6.4 3.1 5.5 1.8]\n",
      " [5.5 2.3 4.  1.3]\n",
      " [6.7 3.3 5.7 2.1]\n",
      " [5.5 2.4 3.8 1.1]\n",
      " [6.5 3.  5.5 1.8]\n",
      " [6.9 3.2 5.7 2.3]\n",
      " [5.8 2.6 4.  1.2]\n",
      " [6.2 2.9 4.3 1.3]\n",
      " [6.9 3.1 5.4 2.1]\n",
      " [6.6 2.9 4.6 1.3]\n",
      " [6.5 3.2 5.1 2. ]\n",
      " [7.  3.2 4.7 1.4]\n",
      " [6.7 3.1 5.6 2.4]\n",
      " [7.3 2.9 6.3 1.8]\n",
      " [6.3 2.5 4.9 1.5]\n",
      " [6.4 2.7 5.3 1.9]\n",
      " [5.7 2.5 5.  2. ]\n",
      " [4.9 2.4 3.3 1. ]\n",
      " [6.3 2.5 5.  1.9]\n",
      " [6.1 2.9 4.7 1.4]\n",
      " [7.7 2.6 6.9 2.3]\n",
      " [7.7 3.  6.1 2.3]\n",
      " [5.6 2.9 3.6 1.3]\n",
      " [5.7 2.6 3.5 1. ]\n",
      " [6.  2.9 4.5 1.5]\n",
      " [5.9 3.  4.2 1.5]\n",
      " [6.2 2.2 4.5 1.5]\n",
      " [5.9 3.2 4.8 1.8]\n",
      " [6.3 3.3 6.  2.5]\n",
      " [6.6 3.  4.4 1.4]\n",
      " [6.3 3.3 4.7 1.6]\n",
      " [5.6 2.8 4.9 2. ]\n",
      " [6.2 2.8 4.8 1.8]\n",
      " [6.4 3.2 4.5 1.5]\n",
      " [5.6 3.  4.5 1.5]\n",
      " [5.8 2.8 5.1 2.4]\n",
      " [7.2 3.  5.8 1.6]\n",
      " [5.7 2.8 4.5 1.3]\n",
      " [7.2 3.2 6.  1.8]\n",
      " [5.2 2.7 3.9 1.4]\n",
      " [7.7 2.8 6.7 2. ]\n",
      " [6.  2.2 4.  1. ]\n",
      " [6.3 2.3 4.4 1.3]]\n",
      "訓練用ラベル\n",
      " [1 2 1 1 1 2 2 2 2 2 1 1 2 1 1 2 2 2 1 2 1 1 2 1 2 1 2 1 1 2 1 1 2 1 2 1 2\n",
      " 2 1 1 2 1 2 1 2 2 1 2 2 1 2 1 2 2 1 1 1 1 1 1 2 1 1 2 2 1 1 2 2 1 2 1 2 1\n",
      " 1]\n",
      "テスト用データ\n",
      " [[7.4 2.8 6.1 1.9]\n",
      " [6.1 2.6 5.6 1.4]\n",
      " [6.  2.7 5.1 1.6]\n",
      " [7.9 3.8 6.4 2. ]\n",
      " [6.8 3.2 5.9 2.3]\n",
      " [5.8 2.7 4.1 1. ]\n",
      " [6.7 3.1 4.7 1.5]\n",
      " [6.4 2.8 5.6 2.2]\n",
      " [6.  2.2 5.  1.5]\n",
      " [6.4 3.2 5.3 2.3]\n",
      " [5.8 2.7 5.1 1.9]\n",
      " [5.5 2.5 4.  1.3]\n",
      " [4.9 2.5 4.5 1.7]\n",
      " [7.1 3.  5.9 2.1]\n",
      " [5.8 2.7 5.1 1.9]\n",
      " [5.8 2.7 3.9 1.2]\n",
      " [5.5 2.4 3.7 1. ]\n",
      " [5.6 2.7 4.2 1.3]\n",
      " [6.4 2.8 5.6 2.1]\n",
      " [5.  2.  3.5 1. ]\n",
      " [6.9 3.1 4.9 1.5]\n",
      " [6.3 2.7 4.9 1.8]\n",
      " [6.5 3.  5.2 2. ]\n",
      " [6.8 3.  5.5 2.1]\n",
      " [5.6 2.5 3.9 1.1]]\n",
      "テスト用ラベル\n",
      " [2 2 1 2 2 1 1 2 2 2 2 1 2 2 2 1 1 1 2 1 1 2 2 2 1]\n"
     ]
    }
   ],
   "source": [
    "from sklearn.model_selection import train_test_split\n",
    "\n",
    "iris = load_iris()\n",
    "x_train, x_test, y_train, y_test = train_test_split(iris.data[50:], iris.target[50:], random_state=1)\n",
    "print(\"訓練用データ\\n\", x_train)\n",
    "print(\"訓練用ラベル\\n\", y_train)\n",
    "print(\"テスト用データ\\n\", x_test)\n",
    "print(\"テスト用ラベル\\n\", y_test)"
   ]
  },
  {
   "cell_type": "markdown",
   "metadata": {},
   "source": [
    "今回は`sepal length`(がく片の長さ)と`petal length`(花びらの長さ)から，versicolorか，virginicaのどちらであるか判断することを考えます．IRISデータセットの50行目以降がversicolor及びvirginicaのデータで，`sepal length`, `petal length`が0列目,2列目であることを踏まえると，行列$A$, $b$は次のセルのように定義できます．"
   ]
  },
  {
   "cell_type": "code",
   "execution_count": 4,
   "metadata": {},
   "outputs": [],
   "source": [
    "from sklearn.datasets import load_iris\n",
    "\n",
    "# IRISデータセットを読み込み，versicolorとvirginicaに分ける．\n",
    "iris = load_iris()\n",
    "\n",
    "x_train, x_test, y_train, y_test = train_test_split(iris.data[50:], iris.target[50:] , random_state=1)\n",
    "size = len(x_train)\n",
    "\n",
    "# Aとbを定義する．\n",
    "A = np.zeros((size, 3))\n",
    "A[:,0] = np.ones(size)\n",
    "A[:,1] = x_train[:,0]\n",
    "A[:,2] = x_train[:,2]\n",
    "# A = A/np.linalg.norm(A)\n",
    "b   = np.array([1 if t==1 else -1  for t in y_train])"
   ]
  },
  {
   "cell_type": "markdown",
   "metadata": {},
   "source": [
    "### 擬似逆行列"
   ]
  },
  {
   "cell_type": "markdown",
   "metadata": {},
   "source": [
    "分類する直線に関するパラメータ$\\theta$は，$\\theta = A^+ b$のようにして求めることができます．この$\\theta$によって，分類する直線は，$\\theta_0 + \\theta_1 x + \\theta_2 y = 0$のようにして表されます．"
   ]
  },
  {
   "cell_type": "code",
   "execution_count": 5,
   "metadata": {},
   "outputs": [
    {
     "data": {
      "text/plain": [
       "array([ 2.64301213,  0.66176535, -1.37653241])"
      ]
     },
     "execution_count": 5,
     "metadata": {},
     "output_type": "execute_result"
    }
   ],
   "source": [
    "exact_theta = np.linalg.pinv(A) @ b # or np.linalg.lstsq(A, b)[0]\n",
    "exact_theta"
   ]
  },
  {
   "cell_type": "markdown",
   "metadata": {},
   "source": [
    "### 量子インスパイアード古典アルゴリズム\n",
    "\n",
    "$\\SQ(A)$を構成し，`3_SQ(x).ipynb`でまとめた`SQx`を用いて，$\\mathrm{SQ}(\\theta)$を定義します．"
   ]
  },
  {
   "cell_type": "code",
   "execution_count": 6,
   "metadata": {},
   "outputs": [],
   "source": [
    "from quantum_inspired import MatrixBasedDataStructure, SQx\n",
    "SQA = MatrixBasedDataStructure(A)\n",
    "r, c = 1000, 1000\n",
    "sq_theta = SQx(SQA, b, r, c, 2, 1000)"
   ]
  },
  {
   "cell_type": "markdown",
   "metadata": {},
   "source": [
    "$\\mathrm{SQ}(\\theta)$の$\\mathrm{Query}(i)$を用いて$\\tilde{\\theta}$を構成してみます．"
   ]
  },
  {
   "cell_type": "code",
   "execution_count": 7,
   "metadata": {},
   "outputs": [
    {
     "data": {
      "text/plain": [
       "array([-0.00031439, -0.00089496,  0.0011135 ])"
      ]
     },
     "execution_count": 7,
     "metadata": {},
     "output_type": "execute_result"
    }
   ],
   "source": [
    "m, n = A.shape\n",
    "tilde_theta = np.zeros(n)\n",
    "for i in range(n):\n",
    "    tilde_theta[i] = sq_theta.query(i)\n",
    "tilde_theta"
   ]
  },
  {
   "cell_type": "markdown",
   "metadata": {},
   "source": [
    "### 図を描画する\n",
    "\n",
    "上記で求めたNumPyによる解$\\theta$と，量子インスパイアード古典アルゴリズムによる近似解$\\tilde{\\theta}$について，\n",
    "直線を引いてみて，その様子を見てみます．"
   ]
  },
  {
   "cell_type": "code",
   "execution_count": 20,
   "metadata": {},
   "outputs": [],
   "source": [
    "def line(theta, x):\n",
    "    return -(theta[0] + theta[1]*x)/theta[2]"
   ]
  },
  {
   "cell_type": "code",
   "execution_count": 9,
   "metadata": {},
   "outputs": [
    {
     "data": {
      "image/png": "[encoded data removed]",
      "text/plain": [
       "<Figure size 800x600 with 1 Axes>"
      ]
     },
     "metadata": {},
     "output_type": "display_data"
    }
   ],
   "source": [
    "plt.figure(figsize=(8,6))\n",
    "\n",
    "# 点を描画する\n",
    "class1_xs, class1_ys = [], []\n",
    "class2_xs, class2_ys = [], []\n",
    "for xt, yt in zip(x_train, y_train):\n",
    "    if yt == 1:\n",
    "        class1_xs.append(xt[0])\n",
    "        class1_ys.append(xt[2])\n",
    "    else:\n",
    "        class2_xs.append(xt[0])\n",
    "        class2_ys.append(xt[2])\n",
    "\n",
    "plt.scatter(class1_xs, class1_ys, label=iris.target_names[1], color='tab:orange')\n",
    "plt.scatter(class2_xs, class2_ys, label=iris.target_names[2], color='tab:green')\n",
    "\n",
    "# 直線を描画する\n",
    "xs         = np.linspace(4,8)\n",
    "line_exact = [line(exact_theta, x) for x in xs] # NumPy\n",
    "line_qi    = [line(tilde_theta, x) for x in xs] # 量子インスパイアード\n",
    "\n",
    "plt.plot(xs, line_exact, color='blue', label=\"exact\")\n",
    "plt.plot(xs, line_qi   , color='red',  label=\"quantum inspired\")\n",
    "\n",
    "# その他\n",
    "plt.legend(loc='lower right')\n",
    "plt.xlabel(iris.feature_names[0])\n",
    "plt.ylabel(iris.feature_names[2])\n",
    "plt.show()"
   ]
  },
  {
   "cell_type": "markdown",
   "metadata": {},
   "source": [
    "### サンプリング回数を増やした時の様子"
   ]
  },
  {
   "cell_type": "code",
   "execution_count": 10,
   "metadata": {},
   "outputs": [],
   "source": [
    "from quantum_inspired import MatrixBasedDataStructure, SQx\n",
    "SQA = MatrixBasedDataStructure(A)\n",
    "sq_theta100  = SQx(SQA, b, 100, 100, 2, 100)\n",
    "sq_theta200  = SQx(SQA, b, 200, 200, 2, 200)\n",
    "sq_theta400  = SQx(SQA, b, 400, 400, 2, 400)\n",
    "sq_theta800  = SQx(SQA, b, 800, 800, 2, 800)\n",
    "sq_theta1600 = SQx(SQA, b, 1600, 1600, 2, 1600)"
   ]
  },
  {
   "cell_type": "code",
   "execution_count": 11,
   "metadata": {},
   "outputs": [],
   "source": [
    "tilde_theta100  = np.array([sq_theta100.query(i) for i in range(n)])\n",
    "tilde_theta200  = np.array([sq_theta200.query(i) for i in range(n)])\n",
    "tilde_theta400  = np.array([sq_theta400.query(i) for i in range(n)])\n",
    "tilde_theta800  = np.array([sq_theta800.query(i) for i in range(n)])\n",
    "tilde_theta1600 = np.array([sq_theta1600.query(i) for i in range(n)])"
   ]
  },
  {
   "cell_type": "code",
   "execution_count": 12,
   "metadata": {},
   "outputs": [
    {
     "data": {
      "image/png": "[encoded data removed]",
      "text/plain": [
       "<Figure size 800x600 with 1 Axes>"
      ]
     },
     "metadata": {},
     "output_type": "display_data"
    }
   ],
   "source": [
    "plt.figure(figsize=(8,6))\n",
    "\n",
    "# 点を描画する\n",
    "class1_xs, class1_ys = [], []\n",
    "class2_xs, class2_ys = [], []\n",
    "for xt, yt in zip(x_train, y_train):\n",
    "    if yt == 1:\n",
    "        class1_xs.append(xt[0])\n",
    "        class1_ys.append(xt[2])\n",
    "    else:\n",
    "        class2_xs.append(xt[0])\n",
    "        class2_ys.append(xt[2])\n",
    "\n",
    "plt.scatter(class1_xs, class1_ys, label=iris.target_names[1], color='tab:orange')\n",
    "plt.scatter(class2_xs, class2_ys, label=iris.target_names[2], color='tab:green')\n",
    "\n",
    "# 直線を描画する\n",
    "xs         = np.linspace(4,8)\n",
    "line_exact = [line(exact_theta, x) for x in xs]       # NumPy\n",
    "\n",
    "# 量子インスパイアード\n",
    "line_qi100 = [line(tilde_theta100, x) for x in xs] \n",
    "line_qi200 = [line(tilde_theta200, x) for x in xs] \n",
    "line_qi400 = [line(tilde_theta400, x) for x in xs] \n",
    "line_qi800 = [line(tilde_theta800, x) for x in xs] \n",
    "line_qi1600 = [line(tilde_theta1600, x) for x in xs] \n",
    "\n",
    "plt.plot(xs, line_exact,  color='blue', label=\"exact\")\n",
    "plt.plot(xs, line_qi100,  label=\"quantum inspired r=c=100\")\n",
    "plt.plot(xs, line_qi200,  label=\"quantum inspired r=c=200\")\n",
    "plt.plot(xs, line_qi400,  label=\"quantum inspired r=c=400\")\n",
    "plt.plot(xs, line_qi800,  label=\"quantum inspired r=c=800\")\n",
    "plt.plot(xs, line_qi1600, label=\"quantum inspired r=c=1600\")\n",
    "\n",
    "# その他\n",
    "plt.legend(loc='lower right')\n",
    "plt.xlabel(iris.feature_names[0])\n",
    "plt.ylabel(iris.feature_names[2])\n",
    "plt.show()"
   ]
  },
  {
   "cell_type": "markdown",
   "metadata": {},
   "source": [
    "## 予測\n",
    "\n",
    "新しいデータ$(x, y)$が来たときに，どちらのクラス(versicolor(`1`)かvirginica(`2`))に属するかどうかは，$f(x,y) = \\theta_0 + \\theta_1 x + \\theta_2 y =  (\\theta_0,\\theta_1,\\theta_2)^\\top (1, x, y)$の正負によって決定します．"
   ]
  },
  {
   "cell_type": "code",
   "execution_count": 13,
   "metadata": {},
   "outputs": [],
   "source": [
    "from sklearn.metrics import accuracy_score\n",
    "\n",
    "def f(theta, x, y):\n",
    "    fx = np.vdot(theta, np.array([1, x, y]))\n",
    "    if fx > 0:\n",
    "        return 1\n",
    "    else:\n",
    "        return 2"
   ]
  },
  {
   "cell_type": "markdown",
   "metadata": {},
   "source": [
    "テスト用データに対する予測値を計算します．"
   ]
  },
  {
   "cell_type": "code",
   "execution_count": 14,
   "metadata": {},
   "outputs": [
    {
     "data": {
      "text/plain": [
       "[2, 2, 2, 2, 2, 1, 1, 2, 2, 2, 2, 1, 2, 2, 2, 1, 1, 1, 2, 1, 1, 1, 2, 2, 1]"
      ]
     },
     "execution_count": 14,
     "metadata": {},
     "output_type": "execute_result"
    }
   ],
   "source": [
    "prediction = []\n",
    "for xt in x_test:\n",
    "    c = f(exact_theta, xt[0], xt[2])\n",
    "    prediction.append(c)\n",
    "prediction"
   ]
  },
  {
   "cell_type": "markdown",
   "metadata": {},
   "source": [
    "上記の`prediction`が`y_test`と同様であるか確認してみます．"
   ]
  },
  {
   "cell_type": "code",
   "execution_count": 15,
   "metadata": {},
   "outputs": [
    {
     "data": {
      "text/plain": [
       "array([2, 2, 1, 2, 2, 1, 1, 2, 2, 2, 2, 1, 2, 2, 2, 1, 1, 1, 2, 1, 1, 2,\n",
       "       2, 2, 1])"
      ]
     },
     "execution_count": 15,
     "metadata": {},
     "output_type": "execute_result"
    }
   ],
   "source": [
    "y_test"
   ]
  },
  {
   "cell_type": "markdown",
   "metadata": {},
   "source": [
    "正解率を計算してみます．"
   ]
  },
  {
   "cell_type": "code",
   "execution_count": 16,
   "metadata": {},
   "outputs": [
    {
     "data": {
      "text/plain": [
       "0.92"
      ]
     },
     "execution_count": 16,
     "metadata": {},
     "output_type": "execute_result"
    }
   ],
   "source": [
    "accuracy_score(y_test, prediction)"
   ]
  },
  {
   "cell_type": "markdown",
   "metadata": {},
   "source": [
    "次に量子インスパイアード古典アルゴリズムについて考察します．\n",
    "内積をそのまま計算すると，行列のサイズ分だけ計算量を必要とします．\n",
    "そこで，内積の推定を用いて，$f(x,y)$の値を推定し，その推定値に基づいて，どちらのクラスであるか識別します："
   ]
  },
  {
   "cell_type": "code",
   "execution_count": 17,
   "metadata": {},
   "outputs": [
    {
     "data": {
      "text/plain": [
       "-0.0"
      ]
     },
     "execution_count": 17,
     "metadata": {},
     "output_type": "execute_result"
    }
   ],
   "source": [
    "def qi_vdot(SQa, Qb, sample_size=100):\n",
    "    val = 0\n",
    "    for _ in range(sample_size):\n",
    "        i  = SQa.sample()\n",
    "        zi = Qb[i]/SQa.query(i)\n",
    "        val += zi\n",
    "    return val/sample_size * SQa.norm()**2\n",
    "\n",
    "def qi_f(SQtheta, x, y, sample_size=100):\n",
    "    fx = qi_vdot(SQtheta, np.array([1, x, y]), sample_size)\n",
    "    if fx > 0:\n",
    "        return 1\n",
    "    else:\n",
    "        return 2\n",
    "    \n",
    "xt = x_test[0]\n",
    "v = np.array([1, xt[0], xt[2]])\n",
    "qi_vdot(sq_theta, v, 10)"
   ]
  },
  {
   "cell_type": "markdown",
   "metadata": {},
   "source": [
    "テスト用データに対する予測値を計算します．(実行に数分かかります)"
   ]
  },
  {
   "cell_type": "code",
   "execution_count": 18,
   "metadata": {},
   "outputs": [
    {
     "data": {
      "text/plain": [
       "[2, 2, 2, 2, 2, 2, 1, 2, 2, 2, 2, 2, 1, 2, 1, 2, 2, 2, 2, 2, 2, 2, 2, 2, 2]"
      ]
     },
     "execution_count": 18,
     "metadata": {},
     "output_type": "execute_result"
    }
   ],
   "source": [
    "sq_theta = SQx(SQA, b, 100, 100, 2, 100)\n",
    "\n",
    "prediction_qi = []\n",
    "for xt in x_test:\n",
    "    c = qi_f(sq_theta, xt[0], xt[2], 10)\n",
    "    prediction_qi.append(c)\n",
    "prediction_qi"
   ]
  },
  {
   "cell_type": "markdown",
   "metadata": {},
   "source": [
    "正解率を計算してみます．"
   ]
  },
  {
   "cell_type": "code",
   "execution_count": 19,
   "metadata": {},
   "outputs": [
    {
     "data": {
      "text/plain": [
       "0.56"
      ]
     },
     "execution_count": 19,
     "metadata": {},
     "output_type": "execute_result"
    }
   ],
   "source": [
    "accuracy_score(y_test, prediction_qi)"
   ]
  },
  {
   "cell_type": "markdown",
   "metadata": {},
   "source": [
    "## 参考文献\n",
    "\n",
    "- András Gilyén, Seth Lloyd, and Ewin Tang, ''Quantum-inspired low-rank stochastic regression with logarithmic dependence on the dimension,'' arXiv:1811.04909, (2018). https://arxiv.org/abs/1811.04909\n",
    "- Ewin Tang. 2019. A quantum-inspired classical algorithm for recommendation systems. In Proceedings of the 51st Annual ACM SIGACT Symposium on Theory of Computing (STOC 2019). Association for Computing Machinery, New York, NY, USA, 217–228. https://doi.org/10.1145/3313276.3316310\n",
    "\n",
    "- 平井有三, 「はじめてのパターン認識」, 森北出版, (2012)"
   ]
  },
  {
   "cell_type": "code",
   "execution_count": null,
   "metadata": {},
   "outputs": [],
   "source": []
  }
 ],
 "metadata": {
  "instance_type": "ml.t3.medium",
  "kernelspec": {
   "display_name": "Python 3 (Data Science)",
   "language": "python",
   "name": "python3__SAGEMAKER_INTERNAL__arn:aws:sagemaker:us-west-1:742091327244:image/datascience-1.0"
  },
  "language_info": {
   "codemirror_mode": {
    "name": "ipython",
    "version": 3
   },
   "file_extension": ".py",
   "mimetype": "text/x-python",
   "name": "python",
   "nbconvert_exporter": "python",
   "pygments_lexer": "ipython3",
   "version": "3.7.10"
  }
 },
 "nbformat": 4,
 "nbformat_minor": 4
}
