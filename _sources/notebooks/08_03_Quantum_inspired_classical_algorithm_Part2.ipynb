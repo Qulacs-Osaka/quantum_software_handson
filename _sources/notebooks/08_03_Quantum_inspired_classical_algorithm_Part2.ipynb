{
 "cells": [
  {
   "cell_type": "markdown",
   "metadata": {},
   "source": [
    "量子ソフトウェア勉強会:「量子インスパイアード古典アルゴリズム」ハンズオン資料 3  \n",
    "2023年9月20日(水)  \n",
    "高比良宗一（名城大学情報工学部情報工学科）\n",
    "$$\n",
    "\\newcommand{\\norm}[1]{\\lVert#1\\rVert}\n",
    "\\renewcommand{\\top}{\\mathsf{T}}\n",
    "\\newcommand{\\SQ}{\\mathrm{SQ}}\n",
    "$$\n",
    "# $x = A^+ b$に関する量子インスパイアード古典アルゴリズム Part 2 \n",
    "\n",
    "### (行列$C$の特異値分解の後)\n",
    "\n",
    "このノートブックでは，量子インスパイアード古典アルゴリズムにおける，$A$から構成される行列$C$の特異値分解の結果を得た後の部分について実装します．"
   ]
  },
  {
   "cell_type": "code",
   "execution_count": 178,
   "metadata": {},
   "outputs": [],
   "source": [
    "import random\n",
    "import cmath, math\n",
    "import time\n",
    "import numpy as np\n",
    "import scipy as sp\n",
    "import scipy.linalg\n",
    "import matplotlib.pyplot as plt\n",
    "\n",
    "from quantum_inspired import MatrixBasedDataStructure\n",
    "from quantum_inspired import construct_R, qi_svd, low_rank_matrix"
   ]
  },
  {
   "cell_type": "markdown",
   "metadata": {},
   "source": [
    "## 行列$A$とベクトル$b$を定義する"
   ]
  },
  {
   "cell_type": "code",
   "execution_count": 324,
   "metadata": {},
   "outputs": [
    {
     "name": "stdout",
     "output_type": "stream",
     "text": [
      "Aのランク\n",
      " 2\n",
      "Aのフロべニウスノルム\n",
      " 1.019803902718557\n",
      "Aの特異値\n",
      " [1.00000000e+00 2.00000000e-01 1.67908272e-16 2.98375394e-17\n",
      " 2.52902526e-17 1.77019006e-17 7.74774146e-18 4.77261502e-18]\n"
     ]
    }
   ],
   "source": [
    "m, n = 8, 16\n",
    "A = low_rank_matrix(m, n, 2, 5)\n",
    "\n",
    "exact_U, exact_S, exact_Vh = np.linalg.svd(A)\n",
    "exact_V = exact_Vh.T\n",
    "exact_S[:2]\n",
    "\n",
    "\n",
    "b = np.random.rand(m)\n",
    "b = b/np.linalg.norm(b)\n",
    "print(\"Aのランク\\n\", np.linalg.matrix_rank(A))\n",
    "print(\"Aのフロべニウスノルム\\n\", np.linalg.norm(A))\n",
    "print(\"Aの特異値\\n\", sp.linalg.svdvals(A))"
   ]
  },
  {
   "cell_type": "markdown",
   "metadata": {},
   "source": [
    "行列$A$の特異値分解の結果を保存しておきます．"
   ]
  },
  {
   "cell_type": "code",
   "execution_count": 325,
   "metadata": {},
   "outputs": [
    {
     "data": {
      "text/plain": [
       "array([1. , 0.2])"
      ]
     },
     "execution_count": 325,
     "metadata": {},
     "output_type": "execute_result"
    }
   ],
   "source": [
    "exact_U, exact_S, exact_Vh = np.linalg.svd(A)\n",
    "exact_V = exact_Vh.T\n",
    "exact_S[:2]"
   ]
  },
  {
   "cell_type": "markdown",
   "metadata": {},
   "source": [
    "解ベクトル$x = A^+b$は，NumPyの`pinv`または`lstsq`を用いて次のようにして得ることができます．"
   ]
  },
  {
   "cell_type": "code",
   "execution_count": 326,
   "metadata": {},
   "outputs": [
    {
     "name": "stderr",
     "output_type": "stream",
     "text": [
      "/Users/takahira/.pyenv/versions/anaconda3-5.3.1/lib/python3.7/site-packages/ipykernel_launcher.py:2: FutureWarning: `rcond` parameter will change to the default of machine precision times ``max(M, N)`` where M and N are the input matrix dimensions.\n",
      "To use the future default and silence this warning we advise to pass `rcond=None`, to keep using the old, explicitly pass `rcond=-1`.\n",
      "  \n"
     ]
    },
    {
     "data": {
      "text/plain": [
       "(array([ 0.56206703,  0.24009411, -0.01203472,  0.38808847, -0.51127657,\n",
       "        -0.19467505,  0.38614959, -0.69783124, -0.03046933, -0.37373618,\n",
       "        -0.03402853,  0.2976032 ,  1.50894295,  0.77235867, -0.56817388,\n",
       "        -0.10994197]),\n",
       " array([-9.36760289e+14, -3.43783041e+13, -7.50947472e+13, -2.47231074e+14,\n",
       "        -5.09813618e+13, -9.45237328e+13,  3.88576318e+13, -2.95068253e+14,\n",
       "        -2.63409408e+11, -5.58462608e+12, -1.44999642e+14,  2.02130075e+13,\n",
       "         2.00216706e+14,  3.83210589e+13, -3.22268980e+13, -1.24769581e+13]))"
      ]
     },
     "execution_count": 326,
     "metadata": {},
     "output_type": "execute_result"
    }
   ],
   "source": [
    "x  = np.linalg.pinv(A) @ b\n",
    "x_ = np.linalg.lstsq(A, b)[0]\n",
    "x, x_"
   ]
  },
  {
   "cell_type": "markdown",
   "metadata": {},
   "source": [
    "# $\\mathrm{SQ}(A)$と$\\mathrm{Q}(b)$を定義する．\n",
    "以下のセルで，`MatrixBasedDataStructure`を用いて行列に基づくデータ構造$\\SQ(A)$を用意します．$\\mathrm{Q}(b)$は$\\mathrm{Query}(i)$のみだけなので，`VectorBasedDataStructure`を使う必要はなく，`b`をそのまま使うだけで十分です．"
   ]
  },
  {
   "cell_type": "code",
   "execution_count": 327,
   "metadata": {},
   "outputs": [
    {
     "data": {
      "text/plain": [
       "(4, 0, 0.1109045131629001, 0.295949597594083, 1.019803902718557)"
      ]
     },
     "execution_count": 327,
     "metadata": {},
     "output_type": "execute_result"
    }
   ],
   "source": [
    "from quantum_inspired import MatrixBasedDataStructure\n",
    "\n",
    "SQA = MatrixBasedDataStructure(A)\n",
    "SQA.sample1(), SQA.sample2(0), SQA.query(0, 0), SQA.norm(0), SQA.normF()"
   ]
  },
  {
   "cell_type": "markdown",
   "metadata": {},
   "source": [
    "# 前のノートブックの復習\n",
    "前のノートブックで$C$の特異値分解までを実装しました．$\\mathrm{SQ}(A)$と$r,c$を渡すことで，$R$を表す行添字$i_0,i_1,\\dots,i_{r-1}$と$C$の左特異ベクトル$w^{(\\ell)}$と特異値$\\tilde{\\sigma}_\\ell$が返ってくることを再度確認します．"
   ]
  },
  {
   "cell_type": "code",
   "execution_count": 328,
   "metadata": {},
   "outputs": [
    {
     "name": "stdout",
     "output_type": "stream",
     "text": [
      "{i_0,...i_r-1} = \n",
      " [6, 4, 0, 7, 7, 7, 2, 6, 6, 3, 7, 0, 5, 7, 3, 7, 7, 5, 0, 7, 7, 7, 3, 4, 4, 0, 6, 0, 1, 1, 3, 7, 7, 7, 7, 7, 0, 7, 7, 7, 7, 7, 7, 6, 3, 7, 6, 0, 7, 4, 0, 7, 0, 7, 7, 6, 7, 7, 7, 5, 5, 7, 5, 3, 7, 7, 7, 5, 4, 7, 7, 6, 6, 7, 3, 0, 7, 7, 6, 7, 0, 7, 6, 3, 7, 4, 0, 7, 6, 5, 2, 3, 7, 4, 0, 7, 7, 3, 2, 2]\n",
      "Cの左特異ベクトル =\n",
      " [[-9.62349434e-02 -1.40487908e-01  9.62711239e-01 ...  1.74787269e-05\n",
      "  -4.65690811e-05  5.65984500e-02]\n",
      " [-1.00651819e-01 -5.46311690e-02 -1.20247501e-01 ...  1.38992743e-05\n",
      "  -3.70322412e-05 -1.12468396e-01]\n",
      " [-1.02089037e-01  1.35429170e-02 -4.05827031e-02 ...  1.27784174e-02\n",
      "   7.21935380e-03  1.06159137e-01]\n",
      " ...\n",
      " [-1.00968105e-01 -4.48551907e-02 -7.19961093e-03 ...  8.17095798e-04\n",
      "  -2.17701213e-03  1.93040947e-01]\n",
      " [-8.97552897e-02 -2.15625953e-01 -3.81545759e-02 ...  2.49380968e-03\n",
      "   2.97843657e-03 -1.29656744e-01]\n",
      " [-8.97552897e-02 -2.15625953e-01 -3.81545759e-02 ... -2.16336416e-03\n",
      "  -3.85885219e-03 -1.29656744e-01]]\n",
      "Cの特異値 =\n",
      " [1.00262240e+00 1.86408997e-01 1.50264660e-16 9.94695719e-17\n",
      " 9.94695719e-17 9.94695719e-17 9.94695719e-17 9.94695719e-17\n",
      " 9.94695719e-17 9.94695719e-17 9.94695719e-17 9.94695719e-17\n",
      " 9.94695719e-17 9.94695719e-17 9.94695719e-17 9.94695719e-17\n",
      " 9.94695719e-17 9.94695719e-17 9.94695719e-17 9.94695719e-17\n",
      " 9.94695719e-17 9.94695719e-17 9.94695719e-17 9.94695719e-17\n",
      " 9.94695719e-17 9.94695719e-17 9.94695719e-17 9.94695719e-17\n",
      " 9.94695719e-17 9.94695719e-17 9.94695719e-17 9.94695719e-17\n",
      " 9.94695719e-17 9.94695719e-17 9.94695719e-17 9.94695719e-17\n",
      " 9.94695719e-17 9.94695719e-17 9.94695719e-17 9.94695719e-17\n",
      " 9.94695719e-17 9.94695719e-17 9.94695719e-17 9.94695719e-17\n",
      " 9.94695719e-17 9.94695719e-17 9.94695719e-17 9.94695719e-17\n",
      " 9.94695719e-17 9.94695719e-17 9.94695719e-17 9.94695719e-17\n",
      " 9.94695719e-17 9.94695719e-17 9.94695719e-17 9.94695719e-17\n",
      " 9.94695719e-17 9.94695719e-17 9.94695719e-17 9.94695719e-17\n",
      " 9.94695719e-17 9.94695719e-17 9.94695719e-17 9.94695719e-17\n",
      " 9.94695719e-17 9.94695719e-17 9.94695719e-17 9.94695719e-17\n",
      " 9.94695719e-17 9.94695719e-17 9.94695719e-17 9.94695719e-17\n",
      " 9.94695719e-17 9.94695719e-17 9.94695719e-17 9.94695719e-17\n",
      " 9.94695719e-17 9.94695719e-17 9.94695719e-17 9.94695719e-17\n",
      " 9.94695719e-17 9.94695719e-17 9.94695719e-17 9.94695719e-17\n",
      " 9.94695719e-17 9.94695719e-17 9.94695719e-17 9.94695719e-17\n",
      " 9.94695719e-17 9.94695719e-17 9.94695719e-17 9.94695719e-17\n",
      " 9.94695719e-17 9.94695719e-17 9.94695719e-17 9.94695719e-17\n",
      " 9.94695719e-17 9.94695719e-17 9.94695719e-17 1.35067160e-17]\n"
     ]
    }
   ],
   "source": [
    "r, c = 100, 100\n",
    "row_indices, W, S = qi_svd(SQA, r, c)\n",
    "print(\"{i_0,...i_r-1} = \\n\", row_indices)\n",
    "print(\"Cの左特異ベクトル =\\n\", W)\n",
    "print(\"Cの特異値 =\\n\", S)"
   ]
  },
  {
   "cell_type": "markdown",
   "metadata": {},
   "source": [
    "# $\\mathrm{SQ}(x)$の$\\mathrm{Query}(k)$について\n",
    "\n",
    "### $R_{\\ast,k}$の構成\n",
    "$\\SQ(x)$の$\\mathrm{Query}(k)$，すなわち$x$の第$k$成分について考察します．\n",
    "ベクトル$x$の第$k$成分は次式のようにして書くことができます．\n",
    "$$\n",
    "x \\approx \\tilde{x}  = \\frac{1}{\\tilde{\\sigma}_k}  R_{\\ast, k}^\\top  w\n",
    "$$\n",
    "ここで\n",
    "$$\n",
    "w = \n",
    "\\frac{\\tilde{\\lambda}_1}{\\tilde{\\sigma}_1^3}\\tilde{w}^{(1)} + \\frac{\\tilde{\\lambda}_2}{\\tilde{\\sigma}_2^3}\\tilde{w}^{(2)}+ \\dots + \\frac{\\tilde{\\lambda}_r}{\\tilde{\\sigma}_r^3}\\tilde{w}^{(r)} \n",
    "$$\n",
    "です．$R$の$s$行目が\n",
    "$$\n",
    " R_{s,\\ast} = \\frac{\\lVert A \\rVert_\\mathrm{F}}{\\sqrt{r}} \\frac{A_{i_s,\\ast}}{\\lVert A_{i_s,\\ast}\\rVert}\n",
    "$$\n",
    "のように定義されたことを思い出すと，$R_{\\ast, k}$は次式のように書くことができます．\n",
    "$$\n",
    " R_{\\ast, k} = \\frac{\\lVert A \\rVert_\\mathrm{F}}{\\sqrt{r}} \n",
    " \\begin{bmatrix}\n",
    "     \\frac{A_{i_1, k}}{\\lVert A_{i_1,\\ast} \\rVert} \\\\\n",
    "     \\frac{A_{i_2, k}}{\\lVert A_{i_2,\\ast} \\rVert} \\\\\n",
    "     \\vdots \\\\\n",
    "     \\frac{A_{i_r, k}}{\\lVert A_{i_r,\\ast} \\rVert}\\\\\n",
    " \\end{bmatrix}\n",
    "$$\n",
    "まずは，この式に基づいて$R_{\\ast,k}$を構成する関数を下のセルで定義します："
   ]
  },
  {
   "cell_type": "code",
   "execution_count": 329,
   "metadata": {},
   "outputs": [],
   "source": [
    "def R_col(SQA, k, row_indices):\n",
    "    r = len(row_indices)\n",
    "    Rk = np.zeros(r)\n",
    "    for s in range(r):\n",
    "        i_s = row_indices[s]\n",
    "        Rk[s] = SQA.query(i_s, k)/SQA.norm(i_s)\n",
    "    return (SQA.normF()/math.sqrt(r)) * Rk"
   ]
  },
  {
   "cell_type": "markdown",
   "metadata": {},
   "source": [
    "$R_{\\ast,k}$が正しく作れているか確認してみます．"
   ]
  },
  {
   "cell_type": "code",
   "execution_count": 330,
   "metadata": {},
   "outputs": [
    {
     "name": "stdout",
     "output_type": "stream",
     "text": [
      "Rの第9列目:\n",
      " [0.01819629 0.03465237 0.03465237 0.02259931 0.03465237 0.03465237\n",
      " 0.03465237 0.01819629 0.03465237 0.01819629]\n",
      "R_*,9\n",
      " [0.01819629 0.03465237 0.03465237 0.02259931 0.03465237 0.03465237\n",
      " 0.03465237 0.01819629 0.03465237 0.01819629]\n"
     ]
    },
    {
     "data": {
      "text/plain": [
       "True"
      ]
     },
     "execution_count": 330,
     "metadata": {},
     "output_type": "execute_result"
    }
   ],
   "source": [
    "r, c = 10, 10\n",
    "row_indices, W, S = qi_svd(SQA, r, c)\n",
    "\n",
    "k = 9\n",
    "R  = construct_R(SQA, A, row_indices)\n",
    "Rk = R_col(SQA, k, row_indices)\n",
    "\n",
    "print(f\"Rの第{k}列目:\\n\", R[:,k])\n",
    "print(f\"R_*,{k}\\n\",Rk)\n",
    "np.allclose(R[:,k], Rk)"
   ]
  },
  {
   "cell_type": "markdown",
   "metadata": {},
   "source": [
    "### $\\tilde{\\lambda}_\\ell = \\mathrm{Tr}(A^\\dagger (b\\tilde{v}^{(\\ell) \\dagger}))$の推定\n",
    "次に$\\tilde{\\lambda}_\\ell= \\mathrm{Tr}(A^\\dagger (b\\tilde{v}^{(\\ell) \\dagger})) $を推定する関数を実装します．"
   ]
  },
  {
   "cell_type": "code",
   "execution_count": 331,
   "metadata": {},
   "outputs": [],
   "source": [
    "def estimate_lambda(SQA, b, row_indices, W, S, ell, sample_size=100):    \n",
    "    lam = 0\n",
    "    for _ in range(sample_size):\n",
    "        # A\n",
    "        i = SQA.sample1()\n",
    "        j = SQA.sample2(i)\n",
    "        Aij = SQA.query(i,j)\n",
    "\n",
    "        # B\n",
    "        Rj = R_col(SQA, j, row_indices) \n",
    "        vj = (1/S[ell]) * np.vdot(Rj, W[:, ell])\n",
    "        Bij = b[i]*vj\n",
    "\n",
    "        # Zij \n",
    "        Zij =  Bij/Aij \n",
    "        \n",
    "        lam += Zij\n",
    "    lam = lam/sample_size\n",
    "    return lam * SQA.normF()**2\n"
   ]
  },
  {
   "cell_type": "markdown",
   "metadata": {},
   "source": [
    "$\\lambda_\\ell$を推定できているか確認してみます："
   ]
  },
  {
   "cell_type": "code",
   "execution_count": 332,
   "metadata": {},
   "outputs": [
    {
     "name": "stdout",
     "output_type": "stream",
     "text": [
      "exact:\n",
      "λ0= -0.814616577964749\n",
      "λ1= -0.08231444269573662\n",
      "\n",
      "approximation:\n",
      "λ0= -0.8277991056224335\n",
      "λ1= 0.07071649370986763\n",
      "\n",
      "error:\n",
      "0.013182527657684573\n",
      "-0.15303093640560425\n"
     ]
    }
   ],
   "source": [
    "print(\"exact:\")\n",
    "exact_lambda0 = np.vdot(exact_V[:, 0], A.T @ b)\n",
    "exact_lambda1 = np.vdot(exact_V[:, 1], A.T @ b)\n",
    "print(\"λ0=\", exact_lambda0) \n",
    "print(\"λ1=\", exact_lambda1)\n",
    "\n",
    "print(\"\\napproximation:\")\n",
    "r, c = 100, 100\n",
    "row_indices, W, S = qi_svd(SQA, r, c)\n",
    "est_lambda0 = estimate_lambda(SQA, b, row_indices, W, S, 0, 100)\n",
    "est_lambda1 = estimate_lambda(SQA, b, row_indices, W, S, 1, 3000)\n",
    "print(\"λ0=\", est_lambda0)\n",
    "print(\"λ1=\", est_lambda1)\n",
    "\n",
    "print(\"\\nerror:\")\n",
    "print(exact_lambda0 - est_lambda0)\n",
    "print(exact_lambda1 - est_lambda1)\n",
    "# print((exact_lambda0 - est_lambda0)/exact_lambda0)\n",
    "# print((exact_lambda1 - est_lambda1)/exact_lambda1)"
   ]
  },
  {
   "cell_type": "markdown",
   "metadata": {},
   "source": [
    "### $w$を構成する．\n",
    "$\\tilde{\\lambda}_\\ell$を推定する関数を用いて，\n",
    "$$\n",
    "w = \n",
    "\\frac{\\tilde{\\lambda}_1}{\\tilde{\\sigma}_1^3}\\tilde{w}^{(1)} + \\frac{\\tilde{\\lambda}_2}{\\tilde{\\sigma}_2^3}\\tilde{w}^{(2)}+ \\dots + \\frac{\\tilde{\\lambda}_r}{\\tilde{\\sigma}_r^3}\\tilde{w}^{(r)} \n",
    "$$\n",
    "を構成する関数を以下のセルで定義します．"
   ]
  },
  {
   "cell_type": "code",
   "execution_count": 333,
   "metadata": {},
   "outputs": [],
   "source": [
    "def construct_w(SQA, b, row_indices, W, S, rank, lambda_sample_size=100):\n",
    "    lams = [0]*rank\n",
    "    for i in range(rank):        \n",
    "        lams[i] = estimate_lambda(SQA, b, row_indices, W, S, i, lambda_sample_size)\n",
    "    w = sum(lams[i] * W[:,i]/S[i]**3 for i in range(rank))\n",
    "        \n",
    "    return w"
   ]
  },
  {
   "cell_type": "markdown",
   "metadata": {},
   "source": [
    "$w$と`col_R`によって得られた$R_{\\ast,k}$と内積を取って，\n",
    "$\\tilde{x}_k = e_k^\\top R^\\top w = R_{\\ast,k}^\\top w$を計算する関数を下のセルで定義します．"
   ]
  },
  {
   "cell_type": "code",
   "execution_count": 334,
   "metadata": {},
   "outputs": [],
   "source": [
    "def SQx_query(SQA, k, row_indices, w):\n",
    "    Rk = R_col(SQA, k, row_indices)\n",
    "    return np.vdot(Rk, w)"
   ]
  },
  {
   "cell_type": "markdown",
   "metadata": {},
   "source": [
    "この関数`construct_w`を使って$w$を構成し，`SQx_query`と合わせて計算できているか確認してみます．"
   ]
  },
  {
   "cell_type": "code",
   "execution_count": 335,
   "metadata": {},
   "outputs": [
    {
     "name": "stdout",
     "output_type": "stream",
     "text": [
      "SQ(x) query(1) = 2.7297614080469628\n",
      "exact = 0.24009411071851006\n"
     ]
    }
   ],
   "source": [
    "r, c = 100, 100\n",
    "row_indices, W, S = qi_svd(SQA, r, c)\n",
    "w = construct_w(SQA, b, row_indices, W, S, 2, 1000)\n",
    "val = SQx_query(SQA, 1, row_indices, w)\n",
    "\n",
    "print(\"SQ(x) query(1) =\", val)\n",
    "print(\"exact =\", x[1])"
   ]
  },
  {
   "cell_type": "markdown",
   "metadata": {},
   "source": [
    "$\\tilde{x} = (x_0,\\dots,x_{n-1})$を構成し，$x = A^+b$と比較をしてみます．"
   ]
  },
  {
   "cell_type": "code",
   "execution_count": 336,
   "metadata": {
    "scrolled": false
   },
   "outputs": [
    {
     "name": "stdout",
     "output_type": "stream",
     "text": [
      "exact x:\n",
      " [ 0.56206703  0.24009411 -0.01203472  0.38808847 -0.51127657 -0.19467505\n",
      "  0.38614959 -0.69783124 -0.03046933 -0.37373618 -0.03402853  0.2976032\n",
      "  1.50894295  0.77235867 -0.56817388 -0.10994197]\n",
      "tilde x:\n",
      " [ 0.70117502  0.33562345  0.04355428  0.71526907 -0.79921548 -0.22163797\n",
      "  0.5080238  -0.88646637 -0.04591551 -0.56876387  0.03787303  0.45879089\n",
      "  2.15538181  0.98493529 -0.84373965 -0.16237684]\n",
      "relative error = 0.4247833106051156\n"
     ]
    }
   ],
   "source": [
    "r, c = 1000, 1000\n",
    "row_indices, W, S = qi_svd(SQA, r, c)\n",
    "w = construct_w(SQA, b, row_indices, W, S, 2, 1000)\n",
    "tilde_x = tilde_x = np.array([SQx_query(SQA, k, row_indices, w) for k in range(n)])\n",
    "print(\"exact x:\\n\", x)\n",
    "print(\"tilde x:\\n\", tilde_x)\n",
    "print(\"relative error =\", np.linalg.norm(tilde_x - x)/ np.linalg.norm(x))"
   ]
  },
  {
   "cell_type": "markdown",
   "metadata": {},
   "source": [
    "\n",
    "次に，$\\tilde{x}$と$x$との誤差がサンプリング数を増やすと減少することを確認してみます．"
   ]
  },
  {
   "cell_type": "code",
   "execution_count": 337,
   "metadata": {},
   "outputs": [
    {
     "name": "stderr",
     "output_type": "stream",
     "text": [
      "/Users/takahira/.pyenv/versions/anaconda3-5.3.1/lib/python3.7/site-packages/ipykernel_launcher.py:11: RuntimeWarning: divide by zero encountered in double_scalars\n",
      "  # This is added back by InteractiveShellApp.init_path()\n",
      "/Users/takahira/.pyenv/versions/anaconda3-5.3.1/lib/python3.7/site-packages/ipykernel_launcher.py:11: RuntimeWarning: invalid value encountered in double_scalars\n",
      "  # This is added back by InteractiveShellApp.init_path()\n"
     ]
    }
   ],
   "source": [
    "rs = [2**i for i in range(1, 10)]\n",
    "cs = [2**i for i in range(1, 10)]\n",
    "\n",
    "hist = []\n",
    "\n",
    "sample_size = 5\n",
    "\n",
    "for r, c in zip(rs, cs):\n",
    "    mean = 0\n",
    "    for _ in range(sample_size):\n",
    "        row_indices, W, S = qi_svd(SQA, r, c)\n",
    "        w = construct_w(SQA, b, row_indices, W, S, 2, 100)\n",
    "        tilde_x = np.array([SQx_query(SQA, k, row_indices, w) for k in range(n)])    \n",
    "        mean += np.linalg.norm(tilde_x - x)\n",
    "    mean = mean/sample_size\n",
    "    \n",
    "    hist.append(mean)"
   ]
  },
  {
   "cell_type": "code",
   "execution_count": 338,
   "metadata": {},
   "outputs": [
    {
     "name": "stdout",
     "output_type": "stream",
     "text": [
      "[nan, 97.59715359977743, 122.18443687222172, 25.702572270322047, 9.062091361330115, 4.018066440121322, 2.0314723297229538, 5.652620088169565, 4.154287290417791]\n"
     ]
    },
    {
     "data": {
      "image/png": "[encoded data removed]",
      "text/plain": [
       "<Figure size 576x432 with 1 Axes>"
      ]
     },
     "metadata": {
      "needs_background": "light"
     },
     "output_type": "display_data"
    }
   ],
   "source": [
    "print(hist)\n",
    "plt.figure(figsize=(8, 6))\n",
    "plt.plot(rs, hist, label=\"error\")\n",
    "plt.xlabel(\"r (sample size of row)\")\n",
    "plt.ylabel(r\"$||x - \\tilde{x}||$\")\n",
    "plt.xscale(\"log\")\n",
    "plt.yscale(\"log\")\n",
    "plt.legend()\n",
    "plt.show()"
   ]
  },
  {
   "cell_type": "markdown",
   "metadata": {},
   "source": [
    "# $\\mathrm{SQ}(x)$の$\\mathrm{Sample}()$について\n",
    "$\\mathrm{SQ}(x)$の$\\mathrm{Sample}()$について考察します．\n",
    "$\\mathrm{Sample}()$は下記の手順によって実現できることを思い出すと，次のセルのようにして実装できます．\n",
    "1. 確率$|w_s|^2/\\norm{w}^2$で$s$をサンプリングする．\n",
    "2. 確率$|A_{i_s,j}|^2/\\norm{A_{i_s,\\ast}^2}$で$j$をサンプリングする\n",
    "3. \n",
    "$\n",
    " r_j = \\frac{|\\tilde{x}_j|^2}{\\norm{A}_\\mathrm{F}^2 \\sum_{s=0}^{r-1}(w_s A_{i_s, j}/\\norm{A_{i_s,\\ast}})^2} \n",
    "$\n",
    "を計算する．\n",
    "4. 0から1の一様乱数$y$を生成し，$y < r_j$ならば「受理」として$j$を出力，$y \\ge r_j$ならば1から再スタートする．\n"
   ]
  },
  {
   "cell_type": "code",
   "execution_count": 339,
   "metadata": {},
   "outputs": [],
   "source": [
    "def SQx_sample(SQA, w, row_indices, W, S):\n",
    "    r = len(w)\n",
    "\n",
    "    normw2 = np.linalg.norm(w)**2\n",
    "    prob_   = [w[s]**2/normw2 for s in range(r)]\n",
    "    \n",
    "    accept = False\n",
    "    while not accept : \n",
    "        \n",
    "        # 提案分布\n",
    "        s_ = np.random.choice(range(r), 1, p=prob_)[0]   \n",
    "        i_s = row_indices[s_]\n",
    "        j = SQA.sample2(i_s)\n",
    "\n",
    "        xj = x[j]\n",
    "        # xj = SQx_query(SQA, j, row_indices, w)\n",
    "\n",
    "        # rj を計算する\n",
    "        temp = 0\n",
    "        for s in range(r):\n",
    "            i_s = row_indices[s]\n",
    "            temp += (w[s] * SQA.query(i_s, j)/SQA.norm(i_s))**2\n",
    "        rj = xj**2 / (SQA.normF()**2 * temp)\n",
    "        \n",
    "        y = random.random()\n",
    "        if y < rj : \n",
    "            accept = True\n",
    "            \n",
    "    return j\n"
   ]
  },
  {
   "cell_type": "markdown",
   "metadata": {},
   "source": [
    "上記の関数の出力結果が確率分布$D_x (\\Pr(j) = |x_j|^2/\\norm{x}^2)$に従うか確認してみます："
   ]
  },
  {
   "cell_type": "code",
   "execution_count": 340,
   "metadata": {},
   "outputs": [],
   "source": [
    "x = np.linalg.pinv(A) @ b\n",
    "normx = np.linalg.norm(x, 2)\n",
    "Dx = [abs(x[i])**2/normx**2 for i in range(n)]"
   ]
  },
  {
   "cell_type": "code",
   "execution_count": 359,
   "metadata": {},
   "outputs": [
    {
     "name": "stdout",
     "output_type": "stream",
     "text": [
      "[-2.44944961e-02  1.82318161e-02 -2.95677380e-05 -1.07473660e-02\n",
      "  2.66347903e-02  2.26309900e-03  2.95590923e-02  4.05860693e-02\n",
      " -1.89527447e-04  1.48477986e-03 -2.36392039e-04  1.91903462e-03\n",
      " -4.48277788e-02 -2.17823883e-02 -1.59035723e-02 -2.46759274e-03]\n"
     ]
    }
   ],
   "source": [
    "r, c = 1000, 1000\n",
    "row_indices, W, S = qi_svd(SQA, r, c)\n",
    "w  = construct_w(SQA, b, row_indices, W, S, 2, 1000)\n",
    "\n",
    "num_shots = 100\n",
    "\n",
    "counts = np.zeros(n)\n",
    "for _ in range(num_shots):\n",
    "    i = SQx_sample(SQA, w, row_indices, W, S) \n",
    "    counts[i] += 1\n",
    "\n",
    "print(counts/num_shots - Dx)"
   ]
  },
  {
   "cell_type": "code",
   "execution_count": 360,
   "metadata": {},
   "outputs": [
    {
     "data": {
      "text/plain": [
       "0.08385930314180226"
      ]
     },
     "execution_count": 360,
     "metadata": {},
     "output_type": "execute_result"
    }
   ],
   "source": [
    "np.linalg.norm(counts/num_shots - Dx)"
   ]
  },
  {
   "cell_type": "code",
   "execution_count": 361,
   "metadata": {},
   "outputs": [
    {
     "data": {
      "image/png": "[encoded data removed]",
      "text/plain": [
       "<Figure size 576x432 with 1 Axes>"
      ]
     },
     "metadata": {
      "needs_background": "light"
     },
     "output_type": "display_data"
    }
   ],
   "source": [
    "plt.figure(figsize=(8,6))\n",
    "plt.bar(range(n), counts/num_shots, alpha=0.7, label=\"SQ(x).sample()\")\n",
    "plt.bar(range(n), Dx,               alpha=0.6, label=\"exact\")\n",
    "plt.legend()\n",
    "plt.show()"
   ]
  },
  {
   "cell_type": "markdown",
   "metadata": {},
   "source": [
    "サンプル数($\\SQ(x)$の$\\mathrm{Sample}()$の呼び出し回数)を増やしてみて，誤差が小さくなっていくことを確認してみます．一様ランダムにサンプリングした時の結果と比べてみてみます．"
   ]
  },
  {
   "cell_type": "code",
   "execution_count": 377,
   "metadata": {},
   "outputs": [],
   "source": [
    "import random\n",
    "r, c = 1000, 1000\n",
    "row_indices, W, S = qi_svd(SQA, r, c)\n",
    "w  = construct_w(SQA, b, row_indices, W, S, 2, 100)\n",
    "\n",
    "# print(sample_size, np.linalg.norm(counts/sample_size - Dx))\n",
    "\n",
    "# ---------------------------------------------\n",
    "\n",
    "hist_uniform = []\n",
    "hist_sqxsample = []\n",
    "\n",
    "for num_shots in [2**i for i in range(1, 10)]:\n",
    "\n",
    "    counts_uniform = np.zeros(n)\n",
    "    counts_sqxsample = np.zeros(n)\n",
    "\n",
    "    for _ in range(num_shots):\n",
    "        i = random.randint(0, n-1) \n",
    "        counts_uniform[i] += 1\n",
    "\n",
    "        i = SQx_sample(SQA, w, row_indices, W, S) \n",
    "        counts_sqxsample[i] += 1\n",
    "        \n",
    "    hist_uniform.append(np.linalg.norm(Dx - counts_uniform/num_shots, 1))\n",
    "    hist_sqxsample.append(np.linalg.norm(Dx - counts_sqxsample/num_shots, 1))"
   ]
  },
  {
   "cell_type": "code",
   "execution_count": 378,
   "metadata": {},
   "outputs": [
    {
     "data": {
      "text/plain": [
       "([1.9795910125325353,\n",
       "  1.6622353292156404,\n",
       "  1.3547666985631897,\n",
       "  1.1870388605763613,\n",
       "  1.1913553402015982,\n",
       "  1.0010371877093074,\n",
       "  1.0439231955997017,\n",
       "  1.1145747517724383,\n",
       "  1.0117505823112038],\n",
       " [1.034182511612626,\n",
       "  0.8715165809975999,\n",
       "  0.9047856800927231,\n",
       "  0.5029914086335496,\n",
       "  0.2998524229877776,\n",
       "  0.25527245627203365,\n",
       "  0.13967943369629343,\n",
       "  0.11513034359018359,\n",
       "  0.13477077353680234])"
      ]
     },
     "execution_count": 378,
     "metadata": {},
     "output_type": "execute_result"
    }
   ],
   "source": [
    "hist_uniform, hist_sqxsample"
   ]
  },
  {
   "cell_type": "code",
   "execution_count": 383,
   "metadata": {},
   "outputs": [
    {
     "data": {
      "image/png": "[encoded data removed]",
      "text/plain": [
       "<Figure size 576x432 with 1 Axes>"
      ]
     },
     "metadata": {
      "needs_background": "light"
     },
     "output_type": "display_data"
    }
   ],
   "source": [
    "plt.figure(figsize=(8, 6))\n",
    "plt.plot(range(1, 10), hist_uniform, label=\"uniform\")\n",
    "plt.plot(range(1, 10), hist_sqxsample, label=\"SQ(x) sample()\")\n",
    "\n",
    "plt.xlabel(\"sample size\")\n",
    "plt.ylabel(r\"error\")\n",
    "plt.xscale(\"log\")\n",
    "plt.yscale(\"log\")\n",
    "plt.legend()\n",
    "plt.show()"
   ]
  },
  {
   "cell_type": "markdown",
   "metadata": {},
   "source": [
    "# $\\mathrm{SQ}(x)$の$\\mathrm{Norm}()$について\n",
    "## 棄却サンプリングの受理確率の推定\n",
    "$\\mathrm{SQ}(x)$の$\\mathrm{Norm}()$について実装します．\n",
    "$\\mathrm{Sample}()$における棄却サンプリングの「受理」する確率は\n",
    "$$\n",
    " \\frac{\\norm{\\tilde{x}}^2}{\\norm{A}_\\mathrm{F}^2 \\norm{w}^2}\n",
    "$$\n",
    "です．したがって，ノルム$\\norm{x}$の推定は，受理する確率を推定し，$\\norm{A}_\\mathrm{F}^2\\norm{w}^2$を掛ければ良いことがわかります．\n",
    "実装は下記のようになります．"
   ]
  },
  {
   "cell_type": "code",
   "execution_count": 384,
   "metadata": {},
   "outputs": [],
   "source": [
    "def _SQx_norm(SQA, w, row_indices):\n",
    "    r = len(w)\n",
    "\n",
    "    normw2 = np.linalg.norm(w)**2\n",
    "    prob_   = [w[s]**2/normw2 for s in range(r)]\n",
    "    \n",
    "    s   = np.random.choice(range(r), 1, p=prob_)[0]   \n",
    "    i_s = row_indices[s]\n",
    "    j   = SQA.sample2(i_s)\n",
    "\n",
    "    xj = x[j]\n",
    "    # xj =  SQx_query(SQA, j, row_indices, w)\n",
    "    \n",
    "    \n",
    "    temp = 0\n",
    "    for s in range(r):\n",
    "        i_s = row_indices[s]\n",
    "        temp += (w[s] * SQA.query(i_s, j)/SQA.norm(i_s))**2\n",
    "    rj = xj**2 / (SQA.normF()**2 * temp)\n",
    "\n",
    "    y = random.random()\n",
    "    if y < rj : \n",
    "        return 1\n",
    "    else:\n",
    "        return 0\n",
    "\n",
    "def SQx_norm(SQA, w, row_indices, norm_sample_size=100):\n",
    "    normw2 = np.linalg.norm(w)**2\n",
    "    normAF2 = SQA.normF()**2\n",
    "    cnt = sum(_SQx_norm(SQA, w, row_indices) for _ in range(norm_sample_size))\n",
    "    val = cnt/norm_sample_size\n",
    "    return math.sqrt(val * normAF2 * normw2)\n",
    "    "
   ]
  },
  {
   "cell_type": "code",
   "execution_count": 385,
   "metadata": {},
   "outputs": [
    {
     "data": {
      "text/plain": [
       "(1.4765651816322898, 2.213231199352785)"
      ]
     },
     "execution_count": 385,
     "metadata": {},
     "output_type": "execute_result"
    }
   ],
   "source": [
    "r, c, = 1000, 1000\n",
    "row_indices, W, S = qi_svd(SQA, r, c)\n",
    "w  = construct_w(SQA, b, row_indices, W, S, 2, 1000)\n",
    "SQx_norm(SQA, w, row_indices, 100), np.linalg.norm(x)"
   ]
  },
  {
   "cell_type": "code",
   "execution_count": 390,
   "metadata": {},
   "outputs": [
    {
     "data": {
      "text/plain": [
       "[0.0,\n",
       " 4.546617386600984,\n",
       " 3.9374861580844662,\n",
       " 1.6074719927631071,\n",
       " 1.9687430790422331,\n",
       " 2.273308693300492,\n",
       " 1.9687430790422331,\n",
       " 2.343272965528198,\n",
       " 2.237506318888447,\n",
       " 2.2193885606357435]"
      ]
     },
     "execution_count": 390,
     "metadata": {},
     "output_type": "execute_result"
    }
   ],
   "source": [
    "r, c, = 1000, 1000\n",
    "row_indices, W, S = qi_svd(SQA, r, c)\n",
    "w  = construct_w(SQA, b, row_indices, W, S, 2, 1000)\n",
    "\n",
    "hist = []\n",
    "\n",
    "for sample_size in [2**i for i in range(2, 12)]:\n",
    "    val = SQx_norm(SQA, w, row_indices, sample_size)\n",
    "    hist.append(val)\n",
    "\n",
    "hist"
   ]
  },
  {
   "cell_type": "markdown",
   "metadata": {},
   "source": [
    "# まとめ\n",
    "$\\mathrm{SQ}(x)$の$\\mathrm{Query}(), \\mathrm{Sample}(), \\mathrm{Norm}()$について実装しました．最後にクラスを使ってまとめます．\n",
    "<!-- 各関数で$w$(`w`)や$i_0,\\dots,i_{r-1}$(`row_indices`)など共通した引数がありました．そこでクラスを -->"
   ]
  },
  {
   "cell_type": "code",
   "execution_count": 393,
   "metadata": {},
   "outputs": [],
   "source": [
    "class SQx:\n",
    "    def __init__(self, SQA, b, r, c, rank=2, lambda_sample_size=100):   \n",
    "        self.SQA = SQA\n",
    "        self.r, self.c = r, c\n",
    "        self.row_indices, self.W, self.S = qi_svd(SQA, r, c)\n",
    "        self.w = construct_w(SQA, b, self.row_indices, self.W, self.S, \n",
    "                             rank=2, lambda_sample_size=100)\n",
    "        \n",
    "    def sample(self):\n",
    "        return SQx_sample(self.SQA, self.b, self.w, self.row_indices, self.W, self.S)\n",
    "    \n",
    "    def query(self, k):\n",
    "        return SQx_query(self.SQA, k, self.row_indices, self.w)\n",
    "    \n",
    "    def norm(self, norm_sample_size):\n",
    "        return SQx_norm(self.SQA, self.w, self.row_indices, norm_sample_size)"
   ]
  },
  {
   "cell_type": "markdown",
   "metadata": {},
   "source": [
    "# 参考文献\n",
    "- András Gilyén, Seth Lloyd, and Ewin Tang, ''Quantum-inspired low-rank stochastic regression with logarithmic dependence on the dimension,'' arXiv:1811.04909, (2018). https://arxiv.org/abs/1811.04909\n",
    "\n",
    "- Ewin Tang. 2019. A quantum-inspired classical algorithm for recommendation systems. In Proceedings of the 51st Annual ACM SIGACT Symposium on Theory of Computing (STOC 2019). Association for Computing Machinery, New York, NY, USA, 217–228. https://doi.org/10.1145/3313276.3316310\n",
    "\n",
    "# 補足\n",
    "## サンプルサイズについて\n",
    "サンプルサイズ$r,c$の値を以下のように設定すると，少なくとも$1-\\eta$以上の確率で$\\lVert \\tilde{x} - x \\rVert \\le \\epsilon \\lVert A^+b \\rVert$を満たすような$SQ(\\tilde{x})$を得ることができます(https://arxiv.org/abs/1811.04909 のAlgorithm 1の**Init.**より)．\n",
    "$$\n",
    " r = 2^{10}\\ln\\left(\\frac{8n}{\\eta}\\right)\\frac{\\kappa^4k^2\\lVert A\\rVert_F^2}{\\epsilon^2} \n",
    " \\quad \n",
    " c = 2^6 \\cdot 3^4 \\ln\\left(\\frac{8r}{\\eta}\\right)\\frac{\\kappa^8 k^2 \\lVert A \\rVert_F^2}{\\epsilon^2}\n",
    "$$\n",
    "この$r,c$の値は大きくなりますが，$m$や$n$が非常に大きい場合は，相対的にみて小さくなります．"
   ]
  },
  {
   "cell_type": "code",
   "execution_count": 397,
   "metadata": {},
   "outputs": [
    {
     "name": "stdout",
     "output_type": "stream",
     "text": [
      "行列サイズ = 1.000000e+200 x 1.000000e+200\n",
      "ランク = 100\n",
      "フロべニウスノルム = 1000\n",
      "成功確率 = 0.99\n",
      "条件数 = 20\n",
      "精度   = 0.01\n",
      "\n",
      "r = 7.654631511269e+24\n",
      "c = 1.8038484623993326e+29\n",
      "r^2c =  1.0569358486549376e+79\n"
     ]
    }
   ],
   "source": [
    "n, kappa, k, normAF = 10**200, 20, 100, 1000\n",
    "eta, eps = 0.01, 0.01\n",
    "print(\"行列サイズ = %e x %e\" % (n, n))\n",
    "print(\"ランク =\", k)\n",
    "print(\"フロべニウスノルム =\", normAF)\n",
    "print(\"成功確率 =\", 1-eta)\n",
    "print(\"条件数 =\", kappa)\n",
    "print(\"精度   =\", eps)\n",
    "print()\n",
    "r_ = 2**10 * math.log(8*n/eta) * (kappa**4 * k**2 * normAF**2)/eps**2\n",
    "c_ = 2**6  * 3**4 * math.log(8*r/eta) * (kappa**8 * k**2 * normAF**2)/eps**2\n",
    "print(\"r =\", r_)\n",
    "print(\"c =\", c_)\n",
    "print(\"r^2c = \", r_**2 * c_)"
   ]
  },
  {
   "cell_type": "code",
   "execution_count": null,
   "metadata": {},
   "outputs": [],
   "source": []
  }
 ],
 "metadata": {
  "kernelspec": {
   "display_name": "Python 3 (ipykernel)",
   "language": "python",
   "name": "python3"
  },
  "language_info": {
   "codemirror_mode": {
    "name": "ipython",
    "version": 3
   },
   "file_extension": ".py",
   "mimetype": "text/x-python",
   "name": "python",
   "nbconvert_exporter": "python",
   "pygments_lexer": "ipython3",
   "version": "3.10.8"
  }
 },
 "nbformat": 4,
 "nbformat_minor": 4
}
