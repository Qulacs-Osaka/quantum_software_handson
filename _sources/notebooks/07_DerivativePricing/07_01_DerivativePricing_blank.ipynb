{
 "cells": [
  {
   "cell_type": "code",
   "execution_count": 1,
   "metadata": {},
   "outputs": [
    {
     "name": "stdout",
     "output_type": "stream",
     "text": [
      "Requirement already satisfied: numpy in c:\\users\\koich\\anaconda3\\lib\\site-packages (1.20.3)"
     ]
    },
    {
     "name": "stderr",
     "output_type": "stream",
     "text": [
      "WARNING: You are using pip version 21.3.1; however, version 23.2.1 is available.\n",
      "You should consider upgrading via the 'c:\\users\\koich\\anaconda3\\python.exe -m pip install --upgrade pip' command.\n"
     ]
    },
    {
     "name": "stdout",
     "output_type": "stream",
     "text": [
      "\n",
      "Requirement already satisfied: matplotlib in c:\\users\\koich\\anaconda3\\lib\\site-packages (3.3.2)\n",
      "Requirement already satisfied: certifi>=2020.06.20 in c:\\users\\koich\\anaconda3\\lib\\site-packages (from matplotlib) (2021.10.8)\n",
      "Requirement already satisfied: kiwisolver>=1.0.1 in c:\\users\\koich\\anaconda3\\lib\\site-packages (from matplotlib) (1.3.0)"
     ]
    },
    {
     "name": "stderr",
     "output_type": "stream",
     "text": [
      "WARNING: You are using pip version 21.3.1; however, version 23.2.1 is available.\n",
      "You should consider upgrading via the 'c:\\users\\koich\\anaconda3\\python.exe -m pip install --upgrade pip' command.\n"
     ]
    },
    {
     "name": "stdout",
     "output_type": "stream",
     "text": [
      "\n",
      "Requirement already satisfied: pyparsing!=2.0.4,!=2.1.2,!=2.1.6,>=2.0.3 in c:\\users\\koich\\anaconda3\\lib\\site-packages (from matplotlib) (2.4.7)\n",
      "Requirement already satisfied: numpy>=1.15 in c:\\users\\koich\\anaconda3\\lib\\site-packages (from matplotlib) (1.20.3)\n",
      "Requirement already satisfied: pillow>=6.2.0 in c:\\users\\koich\\anaconda3\\lib\\site-packages (from matplotlib) (9.0.1)\n",
      "Requirement already satisfied: cycler>=0.10 in c:\\users\\koich\\anaconda3\\lib\\site-packages (from matplotlib) (0.10.0)\n",
      "Requirement already satisfied: python-dateutil>=2.1 in c:\\users\\koich\\anaconda3\\lib\\site-packages (from matplotlib) (2.8.1)\n",
      "Requirement already satisfied: six in c:\\users\\koich\\anaconda3\\lib\\site-packages (from cycler>=0.10->matplotlib) (1.15.0)\n",
      "Requirement already satisfied: qulacs in c:\\users\\koich\\anaconda3\\lib\\site-packages (0.6.1)\n",
      "Requirement already satisfied: scipy in c:\\users\\koich\\anaconda3\\lib\\site-packages (from qulacs) (1.9.2)\n",
      "Requirement already satisfied: numpy in c:\\users\\koich\\anaconda3\\lib\\site-packages (from qulacs) (1.20.3)\n"
     ]
    },
    {
     "name": "stderr",
     "output_type": "stream",
     "text": [
      "WARNING: You are using pip version 21.3.1; however, version 23.2.1 is available.\n",
      "You should consider upgrading via the 'c:\\users\\koich\\anaconda3\\python.exe -m pip install --upgrade pip' command.\n"
     ]
    }
   ],
   "source": [
    "!pip install numpy\n",
    "!pip install matplotlib\n",
    "!pip install qulacs"
   ]
  },
  {
   "cell_type": "code",
   "execution_count": 2,
   "metadata": {},
   "outputs": [],
   "source": [
    "import numpy as np\n",
    "import itertools as it\n",
    "import matplotlib.pyplot as plt\n",
    "from qulacs import QuantumState, QuantumCircuit, Observable\n",
    "from qulacs.gate import Z, RY, merge, DenseMatrix, Identity\n",
    "from Adder import add_adder_gate\n",
    "from Subtracter import add_subtracter_gate\n",
    "from ConstSetter import add_const_setter_gate, add_ctrl_const_setter_gate"
   ]
  },
  {
   "cell_type": "markdown",
   "metadata": {},
   "source": [
    "# QAE を用いたデジタルオプションプライシング"
   ]
  },
  {
   "cell_type": "code",
   "execution_count": 3,
   "metadata": {},
   "outputs": [],
   "source": [
    "np.random.seed(1) #乱数のseedを設定"
   ]
  },
  {
   "cell_type": "code",
   "execution_count": 4,
   "metadata": {},
   "outputs": [],
   "source": [
    "# 時点数\n",
    "numTimeStep = 2\n",
    "\n",
    "# 各時点での原資産価格の上昇・下落確率を表すqubitのインデックス\n",
    "pIds = [0, 1]\n",
    "\n",
    "# 上昇確率\n",
    "pUps = [0.4, 0.4]\n",
    "\n",
    "# 上昇・下落幅\n",
    "deltaUdl = 1\n",
    "\n",
    "# デジタルオプションの閾値\n",
    "th = 4\n",
    "\n",
    "# 原資産価格初期値\n",
    "udlIni = 2"
   ]
  },
  {
   "cell_type": "code",
   "execution_count": 5,
   "metadata": {},
   "outputs": [],
   "source": [
    "# 計算に要する桁数\n",
    "digit = 3\n",
    "\n",
    "# 原資産価格を保持するレジスタのqubitのインデックス\n",
    "# digitに加え一桁余分に確保しておく（last qubitがQAEのターゲットになる）\n",
    "udlResIdStart = pIds[-1] + 1\n",
    "udlResIdEnd = udlResIdStart + digit\n",
    "udlResIds = list(range(udlResIdStart, udlResIdEnd + 1))\n",
    "qaeTargetId = udlResIdEnd\n",
    "\n",
    "# 原資産価格レジスタに加える値を一時的に保持するレジスタ\n",
    "tempResIdStart = udlResIdEnd + 1\n",
    "tempResIdEnd = tempResIdStart + digit - 1\n",
    "tempResIds = list(range(tempResIdStart, tempResIdEnd + 1))\n",
    "\n",
    "# 繰り上がり用レジスタ\n",
    "carryResIdStart = tempResIdEnd + 1\n",
    "carryResIdEnd = carryResIdStart + digit - 1\n",
    "carryResIds = list(range(carryResIdStart, carryResIdEnd + 1))\n",
    "\n",
    "# 総qubit数\n",
    "totQubitNum = carryResIdEnd + 1\n",
    "\n",
    "# 全qubit index\n",
    "idsAll = list(range(totQubitNum))"
   ]
  },
  {
   "cell_type": "code",
   "execution_count": 6,
   "metadata": {},
   "outputs": [],
   "source": [
    "### 原資産価格を計算し、閾値以上か否かを判定する回路を、QuantumCircuit gとして構成していく\n",
    "g = QuantumCircuit(totQubitNum)\n",
    "\n",
    "### 原資産価格初期値をセット\n",
    "add_const_setter_gate(g, udlIni, udlResIds)\n",
    "\n",
    "### 上昇・下落確率を指定のqubitの|1>のamplitudeとして埋め込み\n",
    "for i in range(numTimeStep):\n",
    "    pGate_i = 問１# 注：時点t=1,2での上昇・下落確率を示す量子ビットのインデックスはpIds[0],pIds[1]\n",
    "    g.add_gate(pGate_i)\n",
    "\n",
    "### 原資産価格の増減をtemporary registerにセットし、原資産価格レジスタに足す\n",
    "for i in range(numTimeStep):\n",
    "    # 上昇の場合\n",
    "    add_ctrl_const_setter_gate(g, deltaUdl, pIds[i], tempResIds, True) # 上昇額をtemporary registerにセット\n",
    "    add_adder_gate(g, tempResIds, udlResIds, carryResIds) # 原資産価格レジスタに加える\n",
    "    add_ctrl_const_setter_gate(g, deltaUdl, pIds[i], tempResIds, True) # temporary registerをリセット\n",
    "    \n",
    "    # 下落の場合\n",
    "    add_ctrl_const_setter_gate(g, deltaUdl, pIds[i], tempResIds, False) # 下落額temporary registerにセット\n",
    "    add_subtracter_gate(g, tempResIds, udlResIds, carryResIds) # 原資産価格レジスタから減ずる\n",
    "    add_ctrl_const_setter_gate(g, deltaUdl, pIds[i], tempResIds, False) # temporary registerをリセット\n",
    "    \n",
    "### 原資産価格が閾値以上となっているか否かのチェック\n",
    "# 閾値の2の補数（原資産価格レジスタにこれを足して最上位ビットが1となる⇔原資産価格が閾値以上）\n",
    "twosComplTh = (th^(2 ** digit - 1)) + 1\n",
    "add_const_setter_gate(g, twosComplTh, tempResIds) # temporary registerに閾値の2の補数をセット\n",
    "add_adder_gate(g, tempResIds, udlResIds, carryResIds) # 閾値の2の補数を原資産価格レジスタに足す"
   ]
  },
  {
   "cell_type": "code",
   "execution_count": 7,
   "metadata": {},
   "outputs": [],
   "source": [
    "### gの逆回路\n",
    "gInv = g.get_inverse()"
   ]
  },
  {
   "cell_type": "code",
   "execution_count": 8,
   "metadata": {},
   "outputs": [],
   "source": [
    "### QAEに必要なゲート\n",
    "# QAE target qubitが|1>なら-1倍するゲート\n",
    "# 即ち、当該qubitに対するZ gate\n",
    "targetStateFlip = 問２ # 注：target qubitのインデックスはqaeTargetId\n",
    "\n",
    "# |0...0>を-1倍するゲート\n",
    "# DenseMatrixで生成\n",
    "flipIfAll0 = DenseMatrix(idsAll, np.diag([-1 if i == 0 else 1 for i in range(2 ** totQubitNum)]))\n",
    "\n",
    "# Grover operator\n",
    "grover = QuantumCircuit(totQubitNum)\n",
    "grover.add_gate(targetStateFlip)\n",
    "grover.merge_circuit(gInv)\n",
    "grover.add_gate(flipIfAll0)\n",
    "grover.merge_circuit(g)"
   ]
  },
  {
   "cell_type": "code",
   "execution_count": 9,
   "metadata": {},
   "outputs": [],
   "source": [
    "### QAEの設定\n",
    "mMax = 4 # Grover operatorを2^mMax回まで作用\n",
    "groverNums = np.array([0] + [2 ** i for i in range(mMax + 1)]) # Grover operatorの作用回数(0, 2^1, 2^2,...)\n",
    "nShot = 1000 # 1つの作用回数のパターンに対する観測回数\n",
    "\n",
    "# 尤度関数の最大点候補（[0, 0.5]を100000等分して網羅探索）\n",
    "numPoints = 100000\n",
    "thetas = 0.5 / numPoints * np.array(range(numPoints + 1))"
   ]
  },
  {
   "cell_type": "code",
   "execution_count": 10,
   "metadata": {},
   "outputs": [],
   "source": [
    "### QAE\n",
    "# オブサーバブルzTgtの定義（QAE target qubitのZ）\n",
    "obs = Observable(totQubitNum)\n",
    "obs.add_operator(1, 'Z ' + str(qaeTargetId))\n",
    "\n",
    "# 状態の生成・初期化\n",
    "state = QuantumState(totQubitNum)\n",
    "state.set_zero_state()\n",
    "\n",
    "# gを一回作用させた状態|Ψ>\n",
    "# これのtarget qubitを測定して1を得る確率 ＝ 求めたい確率（「原資産価格≧閾値」となる確率）\n",
    "g.update_quantum_state(state)\n",
    "\n",
    "# Groverの作用回数を色々と変えたとき、それぞれの下で「1を得る回数」のサンプル値を格納するリスト\n",
    "n1s = []\n",
    "\n",
    "for i in range(len(groverNums)):\n",
    "    groverNumAdd = groverNums[0] if i == 0 else groverNums[i] - groverNums[i - 1] # 追加の作用回数\n",
    "    for j in range(groverNumAdd): grover.update_quantum_state(state) # その回数だけGrover operatorを作用\n",
    "    prob1 = 0.5 * (1.0 - obs.get_expectation_value(state)) # target qubitに1を得る確率\n",
    "    n1 = np.random.binomial(nShot, prob1) # 1を得る回数のサンプル値\n",
    "    n1s.append(n1)"
   ]
  },
  {
   "cell_type": "code",
   "execution_count": 11,
   "metadata": {},
   "outputs": [],
   "source": [
    "### 対数尤度関数の定義\n",
    "def liklihood(theta, i): # i: Groverの作用回数m0,m1,...,miに対する試行を勘案\n",
    "    \n",
    "    ret = 0.0\n",
    "    \n",
    "    for j in range(i + 1):\n",
    "        pSq = np.sin((2.0 * groverNums[j] + 1) * np.pi * theta)\n",
    "        p = pSq * pSq\n",
    "        ret += n1s[j] * np.log(p) + (nShot - n1s[j]) * np.log(1.0 - p)\n",
    "        \n",
    "    return ret"
   ]
  },
  {
   "cell_type": "code",
   "execution_count": 12,
   "metadata": {},
   "outputs": [
    {
     "name": "stderr",
     "output_type": "stream",
     "text": [
      "<ipython-input-11-964349f68839>:9: RuntimeWarning: divide by zero encountered in log\n",
      "  ret += n1s[j] * np.log(p) + (nShot - n1s[j]) * np.log(1.0 - p)\n"
     ]
    }
   ],
   "source": [
    "### 各試行における最尤点\n",
    "thetaMaxLiks = np.array([thetas[np.argmax([liklihood(th, i) for th in thetas])] for i in range(len(groverNums))])\n",
    "\n",
    "### 各試行における求めたい確率の推定値\n",
    "estimates = np.power(np.sin(thetaMaxLiks * np.pi), 2)"
   ]
  },
  {
   "cell_type": "code",
   "execution_count": 13,
   "metadata": {},
   "outputs": [
    {
     "data": {
      "image/png": "[encoded data removed]",
      "text/plain": [
       "<Figure size 432x288 with 1 Axes>"
      ]
     },
     "metadata": {
      "needs_background": "light"
     },
     "output_type": "display_data"
    }
   ],
   "source": [
    "### Groverの作用回数と誤差のグラフ\n",
    "pTrue = 0.16 # 求めたい確率の真の値\n",
    "errs = np.abs(np.array(estimates) - pTrue) # 推定値との真の値の乖離\n",
    "gCallNums = list(it.accumulate((2 * groverNums + 1) * nShot)) # 回路gおよびその逆を呼んだ回数\n",
    "plt.xlabel('number of calls to g')\n",
    "plt.ylabel('error')\n",
    "\n",
    "# 描画\n",
    "ax = plt.gca()\n",
    "ax.set_xscale('log')\n",
    "ax.set_yscale('log')\n",
    "plt.plot(gCallNums, errs, label=\"error\", marker=\"o\")\n",
    "\n",
    "# 比較のためにy=1/xを書く\n",
    "plt.plot(gCallNums, 3.0 / np.array(gCallNums), label=\"∝ 1/x for comparison\")\n",
    "\n",
    "ax.legend()\n",
    "plt.show()"
   ]
  }
 ],
 "metadata": {
  "kernelspec": {
   "display_name": "Python 3",
   "language": "python",
   "name": "python3"
  },
  "language_info": {
   "codemirror_mode": {
    "name": "ipython",
    "version": 3
   },
   "file_extension": ".py",
   "mimetype": "text/x-python",
   "name": "python",
   "nbconvert_exporter": "python",
   "pygments_lexer": "ipython3",
   "version": "3.8.5"
  }
 },
 "nbformat": 4,
 "nbformat_minor": 4
}
