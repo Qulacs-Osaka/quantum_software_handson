{
 "cells": [
  {
   "cell_type": "code",
   "execution_count": 1,
   "metadata": {},
   "outputs": [],
   "source": [
    "!pip install numpy\n",
    "!pip install matplotlib\n",
    "!pip install qulacs"
   ]
  },
  {
   "cell_type": "code",
   "execution_count": 2,
   "metadata": {},
   "outputs": [],
   "source": [
    "import numpy as np\n",
    "import itertools as it\n",
    "import matplotlib.pyplot as plt\n",
    "from qulacs import QuantumState, QuantumCircuit, Observable\n",
    "from qulacs.gate import Z, RY, merge, DenseMatrix\n",
    "from Adder import adder_gate\n",
    "from ConstSetter import const_setter_gate, ctrl_const_setter_gate"
   ]
  },
  {
   "cell_type": "code",
   "execution_count": 3,
   "metadata": {},
   "outputs": [],
   "source": [
    "np.random.seed(1) #乱数のseedを設定"
   ]
  },
  {
   "cell_type": "code",
   "execution_count": 4,
   "metadata": {},
   "outputs": [],
   "source": [
    "# 債務者数\n",
    "numObl = 2\n",
    "\n",
    "# 各債務者のデフォルト確率を表すqubitのインデックス\n",
    "oblIds = [0, 1]\n",
    "\n",
    "# 各債務者のデフォルト確率\n",
    "pds = [0.2, 0.3]\n",
    "\n",
    "# 各債務者の債務額\n",
    "exposures = [1, 2]\n",
    "\n",
    "# 損失額の閾値\n",
    "lossTh = 3"
   ]
  },
  {
   "cell_type": "code",
   "execution_count": 5,
   "metadata": {},
   "outputs": [],
   "source": [
    "# 計算に要する桁数\n",
    "digit = 2\n",
    "\n",
    "# 損失額を保持するレジスタのqubitのインデックス\n",
    "# digitに加え一桁余分に確保しておく（last qubit（最上位ビット）がQAEのターゲットになる）\n",
    "lossResIdStart = oblIds[-1] + 1\n",
    "lossResIdEnd = lossResIdStart + digit\n",
    "lossResIds = list(range(lossResIdStart, lossResIdEnd + 1))\n",
    "qaeTargetId = lossResIdEnd\n",
    "\n",
    "# 損失額レジスタに加える値を一時的に保持するレジスタ\n",
    "tempResIdStart = lossResIdEnd + 1\n",
    "tempResIdEnd = tempResIdStart + digit - 1\n",
    "tempResIds = list(range(tempResIdStart, tempResIdEnd + 1))\n",
    "\n",
    "# 可算の繰り上がり用レジスタ\n",
    "carryResIdStart = tempResIdEnd + 1\n",
    "carryResIdEnd = carryResIdStart + digit - 1\n",
    "carryResIds = list(range(carryResIdStart, carryResIdEnd + 1))\n",
    "\n",
    "# 総qubit数\n",
    "totQubitNum = carryResIdEnd + 1\n",
    "\n",
    "# 全qubit index\n",
    "idsAll = list(range(totQubitNum))"
   ]
  },
  {
   "cell_type": "code",
   "execution_count": 6,
   "metadata": {},
   "outputs": [],
   "source": [
    "### 損失額を計算し、閾値以上か否かを判定する回路を、QuantumGate gとして構成していく\n",
    "\n",
    "### 各債務者のデフォルト確率を指定のqubitの|1>のamplitudeとして埋め込み\n",
    "g = 問１# 注：債務者1,2のデフォルトを示す量子ビットのインデックスはoblIds[0],oblIds[1]\n",
    "\n",
    "### i番目の債務者がデフォルトしていれば、その債務額をtemporary registerにセットし、損失額レジスタに足す\n",
    "for i in range(numObl):\n",
    "    setter = ctrl_const_setter_gate(exposures[i], oblIds[i], tempResIds)\n",
    "    g = merge(g, setter) # 債務額をtemporary registerにセット\n",
    "    g = merge(g, adder_gate(tempResIds, lossResIds, carryResIds)) # 債務額を損失額レジスタに加える\n",
    "    g = merge(g, setter) # temporary registerをリセット\n",
    "    \n",
    "### 総損失額が閾値以上となっているか否かのチェック\n",
    "# 閾値の2の補数（損失額レジスタにこれを足して最上位ビットが1となる⇔損失額が閾値以上）\n",
    "twosComplLossTh = (lossTh^(2 ** digit - 1)) + 1\n",
    "g = merge(g, const_setter_gate(twosComplLossTh, tempResIds)) # temporary registerに閾値の2の補数をセット\n",
    "g = merge(g, adder_gate(tempResIds, lossResIds, carryResIds)) # 閾値の2の補数を損失額レジスタに足す"
   ]
  },
  {
   "cell_type": "code",
   "execution_count": 7,
   "metadata": {},
   "outputs": [],
   "source": [
    "### gの逆回路\n",
    "# g.get_matrix()によりgに対応するユニタリ行列を得て、\n",
    "# それのエルミート共役に対応する回路（QuantumGate）をDenseMatrixで生成\n",
    "gInv = DenseMatrix(idsAll, np.conjugate(g.get_matrix().T))"
   ]
  },
  {
   "cell_type": "code",
   "execution_count": 8,
   "metadata": {},
   "outputs": [],
   "source": [
    "### QAEに必要なゲート\n",
    "# QAE target qubitが|1>なら-1倍するゲート\n",
    "targetStateFlip = 問２ # 注：target qubitのインデックスはqaeTargetId\n",
    "\n",
    "# |0...0>を-1倍するゲート\n",
    "# DenseMatrixで生成\n",
    "flipIfAll0 = DenseMatrix(idsAll, np.diag([-1 if i == 0 else 1 for i in range(2 ** totQubitNum)]))\n",
    "\n",
    "# Grover operator\n",
    "grover = merge([targetStateFlip, gInv, flipIfAll0, g])"
   ]
  },
  {
   "cell_type": "code",
   "execution_count": 9,
   "metadata": {},
   "outputs": [],
   "source": [
    "### QAEの設定\n",
    "mMax = 4 # Grover operatorを2^mMax回まで作用\n",
    "groverNums = np.array([0] + [2 ** i for i in range(mMax + 1)]) # Grover operatorの作用回数(0, 2^1, 2^2,...)\n",
    "nShot = 1000 # 1つの作用回数のパターンに対する観測回数\n",
    "\n",
    "# 尤度関数の最大点候補（[0, 0.5]を100000等分して網羅探索）\n",
    "numPoints = 100000\n",
    "thetas = 0.5 / numPoints * np.array(range(numPoints + 1))"
   ]
  },
  {
   "cell_type": "code",
   "execution_count": 10,
   "metadata": {},
   "outputs": [],
   "source": [
    "### QAE\n",
    "# オブサーバブルの定義\n",
    "obs = Observable(totQubitNum)\n",
    "obs.add_operator(1, 'Z ' + str(qaeTargetId))\n",
    "\n",
    "# 状態の生成・初期化\n",
    "state = QuantumState(totQubitNum)\n",
    "state.set_zero_state()\n",
    "\n",
    "# gを一回作用させた状態|Ψ>\n",
    "# これのtarget qubitを測定して1を得る確率 ＝ 求めたい確率（「損失額≧3」となる確率）\n",
    "g.update_quantum_state(state)\n",
    "\n",
    "# Groverの作用回数を色々と変えたとき、それぞれの下で「1を得る回数」のサンプル値を格納するリスト\n",
    "n1s = []\n",
    "\n",
    "for i in range(len(groverNums)):\n",
    "    groverNumAdd = groverNums[0] if i == 0 else groverNums[i] - groverNums[i - 1] # 追加の作用回数\n",
    "    for j in range(groverNumAdd): grover.update_quantum_state(state) # その回数だけGrover operatorを作用\n",
    "    prob1 = 0.5 * (1.0 - obs.get_expectation_value(state)) # target qubitに1を得る確率\n",
    "    n1 = np.random.binomial(nShot, prob1) # 1を得る回数のサンプル値\n",
    "    n1s.append(n1)"
   ]
  },
  {
   "cell_type": "code",
   "execution_count": 11,
   "metadata": {},
   "outputs": [],
   "source": [
    "### 対数尤度関数の定義\n",
    "def liklihood(theta, i): # i: Groverの作用回数m0,m1,...,miに対する試行を勘案\n",
    "    \n",
    "    ret = 0.0\n",
    "    \n",
    "    for j in range(i + 1):\n",
    "        pSq = np.sin((2.0 * groverNums[j] + 1) * np.pi * theta)\n",
    "        p = pSq * pSq\n",
    "        ret += n1s[j] * np.log(p) + (nShot - n1s[j]) * np.log(1.0 - p)\n",
    "        \n",
    "    return ret"
   ]
  },
  {
   "cell_type": "code",
   "execution_count": 12,
   "metadata": {},
   "outputs": [
    {
     "name": "stderr",
     "output_type": "stream",
     "text": [
      "<ipython-input-11-964349f68839>:9: RuntimeWarning: divide by zero encountered in log\n",
      "  ret += n1s[j] * np.log(p) + (nShot - n1s[j]) * np.log(1.0 - p)\n"
     ]
    }
   ],
   "source": [
    "### 各試行における最尤点\n",
    "thetaMaxLiks = np.array([thetas[np.argmax([liklihood(th, i) for th in thetas])] for i in range(len(groverNums))])\n",
    "\n",
    "### 各試行における求めたい確率の推定値\n",
    "estimates = np.power(np.sin(thetaMaxLiks * np.pi), 2)"
   ]
  },
  {
   "cell_type": "code",
   "execution_count": 13,
   "metadata": {},
   "outputs": [
    {
     "data": {
      "text/plain": [
       "<matplotlib.legend.Legend at 0x1caebdfc760>"
      ]
     },
     "execution_count": 13,
     "metadata": {},
     "output_type": "execute_result"
    },
    {
     "data": {
      "image/png": "[encoded data removed]",
      "text/plain": [
       "<Figure size 432x288 with 1 Axes>"
      ]
     },
     "metadata": {
      "needs_background": "light"
     },
     "output_type": "display_data"
    }
   ],
   "source": [
    "### Groverの作用回数と誤差のグラフ\n",
    "pTrue = 0.06 # 求めたい確率の真の値\n",
    "errs = np.abs(np.array(estimates) - pTrue) # 推定値との真の値の乖離\n",
    "gCallNums = list(it.accumulate((2 * groverNums + 1) * nShot)) # 回路gおよびその逆を呼んだ回数\n",
    "plt.xlabel('number of calls to g')\n",
    "plt.ylabel('error')\n",
    "\n",
    "# 描画\n",
    "ax = plt.gca()\n",
    "ax.set_xscale('log')\n",
    "ax.set_yscale('log')\n",
    "plt.plot(gCallNums, errs, label=\"error\", marker=\"o\")\n",
    "\n",
    "# 比較のためにy=1/xを書く\n",
    "plt.plot(gCallNums, 3.0 / np.array(gCallNums), label=\"∝ 1/x for comparison\")\n",
    "\n",
    "ax.legend()"
   ]
  },
  {
   "cell_type": "code",
   "execution_count": null,
   "metadata": {},
   "outputs": [],
   "source": []
  }
 ],
 "metadata": {
  "kernelspec": {
   "display_name": "Python 3",
   "language": "python",
   "name": "python3"
  },
  "language_info": {
   "codemirror_mode": {
    "name": "ipython",
    "version": 3
   },
   "file_extension": ".py",
   "mimetype": "text/x-python",
   "name": "python",
   "nbconvert_exporter": "python",
   "pygments_lexer": "ipython3",
   "version": "3.8.5"
  }
 },
 "nbformat": 4,
 "nbformat_minor": 4
}
