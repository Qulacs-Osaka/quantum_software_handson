{
 "cells": [
  {
   "cell_type": "markdown",
   "metadata": {},
   "source": [
    "# グローバー探索量子アルゴリズムをとことん実装する"
   ]
  },
  {
   "cell_type": "markdown",
   "metadata": {},
   "source": [
    "グローバー探索アルゴリズムは、ソートされていないN個のデータがあったときに、$O(\\sqrt N)$回のクエリで目的のデータにアクセスするための方法である。古典コンピュータでは$O(N)$回のクエリが必要であるので、$N$が$n$ビットのランダムアクセスメモリ（$N=2^n$）のような場合には指数的な加速を可能とする。例えば、ある効率よく計算できるブール関数$f:\\{0,1\\}^n \\rightarrow \\{ 0,1\\}$に対して、$f(x)=0$となる$x \\in \\{0,1\\}^n$を見つけるような場合に利用できる。古典アルゴリズムの全探索部分をすべからく平方根（quadratic）に高速化してくれるので、SAT問題など古典ベストアルゴリズムを量子を用いてさらに加速することができる。"
   ]
  },
  {
   "cell_type": "code",
   "execution_count": 1,
   "metadata": {},
   "outputs": [],
   "source": [
    "import matplotlib.pyplot as plt\n",
    "import numpy as np\n",
    "import time \n",
    "import random\n",
    "from qulacs import QuantumState\n",
    "from qulacs.state import inner_product\n",
    "from qulacs import QuantumCircuit\n",
    "from qulacs.gate import DenseMatrix\n",
    "from qulacs.gate import to_matrix_gate\n",
    "from qulacs.circuit import QuantumCircuitOptimizer\n",
    "from qulacs import QuantumState\n",
    "from qulacs.gate import Identity, X,Y,Z #パウリ演算子\n",
    "from qulacs.gate import H,S,Sdag, sqrtX,sqrtXdag,sqrtY,sqrtYdag #1量子ビット Clifford演算\n",
    "from qulacs.gate import T,Tdag #1量子ビット 非Clifford演算\n",
    "from qulacs.gate import RX,RY,RZ #パウリ演算子についての回転演算\n",
    "from qulacs.gate import CNOT, CZ, SWAP #2量子ビット演算\n",
    "from qulacs import Observable\n",
    "import math\n",
    "from qulacs.gate import DephasingNoise,DepolarizingNoise"
   ]
  },
  {
   "cell_type": "code",
   "execution_count": 2,
   "metadata": {},
   "outputs": [],
   "source": [
    "def show_distribution(state,nqubits):\n",
    "    plt.bar([i for i in range(pow(2,nqubits))],abs(state.get_vector()))\n",
    "    plt.show()"
   ]
  },
  {
   "cell_type": "markdown",
   "metadata": {},
   "source": [
    "初期状態としてすべてのビット列が重ね合わさった状態を準備する。"
   ]
  },
  {
   "cell_type": "code",
   "execution_count": 3,
   "metadata": {},
   "outputs": [],
   "source": [
    "nqubits = 5\n",
    "state = QuantumState(nqubits)\n",
    "state.set_zero_state()\n",
    "\n",
    "Hadamard = QuantumCircuit(nqubits)\n",
    "\n",
    "for i in range(nqubits):\n",
    "    Hadamard.add_gate(H(i))\n",
    "\n",
    "Hadamard.update_quantum_state(state)\n",
    "#state.get_vector()    "
   ]
  },
  {
   "cell_type": "code",
   "execution_count": 4,
   "metadata": {},
   "outputs": [
    {
     "data": {
      "image/png": "[encoded data removed]",
      "text/plain": [
       "<Figure size 432x288 with 1 Axes>"
      ]
     },
     "metadata": {},
     "output_type": "display_data"
    }
   ],
   "source": [
    "show_distribution(state,nqubits)"
   ]
  },
  {
   "cell_type": "markdown",
   "metadata": {},
   "source": [
    "グローバーアルゴリズムでは、特定の target 状態の係数に-1を付けるフリップ演算子 target_flip と、初期状態のすべてのビット列が重ね合わさった状態（$|+\\rangle ^{\\otimes n}$）に-1をつけるフリップ演算子 initial_flip を繰り返し作用させることによって初期状態から終状態の２状態間の回転を誘導することになる。ここでは target 状態としてすべて1の状態 $|11...1\\rangle$ を選んだ。実際には $f(x)=0$ を満たすような状態を取り出すといった場合に利用されることになり、このような場合には、関数 $f$ を量子コンピュータ上で実行し、$\\sum _x |x\\rangle  \\rightarrow \\sum _x (-1)^{f(x) \\oplus 1}|x\\rangle $のような量子演算がフリップ演算子となる。$f$を構成するところは$n$に対して多項式（$N=2^n$に対しては対数多項式）であるとしているので本質ではないため今回は $|11...1\\rangle$ をターゲットとする。\n"
   ]
  },
  {
   "cell_type": "markdown",
   "metadata": {},
   "source": [
    "qulacsの特殊ゲート `to_matrix_gate` を使うと好きな `control_index` の量子ビットが好きなビット値 `control_with_value` の場合に作用する制御量子演算を実現できる。今回は、nqubits-1番目までの量子ビットがすべて1の場合にnqubits番目の量子ビットにZを作用させる（$|111...1 \\rangle$のみ-1をつけるフリップ演算子を定義する）。"
   ]
  },
  {
   "cell_type": "code",
   "execution_count": 6,
   "metadata": {},
   "outputs": [],
   "source": [
    "target_flip = to_matrix_gate(Z(nqubits-1))\n",
    "# 1st-qubitが0の場合だけゲートを作用\n",
    "for i in range(nqubits-1):\n",
    "    control_index = i\n",
    "    control_with_value = 1\n",
    "    target_flip.add_control_qubit(control_index, control_with_value)"
   ]
  },
  {
   "cell_type": "markdown",
   "metadata": {},
   "source": [
    "実際そのような作用になっていることを確認しておく。"
   ]
  },
  {
   "cell_type": "code",
   "execution_count": 7,
   "metadata": {},
   "outputs": [
    {
     "name": "stdout",
     "output_type": "stream",
     "text": [
      "[ 0.1767767+0.j  0.1767767+0.j  0.1767767+0.j  0.1767767+0.j\n",
      "  0.1767767+0.j  0.1767767+0.j  0.1767767+0.j  0.1767767+0.j\n",
      "  0.1767767+0.j  0.1767767+0.j  0.1767767+0.j  0.1767767+0.j\n",
      "  0.1767767+0.j  0.1767767+0.j  0.1767767+0.j  0.1767767+0.j\n",
      "  0.1767767+0.j  0.1767767+0.j  0.1767767+0.j  0.1767767+0.j\n",
      "  0.1767767+0.j  0.1767767+0.j  0.1767767+0.j  0.1767767+0.j\n",
      "  0.1767767+0.j  0.1767767+0.j  0.1767767+0.j  0.1767767+0.j\n",
      "  0.1767767+0.j  0.1767767+0.j  0.1767767+0.j -0.1767767+0.j]\n"
     ]
    }
   ],
   "source": [
    "hoge = state.copy()\n",
    "target_flip.update_quantum_state(hoge)\n",
    "print(hoge.get_vector())"
   ]
  },
  {
   "cell_type": "markdown",
   "metadata": {},
   "source": [
    "同様にして、初期状態のフリップ演算子を作る。すべての量子ビットにアダマール演算とパウリX演算を作用（target_flipの前後に共役に作用）させることで初期状態のフリップ演算子が作れる。"
   ]
  },
  {
   "cell_type": "code",
   "execution_count": 8,
   "metadata": {},
   "outputs": [],
   "source": [
    "initial_flip = QuantumCircuit(nqubits)\n",
    "\n",
    "for i in range(nqubits):\n",
    "    initial_flip.add_gate(H(i))\n",
    "    initial_flip.add_gate(X(i))\n",
    "\n",
    "initial_flip.add_gate(target_flip)\n",
    "\n",
    "for i in range(nqubits):\n",
    "    initial_flip.add_gate(X(i))\n",
    "    initial_flip.add_gate(H(i))"
   ]
  },
  {
   "cell_type": "markdown",
   "metadata": {},
   "source": [
    "フリップ演算子を作用させて確率分布の変化を見よう。全部1の状態（一番右側）の確率が大きくなっている。"
   ]
  },
  {
   "cell_type": "code",
   "execution_count": 9,
   "metadata": {},
   "outputs": [
    {
     "data": {
      "image/png": "[encoded data removed]",
      "text/plain": [
       "<Figure size 432x288 with 1 Axes>"
      ]
     },
     "metadata": {},
     "output_type": "display_data"
    }
   ],
   "source": [
    "#初期状態の準備\n",
    "state.set_zero_state()\n",
    "Hadamard.update_quantum_state(state)\n",
    "\n",
    "#フリップ演算子を作用\n",
    "target_flip.update_quantum_state(state)\n",
    "initial_flip.update_quantum_state(state)\n",
    "show_distribution(state,nqubits)"
   ]
  },
  {
   "cell_type": "markdown",
   "metadata": {},
   "source": [
    "これを何回か繰り返して、target状態の確率がどのように変化するか見ておく。"
   ]
  },
  {
   "cell_type": "code",
   "execution_count": 10,
   "metadata": {},
   "outputs": [
    {
     "data": {
      "image/png": "[encoded data removed]",
      "text/plain": [
       "<Figure size 432x288 with 1 Axes>"
      ]
     },
     "metadata": {},
     "output_type": "display_data"
    },
    {
     "data": {
      "image/png": "[encoded data removed]",
      "text/plain": [
       "<Figure size 432x288 with 1 Axes>"
      ]
     },
     "metadata": {},
     "output_type": "display_data"
    },
    {
     "name": "stdout",
     "output_type": "stream",
     "text": [
      "0.5082329989778311\n"
     ]
    },
    {
     "data": {
      "image/png": "[encoded data removed]",
      "text/plain": [
       "<Figure size 432x288 with 1 Axes>"
      ]
     },
     "metadata": {},
     "output_type": "display_data"
    },
    {
     "name": "stdout",
     "output_type": "stream",
     "text": [
      "0.776160177786797\n"
     ]
    },
    {
     "data": {
      "image/png": "[encoded data removed]",
      "text/plain": [
       "<Figure size 432x288 with 1 Axes>"
      ]
     },
     "metadata": {},
     "output_type": "display_data"
    },
    {
     "name": "stdout",
     "output_type": "stream",
     "text": [
      "0.9470673343724136\n"
     ]
    },
    {
     "data": {
      "image/png": "[encoded data removed]",
      "text/plain": [
       "<Figure size 432x288 with 1 Axes>"
      ]
     },
     "metadata": {},
     "output_type": "display_data"
    },
    {
     "name": "stdout",
     "output_type": "stream",
     "text": [
      "0.9995910741614789\n"
     ]
    }
   ],
   "source": [
    "state.set_zero_state()\n",
    "\n",
    "#内積を評価するために target stateを作っておく\n",
    "target_state = QuantumState(nqubits)\n",
    "target_state = state.copy()\n",
    "for i in range(nqubits):\n",
    "    X(i).update_quantum_state(target_state)\n",
    "\n",
    "#すべての計算基底の重ね合わせ状態を作る\n",
    "Hadamard.update_quantum_state(state)\n",
    "show_distribution(target_state,nqubits)\n",
    "\n",
    "for i in range(4):\n",
    "    target_flip.update_quantum_state(state)\n",
    "    initial_flip.update_quantum_state(state)\n",
    "    show_distribution(state,nqubits)\n",
    "    print(np.linalg.norm(inner_product(state, target_state)))"
   ]
  },
  {
   "cell_type": "markdown",
   "metadata": {},
   "source": [
    "4回ほどでほぼ確率１で target 状態を得ることができた。"
   ]
  },
  {
   "cell_type": "markdown",
   "metadata": {},
   "source": [
    "前準備ができたので、量子ビット数を変えて、target状態が得られるのに必要な繰り返し回数を計算してみる"
   ]
  },
  {
   "cell_type": "code",
   "execution_count": 11,
   "metadata": {},
   "outputs": [
    {
     "data": {
      "text/plain": [
       "[<matplotlib.lines.Line2D at 0x105a11128>]"
      ]
     },
     "execution_count": 11,
     "metadata": {},
     "output_type": "execute_result"
    },
    {
     "data": {
      "image/png": "[encoded data removed]",
      "text/plain": [
       "<Figure size 432x288 with 1 Axes>"
      ]
     },
     "metadata": {},
     "output_type": "display_data"
    }
   ],
   "source": [
    "nqubits = 10\n",
    "state = QuantumState(nqubits)\n",
    "state.set_zero_state()\n",
    "\n",
    "# transversal Hadamard gateを定義する\n",
    "Hadamard = QuantumCircuit(nqubits)\n",
    "for i in range(nqubits):\n",
    "    Hadamard.add_gate(H(i))\n",
    "\n",
    "#initial_flipとtarget_flipを定義する。\n",
    "target_flip = to_matrix_gate(Z(nqubits-1))\n",
    "# 1st-qubitが0の場合だけゲートを作用\n",
    "for i in range(nqubits-1):\n",
    "    control_index = i\n",
    "    control_with_value = 1\n",
    "    target_flip.add_control_qubit(control_index, control_with_value)\n",
    "\n",
    "initial_flip = QuantumCircuit(nqubits)\n",
    "\n",
    "for i in range(nqubits):\n",
    "    initial_flip.add_gate(H(i))\n",
    "    initial_flip.add_gate(X(i))\n",
    "\n",
    "initial_flip.add_gate(target_flip)\n",
    "\n",
    "for i in range(nqubits):\n",
    "    initial_flip.add_gate(X(i))\n",
    "    initial_flip.add_gate(H(i))\n",
    "\n",
    "\n",
    "\n",
    "#内積を評価するために target stateを作っておく\n",
    "target_state = QuantumState(nqubits)\n",
    "target_state = state.copy()\n",
    "for i in range(nqubits):\n",
    "    X(i).update_quantum_state(target_state)\n",
    "\n",
    "#すべての計算基底の重ね合わせ状態を作る\n",
    "Hadamard.update_quantum_state(state)\n",
    "\n",
    "result = []\n",
    "\n",
    "for i in range(30):\n",
    "    target_flip.update_quantum_state(state)\n",
    "    initial_flip.update_quantum_state(state)\n",
    "    result.append(np.linalg.norm(inner_product(state, target_state)))\n",
    "\n",
    "plt.plot(result)"
   ]
  },
  {
   "cell_type": "markdown",
   "metadata": {},
   "source": [
    "約25回くらいでほぼ確率1でtarget状態が得られている。確率の増加は、サイン関数の２乗のような振る舞いになっている。これは、グローバー探索が、初期状態とtarget状態の間を一定の角度で回転している操作になっているからである。\n",
    "\n",
    "量子ビット数を増やして、target状態の得られる確率が最大となるステップ数を調べよう。"
   ]
  },
  {
   "cell_type": "code",
   "execution_count": 13,
   "metadata": {},
   "outputs": [],
   "source": [
    "result = []\n",
    "num_samp = 16\n",
    "for j in range(num_samp):\n",
    "    nqubits = j + 5\n",
    "    state = QuantumState(nqubits)\n",
    "    state.set_zero_state()\n",
    "\n",
    "    # transversal Hadamard gateを定義する\n",
    "    Hadamard = QuantumCircuit(nqubits)\n",
    "    for i in range(nqubits):\n",
    "        Hadamard.add_gate(H(i))\n",
    "\n",
    "    #initial_flipとtarget_flipを定義する。\n",
    "    target_flip = to_matrix_gate(Z(nqubits-1))\n",
    "    # 1st-qubitが0の場合だけゲートを作用\n",
    "    for i in range(nqubits-1):\n",
    "        control_index = i\n",
    "        control_with_value = 1\n",
    "        target_flip.add_control_qubit(control_index, control_with_value)\n",
    "\n",
    "    initial_flip = QuantumCircuit(nqubits)\n",
    "\n",
    "    for i in range(nqubits):\n",
    "        initial_flip.add_gate(H(i))\n",
    "        initial_flip.add_gate(X(i))\n",
    "\n",
    "    initial_flip.add_gate(target_flip)\n",
    "\n",
    "    for i in range(nqubits):\n",
    "        initial_flip.add_gate(X(i))\n",
    "        initial_flip.add_gate(H(i))\n",
    "\n",
    "\n",
    "\n",
    "    #内積を評価するために target stateを作っておく\n",
    "    target_state = QuantumState(nqubits)\n",
    "    target_state = state.copy()\n",
    "    for i in range(nqubits):\n",
    "        X(i).update_quantum_state(target_state)\n",
    "\n",
    "    #すべての計算基底の重ね合わせ状態を作る\n",
    "    Hadamard.update_quantum_state(state)\n",
    "\n",
    "    tmp = 0\n",
    "    flag = 0\n",
    "    num_iter = 0\n",
    "    while flag == 0 or num_iter > 1000:\n",
    "        num_iter += 1\n",
    "        target_flip.update_quantum_state(state)\n",
    "        initial_flip.update_quantum_state(state)\n",
    "        suc_prob = np.linalg.norm(inner_product(state, target_state))\n",
    "        if tmp < suc_prob:\n",
    "            tmp = suc_prob\n",
    "        else: \n",
    "            flag = 1\n",
    "    result.append(num_iter)"
   ]
  },
  {
   "cell_type": "code",
   "execution_count": 14,
   "metadata": {},
   "outputs": [
    {
     "data": {
      "image/png": "[encoded data removed]",
      "text/plain": [
       "<Figure size 432x288 with 1 Axes>"
      ]
     },
     "metadata": {},
     "output_type": "display_data"
    }
   ],
   "source": [
    "#計算結果\n",
    "\n",
    "plt.plot([i+5 for i in range(num_samp)],result)\n",
    "#2^n でスケール\n",
    "plt.plot([i+5 for i in range(num_samp)],[pow(2,i+5) for i in range(num_samp)])\n",
    "#2^(n/2)でスケール\n",
    "plt.plot([i+5 for i in range(num_samp)],[pow(2,(i+5)/2) for i in range(num_samp)])\n",
    "plt.yscale('log')\n",
    "plt.show()"
   ]
  },
  {
   "cell_type": "markdown",
   "metadata": {},
   "source": [
    "ステップ数が$2^{n/2}$でスケールしていることがわかった。"
   ]
  },
  {
   "cell_type": "code",
   "execution_count": null,
   "metadata": {},
   "outputs": [],
   "source": []
  }
 ],
 "metadata": {
  "kernelspec": {
   "display_name": "Python 3",
   "language": "python",
   "name": "python3"
  },
  "language_info": {
   "codemirror_mode": {
    "name": "ipython",
    "version": 3
   },
   "file_extension": ".py",
   "mimetype": "text/x-python",
   "name": "python",
   "nbconvert_exporter": "python",
   "pygments_lexer": "ipython3",
   "version": "3.6.0"
  }
 },
 "nbformat": 4,
 "nbformat_minor": 2
}
