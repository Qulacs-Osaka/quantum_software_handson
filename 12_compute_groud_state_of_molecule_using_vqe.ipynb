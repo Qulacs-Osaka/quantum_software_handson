{
  "cells": [
    {
      "cell_type": "code",
      "execution_count": 2,
      "metadata": {
        "colab": {
          "base_uri": "https://localhost:8080/",
          "height": 1000
        },
        "id": "ygjA-pqr8Qaz",
        "outputId": "4b3af365-0902-4190-b61d-a2762ecc5cc2"
      },
      "outputs": [
        {
          "name": "stdout",
          "output_type": "stream",
          "text": [
            "Found existing installation: h5py 3.1.0\n",
            "Uninstalling h5py-3.1.0:\n",
            "  Would remove:\n",
            "    /usr/local/lib/python3.7/dist-packages/h5py-3.1.0.dist-info/*\n",
            "    /usr/local/lib/python3.7/dist-packages/h5py.libs/libaec-9c9e97eb.so.0.0.10\n",
            "    /usr/local/lib/python3.7/dist-packages/h5py.libs/libhdf5-00e8fae8.so.200.0.0\n",
            "    /usr/local/lib/python3.7/dist-packages/h5py.libs/libhdf5_hl-383c339f.so.200.0.0\n",
            "    /usr/local/lib/python3.7/dist-packages/h5py.libs/libsz-e7aa62f5.so.2.0.1\n",
            "    /usr/local/lib/python3.7/dist-packages/h5py.libs/libz-eb09ad1d.so.1.2.3\n",
            "    /usr/local/lib/python3.7/dist-packages/h5py/*\n",
            "Proceed (y/n)?   Successfully uninstalled h5py-3.1.0\n",
            "Collecting h5py==3.1.0\n",
            "  Downloading h5py-3.1.0-cp37-cp37m-manylinux1_x86_64.whl (4.0 MB)\n",
            "\u001b[K     |████████████████████████████████| 4.0 MB 12.3 MB/s \n",
            "\u001b[?25hRequirement already satisfied: numpy>=1.14.5 in /usr/local/lib/python3.7/dist-packages (from h5py==3.1.0) (1.19.5)\n",
            "Requirement already satisfied: cached-property in /usr/local/lib/python3.7/dist-packages (from h5py==3.1.0) (1.5.2)\n",
            "Installing collected packages: h5py\n",
            "Successfully installed h5py-3.1.0\n",
            "Collecting openfermion\n",
            "  Downloading openfermion-1.1.0-py3-none-any.whl (33.7 MB)\n",
            "\u001b[K     |████████████████████████████████| 33.7 MB 56 kB/s \n",
            "\u001b[?25hCollecting openfermionpyscf\n",
            "  Downloading openfermionpyscf-0.5-py3-none-any.whl (16 kB)\n",
            "Collecting qulacs\n",
            "  Downloading Qulacs-0.3.0-cp37-cp37m-manylinux_2_12_x86_64.manylinux2010_x86_64.whl (451 kB)\n",
            "\u001b[K     |████████████████████████████████| 451 kB 78.8 MB/s \n",
            "\u001b[?25hRequirement already satisfied: scipy in /usr/local/lib/python3.7/dist-packages (1.4.1)\n",
            "Collecting pubchempy\n",
            "  Downloading PubChemPy-1.0.4.tar.gz (29 kB)\n",
            "Requirement already satisfied: sympy in /usr/local/lib/python3.7/dist-packages (from openfermion) (1.7.1)\n",
            "Requirement already satisfied: numpy>=1.11.0 in /usr/local/lib/python3.7/dist-packages (from openfermion) (1.19.5)\n",
            "Requirement already satisfied: nbformat in /usr/local/lib/python3.7/dist-packages (from openfermion) (5.1.3)\n",
            "Requirement already satisfied: networkx in /usr/local/lib/python3.7/dist-packages (from openfermion) (2.6.2)\n",
            "Collecting cirq~=0.11.0\n",
            "  Downloading cirq-0.11.1-py3-none-any.whl (7.6 kB)\n",
            "Requirement already satisfied: requests~=2.18 in /usr/local/lib/python3.7/dist-packages (from openfermion) (2.23.0)\n",
            "Collecting deprecation\n",
            "  Downloading deprecation-2.1.0-py2.py3-none-any.whl (11 kB)\n",
            "Requirement already satisfied: h5py>=2.8 in /usr/local/lib/python3.7/dist-packages (from openfermion) (3.1.0)\n",
            "Collecting cirq-core==0.11.1\n",
            "  Downloading cirq_core-0.11.1-py3-none-any.whl (1.5 MB)\n",
            "\u001b[K     |████████████████████████████████| 1.5 MB 84.6 MB/s \n",
            "\u001b[?25hCollecting cirq-google==0.11.1\n",
            "  Downloading cirq_google-0.11.1-py3-none-any.whl (380 kB)\n",
            "\u001b[K     |████████████████████████████████| 380 kB 92.7 MB/s \n",
            "\u001b[?25hRequirement already satisfied: typing-extensions in /usr/local/lib/python3.7/dist-packages (from cirq-core==0.11.1->cirq~=0.11.0->openfermion) (3.7.4.3)\n",
            "Requirement already satisfied: sortedcontainers~=2.0 in /usr/local/lib/python3.7/dist-packages (from cirq-core==0.11.1->cirq~=0.11.0->openfermion) (2.4.0)\n",
            "Requirement already satisfied: matplotlib~=3.0 in /usr/local/lib/python3.7/dist-packages (from cirq-core==0.11.1->cirq~=0.11.0->openfermion) (3.2.2)\n",
            "Requirement already satisfied: pandas in /usr/local/lib/python3.7/dist-packages (from cirq-core==0.11.1->cirq~=0.11.0->openfermion) (1.1.5)\n",
            "Requirement already satisfied: tqdm in /usr/local/lib/python3.7/dist-packages (from cirq-core==0.11.1->cirq~=0.11.0->openfermion) (4.62.0)\n",
            "Requirement already satisfied: google-api-core[grpc]<2.0.0dev,>=1.14.0 in /usr/local/lib/python3.7/dist-packages (from cirq-google==0.11.1->cirq~=0.11.0->openfermion) (1.26.3)\n",
            "Collecting protobuf~=3.13.0\n",
            "  Downloading protobuf-3.13.0-cp37-cp37m-manylinux1_x86_64.whl (1.3 MB)\n",
            "\u001b[K     |████████████████████████████████| 1.3 MB 74.1 MB/s \n",
            "\u001b[?25hRequirement already satisfied: setuptools>=40.3.0 in /usr/local/lib/python3.7/dist-packages (from google-api-core[grpc]<2.0.0dev,>=1.14.0->cirq-google==0.11.1->cirq~=0.11.0->openfermion) (57.4.0)\n",
            "Requirement already satisfied: packaging>=14.3 in /usr/local/lib/python3.7/dist-packages (from google-api-core[grpc]<2.0.0dev,>=1.14.0->cirq-google==0.11.1->cirq~=0.11.0->openfermion) (21.0)\n",
            "Requirement already satisfied: google-auth<2.0dev,>=1.21.1 in /usr/local/lib/python3.7/dist-packages (from google-api-core[grpc]<2.0.0dev,>=1.14.0->cirq-google==0.11.1->cirq~=0.11.0->openfermion) (1.34.0)\n",
            "Requirement already satisfied: pytz in /usr/local/lib/python3.7/dist-packages (from google-api-core[grpc]<2.0.0dev,>=1.14.0->cirq-google==0.11.1->cirq~=0.11.0->openfermion) (2018.9)\n",
            "Requirement already satisfied: googleapis-common-protos<2.0dev,>=1.6.0 in /usr/local/lib/python3.7/dist-packages (from google-api-core[grpc]<2.0.0dev,>=1.14.0->cirq-google==0.11.1->cirq~=0.11.0->openfermion) (1.53.0)\n",
            "Requirement already satisfied: six>=1.13.0 in /usr/local/lib/python3.7/dist-packages (from google-api-core[grpc]<2.0.0dev,>=1.14.0->cirq-google==0.11.1->cirq~=0.11.0->openfermion) (1.15.0)\n",
            "Requirement already satisfied: grpcio<2.0dev,>=1.29.0 in /usr/local/lib/python3.7/dist-packages (from google-api-core[grpc]<2.0.0dev,>=1.14.0->cirq-google==0.11.1->cirq~=0.11.0->openfermion) (1.39.0)\n",
            "Requirement already satisfied: rsa<5,>=3.1.4 in /usr/local/lib/python3.7/dist-packages (from google-auth<2.0dev,>=1.21.1->google-api-core[grpc]<2.0.0dev,>=1.14.0->cirq-google==0.11.1->cirq~=0.11.0->openfermion) (4.7.2)\n",
            "Requirement already satisfied: cachetools<5.0,>=2.0.0 in /usr/local/lib/python3.7/dist-packages (from google-auth<2.0dev,>=1.21.1->google-api-core[grpc]<2.0.0dev,>=1.14.0->cirq-google==0.11.1->cirq~=0.11.0->openfermion) (4.2.2)\n",
            "Requirement already satisfied: pyasn1-modules>=0.2.1 in /usr/local/lib/python3.7/dist-packages (from google-auth<2.0dev,>=1.21.1->google-api-core[grpc]<2.0.0dev,>=1.14.0->cirq-google==0.11.1->cirq~=0.11.0->openfermion) (0.2.8)\n",
            "Requirement already satisfied: cached-property in /usr/local/lib/python3.7/dist-packages (from h5py>=2.8->openfermion) (1.5.2)\n",
            "Requirement already satisfied: kiwisolver>=1.0.1 in /usr/local/lib/python3.7/dist-packages (from matplotlib~=3.0->cirq-core==0.11.1->cirq~=0.11.0->openfermion) (1.3.1)\n",
            "Requirement already satisfied: pyparsing!=2.0.4,!=2.1.2,!=2.1.6,>=2.0.1 in /usr/local/lib/python3.7/dist-packages (from matplotlib~=3.0->cirq-core==0.11.1->cirq~=0.11.0->openfermion) (2.4.7)\n",
            "Requirement already satisfied: python-dateutil>=2.1 in /usr/local/lib/python3.7/dist-packages (from matplotlib~=3.0->cirq-core==0.11.1->cirq~=0.11.0->openfermion) (2.8.2)\n",
            "Requirement already satisfied: cycler>=0.10 in /usr/local/lib/python3.7/dist-packages (from matplotlib~=3.0->cirq-core==0.11.1->cirq~=0.11.0->openfermion) (0.10.0)\n",
            "Requirement already satisfied: pyasn1<0.5.0,>=0.4.6 in /usr/local/lib/python3.7/dist-packages (from pyasn1-modules>=0.2.1->google-auth<2.0dev,>=1.21.1->google-api-core[grpc]<2.0.0dev,>=1.14.0->cirq-google==0.11.1->cirq~=0.11.0->openfermion) (0.4.8)\n",
            "Requirement already satisfied: certifi>=2017.4.17 in /usr/local/lib/python3.7/dist-packages (from requests~=2.18->openfermion) (2021.5.30)\n",
            "Requirement already satisfied: chardet<4,>=3.0.2 in /usr/local/lib/python3.7/dist-packages (from requests~=2.18->openfermion) (3.0.4)\n",
            "Requirement already satisfied: urllib3!=1.25.0,!=1.25.1,<1.26,>=1.21.1 in /usr/local/lib/python3.7/dist-packages (from requests~=2.18->openfermion) (1.24.3)\n",
            "Requirement already satisfied: idna<3,>=2.5 in /usr/local/lib/python3.7/dist-packages (from requests~=2.18->openfermion) (2.10)\n",
            "Collecting pyscf\n",
            "  Downloading pyscf-1.7.6.post1-cp37-cp37m-manylinux1_x86_64.whl (29.7 MB)\n",
            "\u001b[K     |████████████████████████████████| 29.7 MB 87 kB/s \n",
            "\u001b[?25hRequirement already satisfied: pytest in /usr/local/lib/python3.7/dist-packages (from openfermionpyscf) (3.6.4)\n",
            "Requirement already satisfied: traitlets>=4.1 in /usr/local/lib/python3.7/dist-packages (from nbformat->openfermion) (5.0.5)\n",
            "Requirement already satisfied: ipython-genutils in /usr/local/lib/python3.7/dist-packages (from nbformat->openfermion) (0.2.0)\n",
            "Requirement already satisfied: jsonschema!=2.5.0,>=2.4 in /usr/local/lib/python3.7/dist-packages (from nbformat->openfermion) (2.6.0)\n",
            "Requirement already satisfied: jupyter-core in /usr/local/lib/python3.7/dist-packages (from nbformat->openfermion) (4.7.1)\n",
            "Requirement already satisfied: pluggy<0.8,>=0.5 in /usr/local/lib/python3.7/dist-packages (from pytest->openfermionpyscf) (0.7.1)\n",
            "Requirement already satisfied: attrs>=17.4.0 in /usr/local/lib/python3.7/dist-packages (from pytest->openfermionpyscf) (21.2.0)\n",
            "Requirement already satisfied: atomicwrites>=1.0 in /usr/local/lib/python3.7/dist-packages (from pytest->openfermionpyscf) (1.4.0)\n",
            "Requirement already satisfied: py>=1.5.0 in /usr/local/lib/python3.7/dist-packages (from pytest->openfermionpyscf) (1.10.0)\n",
            "Requirement already satisfied: more-itertools>=4.0.0 in /usr/local/lib/python3.7/dist-packages (from pytest->openfermionpyscf) (8.8.0)\n",
            "Requirement already satisfied: mpmath>=0.19 in /usr/local/lib/python3.7/dist-packages (from sympy->openfermion) (1.2.1)\n",
            "Building wheels for collected packages: pubchempy\n",
            "  Building wheel for pubchempy (setup.py) ... \u001b[?25l\u001b[?25hdone\n",
            "  Created wheel for pubchempy: filename=PubChemPy-1.0.4-py3-none-any.whl size=13835 sha256=12f92b44d69478a40dd19459eb02606a3bc56e742ba4e02b956aae8b0ff967ab\n",
            "  Stored in directory: /root/.cache/pip/wheels/7c/3d/8c/8192697412e9899dc55bbbb08bbc1197bef333caaa2a71c448\n",
            "Successfully built pubchempy\n",
            "Installing collected packages: protobuf, cirq-core, cirq-google, pubchempy, deprecation, cirq, pyscf, openfermion, qulacs, openfermionpyscf\n",
            "  Attempting uninstall: protobuf\n",
            "    Found existing installation: protobuf 3.17.3\n",
            "    Uninstalling protobuf-3.17.3:\n",
            "      Successfully uninstalled protobuf-3.17.3\n",
            "Successfully installed cirq-0.11.1 cirq-core-0.11.1 cirq-google-0.11.1 deprecation-2.1.0 openfermion-1.1.0 openfermionpyscf-0.5 protobuf-3.13.0 pubchempy-1.0.4 pyscf-1.7.6.post1 qulacs-0.3.0\n"
          ]
        },
        {
          "data": {
            "application/vnd.colab-display-data+json": {
              "pip_warning": {
                "packages": [
                  "google"
                ]
              }
            }
          },
          "metadata": {},
          "output_type": "display_data"
        }
      ],
      "source": [
        "!echo y | pip uninstall h5py\n",
        "!pip install h5py==3.1.0\n",
        "!pip install openfermion openfermionpyscf qulacs scipy"
      ]
    },
    {
      "cell_type": "code",
      "execution_count": 3,
      "metadata": {
        "id": "0C-dmTI_8n5a"
      },
      "outputs": [],
      "source": [
        "import numpy as np\n",
        "import matplotlib.pyplot as plt\n",
        "import scipy.optimize\n",
        "from openfermion.transforms import get_fermion_operator, jordan_wigner, bravyi_kitaev, symmetry_conserving_bravyi_kitaev\n",
        "from openfermion.ops import FermionOperator\n",
        "from pyscf import gto, scf, tools\n",
        "from qchem_util import get_molecular_hamiltonian_from_fcidump\n",
        "from qulacs.observable import create_observable_from_openfermion_text\n",
        "from qulacs import QuantumState, QuantumCircuit\n",
        "from qulacs.gate import X, RY, CNOT, merge, RY"
      ]
    },
    {
      "cell_type": "markdown",
      "metadata": {
        "id": "52AxHb8T-phX"
      },
      "source": [
        "# 量子変分固有値法（VQE)を用いた基底状態計算\n",
        "\n",
        "さて、ここまでで、量子コンピュータ上に電子の波動関数やハミルトニアンを載せる方法を学んだ。\n",
        "分子のエネルギー計算を量子コンピュータで実行するには、あとは、\n",
        "量子コンピュータを使って、以下の固有値問題をどう解くかがわかれば良い。\n",
        "$$H\\Psi = E\\Psi$$\n",
        "\n",
        "\n",
        "この方法もハミルトニアンの変換法と同様に複数存在する。\n",
        "将来的にどの計算法がデファクトスタンダードとなるかは、まだ未知数であるが、\n",
        "代表的なものは位相推定法（Phase Estimation Algorithm, PEA)と変分量子固有値法(Variational Quantum Eigensolver, VQE)の２つである。\n",
        "PEAは厳密解を多項式時間で解くことができるアルゴリズムであり、\n",
        "古典アルゴリズムに対する優位性が保証された方法となっている。\n",
        "しかし、PEAの量子回路は非常に深くなるため、水素分子のようなミニマルな系以外では、NISQ上で動作することは望めない。\n",
        "\n",
        "これに対して、VQEは量子回路$U(\\theta)$を使って、求めたい量子状態の近似波動関数$\\Psi_T(\\theta)$を表現し、量子回路のパラメータ$\\theta$は、$E_T(\\theta) = \\langle \\Phi_T(\\theta) | H | \\Phi_T(\\theta) \\rangle$が最小化されるように古典コンピュータ上で決定する。VQEで用いる$U(\\theta)は$PEAに比べて浅い回路で良く、NISQでも（ある程度）動作する。\n",
        "\n",
        "「03_量子演算を変分的に分解する」や「08_簡単な量子回路学習を実行してみる 」では、コスト関数の最小化をおこなったが、VQEもコスト関数にエネルギーを使って同様のことをおこなっている。\n",
        "\n",
        "\n",
        "## 復習: 水素分子のハミルトニアンをqubit表現で用意\n",
        "\n",
        "さて、これまでの復習になるが、水素分子のハミルトニアンを用意してみる。\n"
      ]
    },
    {
      "cell_type": "code",
      "execution_count": 4,
      "metadata": {
        "colab": {
          "base_uri": "https://localhost:8080/"
        },
        "id": "KLFqgXn69VsA",
        "outputId": "2fad7fe3-d692-4d91-a710-aa0298b5be97"
      },
      "outputs": [
        {
          "name": "stdout",
          "output_type": "stream",
          "text": [
            "Parsing fcidump.rhf\n",
            "(-0.09706626816762849+0j) [] +\n",
            "(-0.04530261550379928+0j) [X0 X1 Y2 Y3] +\n",
            "(0.04530261550379928+0j) [X0 Y1 Y2 X3] +\n",
            "(0.04530261550379928+0j) [Y0 X1 X2 Y3] +\n",
            "(-0.04530261550379928+0j) [Y0 Y1 X2 X3] +\n",
            "(0.1714128264477689+0j) [Z0] +\n",
            "(0.16868898170361205+0j) [Z0 Z1] +\n",
            "(0.12062523483390417+0j) [Z0 Z2] +\n",
            "(0.16592785033770344+0j) [Z0 Z3] +\n",
            "(0.17141282644776892+0j) [Z1] +\n",
            "(0.16592785033770344+0j) [Z1 Z2] +\n",
            "(0.12062523483390417+0j) [Z1 Z3] +\n",
            "(-0.2234315369081355+0j) [Z2] +\n",
            "(0.17441287612261583+0j) [Z2 Z3] +\n",
            "(-0.2234315369081355+0j) [Z3]\n"
          ]
        }
      ],
      "source": [
        "# 水素分子、H-H距離は0.74Å と設定。STO-3GというGaussian型の原子基底関数を使用。\n",
        "mol_h2 = gto.M(atom = 'H 0 0 0; H 0 0 0.74', basis = 'sto-3g')\n",
        "# この水素分子の基底状態を平均場近似（Hartree-Fock theory)で計算してみる。\n",
        "mean_field_wavefunction = scf.RHF(mol_h2)\n",
        "mean_field_wavefunction.verbose = 0\n",
        "hf_energy = mean_field_wavefunction.kernel()\n",
        "# 第二量子化された電子のハミルトニアンを構築し、fcidump 形式で保存\n",
        "tools.fcidump.from_scf(mean_field_wavefunction, 'fcidump.rhf') \n",
        "# OpenFermionに第二量子化されたハミルトニアンをロード\n",
        "fermion_hamiltonian = get_fermion_operator(get_molecular_hamiltonian_from_fcidump('fcidump.rhf'))\n",
        "# Jordan-Wigner変換をおｋなう\n",
        "jw_qubit_hamiltonian = jordan_wigner(fermion_hamiltonian)\n",
        "print (jw_qubit_hamiltonian)"
      ]
    },
    {
      "cell_type": "markdown",
      "metadata": {
        "id": "5VYgS7v3Geao"
      },
      "source": [
        "## 量子回路上でのHartree-Fock状態の用意\n",
        "\n",
        "さて、VQEの量子回路$U(\\theta)$は、何かしらの初期波動関数$|\\Psi_0\\rangle$に作用して、近似波動関数を生成する。\n",
        "$$|\\Psi(\\theta)_T\\rangle = U(\\theta) |\\Psi_0\\rangle$$\n",
        "初期波動関数をどうするかは難しい問題であるが、Hartree-Fock波動関数は重ね合わせがない状態のため、簡単に用意でき、かつ既にみたように化学の問題においては99%程度の精度を持っている、という点で優れている。\n",
        "\n",
        "では、qulacsを使って、Hartree-Fock状態を用意しよう。\n"
      ]
    },
    {
      "cell_type": "code",
      "execution_count": 5,
      "metadata": {
        "id": "JdRnuM3LFru1"
      },
      "outputs": [],
      "source": [
        "n_qubit = 4 \n",
        "hf_state = QuantumState(n_qubit) # 4qubitの量子状態を用意。この時点では|0000> \n",
        "hf_state.set_computational_basis(int('0b0011',2)) # |0011>を用意"
      ]
    },
    {
      "cell_type": "markdown",
      "metadata": {
        "id": "gzUYGKAPLNp1"
      },
      "source": [
        "STO-3G基底関数を使った時の水素分子のHartree-Fockエネルギー -1.1167593073964248 が正しく得られているか確認してみよう。\n",
        "まず、OpenFermion形式で得られたハミルトニアンをqulacsで使える形式に変換する。"
      ]
    },
    {
      "cell_type": "code",
      "execution_count": 6,
      "metadata": {
        "id": "FejQzFMEII2w"
      },
      "outputs": [],
      "source": [
        "qulacs_hamiltonian = create_observable_from_openfermion_text(str(jw_qubit_hamiltonian))"
      ]
    },
    {
      "cell_type": "markdown",
      "metadata": {
        "id": "ATwOA7tvxf-0"
      },
      "source": [
        "hf_stateを使って、qulacs_hamiltonianの期待値を計算すれば、Hartree-Fockエネルギーが計算できる。"
      ]
    },
    {
      "cell_type": "code",
      "execution_count": 7,
      "metadata": {
        "colab": {
          "base_uri": "https://localhost:8080/"
        },
        "id": "DwzNvIbSIKkM",
        "outputId": "8d30aeab-fed8-4b6f-a6ea-e1a09927b037"
      },
      "outputs": [
        {
          "data": {
            "text/plain": [
              "-1.1167593073964248"
            ]
          },
          "execution_count": 7,
          "metadata": {},
          "output_type": "execute_result"
        }
      ],
      "source": [
        "qulacs_hamiltonian.get_expectation_value(hf_state)"
      ]
    },
    {
      "cell_type": "markdown",
      "metadata": {
        "id": "ByfZb_blx3Fh"
      },
      "source": [
        "この値は、PySCFで計算した、Hartree-Fock Energy -1.1167593073964248 と一致していることが見て取れる。"
      ]
    },
    {
      "cell_type": "markdown",
      "metadata": {
        "id": "E7_mKIq_LA0R"
      },
      "source": [
        "# 波動関数を表す量子回路$U(\\theta)$の用意\n",
        "\n",
        "波動関数のモデルのことを物理では、ansatzと呼ぶ。\n",
        "このansatzが、VQEの場合、量子回路$U(\\theta)$となっている。\n",
        "どういった 分子の波動関数に対してどういった$U(\\theta)$がいいかは今も研究がおこなわれている最中であり、決定打となるようなものはまだ存在しない（と少なくとも思われている）。\n",
        "\n",
        "ここでは、Gard et al. による粒子数を保存する回路を用いることにしよう。\n",
        "（https://www.nature.com/articles/s41534-019-0240-1)\n",
        "\n"
      ]
    },
    {
      "cell_type": "code",
      "execution_count": 8,
      "metadata": {
        "id": "vVPhqo8qJfDI"
      },
      "outputs": [],
      "source": [
        "def create_A_gate(theta, target_two_qubits):\n",
        "  first = target_two_qubits[0]\n",
        "  second = target_two_qubits[1]\n",
        "  CNOT02 = CNOT(first, second)\n",
        "  CRY0 = RY(first, theta+np.pi/2)\n",
        "  CRY0_minus = RY(first, -(theta+np.pi/2))\n",
        "  CNOT20 = CNOT(second, first)\n",
        "  return merge(merge(merge(merge(CNOT02, CRY0), CNOT20), CRY0_minus), CNOT02)"
      ]
    },
    {
      "cell_type": "code",
      "execution_count": 9,
      "metadata": {
        "colab": {
          "base_uri": "https://localhost:8080/"
        },
        "id": "r1PJlnInR_49",
        "outputId": "82eb9db8-b3ce-4aed-a456-b4f8075039aa"
      },
      "outputs": [
        {
          "data": {
            "text/plain": [
              " *** gate info *** \n",
              " * gate name : DenseMatrix\n",
              " * target    : \n",
              " 0 : commute       \n",
              " 2 : commute       \n",
              " * control   : \n",
              " * Pauli     : no\n",
              " * Clifford  : no\n",
              " * Gaussian  : no\n",
              " * Parametric: no\n",
              " * Diagonal  : no\n",
              " * Matrix\n",
              "          (1,0)           (0,0)           (0,0)           (0,0)\n",
              "          (0,0)           (1,0) (2.22045e-16,0)           (0,0)\n",
              "          (0,0) (2.22045e-16,0)          (-1,0)           (0,0)\n",
              "          (0,0)           (0,0)           (0,0)           (1,0)"
            ]
          },
          "execution_count": 9,
          "metadata": {},
          "output_type": "execute_result"
        }
      ],
      "source": [
        "create_A_gate(0.0, [0, 2])"
      ]
    },
    {
      "cell_type": "markdown",
      "metadata": {
        "id": "WXyHWdKe30I2"
      },
      "source": [
        "この粒子数保存回路は、2つの量子ビットに作用し、１電子の移動（励起）を表現できる。\n",
        "この回路を組み合わせて作ったアンザッツ(ansatz)を使ってコスト関数（エネルギー）を計算するルーチンを以下のように用意する。"
      ]
    },
    {
      "cell_type": "code",
      "execution_count": 12,
      "metadata": {
        "id": "8ypzv2H3C_Fq"
      },
      "outputs": [],
      "source": [
        "n_repeat = 2 #量子回路の深さ\n",
        "def cost(parameters):\n",
        "    #初期波動関数の用意\n",
        "    n_qubit = 4 \n",
        "    state = QuantumState(n_qubit) # 4qubitの量子状態を用意。この時点では|0000> \n",
        "    state.set_computational_basis(int('0b0011',2)) # |0011>を用意\n",
        "    #ansatz(量子回路を用意)\n",
        "    num_paras = len(parameters)\n",
        "    ansatz = QuantumCircuit(n_qubit)\n",
        "    for i in range(n_repeat):\n",
        "        idx = 2*i \n",
        "        ansatz.add_gate(create_A_gate(parameters[idx], [0, 2]))\n",
        "        ansatz.add_gate(create_A_gate(parameters[idx+1], [1, 3]))\n",
        "        ansatz.add_gate(create_A_gate(parameters[idx], [1, 2]))\n",
        "    #近似波動関数の生成\n",
        "    ansatz.update_quantum_state(state)\n",
        "    return qulacs_hamiltonian.get_expectation_value(state) #エネルギーを返す。"
      ]
    },
    {
      "cell_type": "markdown",
      "metadata": {
        "id": "DU2BQCAqz1xr"
      },
      "source": [
        "このコスト関数を最適化すれば、VQE計算を実行したことになる。\n",
        "では、実行してみよう。"
      ]
    },
    {
      "cell_type": "code",
      "execution_count": 11,
      "metadata": {
        "colab": {
          "base_uri": "https://localhost:8080/",
          "height": 331
        },
        "id": "qPptQdMUAo48",
        "outputId": "1c1c8996-e317-4b3b-f0fa-52cc6e2fa67a"
      },
      "outputs": [
        {
          "name": "stdout",
          "output_type": "stream",
          "text": [
            "Convderged VQE Energy (in hartree) -1.1371944667383012\n",
            "c.f., Full CI Energy (in hartree)  -1.1372838344885023\n"
          ]
        },
        {
          "data": {
            "image/png": "[encoded data removed]",
            "text/plain": [
              "<Figure size 432x288 with 1 Axes>"
            ]
          },
          "metadata": {
            "needs_background": "light"
          },
          "output_type": "display_data"
        }
      ],
      "source": [
        "import scipy.optimize\n",
        "\n",
        "cost_history = []\n",
        "\n",
        "#パラメータの初期値\n",
        "init_theta_list = [np.random.random() for i in range(n_repeat*2)]\n",
        "#init_theta_list = [0.1 for i in range(n_repeat*2)]\n",
        "cost_history.append(cost(init_theta_list))\n",
        "\n",
        "method = \"BFGS\"\n",
        "options = {\"disp\": True, \"maxiter\": 50, \"gtol\": 1e-6}\n",
        "\n",
        "opt = scipy.optimize.minimize(cost, init_theta_list,\n",
        "               method=method,\n",
        "               callback=lambda x: cost_history.append(cost(x)))\n",
        "\n",
        "#print (cost_history)\n",
        "print (\"Convderged VQE Energy (in hartree)\", cost_history[-1])\n",
        "print (\"c.f., Full CI Energy (in hartree)  -1.1372838344885023\")\n",
        "plt.rcParams[\"font.size\"] = 18\n",
        "plt.plot(cost_history)\n",
        "plt.xlabel(\"Iteration\")\n",
        "plt.ylabel(\"Energy\")\n",
        "plt.show()"
      ]
    },
    {
      "cell_type": "markdown",
      "metadata": {
        "id": "Ea1XQuSbulg5"
      },
      "source": [
        "VQE Energyが 0.001 hartree以下の誤差で、Full CIのエネルギーを再現していることが見て取れる。n_repeatの数を増やして、もっと深い量子回路にすれば、Full CIと厳密に一致する解を得ることができる。逆に、n_repeatの数を減らすと(i.e., 1)、精度が低下することが確認できるので、実行してみよう。\n"
      ]
    }
  ],
  "metadata": {
    "colab": {
      "collapsed_sections": [],
      "name": "12_compute_groud_state_of_molecule_using_vqe.ipynb ",
      "provenance": []
    },
    "kernelspec": {
      "display_name": "Python 3",
      "name": "python3"
    },
    "language_info": {
      "name": "python"
    }
  },
  "nbformat": 4,
  "nbformat_minor": 0
}
