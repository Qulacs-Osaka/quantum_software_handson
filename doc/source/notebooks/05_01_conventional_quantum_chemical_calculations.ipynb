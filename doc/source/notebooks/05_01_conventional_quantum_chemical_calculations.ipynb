{
 "cells": [
  {
   "cell_type": "code",
   "execution_count": 2,
   "metadata": {
    "colab": {
     "base_uri": "https://localhost:8080/"
    },
    "id": "TyThwr7DaXJQ",
    "outputId": "afd7a8b5-1608-492c-ff16-7b5ffd3032ff"
   },
   "outputs": [
    {
     "name": "stdout",
     "output_type": "stream",
     "text": [
      "Found existing installation: h5py 3.4.0\n",
      "Uninstalling h5py-3.4.0:\n",
      "  Would remove:\n",
      "    /usr/local/lib/python3.9/site-packages/h5py-3.4.0.dist-info/*\n",
      "    /usr/local/lib/python3.9/site-packages/h5py/*\n",
      "Proceed (y/n)?   Successfully uninstalled h5py-3.4.0\n",
      "Requirement already satisfied: pyscf in /usr/local/lib/python3.9/site-packages (1.7.6)\n",
      "Collecting h5py>2.2\n",
      "  Using cached h5py-3.4.0-cp39-cp39-macosx_10_9_x86_64.whl (3.0 MB)\n",
      "Requirement already satisfied: numpy!=1.16,!=1.17,>1.8 in /usr/local/lib/python3.9/site-packages (from pyscf) (1.20.3)\n",
      "Requirement already satisfied: scipy!=1.5.0,!=1.5.1 in /usr/local/lib/python3.9/site-packages (from pyscf) (1.6.3)\n",
      "Installing collected packages: h5py\n",
      "Successfully installed h5py-3.4.0\n",
      "\u001b[33mWARNING: You are using pip version 21.1.3; however, version 21.2.4 is available.\n",
      "You should consider upgrading via the '/usr/local/opt/python@3.9/bin/python3.9 -m pip install --upgrade pip' command.\u001b[0m\n",
      "Requirement already satisfied: matplotlib in /Users/yuichiro/Library/Python/3.9/lib/python/site-packages (3.4.1)\n",
      "Requirement already satisfied: kiwisolver>=1.0.1 in /Users/yuichiro/Library/Python/3.9/lib/python/site-packages (from matplotlib) (1.3.1)\n",
      "Requirement already satisfied: python-dateutil>=2.7 in /Users/yuichiro/Library/Python/3.9/lib/python/site-packages (from matplotlib) (2.8.1)\n",
      "Requirement already satisfied: pillow>=6.2.0 in /Users/yuichiro/Library/Python/3.9/lib/python/site-packages (from matplotlib) (8.2.0)\n",
      "Requirement already satisfied: pyparsing>=2.2.1 in /Users/yuichiro/Library/Python/3.9/lib/python/site-packages (from matplotlib) (2.4.7)\n",
      "Requirement already satisfied: cycler>=0.10 in /Users/yuichiro/Library/Python/3.9/lib/python/site-packages (from matplotlib) (0.10.0)\n",
      "Requirement already satisfied: numpy>=1.16 in /usr/local/lib/python3.9/site-packages (from matplotlib) (1.20.3)\n",
      "Requirement already satisfied: six in /Users/yuichiro/Library/Python/3.9/lib/python/site-packages (from cycler>=0.10->matplotlib) (1.15.0)\n",
      "\u001b[33mWARNING: You are using pip version 21.1.3; however, version 21.2.4 is available.\n",
      "You should consider upgrading via the '/usr/local/opt/python@3.9/bin/python3.9 -m pip install --upgrade pip' command.\u001b[0m\n"
     ]
    }
   ],
   "source": [
    "!echo y | pip uninstall h5py\n",
    "!pip install numpy==1.21.6\n",
    "!pip install h5py==2.9.0\n",
    "!pip install pyscf\n",
    "!pip install matplotlib"
   ]
  },
  {
   "cell_type": "code",
   "execution_count": 3,
   "metadata": {
    "id": "guwSgFylK8dr"
   },
   "outputs": [],
   "source": [
    "import numpy as np\n",
    "import matplotlib.pyplot as plt\n",
    "from pyscf import gto, scf\n",
    "from pyscf import fci\n",
    "from pyscf import cc, mp, dft"
   ]
  },
  {
   "cell_type": "markdown",
   "metadata": {
    "id": "xTg5D2ZratS5"
   },
   "source": [
    "# 古典コンピュータを使った量子化学計算を実行してみる\n",
    "\n",
    "本勉強会の受講者には、量子化学計算に馴染みがない方も多いと思います。\n",
    "そこで、まずは、「従来型」の量子化学計算に触れていただきます。\n",
    "\n",
    "## 水素分子の計算（平均場近似と厳密対角化）\n",
    "ここでは、最も単純な分子である、水素分子($H_2$)の基底状態を求めてみます。\n",
    "ソフトウェアには、PySCFというプログラムを用います。\n",
    "計算方法は、平均場近似（Hartree-Fock)法と、厳密対角化（化学ではFull CIという）をそれぞれ実行してみます。\n",
    "\n",
    "また、通常の量子化学計算では、有限個のGauss型原子基底関数の線形結合で１電子波動関数（軌道）を記述します (Linear combination of atomic orbitals method, LCAO)。\n",
    "$$\n",
    "\\psi_i(r) = \\sum_{p} C_{ip}\\xi_p(r)\n",
    "$$\n",
    "この有限個の原子基底関数は、既に標準的に使われているものがいくつもあります。\n",
    "今回は、その中でも最も単純な、STO-3Gという基底関数を使います。\n",
    "STO-3Gでは、各水素原子にはそれぞれ１つのｓ型の軌道が使われています。\n",
    "水素分子としては、２つの「空間」軌道があることになります。\n",
    "$$\n",
    "\\xi_{1s}(r) = \\sum_{i=1}^3 d_{i,1s}g_{1s}(a_i,r)\n",
    "$$\n",
    "さて、電子にはスピンの自由度があるので、↑と↓のスピンの自由度ごとに空間軌道に電子が入ります。\n",
    "スピンの自由度ごとに入る軌道をスピン軌道といいます。\n",
    "$$\n",
    "\\chi(x) = \n",
    "\\begin{cases}\n",
    "\\psi(r)\\alpha(\\omega) \\\\\n",
    "\\textrm{or} \\\\\n",
    "\\psi(r)\\beta(\\omega)\n",
    "\\end{cases}\n",
    "$$\n",
    "スピン軌道は空間軌道の２倍の数があります。STO-3G基底関数を使った場合、\n",
    "水素分子には4つのスピン軌道があることになります。\n",
    "水素には電子が２つあるので、電子があるスピンに存在する場合を１、しない場合を０としましょう。\n",
    "すると、電子の詰まり方（電子配置は）、0011, 0101, 1001, 1100, 1010, 0110\n",
    "の6パターンが存在することがわかります。\n",
    "\n",
    "\n",
    "平均場近似では、電子の波動関数は一つのSlater行列式（一つの電子配置）であらわされます。\n",
    "つまり、先程の６パターンうち１つの電子配置しか取らないと仮定して（例えば、0011)、\n",
    "その仮定のもとでエネルギーが最小化される軌道を見つけます。\n",
    "\n",
    "\n",
    "厳密対角化（Full CI)では、全ての取りうる電子配置を考えて、その重ね合わせで、\n",
    "波動関数を表現します。\n",
    "$$\n",
    "|\\Phi_{\\textrm{CI}}\\rangle = c_{0011}|\\Psi_{0011}\\rangle + c_{0101}|\\Psi_{0101}\\rangle + c_{1001}|\\Psi_{1001}\\rangle + c_{1100}|\\Psi_{1100}\\rangle + c_{1010}|\\Psi_{1010}\\rangle + c_{0110}|\\Psi_{0110}\\rangle\n",
    "$$\n",
    "今回の例では電子配置の数は少ないですが、電子配置の数は組み合わせ爆発をおこしますので、\n",
    "計算コストは指数関数的に増大します。\n",
    "\n",
    "\n",
    "さて、まず平均場（Hartree-Fock）計算を実行してみましょう。\n"
   ]
  },
  {
   "cell_type": "code",
   "execution_count": 9,
   "metadata": {
    "colab": {
     "base_uri": "https://localhost:8080/"
    },
    "id": "ins_R1mnasiq",
    "outputId": "e6168c6c-ecdd-4c4c-c816-7bbd03d51754"
   },
   "outputs": [
    {
     "name": "stdout",
     "output_type": "stream",
     "text": [
      "Hartree-Fock Energy in (hartree) -1.1167593073964248\n"
     ]
    }
   ],
   "source": [
    "# 水素分子、H-H距離は0.74Å と設定。STO-3GというGaussian型の原子基底関数を使用。\n",
    "# 3次元座標が(0, 0, 0)のHと、(0, 0, 0.74)のHを利用。\n",
    "mol_h2 = gto.M(atom = 'H 0 0 0; H 0 0 0.74', basis = 'sto-3g')\n",
    "# この水素分子の基底状態を平均場近似（Hartree-Fock theory)で計算してみる。\n",
    "mean_filed_wavefunction = scf.RHF(mol_h2)\n",
    "mean_filed_wavefunction.verbose = 0\n",
    "hf_energy = mean_filed_wavefunction.kernel()\n",
    "print (\"Hartree-Fock Energy in (hartree)\", hf_energy)"
   ]
  },
  {
   "cell_type": "markdown",
   "metadata": {
    "id": "CKFgViF3vs7V"
   },
   "source": [
    "次に、厳密対角化（Full CI)の計算をおこないます。"
   ]
  },
  {
   "cell_type": "code",
   "execution_count": 10,
   "metadata": {
    "colab": {
     "base_uri": "https://localhost:8080/"
    },
    "id": "wCZtL6akaZdC",
    "outputId": "d8c8b8df-6049-4eee-92c9-951487cabbbd"
   },
   "outputs": [
    {
     "name": "stdout",
     "output_type": "stream",
     "text": [
      "Full CI Energy (in hartree) -1.1372838344885023\n",
      "Hartree Fock/Full CI Energy (in %) 98.19530301322638\n"
     ]
    }
   ],
   "source": [
    "full_ci_wavefunciton = fci.FCI(mean_filed_wavefunction)\n",
    "fci_energy, fci_eigenvector = full_ci_wavefunciton.kernel()\n",
    "print (\"Full CI Energy (in hartree)\", fci_energy)\n",
    "print (\"Hartree Fock/Full CI Energy (in %)\", hf_energy/fci_energy*100)"
   ]
  },
  {
   "cell_type": "markdown",
   "metadata": {
    "id": "o-f7Nos8hYY4"
   },
   "source": [
    "## 電子相関と電子相関エネルギー\n",
    "\n",
    "与えられたハミルトニアンに対する厳密解（Full CI)と平均場で解いたときのエネルギー（Hartree-Fockエネルギー）は、非常に近いことがわかる。平均場という単純な近似で、Full CIエネルギーの98.2%を再現している。一般におおよそ、Hartree-Fockは、全エネルギーの約99%を再現できると言われている。残りの約1%を電子相関エネルギーと呼ぶ。\n",
    "\n",
    "この電子相関エネルギー(Electron Correlation Energy)を見てみよう。"
   ]
  },
  {
   "cell_type": "code",
   "execution_count": 11,
   "metadata": {
    "colab": {
     "base_uri": "https://localhost:8080/"
    },
    "id": "XBwAYFTfgKkZ",
    "outputId": "89a86779-eeaf-4232-a212-79c82af5ec25"
   },
   "outputs": [
    {
     "name": "stdout",
     "output_type": "stream",
     "text": [
      "Electron Correlation Energy in (hartree) -0.020524527092077527\n",
      "Electron Correlation Energy in (eV) -0.5585011165133584\n",
      "Electron Correlation Energy in (kcal/mol) -12.879314997356303\n"
     ]
    }
   ],
   "source": [
    "electron_correlation_energy = fci_energy - hf_energy\n",
    "print (\"Electron Correlation Energy in (hartree)\", electron_correlation_energy)\n",
    "print (\"Electron Correlation Energy in (eV)\", electron_correlation_energy*27.2114)\n",
    "print (\"Electron Correlation Energy in (kcal/mol)\", electron_correlation_energy*23.0605*27.2114)"
   ]
  },
  {
   "cell_type": "markdown",
   "metadata": {
    "id": "vcTzQ6ohok3K"
   },
   "source": [
    "## 電子相関エネルギーと化学的精度\n",
    "\n",
    "電子相関は、約0.56eV（13 kcal/mol)となっている。\n",
    "さて、熱エネルギー（ボルツマン因子の逆数 $1/\\beta = k_bT$; $k_b$はボルツマン定数）は、室温298.15Kで約0.026eV (0.59kcal/mol)である。 熱エネルギーと比べると、電子相関のエネルギーは非常に大きい値であることがわかる。\n",
    "\n",
    "\n",
    "分子の安定性（存在比）や、化学反応速度は、状態間のエネルギー差を$\\Delta E$とするとボルツマン分布$e^{-\\beta \\Delta E}$に比例し、エネルギー差に対して指数的に減少（増大）する。\n",
    "+/- 0.56eV (13kcal/mol)ほど、$\\Delta E$に誤差があるとすれば、正解となる反応速度を１としたときに、誤差に応じて以下のように大きく変動する。"
   ]
  },
  {
   "cell_type": "code",
   "execution_count": 12,
   "metadata": {
    "colab": {
     "base_uri": "https://localhost:8080/"
    },
    "id": "fnuvIIxvmjw2",
    "outputId": "b02028b6-025c-43eb-aa07-8bcfbe8d6d61"
   },
   "outputs": [
    {
     "name": "stdout",
     "output_type": "stream",
     "text": [
      "誤差が 0.56eVあったときの反応速度 4.4e-10\n",
      "誤差が-0.56eVあったときの反応速度 2.3e+09\n"
     ]
    }
   ],
   "source": [
    "print (\"誤差が 0.56eVあったときの反応速度 %1.1e\" %np.exp(-0.56/0.026))\n",
    "print (\"誤差が-0.56eVあったときの反応速度 %1.1e\" %np.exp(0.56/0.026))"
   ]
  },
  {
   "cell_type": "markdown",
   "metadata": {
    "id": "Bsx3cTf-uwbr"
   },
   "source": [
    "さて、誤差が 1kca/mol (約0.043eV)以下であった場合はどうだろう？"
   ]
  },
  {
   "cell_type": "code",
   "execution_count": 13,
   "metadata": {
    "colab": {
     "base_uri": "https://localhost:8080/"
    },
    "id": "hHUEWys7ur3q",
    "outputId": "cfa91a51-7c44-456b-a16f-63d55b16b88b"
   },
   "outputs": [
    {
     "name": "stdout",
     "output_type": "stream",
     "text": [
      "誤差が1kcal/mol(0.043eV)あったときの反応速度 1.9e-01\n",
      "誤差が1kcal/mol(-0.043V)あったときの反応速度 5.2e+00\n"
     ]
    }
   ],
   "source": [
    "print (\"誤差が1kcal/mol(0.043eV)あったときの反応速度 %1.1e\" %np.exp(-0.043/0.026))\n",
    "print (\"誤差が1kcal/mol(-0.043V)あったときの反応速度 %1.1e\" %np.exp(0.043/0.026))"
   ]
  },
  {
   "cell_type": "markdown",
   "metadata": {
    "id": "0DkWrPN4vPzX"
   },
   "source": [
    "反応速度は、室温の場合、おおよそオーダーではあうことがわかる。\n",
    "少なくとも、「反応速度（や存在比）のオーダーは予測できること」＝「化学における定量的計算」とするならば、量子化学の計算において目指すべき誤差はこの「1kcal/mol」となることがわかる。"
   ]
  },
  {
   "cell_type": "markdown",
   "metadata": {
    "id": "9imFBuPz0NmD"
   },
   "source": [
    "## 代表的なその他の量子化学計算手法\n",
    "\n",
    "\n",
    "さて、では、計算の定量性を増すにはどうすればいいのだろうか？ \n",
    "厳密にハミルトニアンを解く方法 Full CIは指数関数的な計算コストが必要となる。\n",
    "このコストを下げるために、量子化学では、様々な近似理論が開発されてきた。\n",
    "ここでは、計算コストが$O(N^5)$の二次の摂動論MP2、\n",
    "現在の量子化学の「Golden standard」と称される$O(N^7)$の CCSD(T)、\n",
    "そして、計算コストが$O(N^3)$で業界標準の方法となっているDFTという3つの手法を、\n",
    "厳密な方法(Full CI)と比較してみよう。\n",
    "\n",
    "水素分子は簡単過ぎるので、$H_4$という系を考えてみる。"
   ]
  },
  {
   "cell_type": "code",
   "execution_count": 14,
   "metadata": {
    "id": "pG6X2N91t4jM"
   },
   "outputs": [],
   "source": [
    "%%capture\n",
    "hf_energies = []\n",
    "mp2_energies = []\n",
    "ccsdt_energies = []\n",
    "fci_energies = []\n",
    "dft_energies = []\n",
    "r_list = []\n",
    "for i in range(15):\n",
    "  # H4、H-H距離を変化。STO-3GというGaussian型の原子基底関数を使用。\n",
    "  r=0.5+i*0.15\n",
    "  mol_h4 = gto.M(atom = 'H 0 0 0; H 0 0 %f; H 0 0 %f; H 0 0 %f' %(r,r*2,r*3),\n",
    "  basis = 'sto-3g')\n",
    "  # この水素分子の基底状態を平均場近似（Hartree-Fock theory)で計算してみる。\n",
    "  mean_filed_wavefunction = scf.RHF(mol_h4)\n",
    "  mean_filed_wavefunction.verbose = 0\n",
    "  hf_energy = mean_filed_wavefunction.kernel()\n",
    "  dft_wavefunction = dft.RKS(mol_h4)\n",
    "  dft_wavefunction.verbose = 0\n",
    "  dft_wavefunction.xc = 'B3LYP'\n",
    "  dft_energy = dft_wavefunction.kernel()\n",
    "  mp2_energy = mp.MP2(mean_filed_wavefunction).kernel()[0] + hf_energy\n",
    "  ccsd_wavefunction = cc.RCCSD(mean_filed_wavefunction)\n",
    "  ccsd_wavefunction.kernel()\n",
    "  ccsdt_energy = ccsd_wavefunction.ccsd_t() + ccsd_wavefunction.e_tot\n",
    "  full_ci_wavefunciton = fci.FCI(mean_filed_wavefunction)\n",
    "  fci_energy, fci_eigenvector = full_ci_wavefunciton.kernel()\n",
    "  hf_energies.append(hf_energy)\n",
    "  mp2_energies.append(mp2_energy)\n",
    "  ccsdt_energies.append(ccsdt_energy)\n",
    "  fci_energies.append(fci_energy)\n",
    "  dft_energies.append(dft_energy)\n",
    "  r_list.append(r)\n"
   ]
  },
  {
   "cell_type": "code",
   "execution_count": 15,
   "metadata": {
    "colab": {
     "base_uri": "https://localhost:8080/",
     "height": 279
    },
    "id": "ACMUE0lEliIa",
    "outputId": "05ec03f8-eeab-403f-c39c-d37c173eab2e"
   },
   "outputs": [
    {
     "data": {
      "image/png": "[encoded data removed]",
      "text/plain": [
       "<Figure size 432x288 with 1 Axes>"
      ]
     },
     "metadata": {
      "needs_background": "light"
     },
     "output_type": "display_data"
    }
   ],
   "source": [
    "plt.plot(r_list, hf_energies, label=\"HF\")\n",
    "plt.plot(r_list, mp2_energies, label=\"MP2\")\n",
    "plt.plot(r_list, ccsdt_energies, label=\"CCSD(T)\")\n",
    "plt.plot(r_list, fci_energies, label=\"Full CI\")\n",
    "plt.plot(r_list, dft_energies, label=\"DFT(B3LYP)\")\n",
    "plt.ylabel(\"Energy in hartree\")\n",
    "plt.xlabel(\"H-H distance in angstrom\")\n",
    "plt.legend()\n",
    "plt.show()"
   ]
  },
  {
   "cell_type": "markdown",
   "metadata": {
    "id": "kl7aeQBh9r4h"
   },
   "source": [
    "DFTは、電子密度に依存する'ad hoc'なポテンシャルをHatree-Fockに導入した理論と捉えることができる。DFT自体は変分法であるが、この追加したポテンシャルのために、DFTのエネルギーの絶対値はFull CIの解よりも低いエネルギーを与えうる。\n",
    "\n",
    "CCSD(T)は、H-Hの距離が長くなるところ（強相関領域）では、厳密解との乖離が大きくなるが、H-H距離が短いところではFull CIと良好な一致をしめしていることがわかる。\n",
    "\n",
    "CCSD(T)は優れた理論であり、それ故に'Golden standard'と称されるわけだが、電子相関が強い領域で破綻する（もしくは精度が低下する）ことが知られている。\n",
    "一般に電子相関が強い領域を定量的に記述することは大変であり、\n",
    "満足のいく量子化学理論は未だに存在しない。\n",
    "\n",
    "これが量子コンピュータに期待が集まる背景である。"
   ]
  },
  {
   "cell_type": "code",
   "execution_count": null,
   "metadata": {},
   "outputs": [],
   "source": []
  }
 ],
 "metadata": {
  "colab": {
   "collapsed_sections": [],
   "name": "10_conventional_quantum_chemical_calculations.ipynb",
   "provenance": []
  },
  "kernelspec": {
   "display_name": "Python 3",
   "language": "python",
   "name": "python3"
  },
  "language_info": {
   "codemirror_mode": {
    "name": "ipython",
    "version": 3
   },
   "file_extension": ".py",
   "mimetype": "text/x-python",
   "name": "python",
   "nbconvert_exporter": "python",
   "pygments_lexer": "ipython3",
   "version": "3.8.2"
  }
 },
 "nbformat": 4,
 "nbformat_minor": 1
}
