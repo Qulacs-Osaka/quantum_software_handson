{
 "cells": [
  {
   "cell_type": "markdown",
   "id": "e8ba14d6",
   "metadata": {},
   "source": [
    "# Quantum Selected Configuration Interaction (QSCI)法による基底状態計算\n",
    "\n",
    "このノートブックでは、Quantum selected configuration interaction (QSCI)法[1]を使って分子系のエネルギーを求める。\n",
    "\n",
    "QSCI法では、以下のような手順で系のエネルギーを求める。\n",
    "\n",
    "0. VQEなどを活用し量子状態を用意する。\n",
    "1. ビット列のサンプリングを行う。\n",
    "2. サンプルされた計算基底が張る部分空間の有効ハミルトニアンを構築する。\n",
    "3. 有効ハミルトニアンを対角化する。\n",
    "\n",
    "単純化したコードを準備したので、順番に実行していこう。\n"
   ]
  },
  {
   "cell_type": "code",
   "execution_count": null,
   "id": "27bd46ff",
   "metadata": {},
   "outputs": [],
   "source": [
    "%pip install openfermion --upgrade\n",
    "%pip install h5py --upgrade\n",
    "%pip install openfermionpyscf qulacs scipy\n",
    "%pip install py3Dmol"
   ]
  },
  {
   "cell_type": "markdown",
   "id": "d62ce32e",
   "metadata": {},
   "source": [
    "## 0. VQEなどを活用し量子状態を用意する。\n",
    "\n",
    "05_03「量子変分固有値法（VQE）を用いた基底状態計算」の中身を再度実行し、量子状態 $|\\Psi\\rangle$ を用意する。（本ノートブックで行っている計算は全て、従来型の（古典）コンピュータ上でのシミュレーションです。）"
   ]
  },
  {
   "cell_type": "code",
   "execution_count": 3,
   "id": "5f54a125",
   "metadata": {},
   "outputs": [],
   "source": [
    "import numpy as np\n",
    "import matplotlib.pyplot as plt\n",
    "import scipy.optimize\n",
    "from openfermion.transforms import get_fermion_operator, jordan_wigner, bravyi_kitaev, symmetry_conserving_bravyi_kitaev\n",
    "from openfermion.ops import FermionOperator\n",
    "from pyscf import gto, scf, tools\n",
    "from qchem_util import get_molecular_hamiltonian_from_fcidump\n",
    "from qulacs.observable import create_observable_from_openfermion_text\n",
    "from qulacs import QuantumState, QuantumCircuit\n",
    "from qulacs.gate import X, RY, CNOT, merge, RY"
   ]
  },
  {
   "cell_type": "markdown",
   "id": "e92c7781",
   "metadata": {},
   "source": [
    "HF計算を実行し、ハミルトニアンを準備する。"
   ]
  },
  {
   "cell_type": "code",
   "execution_count": null,
   "id": "3b1dd866",
   "metadata": {},
   "outputs": [
    {
     "name": "stdout",
     "output_type": "stream",
     "text": [
      "Parsing fcidump.rhf\n",
      "(-0.0970662681676308+0j) [] +\n",
      "(-0.04530261550379926+0j) [X0 X1 Y2 Y3] +\n",
      "(0.04530261550379926+0j) [X0 Y1 Y2 X3] +\n",
      "(0.04530261550379926+0j) [Y0 X1 X2 Y3] +\n",
      "(-0.04530261550379926+0j) [Y0 Y1 X2 X3] +\n",
      "(0.17141282644776878+0j) [Z0] +\n",
      "(0.16868898170361207+0j) [Z0 Z1] +\n",
      "(0.12062523483390412+0j) [Z0 Z2] +\n",
      "(0.16592785033770338+0j) [Z0 Z3] +\n",
      "(0.1714128264477688+0j) [Z1] +\n",
      "(0.16592785033770338+0j) [Z1 Z2] +\n",
      "(0.12062523483390412+0j) [Z1 Z3] +\n",
      "(-0.22343153690813433+0j) [Z2] +\n",
      "(0.17441287612261566+0j) [Z2 Z3] +\n",
      "(-0.22343153690813428+0j) [Z3]\n"
     ]
    }
   ],
   "source": [
    "mol = gto.M(atom = 'H 0 0 0; H 0 0 0.74', basis = 'sto-3g')\n",
    "mf = scf.RHF(mol)\n",
    "mf.verbose = 0\n",
    "hf_energy = mf.kernel()\n",
    "# 第二量子化された電子のハミルトニアンを構築し、fcidump 形式で保存\n",
    "tools.fcidump.from_scf(mf, 'fcidump.rhf') \n",
    "# OpenFermionに第二量子化されたハミルトニアンをロード\n",
    "fermion_hamiltonian = get_fermion_operator(get_molecular_hamiltonian_from_fcidump('fcidump.rhf'))\n",
    "# Jordan-Wigner変換を行う\n",
    "jw_qubit_hamiltonian = jordan_wigner(fermion_hamiltonian)\n",
    "print (jw_qubit_hamiltonian)"
   ]
  },
  {
   "cell_type": "code",
   "execution_count": 5,
   "id": "987f5450",
   "metadata": {},
   "outputs": [],
   "source": [
    "n_qubit = 4 \n",
    "hf_state = QuantumState(n_qubit) # 4qubitの量子状態を用意。この時点では|0000> \n",
    "hf_state.set_computational_basis(int('0b0011',2)) # |0011>を用意"
   ]
  },
  {
   "cell_type": "code",
   "execution_count": 6,
   "id": "2a32b673",
   "metadata": {},
   "outputs": [],
   "source": [
    "qulacs_hamiltonian = create_observable_from_openfermion_text(str(jw_qubit_hamiltonian))"
   ]
  },
  {
   "cell_type": "code",
   "execution_count": 63,
   "id": "ee57517d",
   "metadata": {},
   "outputs": [
    {
     "name": "stdout",
     "output_type": "stream",
     "text": [
      "HF energy: -1.1167593073964255\n"
     ]
    },
    {
     "data": {
      "text/plain": [
       "-1.1167593073964242"
      ]
     },
     "execution_count": 63,
     "metadata": {},
     "output_type": "execute_result"
    }
   ],
   "source": [
    "print(\"HF energy:\", hf_energy)\n",
    "qulacs_hamiltonian.get_expectation_value(hf_state)"
   ]
  },
  {
   "cell_type": "markdown",
   "id": "a76501c9",
   "metadata": {},
   "source": [
    "HF状態によるハミルトニアンの期待値は確かにHF energyを再現している。\n",
    "\n",
    "VQEも同様に再実行していこう。"
   ]
  },
  {
   "cell_type": "code",
   "execution_count": 64,
   "id": "e50a3f63",
   "metadata": {},
   "outputs": [],
   "source": [
    "def create_A_gate(theta, target_two_qubits):\n",
    "  first = target_two_qubits[0]\n",
    "  second = target_two_qubits[1]\n",
    "  CNOT02 = CNOT(first, second)\n",
    "  CRY0 = RY(first, theta+np.pi/2)\n",
    "  CRY0_minus = RY(first, -(theta+np.pi/2))\n",
    "  CNOT20 = CNOT(second, first)\n",
    "  return merge(merge(merge(merge(CNOT02, CRY0), CNOT20), CRY0_minus), CNOT02)"
   ]
  },
  {
   "cell_type": "code",
   "execution_count": 65,
   "id": "826f670d",
   "metadata": {},
   "outputs": [
    {
     "name": "stdout",
     "output_type": "stream",
     "text": [
      " *** gate info *** \n",
      " * gate name : DenseMatrix\n",
      " * target    : \n",
      " 0 : commute       \n",
      " 2 : commute       \n",
      " * control   : \n",
      " * Pauli     : no\n",
      " * Clifford  : no\n",
      " * Gaussian  : no\n",
      " * Parametric: no\n",
      " * Diagonal  : no\n",
      " * Matrix\n",
      "          (1,0)           (0,0)           (0,0)           (0,0)\n",
      "          (0,0)           (1,0) (2.22045e-16,0)           (0,0)\n",
      "          (0,0) (2.22045e-16,0)          (-1,0)           (0,0)\n",
      "          (0,0)           (0,0)           (0,0)           (1,0)\n",
      "\n"
     ]
    }
   ],
   "source": [
    "print (create_A_gate(0.0, [0, 2]))"
   ]
  },
  {
   "cell_type": "code",
   "execution_count": 66,
   "id": "395a0785",
   "metadata": {},
   "outputs": [],
   "source": [
    "n_repeat = 2 #量子回路の深さ\n",
    "def cost(parameters):\n",
    "    #初期波動関数の用意\n",
    "    n_qubit = 4 \n",
    "    state = QuantumState(n_qubit) # 4qubitの量子状態を用意。この時点では|0000> \n",
    "    state.set_computational_basis(int('0b0011',2)) # |0011>を用意\n",
    "    #ansatz(量子回路を用意)\n",
    "    num_paras = len(parameters)\n",
    "    ansatz = QuantumCircuit(n_qubit)\n",
    "    for i in range(n_repeat):\n",
    "        idx = 2*i \n",
    "        ansatz.add_gate(create_A_gate(parameters[idx], [0, 2]))\n",
    "        ansatz.add_gate(create_A_gate(parameters[idx+1], [1, 3]))\n",
    "        ansatz.add_gate(create_A_gate(parameters[idx], [1, 2]))\n",
    "    #近似波動関数の生成\n",
    "    ansatz.update_quantum_state(state)\n",
    "    return qulacs_hamiltonian.get_expectation_value(state) #エネルギーを返す。"
   ]
  },
  {
   "cell_type": "code",
   "execution_count": 67,
   "id": "97edbbe4",
   "metadata": {},
   "outputs": [
    {
     "name": "stdout",
     "output_type": "stream",
     "text": [
      "Convderged VQE Energy (in hartree) -1.1371944668021448\n",
      "c.f., Full CI Energy (in hartree)  -1.1372838344885023\n"
     ]
    },
    {
     "data": {
      "image/png": "[encoded data removed]",
      "text/plain": [
       "<Figure size 640x480 with 1 Axes>"
      ]
     },
     "metadata": {},
     "output_type": "display_data"
    }
   ],
   "source": [
    "import scipy.optimize\n",
    "\n",
    "cost_history = []\n",
    "\n",
    "#パラメータの初期値\n",
    "init_theta_list = [np.random.random() for i in range(n_repeat*2)]\n",
    "#init_theta_list = [0.1 for i in range(n_repeat*2)]\n",
    "cost_history.append(cost(init_theta_list))\n",
    "\n",
    "method = \"BFGS\"\n",
    "options = {\"disp\": True, \"maxiter\": 50, \"gtol\": 1e-6}\n",
    "\n",
    "opt = scipy.optimize.minimize(cost, init_theta_list,\n",
    "               method=method,\n",
    "               callback=lambda x: cost_history.append(cost(x)))\n",
    "\n",
    "#print (cost_history)\n",
    "print (\"Convderged VQE Energy (in hartree)\", cost_history[-1])\n",
    "print (\"c.f., Full CI Energy (in hartree)  -1.1372838344885023\")\n",
    "plt.rcParams[\"font.size\"] = 18\n",
    "plt.plot(cost_history)\n",
    "plt.xlabel(\"Iteration\")\n",
    "plt.ylabel(\"Energy\")\n",
    "plt.show()"
   ]
  },
  {
   "cell_type": "markdown",
   "id": "303c9028",
   "metadata": {},
   "source": [
    "VQEを実行できた。\n",
    "\n",
    "## 1. ビット列のサンプリングを行う。\n",
    "\n",
    "最適化後のパラメータを回路に代入し、量子状態を用意する。"
   ]
  },
  {
   "cell_type": "code",
   "execution_count": 12,
   "id": "ce540c2d",
   "metadata": {},
   "outputs": [],
   "source": [
    "def get_state(parameters):\n",
    "    #初期波動関数の用意\n",
    "    n_qubit = 4 \n",
    "    state = QuantumState(n_qubit) # 4qubitの量子状態を用意。この時点では|0000> \n",
    "    state.set_computational_basis(int('0b0011',2)) # |0011>を用意\n",
    "    #ansatz(量子回路を用意)\n",
    "    num_paras = len(parameters)\n",
    "    ansatz = QuantumCircuit(n_qubit)\n",
    "    for i in range(n_repeat):\n",
    "        idx = 2*i \n",
    "        ansatz.add_gate(create_A_gate(parameters[idx], [0, 2]))\n",
    "        ansatz.add_gate(create_A_gate(parameters[idx+1], [1, 3]))\n",
    "        ansatz.add_gate(create_A_gate(parameters[idx], [1, 2]))\n",
    "    #近似波動関数の生成\n",
    "    ansatz.update_quantum_state(state)\n",
    "    return state "
   ]
  },
  {
   "cell_type": "markdown",
   "id": "04229978",
   "metadata": {},
   "source": [
    "最適化後のパラメータは以下である。"
   ]
  },
  {
   "cell_type": "code",
   "execution_count": 13,
   "id": "b3890733",
   "metadata": {},
   "outputs": [
    {
     "data": {
      "text/plain": [
       "array([ 0.2479935 , -0.24298693,  0.23120636, -0.22257288])"
      ]
     },
     "execution_count": 13,
     "metadata": {},
     "output_type": "execute_result"
    }
   ],
   "source": [
    "opt.x"
   ]
  },
  {
   "cell_type": "code",
   "execution_count": 14,
   "id": "cc8289ba",
   "metadata": {},
   "outputs": [],
   "source": [
    "state = get_state(opt.x)"
   ]
  },
  {
   "cell_type": "markdown",
   "id": "5b9230a9",
   "metadata": {},
   "source": [
    "sampling関数を使って、量子状態からビット列をサンプリングする。"
   ]
  },
  {
   "cell_type": "code",
   "execution_count": null,
   "id": "ea16bdd5",
   "metadata": {},
   "outputs": [
    {
     "data": {
      "text/plain": [
       "Counter({3: 98735, 12: 1253, 10: 10, 6: 1, 5: 1})"
      ]
     },
     "execution_count": 48,
     "metadata": {},
     "output_type": "execute_result"
    }
   ],
   "source": [
    "n_shots = 100000\n",
    "\n",
    "import collections\n",
    "samples = state.sampling(n_shots)\n",
    "sampling_result = collections.Counter(samples)\n",
    "sampling_result"
   ]
  },
  {
   "cell_type": "markdown",
   "id": "a6046ac7",
   "metadata": {},
   "source": [
    "サンプルされたビット列（十進数表示）とその頻度が辞書型オブジェクトにまとめられている。\n",
    "\n",
    "HF状態、`int('0b0011',2) = 3`の頻度が非常に大きいことがわかる。"
   ]
  },
  {
   "cell_type": "code",
   "execution_count": 68,
   "id": "0235cfce",
   "metadata": {},
   "outputs": [
    {
     "name": "stdout",
     "output_type": "stream",
     "text": [
      "[3, 12, 10, 6, 5]\n"
     ]
    }
   ],
   "source": [
    "# キーだけをリスト化\n",
    "config_list = list(sampling_result.keys())\n",
    "print(config_list)"
   ]
  },
  {
   "cell_type": "markdown",
   "id": "796cc484",
   "metadata": {},
   "source": [
    "## 2. サンプルされた計算基底が張る部分空間の有効ハミルトニアンを構築する。\n",
    "\n",
    "実際にビット列をサンプルできた。ここからは、サンプリングされた計算基底 $\\{|\\Phi_i\\rangle\\}$ が張る部分空間における有効ハミルトニアン $\\hat{H}^{\\textrm{eff}}$ を構築する。\n",
    "\n",
    "有効ハミルトニアンの行列要素は\n",
    "$$\n",
    "\\hat{H}^{\\textrm{eff}}_{ij} = \\langle \\Phi_i | \\hat{H} | \\Phi_j \\rangle\n",
    "$$\n",
    "である。\n",
    "\n",
    "わかりやすさのために、ハミルトニアンを行列の形にする。"
   ]
  },
  {
   "cell_type": "code",
   "execution_count": 50,
   "id": "2ea7cd5c",
   "metadata": {},
   "outputs": [],
   "source": [
    "from openfermion.linalg import get_sparse_operator\n",
    "jw_hamiltonian_sparse = get_sparse_operator(jw_qubit_hamiltonian)\n",
    "jw_hamiltonian_array = jw_hamiltonian_sparse.toarray()"
   ]
  },
  {
   "cell_type": "markdown",
   "id": "1b34709b",
   "metadata": {},
   "source": [
    "以下の関数を使って、元の行列 $\\hat{H}$ から、サンプルされたインデックスのみを使って小さな行列 $\\hat{H}^{\\textrm{eff}}$ を作る。"
   ]
  },
  {
   "cell_type": "code",
   "execution_count": null,
   "id": "099787a3",
   "metadata": {},
   "outputs": [],
   "source": [
    "def effective_Hamiltonian_construction(configs, H_matrix_array):\n",
    "    \"\"\"\n",
    "    Constuct effective Hamiltonian matrix using configs\n",
    "    Args:\n",
    "        configs: Configurations lists.\n",
    "        H_matrix_array: Jordan-Wigner transformed Hamiltonian matrix\n",
    "    Returns:\n",
    "        Heff_matrix_array: Effective Hamiltonian matrix, which contains sampled computational bases block.\n",
    "    \"\"\"\n",
    "    Heff_matrix_array = np.zeros((len(configs), len(configs)))  # Initialize the Heff matrix\n",
    "\n",
    "    for i_eff, idx_i in enumerate(configs):\n",
    "        for j_eff, idx_j in enumerate(configs):\n",
    "            Heff_matrix_array[i_eff, j_eff] = H_matrix_array[idx_i, idx_j]\n",
    "\n",
    "    return Heff_matrix_array"
   ]
  },
  {
   "cell_type": "markdown",
   "id": "4dcd80fc",
   "metadata": {},
   "source": [
    "（実は、用意した行列のビット列の並びの定義がこれまでと反対になってしまっているので、ビット列を反転させておく。）"
   ]
  },
  {
   "cell_type": "code",
   "execution_count": 54,
   "id": "8977419e",
   "metadata": {},
   "outputs": [],
   "source": [
    "def invert_configs_bit_order(configs, total_bits):\n",
    "    \"\"\"\n",
    "    Inverts the order of bits in the configuration integer.\n",
    "\n",
    "    Args:\n",
    "        configs: Integer representing the electron configuration bitstrings.\n",
    "        total_bits: Total number of bits in the configuration (e.g., 2*nbits for up and down spins).\n",
    "\n",
    "    Returns:\n",
    "        Integer lists whose binary representation is the reverse of the original.\n",
    "        \n",
    "    Example:\n",
    "        # For nbits=2, total_bits=4. Suppose config_int corresponds to the bit string \"1010\".\n",
    "        # The reversed bit string is \"0101\", which equals 5 in decimal.\n",
    "        result = invert_config_bit_order(10, 4)  # 10 == \"1010\" -> reversed -> \"0101\" -> 5\n",
    "    \"\"\"\n",
    "    invert_configs = []\n",
    "    for config_int in configs:\n",
    "        # Convert to a fixed-length bit string with leading zeros.\n",
    "        bit_str = format(config_int, f'0{total_bits}b')\n",
    "        # Reverse the bit string.\n",
    "        reversed_str = bit_str[::-1]\n",
    "        # Convert the reversed bit string back to an integer.\n",
    "        invert_configs.append(int(reversed_str, 2))\n",
    "    return invert_configs"
   ]
  },
  {
   "cell_type": "code",
   "execution_count": 69,
   "id": "2b1a9bfc",
   "metadata": {},
   "outputs": [
    {
     "data": {
      "text/plain": [
       "[12, 3, 5, 6, 10]"
      ]
     },
     "execution_count": 69,
     "metadata": {},
     "output_type": "execute_result"
    }
   ],
   "source": [
    "invert_config_list = invert_configs_bit_order(config_list, total_bits=state.get_qubit_count())\n",
    "invert_config_list"
   ]
  },
  {
   "cell_type": "code",
   "execution_count": 72,
   "id": "153eb2a3",
   "metadata": {},
   "outputs": [
    {
     "name": "stderr",
     "output_type": "stream",
     "text": [
      "/var/folders/j6/x72n0mcn26g2m2nmv506b9rh0000gn/T/ipykernel_20042/1358725023.py:14: ComplexWarning: Casting complex values to real discards the imaginary part\n",
      "  Heff_matrix_array[i_eff, j_eff] = H_matrix_array[idx_i, idx_j]\n"
     ]
    }
   ],
   "source": [
    "jw_Heff_array = effective_Hamiltonian_construction(invert_config_list, jw_hamiltonian_array)"
   ]
  },
  {
   "cell_type": "markdown",
   "id": "eb86959a",
   "metadata": {},
   "source": [
    "元のハミルトニアン $\\hat{H}$ と 有効ハミルトニアン $\\hat{H}^{\\textrm{eff}}$ の行列サイズをそれぞれ確認してみよう。"
   ]
  },
  {
   "cell_type": "code",
   "execution_count": 79,
   "id": "f4c2b086",
   "metadata": {},
   "outputs": [
    {
     "name": "stdout",
     "output_type": "stream",
     "text": [
      "元のハミルトニアンの行列サイズ： (16, 16)\n",
      "有効ハミルトニアンの行列サイズ： (5, 5)\n"
     ]
    }
   ],
   "source": [
    "print(\"元のハミルトニアンの行列サイズ：\", jw_hamiltonian_array.shape)\n",
    "print(\"有効ハミルトニアンの行列サイズ：\", jw_Heff_array.shape)"
   ]
  },
  {
   "cell_type": "markdown",
   "id": "c6cd448e",
   "metadata": {},
   "source": [
    "元のハミルトニアンの行列サイズは $2^4 \\times 2^4$ であるのに対し、サンプルされたビット列のみを使って小さなハミルトニアン行列を構築できていることがわかる。\n",
    "\n",
    "## 3. 有効ハミルトニアンを対角化する。\n",
    "\n",
    "あとは構築した有効ハミルトニアンを対角化するだけである。\n"
   ]
  },
  {
   "cell_type": "code",
   "execution_count": 56,
   "id": "d085171d",
   "metadata": {},
   "outputs": [],
   "source": [
    "eigen_energies, eigen_vectors = np.linalg.eigh(jw_Heff_array)"
   ]
  },
  {
   "cell_type": "code",
   "execution_count": 61,
   "id": "20e3c083",
   "metadata": {},
   "outputs": [
    {
     "name": "stdout",
     "output_type": "stream",
     "text": [
      "QSCI Energy (in hartree) -1.1372838344885006\n",
      "c.f., Full CI Energy (in hartree)  -1.1372838344885023\n"
     ]
    }
   ],
   "source": [
    "print(\"QSCI Energy (in hartree)\", eigen_energies[0])\n",
    "print (\"c.f., Full CI Energy (in hartree)  -1.1372838344885023\")"
   ]
  },
  {
   "cell_type": "markdown",
   "id": "3189af05",
   "metadata": {},
   "source": [
    "今回の対角化結果は厳密解を再現していることがわかる。\n",
    "\n",
    "これは、有効ハミルトニアンが基底状態を再現するのに必要なビット列の全てを使って構成されているからである。"
   ]
  },
  {
   "cell_type": "markdown",
   "id": "45bb0e37",
   "metadata": {},
   "source": [
    "## 参考文献\n",
    "[1] K. Kanno, et al., arXiv:2302.11320."
   ]
  }
 ],
 "metadata": {
  "kernelspec": {
   "display_name": ".venv",
   "language": "python",
   "name": "python3"
  },
  "language_info": {
   "codemirror_mode": {
    "name": "ipython",
    "version": 3
   },
   "file_extension": ".py",
   "mimetype": "text/x-python",
   "name": "python",
   "nbconvert_exporter": "python",
   "pygments_lexer": "ipython3",
   "version": "3.10.14"
  }
 },
 "nbformat": 4,
 "nbformat_minor": 5
}
