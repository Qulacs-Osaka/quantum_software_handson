{
 "cells": [
  {
   "cell_type": "markdown",
   "metadata": {},
   "source": [
    "量子ソフトウェア勉強会第13回目:「量子インスパイアード古典アルゴリズム」ハンズオン資料 2  \n",
    "2022年10月7日(金)  \n",
    "高比良宗一\n",
    "$$\n",
    "\\newcommand{\\norm}[1]{\\lVert#1\\rVert}\n",
    "\\renewcommand{\\top}{\\mathsf{T}}\n",
    "\\newcommand{\\SQ}{\\mathrm{SQ}}\n",
    "$$\n",
    "# $x = A^+b$に関する量子インスパイアード古典アルゴリズム Part 1\n",
    "\n",
    "### (行列$C$の特異値分解まで)\n",
    "\n",
    "このノートブックでは，量子インスパイアード古典アルゴリズムにおける，$A$から構成される行列$C$を得るまでの部分，及びその特異値分解について実装します．そして$C$の左特異ベクトル$w^{(\\ell)}$と特異値$\\tilde{\\sigma}$によって，$A$の左右の特異ベクトルと特異値が近似される様子を確認してみます．"
   ]
  },
  {
   "cell_type": "markdown",
   "metadata": {},
   "source": [
    "## 行列$A$を定義する\n",
    "低ランク行列$A$を生成する関数を定義します．"
   ]
  },
  {
   "cell_type": "code",
   "execution_count": 2,
   "metadata": {},
   "outputs": [],
   "source": [
    "import random\n",
    "import cmath, math\n",
    "import time\n",
    "import numpy as np\n",
    "import scipy as sp\n",
    "import scipy.linalg\n",
    "import matplotlib.pyplot as plt\n",
    "\n",
    "def low_rank_matrix(m, n, rank, cond=10):\n",
    "\n",
    "    \"\"\"\n",
    "    ランクが`rank`で，条件数が`cond`であるような m x n の実行列を生成する．\n",
    "    ここで条件数とは最大特異値/最小特異値である．したがってrank=1のときは条件数の値は1になる．\n",
    "    \n",
    "    \"\"\"\n",
    "    \n",
    "    U, _  = np.linalg.qr(np.random.rand(m, m))\n",
    "    Vh, _ = np.linalg.qr(np.random.rand(n, n))\n",
    "    \n",
    "    if rank==1:\n",
    "        diag = np.array([cond])\n",
    "        \n",
    "    elif rank==2: \n",
    "        diag = np.array([1, 1/cond])\n",
    "    else:\n",
    "        diag = [random.uniform(1/cond, 1) for i in range(rank)]\n",
    "        diag[1] = 1\n",
    "        diag[2] = 1/cond\n",
    "    \n",
    "    return U[:,:rank] @ np.diag(diag) @ Vh[:rank,:]"
   ]
  },
  {
   "cell_type": "code",
   "execution_count": 3,
   "metadata": {},
   "outputs": [
    {
     "name": "stdout",
     "output_type": "stream",
     "text": [
      "Aのランク = 2\n",
      "Aのフロべニウスノルム = 1.0077822185373186\n",
      "Aの2ノルム = 1.0\n",
      "Aの特異値\n",
      " [1.00000000e+00 1.25000000e-01 1.03701686e-15 9.85591426e-16\n",
      " 9.55109049e-16 9.46254262e-16 8.65943074e-16 8.13204863e-16\n",
      " 7.58452167e-16 7.02290032e-16 6.05500371e-16 5.17382387e-16\n",
      " 4.25699444e-16 3.36523089e-16 2.46415795e-16 1.40599449e-16\n",
      " 9.76185084e-17 6.82908534e-17 6.36272576e-17 5.66807190e-17\n",
      " 4.94933180e-17 4.62031412e-17 4.14934731e-17 3.98684853e-17\n",
      " 3.80272523e-17 3.62815122e-17 3.50624520e-17 3.47435405e-17\n",
      " 3.42564033e-17 3.28390361e-17 3.02329939e-17 2.98077227e-17\n",
      " 2.75700398e-17 2.72142402e-17 2.65298881e-17 2.62443973e-17\n",
      " 2.54323800e-17 2.48550910e-17 2.43260628e-17 2.37259164e-17\n",
      " 2.33599527e-17 2.26052467e-17 2.23512661e-17 2.20548324e-17\n",
      " 2.17383213e-17 2.10463255e-17 2.09686237e-17 2.05153623e-17\n",
      " 2.00021999e-17 1.98048199e-17 1.95474367e-17 1.87467541e-17\n",
      " 1.84913964e-17 1.82048968e-17 1.79046806e-17 1.78444316e-17\n",
      " 1.74753797e-17 1.70584237e-17 1.68566240e-17 1.66782764e-17\n",
      " 1.63451239e-17 1.62371741e-17 1.58393612e-17 1.56260791e-17\n",
      " 1.54098828e-17 1.53362477e-17 1.50036377e-17 1.48822341e-17\n",
      " 1.45657723e-17 1.45287967e-17 1.43199944e-17 1.41196332e-17\n",
      " 1.39979292e-17 1.39516320e-17 1.36457157e-17 1.34692641e-17\n",
      " 1.33223872e-17 1.30824949e-17 1.30336050e-17 1.26498689e-17\n",
      " 1.25965530e-17 1.24415997e-17 1.23151826e-17 1.22377820e-17\n",
      " 1.20131365e-17 1.18241113e-17 1.16873442e-17 1.15609509e-17\n",
      " 1.13750150e-17 1.12606272e-17 1.10690374e-17 1.09723916e-17\n",
      " 1.08402821e-17 1.07243544e-17 1.05582736e-17 1.04399557e-17\n",
      " 1.02751097e-17 1.01893019e-17 9.87613803e-18 9.81624579e-18\n",
      " 9.69448590e-18 9.57297064e-18 9.51370753e-18 9.45301979e-18\n",
      " 9.30902375e-18 9.26198952e-18 9.24879925e-18 8.93015612e-18\n",
      " 8.84504366e-18 8.77664485e-18 8.67092536e-18 8.59710178e-18\n",
      " 8.51283364e-18 8.36441240e-18 8.17552025e-18 8.10148901e-18\n",
      " 8.00921889e-18 7.89621487e-18 7.67691547e-18 7.64604672e-18\n",
      " 7.58125477e-18 7.54360637e-18 7.38081381e-18 7.33718410e-18\n",
      " 7.22984308e-18 7.17566959e-18 7.09535505e-18 6.99346497e-18\n",
      " 6.96775601e-18 6.81994018e-18 6.78397361e-18 6.75815091e-18\n",
      " 6.70279138e-18 6.60561593e-18 6.44173196e-18 6.29430553e-18\n",
      " 6.26354404e-18 6.18896747e-18 6.08600043e-18 5.98262231e-18\n",
      " 5.91692294e-18 5.85327127e-18 5.78454094e-18 5.66737413e-18\n",
      " 5.59161111e-18 5.51671346e-18 5.48468978e-18 5.41604244e-18\n",
      " 5.29452827e-18 5.23524770e-18 5.17579822e-18 5.14426044e-18\n",
      " 5.11945067e-18 5.02319406e-18 4.99707609e-18 4.88682036e-18\n",
      " 4.80679791e-18 4.75086790e-18 4.66177061e-18 4.60253162e-18\n",
      " 4.51672722e-18 4.48349113e-18 4.45619333e-18 4.38121825e-18\n",
      " 4.27722666e-18 4.23652402e-18 4.14441851e-18 4.09184224e-18\n",
      " 4.02629872e-18 4.00432734e-18 3.97276041e-18 3.95134084e-18\n",
      " 3.88414317e-18 3.82500215e-18 3.74621522e-18 3.70031861e-18\n",
      " 3.66296859e-18 3.65117202e-18 3.56817986e-18 3.51894448e-18\n",
      " 3.45651501e-18 3.41754912e-18 3.38593662e-18 3.35531966e-18\n",
      " 3.31661298e-18 3.23248533e-18 3.19042348e-18 3.12384099e-18\n",
      " 3.06806579e-18 3.03653312e-18 2.99535293e-18 2.91853214e-18\n",
      " 2.88801298e-18 2.84909549e-18 2.80420443e-18 2.72541790e-18\n",
      " 2.71570244e-18 2.68091553e-18 2.63554741e-18 2.56403406e-18\n",
      " 2.50375962e-18 2.49075560e-18 2.45165154e-18 2.42581042e-18\n",
      " 2.37435311e-18 2.32852999e-18 2.30343232e-18 2.27239686e-18\n",
      " 2.24021711e-18 2.22452040e-18 2.17191892e-18 2.15509816e-18\n",
      " 2.13910733e-18 2.10796108e-18 2.04741434e-18 2.04371731e-18\n",
      " 1.98117377e-18 1.96868541e-18 1.93224842e-18 1.86946837e-18\n",
      " 1.86615648e-18 1.82043756e-18 1.79003288e-18 1.77404052e-18\n",
      " 1.77036477e-18 1.72319787e-18 1.71418441e-18 1.67937702e-18\n",
      " 1.63654590e-18 1.60497176e-18 1.58630353e-18 1.58080194e-18\n",
      " 1.55315792e-18 1.50589015e-18 1.46231989e-18 1.46157654e-18\n",
      " 1.45637869e-18 1.42287317e-18 1.36969722e-18 1.35284332e-18\n",
      " 1.32574621e-18 1.29532896e-18 1.28210464e-18 1.27770283e-18\n",
      " 1.25543449e-18 1.22988047e-18 1.18900683e-18 1.15443298e-18\n",
      " 1.13435339e-18 1.10631371e-18 1.10149981e-18 1.08248589e-18\n",
      " 1.05394522e-18 1.04592053e-18 1.02392724e-18 9.84133689e-19\n",
      " 9.75068952e-19 9.63301366e-19 9.44545379e-19 9.31808524e-19\n",
      " 8.98627926e-19 8.95551044e-19 8.66116998e-19 8.56680004e-19\n",
      " 8.38982805e-19 8.12442787e-19 7.84464304e-19 7.52566090e-19\n",
      " 7.43005608e-19 7.28817429e-19 7.00808083e-19 6.90748815e-19\n",
      " 6.78847090e-19 6.75455316e-19 6.45420835e-19 6.39155220e-19\n",
      " 5.93709547e-19 5.79142758e-19 5.71297168e-19 5.56399027e-19\n",
      " 5.28503592e-19 5.14385081e-19 4.98748626e-19 4.73903204e-19\n",
      " 4.52570433e-19 4.38644641e-19 4.06183048e-19 3.80930863e-19\n",
      " 3.61067065e-19 3.37419433e-19 3.15072532e-19 2.92103890e-19\n",
      " 2.76550716e-19 2.50696219e-19 2.31909623e-19 2.15459903e-19\n",
      " 2.04856652e-19 1.66325840e-19 1.22365499e-19 5.53675809e-20]\n",
      "Aの条件数\n",
      " 8.0\n"
     ]
    }
   ],
   "source": [
    "m, n = 400, 300\n",
    "A = low_rank_matrix(m, n, 2, 8)\n",
    "\n",
    "rankA = np.linalg.matrix_rank(A)\n",
    "normF = np.linalg.norm(A)\n",
    "norm2 = np.linalg.norm(A, 2) \n",
    "svdvals = sp.linalg.svdvals(A)\n",
    "condnumber = max(svdvals[:rankA])/min(svdvals[:rankA])\n",
    "\n",
    "print(\"Aのランク =\", rankA)\n",
    "print(\"Aのフロべニウスノルム =\", normF)\n",
    "print(\"Aの2ノルム =\", norm2)\n",
    "print(\"Aの特異値\\n\", svdvals)\n",
    "print(\"Aの条件数\\n\", condnumber)"
   ]
  },
  {
   "cell_type": "markdown",
   "metadata": {},
   "source": [
    "行列$A$の特異値分解の結果を保存しておきます．"
   ]
  },
  {
   "cell_type": "code",
   "execution_count": 4,
   "metadata": {},
   "outputs": [],
   "source": [
    "exact_U, exact_S, exact_Vh = np.linalg.svd(A)\n",
    "exact_V = exact_Vh.T"
   ]
  },
  {
   "cell_type": "markdown",
   "metadata": {},
   "source": [
    "## $\\mathrm{SQ}(A)$を定義する．\n",
    "`quantum_inspired.py`に`1_データ構造.ipynb`で実装した`SegmentTree`, `VectorBasedDataStructure`と`MatrixBasedDataStructure`を記述しています．ここから`MatrixBasedDataStructure`をインポートし，それを用いて行列に基づくデータ構造$\\SQ(A)$を用意します．"
   ]
  },
  {
   "cell_type": "code",
   "execution_count": 5,
   "metadata": {},
   "outputs": [],
   "source": [
    "from quantum_inspired import MatrixBasedDataStructure\n",
    "SQA = MatrixBasedDataStructure(A)"
   ]
  },
  {
   "cell_type": "code",
   "execution_count": 6,
   "metadata": {},
   "outputs": [
    {
     "data": {
      "text/plain": [
       "(150, 64, 0.0006067326890983444, 0.01532067321127685, 1.0077822185373184)"
      ]
     },
     "execution_count": 6,
     "metadata": {},
     "output_type": "execute_result"
    }
   ],
   "source": [
    "SQA.sample1(), SQA.sample2(0), SQA.query(0, 0), SQA.norm(0), SQA.normF()"
   ]
  },
  {
   "cell_type": "markdown",
   "metadata": {},
   "source": [
    "## Step 1. 行添字のサンプリング: $R^\\mathsf{T} R \\approx A^\\mathsf{T}A$を満たすような$R$を考える．\n",
    "\n",
    "### 行添字をサンプルする関数の実装\n",
    "Step 1の「確率$\\frac{\\norm{A_{i,\\ast}}^2 }{\\norm{A}_\\mathrm{F}^2}$行添字$i$を$r$回サンプリングする」という部分について実装します．これは，$\\mathrm{SQ}(A)$の$\\mathrm{Sample1}()$を$r$回用いるだけなので，その通りに書きます．ここでの行添字$i_0,\\dots,i_{r-1}$は行列$R$を表します．"
   ]
  },
  {
   "cell_type": "code",
   "execution_count": 7,
   "metadata": {},
   "outputs": [],
   "source": [
    "# Step 1\n",
    "# rはサンプル数\n",
    "def sample_rows(SQA, r): \n",
    "    row_indices = []\n",
    "    for s in range(r):\n",
    "        i_s = SQA.sample1()\n",
    "        row_indices.append(i_s)    \n",
    "    return row_indices"
   ]
  },
  {
   "cell_type": "code",
   "execution_count": 8,
   "metadata": {},
   "outputs": [],
   "source": [
    "r = 10\n",
    "row_indices = sample_rows(SQA, r)"
   ]
  },
  {
   "cell_type": "code",
   "execution_count": 9,
   "metadata": {},
   "outputs": [
    {
     "name": "stdout",
     "output_type": "stream",
     "text": [
      "サンプルされた行添字:\n",
      "[i_0, i_1, ..., i_r-1] =  [350, 82, 320, 169, 183, 234, 78, 113, 319, 49]\n"
     ]
    }
   ],
   "source": [
    "print(\"サンプルされた行添字:\\n[i_0, i_1, ..., i_r-1] = \", row_indices)"
   ]
  },
  {
   "cell_type": "markdown",
   "metadata": {},
   "source": [
    "### $A^\\top A \\approx R^\\top R$の確認\n",
    "量子インスパイアード古典アルゴリズムでは$r\\times n$の行列$R$を実際には構成しません．しかし，サンプルされた行添字が表す行列$R$について，$A^\\mathsf{T}A \\approx R^\\mathsf{T}R$であるかどうか気になると思います．そこで，行列$R$をサンプルされた行添字から構成する関数`construct_R`を以下のセルで定義し，$A^\\top A$と$R^\\top R$を直接計算して$A^\\top A \\approx R^\\top R$であることを確認してみます．`row_indices`はサンプルされた行添字です．"
   ]
  },
  {
   "cell_type": "code",
   "execution_count": 10,
   "metadata": {},
   "outputs": [],
   "source": [
    "# サンプルされた行添字からRを構成する\n",
    "# 確認用\n",
    "def construct_R(SQA, A, row_indices):\n",
    "    r = len(row_indices)\n",
    "    n = A.shape[1]\n",
    "    R = np.zeros((r, n))\n",
    "    for s in range(r):\n",
    "        i_s = row_indices[s]\n",
    "        R[s,:] = (SQA.normF()/math.sqrt(r)) * A[i_s,:]/SQA.norm(i_s)\n",
    "    return R"
   ]
  },
  {
   "cell_type": "markdown",
   "metadata": {},
   "source": [
    "この関数`construct_R`を使って行列$R$を作り，$A^\\top A \\approx R^\\top R$であることを確認してみます．"
   ]
  },
  {
   "cell_type": "code",
   "execution_count": 11,
   "metadata": {},
   "outputs": [
    {
     "name": "stdout",
     "output_type": "stream",
     "text": [
      "誤差 0.023137777381409028\n"
     ]
    }
   ],
   "source": [
    "r = 10\n",
    "row_indices = sample_rows(SQA, r)\n",
    "R = construct_R(SQA, A, row_indices)\n",
    "\n",
    "error = np.linalg.norm(A.T @ A - R.T @ R)\n",
    "print(\"誤差\", error)"
   ]
  },
  {
   "cell_type": "markdown",
   "metadata": {},
   "source": [
    "さらに，$\\mathbb{E}\\left[ \\lVert R^\\top R - A^\\top A \\rVert_\\mathrm{F}^2  \\right] \\le \\frac{\\lVert A \\rVert_\\mathrm{F}^4}{r}$であることを確認します．具体的には，$r$を増やしてみて，誤差$\\lVert R^\\top R - A^\\top A \\rVert_\\mathrm{F}^2$が減少することを見てみます．"
   ]
  },
  {
   "cell_type": "code",
   "execution_count": 12,
   "metadata": {},
   "outputs": [
    {
     "name": "stdout",
     "output_type": "stream",
     "text": [
      "r=1 0.016598199983358857 1.0314941406249998\n",
      "r=2 0.005417590736010798 0.5157470703124999\n",
      "r=4 0.012854340386040866 0.25787353515624994\n",
      "r=8 0.001849509944679225 0.12893676757812497\n",
      "r=16 0.0024373851870283783 0.06446838378906249\n",
      "r=32 0.001119894497322654 0.03223419189453124\n",
      "r=64 0.0003003201697533293 0.01611709594726562\n",
      "r=128 8.051172903895418e-05 0.00805854797363281\n",
      "r=256 0.0002065389994894925 0.004029273986816405\n",
      "r=512 3.8386571355832134e-05 0.0020146369934082027\n",
      "r=1024 2.364921367894926e-05 0.0010073184967041013\n",
      "r=2048 1.7665216397064033e-05 0.0005036592483520507\n"
     ]
    }
   ],
   "source": [
    "sample_size = 10\n",
    "\n",
    "errors = []\n",
    "\n",
    "rs = [2**k for k in range(12)]\n",
    "for r in rs:\n",
    "    mean = 0\n",
    "    for _ in range(sample_size):\n",
    "        row_indices = sample_rows(SQA, r)\n",
    "        R = construct_R(SQA, A, row_indices)\n",
    "        \n",
    "        mean += np.linalg.norm(R.T @ R - A.T @ A)**2  \n",
    "        \n",
    "    mean = mean/sample_size\n",
    "    errors.append(mean)\n",
    "\n",
    "    print(f\"r={r}\", mean, np.linalg.norm(A)**4/r)"
   ]
  },
  {
   "cell_type": "code",
   "execution_count": 13,
   "metadata": {},
   "outputs": [
    {
     "data": {
      "image/png": "[encoded data removed]",
      "text/plain": [
       "<Figure size 800x600 with 1 Axes>"
      ]
     },
     "metadata": {},
     "output_type": "display_data"
    }
   ],
   "source": [
    "plt.figure(figsize=(8, 6))\n",
    "plt.plot(rs, errors, label=\"$(1/10)\\sum_i^{10} || R^T R - A^T A ||_F^2$\")\n",
    "plt.plot(rs, [np.linalg.norm(A)**4/r for r in rs], label=\"upper bound\")\n",
    "plt.xlabel(\"r (sample size of row)\")\n",
    "plt.ylabel(\"E[||R^T R - A^T A||_F]\")\n",
    "plt.xscale(\"log\")\n",
    "plt.yscale(\"log\")\n",
    "plt.legend()\n",
    "plt.show()"
   ]
  },
  {
   "cell_type": "markdown",
   "metadata": {},
   "source": [
    "なお，関数`construct_R`はただの確認用なので，実際には使われないことに注意してください．"
   ]
  },
  {
   "cell_type": "code",
   "execution_count": 14,
   "metadata": {},
   "outputs": [
    {
     "data": {
      "text/plain": [
       "(0.02226905127146752,\n",
       " 0.022269051271467537,\n",
       " 0.022269051271467534,\n",
       " 1.0077822185373182,\n",
       " 1.0077822185373186)"
      ]
     },
     "execution_count": 14,
     "metadata": {},
     "output_type": "execute_result"
    }
   ],
   "source": [
    "np.linalg.norm(R[0,:]), np.linalg.norm(R[1,:]), np.linalg.norm(A)/math.sqrt(r), np.linalg.norm(R), np.linalg.norm(A)"
   ]
  },
  {
   "cell_type": "markdown",
   "metadata": {},
   "source": [
    "## Step 2. 列のサンプリング：$CC^\\top \\approx RR^\\top$を満たすような$C$を構成する．\n",
    "\n",
    "次に，Step2について実装します．\n",
    "\n",
    "### 列添字をサンプルする関数の実装\n",
    "Step 2の「等確率で${0,1,\\dots,r-1}$から数字をサンプリングし結果を$s$とする．そして確率$\\frac{R_{s,j}^2}{\\norm{R_{s,\\ast}}^2} = \\frac{A_{i_s,j}^2}{\\norm{A_{i_s,\\ast}}^2}$で列添字をサンプリングし，結果を$j_t$とする．この操作を$c$回行い，サンプリングされた列添字を$j_0,\\dots,j_{c-1}$とする」の部分について実装します．\n"
   ]
  },
  {
   "cell_type": "code",
   "execution_count": 15,
   "metadata": {},
   "outputs": [],
   "source": [
    "def sample_cols(SQA, row_indices, c):\n",
    "    r = len(row_indices)\n",
    "    col_indices = []\n",
    "    for t in range(c):\n",
    "        s   = np.random.randint(r)\n",
    "        i_s = row_indices[s]\n",
    "        j_t = SQA.sample2(i_s)\n",
    "        col_indices.append(j_t)\n",
    "        \n",
    "    return col_indices"
   ]
  },
  {
   "cell_type": "code",
   "execution_count": 16,
   "metadata": {},
   "outputs": [
    {
     "name": "stdout",
     "output_type": "stream",
     "text": [
      "サンプルされた列添字:\n",
      "[j_0, i_1, ..., j_c-1] =  [290, 270, 204, 6, 263, 221, 59, 49, 81, 263, 99, 216, 175, 224, 30, 171, 53, 285, 98, 153]\n"
     ]
    }
   ],
   "source": [
    "r = 10\n",
    "row_indices = sample_rows(SQA, r)\n",
    "\n",
    "c = 20\n",
    "col_indices = sample_cols(SQA, row_indices, c)\n",
    "\n",
    "print(\"サンプルされた列添字:\\n[j_0, i_1, ..., j_c-1] = \", col_indices)"
   ]
  },
  {
   "cell_type": "markdown",
   "metadata": {},
   "source": [
    "### $r \\times c$の行列$C$を構成する関数の実装\n",
    "Step2の「$r \\times c$の行列$C$を第$t$列が\n",
    "$\\frac{\\norm{R}_\\mathrm{F}}{\\sqrt{c}} \\frac{R_{\\ast,j_t}}{\\norm{R_{\\ast,j_t}}} = \\frac{\\norm{A}_\\mathrm{F}}{\\sqrt{c}} \\frac{R_{\\ast,j_t}}{\\norm{R_{\\ast,j_t}}}$」となるように構成する」という部分について実装します．\n",
    "$R_{\\ast,j_t}$について注目します．行列$R$の$s$行目は$\\frac{\\norm{A}_\\mathrm{F}}{\\sqrt{r}} \\frac{A_{i_s,\\ast}}{\\norm{A_{i_s,\\ast}}}$であるので，\n",
    "行列$R$の第$j_t$列$R_{\\ast,j_t}$は\n",
    "$$\n",
    " R_{\\ast, j_t} = \\frac{\\norm{A}_\\mathrm{F}}{\\sqrt{r}} \n",
    " \\left(\n",
    " \\frac{A_{i_0,\\ast}}{\\norm{A_{i_0,j_t}}}, \n",
    " \\frac{A_{i_1,\\ast}}{\\norm{A_{i_1,j_t}}},\\dots,\n",
    "  \\frac{A_{i_{r-1},\\ast}}{\\norm{A_{i_{r-1},j_t}}}, \n",
    "\\right)^\\top\n",
    "$$\n",
    "となります．このことを踏まえると，行列$C$を構成する関数は次のようになります．"
   ]
  },
  {
   "cell_type": "code",
   "execution_count": 17,
   "metadata": {},
   "outputs": [],
   "source": [
    "def construct_C(SQA, row_indices, col_indices):\n",
    "    normAF = SQA.normF()\n",
    "    r, c = len(row_indices), len(col_indices)\n",
    "\n",
    "    # 行列Cを構成する\n",
    "    C = np.zeros((r, c))\n",
    "    for t in range(c):\n",
    "        \n",
    "        # Rのj_t列を構成する\n",
    "        R_jt = np.zeros(r)        \n",
    "        j_t = col_indices[t]\n",
    "        for s in range(r):\n",
    "            i_s = row_indices[s]\n",
    "            R_jt[s] = (normAF/(math.sqrt(r) * SQA.norm(i_s))) * SQA.query(i_s, j_t)\n",
    "            \n",
    "        # Cのt列を構成\n",
    "        C[:, t] = (normAF/math.sqrt(c)) * R_jt/np.linalg.norm(R_jt)\n",
    "        \n",
    "    return C"
   ]
  },
  {
   "cell_type": "markdown",
   "metadata": {},
   "source": [
    "###  $CC^\\top \\approx RR^\\top$の確認\n",
    "$CC^\\top \\approx RR^\\top$であることを前述と時と同様にして確認してみます．"
   ]
  },
  {
   "cell_type": "code",
   "execution_count": 18,
   "metadata": {},
   "outputs": [],
   "source": [
    "r, c = 10, 20"
   ]
  },
  {
   "cell_type": "code",
   "execution_count": 19,
   "metadata": {},
   "outputs": [
    {
     "name": "stdout",
     "output_type": "stream",
     "text": [
      "誤差 0.017766116465666594\n"
     ]
    }
   ],
   "source": [
    "row_indices = sample_rows(SQA, r)\n",
    "col_indices = sample_cols(SQA, row_indices, c)\n",
    "\n",
    "R = construct_R(SQA, A, row_indices)\n",
    "C = construct_C(SQA, row_indices, col_indices)\n",
    "\n",
    "error = np.linalg.norm(R @ R.T - C @ C.T)\n",
    "print(\"誤差\", error)"
   ]
  },
  {
   "cell_type": "markdown",
   "metadata": {},
   "source": [
    "$\\mathbb{E}\\left[ \\lVert RR^\\top - AA^\\top \\rVert_\\mathrm{F}^2  \\right] \\le \\frac{\\lVert R \\rVert_\\mathrm{F}^4}{c}$であることを確認します．具体的には，$c$を増やしてみて，誤差$\\lVert RR^\\top - AA^\\top  \\rVert_\\mathrm{F}^2$が減少することを見てみます．"
   ]
  },
  {
   "cell_type": "code",
   "execution_count": 20,
   "metadata": {},
   "outputs": [
    {
     "name": "stdout",
     "output_type": "stream",
     "text": [
      "c=1 0.008346579399657737 1.031494140624999\n",
      "c=2 0.0034169588310364214 0.5157470703124994\n",
      "c=4 0.0010570795238283661 0.2578735351562497\n",
      "c=8 0.0011795989685171495 0.12893676757812486\n",
      "c=16 0.0006459791069746068 0.06446838378906243\n",
      "c=32 0.0004625016621439242 0.032234191894531215\n",
      "c=64 0.00024717129452194277 0.016117095947265608\n",
      "c=128 7.326438025246483e-05 0.008058547973632804\n",
      "c=256 2.2772030052404912e-05 0.004029273986816402\n",
      "c=512 1.0398127286920224e-05 0.002014636993408201\n"
     ]
    }
   ],
   "source": [
    "sample_size = 10\n",
    "\n",
    "# E(R R.T) = C C.Tを確認する\n",
    "\n",
    "# Rを作る\n",
    "r = 10\n",
    "row_indices = sample_rows(SQA, r)\n",
    "R = construct_R(SQA, A, row_indices)\n",
    "\n",
    "cs = [2**i for i in range(10)]\n",
    "\n",
    "errors = []\n",
    "for c in cs:\n",
    "    mean = 0    \n",
    "    for _ in range(sample_size):\n",
    "        # Cを作る\n",
    "        col_indices = sample_cols(SQA, row_indices, c)\n",
    "        C = construct_C(SQA, row_indices, col_indices)\n",
    "    \n",
    "        mean += np.linalg.norm(R @ R.T - C @ C.T)**2\n",
    "\n",
    "    mean = mean/sample_size\n",
    "    errors.append(mean)\n",
    "\n",
    "    print(f\"c={c}\", mean, np.linalg.norm(R)**4/c)    "
   ]
  },
  {
   "cell_type": "code",
   "execution_count": 21,
   "metadata": {},
   "outputs": [
    {
     "data": {
      "image/png": "[encoded data removed]",
      "text/plain": [
       "<Figure size 800x600 with 1 Axes>"
      ]
     },
     "metadata": {},
     "output_type": "display_data"
    }
   ],
   "source": [
    "plt.figure(figsize=(8, 6))\n",
    "plt.plot(cs, errors, label=\"$(1/10)\\sum_i^{10} || RR^T - CC^T ||_F^2$\")\n",
    "plt.plot(cs, [1/c for c in cs], label=\"upper bound\")\n",
    "plt.xlabel(\"c (sample size of column)\")\n",
    "plt.ylabel(\"E[||R R^T - C C^T ||_F]\")\n",
    "plt.xscale(\"log\")\n",
    "plt.yscale(\"log\")\n",
    "plt.title(r\"$RR^T\\approx CC^T$\")\n",
    "plt.legend()\n",
    "plt.show()"
   ]
  },
  {
   "cell_type": "markdown",
   "metadata": {},
   "source": [
    "### Step 3:特異値分解\n",
    "\n",
    "最後に，Step3について考えます．Step3は行列$C$を特異値分解をするだけなのであり，この部分はNumPyの関数を使います  ．\n",
    "<!-- $r,c$は行列$A$の次元には関係しないことに注意してください． -->"
   ]
  },
  {
   "cell_type": "code",
   "execution_count": 22,
   "metadata": {},
   "outputs": [
    {
     "name": "stdout",
     "output_type": "stream",
     "text": [
      "{i_0,...i_r-1} = \n",
      " [299, 347, 190, 222, 270, 185, 34, 177, 374, 214, 354, 387, 3, 36, 146, 78, 59, 185, 362, 250, 289, 360, 134, 302, 144, 31, 86, 381, 150, 244, 350, 57, 82, 311, 79, 310, 386, 236, 41, 209, 37, 164, 384, 216, 229, 69, 377, 190, 339, 69, 389, 92, 185, 234, 164, 359, 354, 210, 145, 78, 315, 266, 194, 266, 250, 237, 236, 368, 91, 362, 234, 128, 31, 374, 230, 183, 19, 89, 53, 12, 317, 308, 293, 60, 272, 362, 307, 274, 100, 2, 344, 370, 260, 21, 348, 334, 56, 233, 302, 332]\n",
      "left singular vector of C =\n",
      " [[-1.00882655e-01 -9.24648041e-02  7.17004378e-01 ...  5.97013899e-04\n",
      "  -7.92979511e-06  6.69912242e-01]\n",
      " [-1.00810213e-01 -7.26888147e-02  1.29261663e-03 ...  5.51359705e-05\n",
      "  -7.32339650e-07  6.06161600e-04]\n",
      " [-1.00494792e-01 -2.01378060e-02 -1.24383423e-01 ... -1.04082578e-01\n",
      "  -2.19637215e-01  5.94727845e-02]\n",
      " ...\n",
      " [-9.96050365e-02  6.50591424e-02  5.55850247e-02 ... -8.14103799e-02\n",
      "   1.46861541e-01 -4.56668302e-02]\n",
      " [-1.00719032e-01 -5.41010178e-02  7.84696844e-02 ...  1.43215391e-01\n",
      "   6.09739864e-03 -1.05633238e-01]\n",
      " [-9.96899004e-02  5.85217651e-02 -5.69029177e-02 ... -5.73308288e-02\n",
      "  -5.91995007e-02  6.39287437e-02]]\n",
      "singular values of C =\n",
      " [1.00507858e+00 7.37702833e-02 9.99122179e-17 9.99122179e-17\n",
      " 9.99122179e-17 9.99122179e-17 9.99122179e-17 9.99122179e-17\n",
      " 9.99122179e-17 9.99122179e-17 9.99122179e-17 9.99122179e-17\n",
      " 9.99122179e-17 9.99122179e-17 9.99122179e-17 9.99122179e-17\n",
      " 9.99122179e-17 9.99122179e-17 9.99122179e-17 9.99122179e-17\n",
      " 9.99122179e-17 9.99122179e-17 9.99122179e-17 9.99122179e-17\n",
      " 9.99122179e-17 9.99122179e-17 9.99122179e-17 9.99122179e-17\n",
      " 9.99122179e-17 9.99122179e-17 9.99122179e-17 9.99122179e-17\n",
      " 9.99122179e-17 9.99122179e-17 9.99122179e-17 9.99122179e-17\n",
      " 9.99122179e-17 9.99122179e-17 9.99122179e-17 9.99122179e-17\n",
      " 9.99122179e-17 9.99122179e-17 9.99122179e-17 9.99122179e-17\n",
      " 9.99122179e-17 9.99122179e-17 9.99122179e-17 9.99122179e-17\n",
      " 9.99122179e-17 9.99122179e-17 9.99122179e-17 9.99122179e-17\n",
      " 9.99122179e-17 9.99122179e-17 9.99122179e-17 9.99122179e-17\n",
      " 9.99122179e-17 9.99122179e-17 9.99122179e-17 9.99122179e-17\n",
      " 9.99122179e-17 9.99122179e-17 9.99122179e-17 9.99122179e-17\n",
      " 9.99122179e-17 9.99122179e-17 9.99122179e-17 9.99122179e-17\n",
      " 9.99122179e-17 9.99122179e-17 9.99122179e-17 9.99122179e-17\n",
      " 9.99122179e-17 9.99122179e-17 9.99122179e-17 9.99122179e-17\n",
      " 9.99122179e-17 9.99122179e-17 9.99122179e-17 9.99122179e-17\n",
      " 9.99122179e-17 9.99122179e-17 9.99122179e-17 9.99122179e-17\n",
      " 9.99122179e-17 9.99122179e-17 9.99122179e-17 9.99122179e-17\n",
      " 9.99122179e-17 9.99122179e-17 9.99122179e-17 9.99122179e-17\n",
      " 9.99122179e-17 9.99122179e-17 9.99122179e-17 9.99122179e-17\n",
      " 9.99122179e-17 9.99122179e-17 9.99122179e-17 1.59917118e-17]\n"
     ]
    }
   ],
   "source": [
    "def qi_svd(SQA, r, c):\n",
    "    \n",
    "    # Step 1\n",
    "    row_indices = sample_rows(SQA, r)\n",
    "    \n",
    "    # Step 2\n",
    "    col_indices = sample_cols(SQA, row_indices, c)\n",
    "    C = construct_C(SQA, row_indices, col_indices)\n",
    "    \n",
    "    # Step 3\n",
    "    W, S, _ = np.linalg.svd(C)\n",
    "    \n",
    "    return row_indices, W, S\n",
    "\n",
    "r, c = 100, 100\n",
    "row_indices, W, S = qi_svd(SQA, r, c)\n",
    "print(\"{i_0,...i_r-1} = \\n\", row_indices)\n",
    "print(\"left singular vector of C =\\n\", W)\n",
    "print(\"singular values of C =\\n\", S)"
   ]
  },
  {
   "cell_type": "markdown",
   "metadata": {},
   "source": [
    "## $C$の特異値・特異ベクトルと$A$の特異値・特異ベクトルについて\n",
    "\n",
    "### 特異値について\n",
    "上記のアルゴリズムで得られた$C$の特異値$\\tilde{\\sigma}_\\ell$(`S`)が，行列$A$の特異値$\\sigma_\\ell$(`exact_S`)を近似していることを見てみます．"
   ]
  },
  {
   "cell_type": "code",
   "execution_count": 23,
   "metadata": {},
   "outputs": [
    {
     "name": "stdout",
     "output_type": "stream",
     "text": [
      "400x300の行列Aの特異値: \n",
      " [1.00000000e+00 1.25000000e-01 4.56768673e-16 4.02238824e-16\n",
      " 4.01020419e-16 3.58686424e-16 3.46257156e-16 3.33926304e-16\n",
      " 3.19237735e-16 3.14276368e-16 3.11936289e-16 3.02926698e-16\n",
      " 2.68531842e-16 2.59225521e-16 2.50666874e-16 2.34206701e-16\n",
      " 2.06713068e-16 1.90246373e-16 1.84033175e-16 1.79052667e-16\n",
      " 1.56460449e-16 1.46063331e-16 1.22092205e-16 1.20165738e-16\n",
      " 1.15184186e-16 1.13422298e-16 9.94363982e-17 9.94363982e-17\n",
      " 9.94363982e-17 9.94363982e-17 9.94363982e-17 9.94363982e-17\n",
      " 9.94363982e-17 9.94363982e-17 9.94363982e-17 9.94363982e-17\n",
      " 9.94363982e-17 9.94363982e-17 9.94363982e-17 9.94363982e-17\n",
      " 9.94363982e-17 9.94363982e-17 9.94363982e-17 9.94363982e-17\n",
      " 9.94363982e-17 9.94363982e-17 9.94363982e-17 9.94363982e-17\n",
      " 9.94363982e-17 9.94363982e-17 9.94363982e-17 9.94363982e-17\n",
      " 9.94363982e-17 9.94363982e-17 9.94363982e-17 9.94363982e-17\n",
      " 9.94363982e-17 9.94363982e-17 9.94363982e-17 9.94363982e-17\n",
      " 9.94363982e-17 9.94363982e-17 9.94363982e-17 9.94363982e-17\n",
      " 9.94363982e-17 9.94363982e-17 9.94363982e-17 9.94363982e-17\n",
      " 9.94363982e-17 9.94363982e-17 9.94363982e-17 9.94363982e-17\n",
      " 9.94363982e-17 9.94363982e-17 9.94363982e-17 9.94363982e-17\n",
      " 9.94363982e-17 9.94363982e-17 9.94363982e-17 9.94363982e-17\n",
      " 9.94363982e-17 9.94363982e-17 9.94363982e-17 9.94363982e-17\n",
      " 9.94363982e-17 9.94363982e-17 9.94363982e-17 9.94363982e-17\n",
      " 9.94363982e-17 9.94363982e-17 9.94363982e-17 9.94363982e-17\n",
      " 9.94363982e-17 9.94363982e-17 9.94363982e-17 9.94363982e-17\n",
      " 9.94363982e-17 9.94363982e-17 9.94363982e-17 9.94363982e-17\n",
      " 9.94363982e-17 9.94363982e-17 9.94363982e-17 9.94363982e-17\n",
      " 9.94363982e-17 9.94363982e-17 9.94363982e-17 9.94363982e-17\n",
      " 9.94363982e-17 9.94363982e-17 9.94363982e-17 9.94363982e-17\n",
      " 9.94363982e-17 9.94363982e-17 9.94363982e-17 9.94363982e-17\n",
      " 9.94363982e-17 9.94363982e-17 9.94363982e-17 9.94363982e-17\n",
      " 9.94363982e-17 9.94363982e-17 9.94363982e-17 9.94363982e-17\n",
      " 9.94363982e-17 9.94363982e-17 9.94363982e-17 9.94363982e-17\n",
      " 9.94363982e-17 9.94363982e-17 9.94363982e-17 9.94363982e-17\n",
      " 9.94363982e-17 9.94363982e-17 9.94363982e-17 9.94363982e-17\n",
      " 9.94363982e-17 9.94363982e-17 9.94363982e-17 9.94363982e-17\n",
      " 9.94363982e-17 9.94363982e-17 9.94363982e-17 9.94363982e-17\n",
      " 9.94363982e-17 9.94363982e-17 9.94363982e-17 9.94363982e-17\n",
      " 9.94363982e-17 9.94363982e-17 9.94363982e-17 9.94363982e-17\n",
      " 9.94363982e-17 9.94363982e-17 9.94363982e-17 9.94363982e-17\n",
      " 9.94363982e-17 9.94363982e-17 9.94363982e-17 9.94363982e-17\n",
      " 9.94363982e-17 9.94363982e-17 9.94363982e-17 9.94363982e-17\n",
      " 9.94363982e-17 9.94363982e-17 9.94363982e-17 9.94363982e-17\n",
      " 9.94363982e-17 9.94363982e-17 9.94363982e-17 9.94363982e-17\n",
      " 9.94363982e-17 9.94363982e-17 9.94363982e-17 9.94363982e-17\n",
      " 9.94363982e-17 9.94363982e-17 9.94363982e-17 9.94363982e-17\n",
      " 9.94363982e-17 9.94363982e-17 9.94363982e-17 9.94363982e-17\n",
      " 9.94363982e-17 9.94363982e-17 9.94363982e-17 9.94363982e-17\n",
      " 9.94363982e-17 9.94363982e-17 9.94363982e-17 9.94363982e-17\n",
      " 9.94363982e-17 9.94363982e-17 9.94363982e-17 9.94363982e-17\n",
      " 9.94363982e-17 9.94363982e-17 9.94363982e-17 9.94363982e-17\n",
      " 9.94363982e-17 9.94363982e-17 9.94363982e-17 9.94363982e-17\n",
      " 9.94363982e-17 9.94363982e-17 9.94363982e-17 9.94363982e-17\n",
      " 9.94363982e-17 9.94363982e-17 9.94363982e-17 9.94363982e-17\n",
      " 9.94363982e-17 9.94363982e-17 9.94363982e-17 9.94363982e-17\n",
      " 9.94363982e-17 9.94363982e-17 9.94363982e-17 9.94363982e-17\n",
      " 9.94363982e-17 9.94363982e-17 9.94363982e-17 9.94363982e-17\n",
      " 9.94363982e-17 9.94363982e-17 9.94363982e-17 9.94363982e-17\n",
      " 9.94363982e-17 9.94363982e-17 9.94363982e-17 9.94363982e-17\n",
      " 9.94363982e-17 9.94363982e-17 9.94363982e-17 9.94363982e-17\n",
      " 9.94363982e-17 9.94363982e-17 9.94363982e-17 9.94363982e-17\n",
      " 9.94363982e-17 9.94363982e-17 9.94363982e-17 9.94363982e-17\n",
      " 9.94363982e-17 9.94363982e-17 9.94363982e-17 9.94363982e-17\n",
      " 9.94363982e-17 9.94363982e-17 9.94363982e-17 9.94363982e-17\n",
      " 9.94363982e-17 9.94363982e-17 9.94363982e-17 9.94363982e-17\n",
      " 9.94363982e-17 9.94363982e-17 9.94363982e-17 9.94363982e-17\n",
      " 9.94363982e-17 9.94363982e-17 9.94363982e-17 9.94363982e-17\n",
      " 9.94363982e-17 9.94363982e-17 9.94363982e-17 9.94363982e-17\n",
      " 9.94363982e-17 9.94363982e-17 9.94363982e-17 9.94363982e-17\n",
      " 9.94363982e-17 9.94363982e-17 9.94363982e-17 9.94363982e-17\n",
      " 9.94363982e-17 9.94363982e-17 9.94363982e-17 9.94363982e-17\n",
      " 9.94363982e-17 9.94363982e-17 9.94363982e-17 9.94363982e-17\n",
      " 9.94363982e-17 9.94363982e-17 9.94363982e-17 9.94363982e-17\n",
      " 9.94363982e-17 9.94363982e-17 9.94363982e-17 8.44445797e-17\n",
      " 8.37646290e-17 7.64453578e-17 5.31614742e-17 5.19225999e-17\n",
      " 4.53937933e-17 2.21149970e-17 2.04931000e-17 1.73507404e-17]\n",
      "\n",
      "20x20の行列Cの特異値: \n",
      " [1.00398260e+00 8.74295724e-02 9.19262741e-17 5.00989270e-17\n",
      " 3.68481973e-17 3.32571565e-17 3.14220193e-17 2.75382546e-17\n",
      " 1.98086049e-17 1.92974610e-17 1.72769567e-17 1.50360362e-17\n",
      " 1.29204532e-17 9.91903593e-18 6.68838128e-18 4.87441106e-18\n",
      " 3.15379430e-18 2.10002104e-18 9.05523490e-19 6.74656990e-34]\n"
     ]
    }
   ],
   "source": [
    "r, c = 20, 20\n",
    "_, _, S = qi_svd(SQA, r, c)\n",
    "print(f\"{m}x{n}の行列Aの特異値: \\n\", exact_S)\n",
    "print(f\"\\n{r}x{c}の行列Cの特異値: \\n\", S)"
   ]
  },
  {
   "cell_type": "markdown",
   "metadata": {},
   "source": [
    "サンプル数$r,c$を増やしたときの特異値に関する誤差についてみてみます．行列$A$のランク分だけ$C$の特異値に注目します．"
   ]
  },
  {
   "cell_type": "code",
   "execution_count": 24,
   "metadata": {},
   "outputs": [
    {
     "name": "stdout",
     "output_type": "stream",
     "text": [
      "(r,c)=(2,2): 0.006903924167931996 0.10096048837499154\n",
      "(r,c)=(4,4): 0.018069422775078448 0.10053856381553095\n",
      "(r,c)=(8,8): 0.005083740320246111 0.0556472796469075\n",
      "(r,c)=(16,16): 0.003986828124333297 0.034642986019494434\n",
      "(r,c)=(32,32): 0.003877172245551641 0.030836945682362903\n",
      "(r,c)=(64,64): 0.006502350224764452 0.04571513412341687\n",
      "(r,c)=(128,128): 0.0023773637436249164 0.02091311107658724\n",
      "(r,c)=(256,256): 0.0018023390650911963 0.014186208292205914\n",
      "(r,c)=(512,512): 0.0010745037179999307 0.00877507340211179\n"
     ]
    }
   ],
   "source": [
    "sample_size = 10\n",
    "\n",
    "rs = [2**i for i in range(1, 10)]\n",
    "cs = [2**i for i in range(1, 10)]\n",
    "\n",
    "hist0 = []\n",
    "hist1 = []\n",
    "for r, c in zip(rs, cs):\n",
    "    mean0 = 0\n",
    "    mean1 = 0\n",
    "    for _ in range(sample_size):\n",
    "        _, _, S = qi_svd(SQA, r, c)\n",
    "        mean0 += abs(S[0] - exact_S[0])\n",
    "        mean1 += abs(S[1] - exact_S[1])\n",
    "        \n",
    "    mean0 = mean0/sample_size\n",
    "    mean1 = mean1/sample_size\n",
    "    hist0.append(mean0)\n",
    "    hist1.append(mean1)\n",
    "    \n",
    "    print(f\"(r,c)=({r},{c}):\", mean0, mean1)"
   ]
  },
  {
   "cell_type": "code",
   "execution_count": 25,
   "metadata": {},
   "outputs": [
    {
     "data": {
      "image/png": "[encoded data removed]",
      "text/plain": [
       "<Figure size 800x600 with 1 Axes>"
      ]
     },
     "metadata": {},
     "output_type": "display_data"
    }
   ],
   "source": [
    "plt.figure(figsize=(8, 6))\n",
    "plt.plot(rs, hist0, label=r\"$\\ell=0$\")\n",
    "plt.plot(rs, hist1, label=r\"$\\ell=1$\")\n",
    "plt.xscale(\"log\")\n",
    "plt.yscale(\"log\")\n",
    "plt.xlabel(\"r, c\")\n",
    "plt.ylabel(r\"$|\\sigma_\\ell - \\tilde{\\sigma}_\\ell|$\")\n",
    "plt.title(r\"$\\tilde{\\sigma}_\\ell \\approx \\sigma_\\ell$\")\n",
    "plt.legend()\n",
    "plt.show()"
   ]
  },
  {
   "cell_type": "markdown",
   "metadata": {},
   "source": [
    "なお，サンプル数$r,c$が行列$A$のサイズよりも小さい場合，$C$のサイズは$A$のサイズよりも小さくなります．そのため，$A$の特異値をそのまま計算するよりも，高速に近似特異値を得ることが期待できます．($\\mathrm{SQ}(A)$の構築時間を含めれると，遅くなることに注意)"
   ]
  },
  {
   "cell_type": "code",
   "execution_count": 26,
   "metadata": {},
   "outputs": [
    {
     "name": "stdout",
     "output_type": "stream",
     "text": [
      "SciPyの特異値計算の時間\n",
      " 0.01494455337524414\n",
      "qi_svdを用いた時の特異値計算の時間\n",
      " 0.0012636184692382812\n",
      "特異値の誤差 [0.00667859 0.07784901]\n"
     ]
    }
   ],
   "source": [
    "import time\n",
    "\n",
    "start_time = time.time()\n",
    "exact_S = sp.linalg.svdvals(A)\n",
    "print(\"SciPyの特異値計算の時間\\n\", time.time() - start_time)\n",
    "\n",
    "start_time = time.time()\n",
    "# SQA = MatrixBasedDataStructure(A) # SQ(A)の構築も含めると遅くなる\n",
    "_, _, S = qi_svd(SQA, 10, 10)\n",
    "print(\"qi_svdを用いた時の特異値計算の時間\\n\", time.time() - start_time)\n",
    "\n",
    "print(\"特異値の誤差\", np.abs(exact_S[:2] - S[:2]))"
   ]
  },
  {
   "cell_type": "markdown",
   "metadata": {},
   "source": [
    "### 右特異ベクトルについて\n",
    "行列$A$の右特異ベクトル$v^{(\\ell)}$は，\n",
    "$$\n",
    "    v^{(\\ell)} \\approx \\tilde{v}^{(\\ell)} = \\frac{1}{\\tilde{\\sigma}_\\ell}R^\\dagger\\vec{w}^{(\\ell)}\n",
    "$$のようにして近似されます．このことを確認してみましょう．"
   ]
  },
  {
   "cell_type": "code",
   "execution_count": 27,
   "metadata": {},
   "outputs": [],
   "source": [
    "r, c = 100, 100\n",
    "row_indices, W, S = qi_svd(SQA, r, c)\n",
    "\n",
    "R = construct_R(SQA, A, row_indices)"
   ]
  },
  {
   "cell_type": "code",
   "execution_count": 28,
   "metadata": {},
   "outputs": [
    {
     "name": "stdout",
     "output_type": "stream",
     "text": [
      "0番目の特異値に対応するAの右特異ベクトル\n",
      "近似:\n",
      " [-0.09440838  0.01401883  0.04057489 -0.1191403  -0.05161434  0.06208742\n",
      "  0.10694682 -0.03938006 -0.00157065  0.03245503 -0.02819476  0.08019408\n",
      " -0.02988361  0.00322013 -0.05996592  0.02516358 -0.11113624 -0.00973825\n",
      " -0.0142656   0.05564676  0.11639113 -0.00480009 -0.07569705  0.0481747\n",
      "  0.06608749 -0.03194317  0.0641745  -0.10541631 -0.06696148 -0.06775029\n",
      "  0.0953519  -0.01781199  0.12013226 -0.04986569 -0.06952141 -0.01599937\n",
      "  0.04235067 -0.03020183  0.03267426  0.09344067 -0.01944155 -0.14624766\n",
      "  0.08316173 -0.07365214 -0.05568515  0.06221286  0.0098873   0.12694491\n",
      " -0.04845045  0.09592046  0.00217039  0.02964429 -0.05246296 -0.09218318\n",
      "  0.00122886  0.01960742 -0.01781321 -0.09278275 -0.01163724 -0.04699686\n",
      "  0.00183574  0.00587643 -0.01031515  0.03799682 -0.02710374 -0.01619922\n",
      " -0.10383155  0.01636865  0.02055436  0.02547612 -0.03571882 -0.08149416\n",
      "  0.10286032  0.07269496 -0.02412493 -0.07735724 -0.01754432  0.01310643\n",
      "  0.06227719  0.00246292  0.04386502 -0.12721506 -0.02648137  0.06675705\n",
      " -0.04990223  0.02869365 -0.0398308  -0.01820521 -0.07055013 -0.02784117\n",
      " -0.02582525 -0.03602001  0.05775231  0.043648   -0.00409544 -0.01244501\n",
      " -0.04681567  0.11771469  0.11488634  0.11186431 -0.07924451 -0.03779427\n",
      " -0.06806103 -0.0487432   0.02724304  0.10326964  0.0622083   0.04809121\n",
      "  0.09204101 -0.04471401 -0.00328162  0.07482932  0.0011359  -0.06506777\n",
      " -0.01624378  0.00894266  0.04460019  0.0292381   0.02010398 -0.04354131\n",
      " -0.02135557  0.01443532 -0.00858347  0.00295011 -0.03385917  0.01320969\n",
      "  0.06979743 -0.00473062  0.09042346 -0.04843368 -0.05320873  0.04488506\n",
      " -0.10611463 -0.01750263 -0.00132003 -0.03091107 -0.02026742  0.03987817\n",
      "  0.00691618  0.0004644   0.00059604 -0.09554868  0.01747934  0.0071761\n",
      "  0.01416119  0.08889201  0.09095376 -0.09897474 -0.02552319 -0.07317721\n",
      "  0.08147642  0.05203029 -0.02026544  0.12989027 -0.06049482 -0.04940837\n",
      "  0.07372394 -0.03975119 -0.04775989 -0.07919803 -0.01008619  0.03183719\n",
      " -0.08136334 -0.01519712 -0.02699868 -0.03107165  0.01143241  0.08923449\n",
      " -0.03257458  0.02982004  0.01751632  0.108516   -0.0102156   0.13257179\n",
      " -0.09201193 -0.06194467  0.00466802 -0.03272012 -0.08361412  0.05725051\n",
      "  0.08552165 -0.00732634  0.05140972  0.00024842 -0.02235194 -0.03464039\n",
      "  0.03911829 -0.0553957  -0.01524099  0.08196336 -0.0756198  -0.03131817\n",
      "  0.10667474  0.02873835 -0.00091342 -0.0651289  -0.0102943  -0.00099011\n",
      " -0.05714779 -0.05295983  0.08084524 -0.03122158 -0.0116632  -0.01879263\n",
      " -0.03703013 -0.0248649   0.09231227  0.0798206  -0.07898155 -0.02439702\n",
      " -0.0461855  -0.00503522 -0.05594103 -0.01938095 -0.02051223  0.0884548\n",
      "  0.04160567  0.02221905  0.00600721 -0.03743507  0.0158709   0.0762567\n",
      "  0.03368389  0.13046626  0.04595701 -0.02244023  0.03700389  0.06395638\n",
      "  0.08105966 -0.01811342  0.01803027  0.03001832  0.0537241   0.02429548\n",
      " -0.03339838  0.04100341  0.03725649 -0.01822307 -0.04683275  0.05629211\n",
      " -0.02509542 -0.06660747 -0.1324734   0.00417205  0.06846496 -0.02104425\n",
      " -0.0504611   0.01240532 -0.00388773 -0.03203592  0.07571767  0.09026531\n",
      " -0.03706041  0.05113853  0.00537991  0.0413595  -0.00776075 -0.05753592\n",
      "  0.01464627 -0.00869199  0.02633839 -0.13736472 -0.05067958  0.14846509\n",
      "  0.06478176 -0.00326158  0.01171559  0.02756472 -0.02191005  0.02403296\n",
      " -0.1236504   0.01456469  0.01086291  0.04261948  0.0774616   0.00820755\n",
      " -0.06930585 -0.0588363  -0.01443862  0.08578656 -0.00453197 -0.00858526\n",
      " -0.04219467  0.10617729  0.05431701  0.05221216  0.04822822 -0.00709345\n",
      " -0.02775034  0.0196341   0.07173062 -0.03211098  0.06425894  0.02386264\n",
      " -0.05277093 -0.01345887 -0.04198905 -0.021102   -0.03430726 -0.0552895 ]\n",
      "SciPy:\n",
      " [-0.09471064  0.01372957  0.04051077 -0.11933572 -0.05170756  0.06247768\n",
      "  0.1073243  -0.03964476 -0.00188849  0.03224152 -0.02798623  0.08057127\n",
      " -0.0297442   0.00300898 -0.06031805  0.02525174 -0.11141657 -0.00937732\n",
      " -0.01438335  0.05564406  0.11701265 -0.00444267 -0.07579873  0.04853163\n",
      "  0.06602811 -0.03189037  0.06421818 -0.10561398 -0.0668613  -0.06780437\n",
      "  0.09570032 -0.01805283  0.11999884 -0.04994428 -0.06962074 -0.01583412\n",
      "  0.04275693 -0.03004738  0.03285676  0.09352209 -0.019438   -0.14654182\n",
      "  0.08310697 -0.07393991 -0.05561551  0.06236387  0.00976113  0.12734883\n",
      " -0.04831869  0.09615316  0.00234365  0.03007216 -0.05302601 -0.09236233\n",
      "  0.00109117  0.01956787 -0.0178589  -0.09300284 -0.01159126 -0.04680271\n",
      "  0.00180033  0.0059654  -0.01007445  0.03801913 -0.02710623 -0.01615595\n",
      " -0.1042319   0.01659143  0.02061617  0.02535664 -0.03601063 -0.08184089\n",
      "  0.10334685  0.07274689 -0.02402336 -0.07781568 -0.0178003   0.0129648\n",
      "  0.06249081  0.00238133  0.04401297 -0.12746416 -0.02621577  0.06688008\n",
      " -0.04976269  0.02896132 -0.03996085 -0.01836859 -0.07047676 -0.02768637\n",
      " -0.02576784 -0.0362957   0.05809425  0.044223   -0.00419313 -0.01237177\n",
      " -0.04720948  0.11803157  0.11539617  0.1124343  -0.07975637 -0.03817376\n",
      " -0.06831587 -0.04847168  0.02757441  0.10362264  0.06272684  0.04820414\n",
      "  0.0919005  -0.04501744 -0.00362717  0.07524043  0.001055   -0.06522994\n",
      " -0.01620334  0.00879289  0.04500066  0.0289795   0.02009588 -0.0440136\n",
      " -0.02133517  0.01460877 -0.00821815  0.00306867 -0.03379749  0.01314842\n",
      "  0.07008088 -0.00452072  0.09035257 -0.04870124 -0.05340681  0.04510858\n",
      " -0.10652763 -0.01759559 -0.00117688 -0.03068651 -0.02023872  0.04008592\n",
      "  0.00719726  0.00020246  0.00022178 -0.09552771  0.01719767  0.00703798\n",
      "  0.01419717  0.08922587  0.09133025 -0.09923474 -0.02555688 -0.07363297\n",
      "  0.0816578   0.05201321 -0.0200971   0.13003671 -0.06080993 -0.0491947\n",
      "  0.07397917 -0.03984794 -0.04767979 -0.07928689 -0.00991256  0.03187969\n",
      " -0.08130176 -0.01546301 -0.02674588 -0.03127716  0.01120935  0.08956723\n",
      " -0.03255651  0.02967203  0.01753788  0.10886753 -0.01028791  0.13330003\n",
      " -0.09174115 -0.06227649  0.00450689 -0.03257246 -0.08414405  0.05737186\n",
      "  0.08576719 -0.00757772  0.05149451  0.00022651 -0.02242961 -0.03480317\n",
      "  0.0392202  -0.05538021 -0.01549003  0.08246284 -0.07562297 -0.03125555\n",
      "  0.1070999   0.02866658 -0.00067906 -0.0654425  -0.01029521 -0.00094124\n",
      " -0.05721901 -0.05306465  0.08111919 -0.03152411 -0.0116841  -0.01865934\n",
      " -0.03751627 -0.02497335  0.09266249  0.07996402 -0.07885547 -0.0244993\n",
      " -0.04575944 -0.00516472 -0.05610719 -0.01888673 -0.02058117  0.08854154\n",
      "  0.04192328  0.02222381  0.00578701 -0.03741132  0.01605285  0.07638107\n",
      "  0.03358526  0.13103157  0.04650432 -0.02249928  0.03734822  0.06400479\n",
      "  0.08115129 -0.01802758  0.01802316  0.03059441  0.05377636  0.02443309\n",
      " -0.03327874  0.04134161  0.03765894 -0.01807389 -0.04711922  0.05628554\n",
      " -0.02545551 -0.06666135 -0.13305746  0.00423795  0.06888222 -0.02102115\n",
      " -0.05042663  0.01240284 -0.00388622 -0.03184146  0.07601019  0.09018991\n",
      " -0.03727221  0.05115243  0.00555765  0.04128527 -0.00775533 -0.0575648\n",
      "  0.01484934 -0.00898963  0.02656037 -0.13754538 -0.05096266  0.14865486\n",
      "  0.06456281 -0.00359404  0.01163099  0.02776696 -0.02153132  0.02406405\n",
      " -0.1237461   0.01447285  0.01084212  0.04261741  0.07743007  0.00833751\n",
      " -0.0696192  -0.05944645 -0.0144877   0.08585432 -0.00469817 -0.00863429\n",
      " -0.04212807  0.10601373  0.05432412  0.05211482  0.04799167 -0.00729734\n",
      " -0.02770382  0.01965445  0.07215782 -0.03217011  0.06427889  0.02408606\n",
      " -0.05290224 -0.01324289 -0.04202287 -0.02098145 -0.03483567 -0.05546826]\n"
     ]
    }
   ],
   "source": [
    "v0 = R.T @ W[:,0] / S[0]\n",
    "\n",
    "print(\"0番目の特異値に対応するAの右特異ベクトル\")\n",
    "print(\"近似:\\n\",   v0)\n",
    "print(\"SciPy:\\n\", exact_V[:,0])"
   ]
  },
  {
   "cell_type": "markdown",
   "metadata": {},
   "source": [
    "サンプル数を増やしていくにつれて，$\\norm{v^{(\\ell)} - \\tilde{v}^{(\\ell)}}$が小さくなることを確認します．"
   ]
  },
  {
   "cell_type": "code",
   "execution_count": 29,
   "metadata": {},
   "outputs": [
    {
     "name": "stdout",
     "output_type": "stream",
     "text": [
      "(r,c)=(2,2): 0.053716921963869305 2.5698534935499238 [0.00765992 0.10930036]\n",
      "(r,c)=(4,4): 0.03779696020426916 2.04075692647302 [0.00725207 0.09231563]\n",
      "(r,c)=(8,8): 0.039405277988013174 1.2653715939284058 [0.00698005 0.08479822]\n",
      "(r,c)=(16,16): 0.02520930612912829 1.0795496028209515 [0.00635114 0.0713122 ]\n",
      "(r,c)=(32,32): 0.022201262845864544 1.1286874288581443 [0.00131866 0.01013171]\n",
      "(r,c)=(64,64): 0.009251939824001687 0.7851963201806067 [0.00284349 0.02535093]\n",
      "(r,c)=(128,128): 0.005899133454370995 1.2577253904429344 [0.00015355 0.00123461]\n",
      "(r,c)=(256,256): 0.007290099033723877 1.251522155362373 [0.00235924 0.01761108]\n"
     ]
    }
   ],
   "source": [
    "errors = []\n",
    "sample_size = 10\n",
    "k = 0 # 確認する特異ベクトルの番号．\n",
    "rs = [2**i for i in range(1, 9)]\n",
    "cs = [2**i for i in range(1, 9)]\n",
    "\n",
    "hist0 = []\n",
    "hist1 = []\n",
    "\n",
    "for r, c in zip(rs, cs):\n",
    "\n",
    "    mean0 = 0\n",
    "    mean1 = 0\n",
    "    for _ in range(sample_size):\n",
    "        row_indices, W, S = qi_svd(SQA, r, c)\n",
    "\n",
    "        # 確認\n",
    "        R = construct_R(SQA, A, row_indices)\n",
    "        v0 = R.T @ W[:, 0]/S[0]\n",
    "        v1 = R.T @ W[:, 1]/S[1]\n",
    "        \n",
    "        mean0 += np.linalg.norm(v0 - exact_V[:, 0])\n",
    "        mean1 += np.linalg.norm(v1 - exact_V[:, 1])\n",
    "        \n",
    "    mean0 = mean0/sample_size\n",
    "    mean1 = mean1/sample_size   \n",
    "    hist0.append(mean0)\n",
    "    hist1.append(mean1)\n",
    "    \n",
    "    print(f\"(r,c)=({r},{c}):\", mean0, mean1, np.abs(S[:rankA] - exact_S[:rankA]))"
   ]
  },
  {
   "cell_type": "code",
   "execution_count": 30,
   "metadata": {},
   "outputs": [
    {
     "data": {
      "image/png": "[encoded data removed]",
      "text/plain": [
       "<Figure size 800x600 with 1 Axes>"
      ]
     },
     "metadata": {},
     "output_type": "display_data"
    }
   ],
   "source": [
    "plt.figure(figsize=(8, 6))\n",
    "plt.plot(rs, hist0, label=r\"$\\ell=0$\")\n",
    "plt.plot(rs, hist1, label=r\"$\\ell=1$\")\n",
    "plt.xscale(\"log\")\n",
    "plt.yscale(\"log\")\n",
    "plt.xlabel(\"r, c\")\n",
    "plt.ylabel(\"error\")\n",
    "plt.title(r\"\")\n",
    "plt.legend()\n",
    "plt.show()"
   ]
  },
  {
   "cell_type": "markdown",
   "metadata": {},
   "source": [
    "### 左特異ベクトルについて\n",
    "\n",
    "行列$A$の左特異ベクトル$u^{(\\ell)}$は，\n",
    "$$\n",
    "    u^{(\\ell)} \\approx \\tilde{u}^{(\\ell)} = \\frac{1}{\\tilde{\\sigma}_\\ell^2}A R^\\top w^{(\\ell)}\n",
    "$$\n",
    "のようにして近似されます．このことを確認してみます．"
   ]
  },
  {
   "cell_type": "code",
   "execution_count": 31,
   "metadata": {},
   "outputs": [],
   "source": [
    "r, c = 1000, 1000\n",
    "row_indices, W, S = qi_svd(SQA, r, c)\n",
    "R = construct_R(SQA, A, row_indices)"
   ]
  },
  {
   "cell_type": "code",
   "execution_count": 32,
   "metadata": {},
   "outputs": [
    {
     "name": "stdout",
     "output_type": "stream",
     "text": [
      "0番目の特異値に対応するAの左特異ベクトル\n",
      "近似:\n",
      " [-8.94996616e-03 -8.22405824e-02 -3.71806420e-02 -5.01494553e-02\n",
      " -7.93813180e-02 -2.74469195e-02 -7.65251908e-03 -5.12497952e-02\n",
      " -5.84841329e-03 -3.42411358e-03 -3.79755653e-02 -6.15472551e-02\n",
      " -5.72408348e-02 -4.38638218e-02 -6.00219285e-02 -4.74886840e-02\n",
      " -4.39239864e-02 -2.95294469e-02 -1.79091610e-02 -2.68804899e-02\n",
      " -6.42535572e-02 -7.57484819e-02 -8.28715184e-02 -8.38103702e-02\n",
      " -4.25391232e-03 -6.62288444e-02 -2.79515554e-02 -1.83275497e-02\n",
      " -2.99560872e-03 -6.47622609e-02 -7.66108981e-02 -8.38512217e-02\n",
      " -7.73643595e-02 -2.74629962e-02 -5.46328720e-02 -5.93558633e-02\n",
      " -4.95149925e-02 -7.03435411e-02 -6.58338394e-02 -2.51921404e-02\n",
      " -2.95519607e-02 -7.74226118e-02 -2.18741763e-02 -3.15434279e-02\n",
      " -5.25158478e-02 -4.28435393e-02 -4.48297853e-02 -3.76906624e-02\n",
      " -1.67299028e-02 -8.22903978e-02 -6.92488677e-02 -3.14818902e-02\n",
      " -6.64784612e-02 -5.59980346e-02 -1.24520368e-02 -3.21401272e-04\n",
      " -2.33041013e-02 -7.04984350e-02 -3.37129590e-02 -8.37639480e-02\n",
      " -6.95693655e-02 -6.03934041e-02 -2.62047504e-02 -3.01899329e-02\n",
      " -2.59616522e-03 -4.38582322e-02 -6.36089173e-02 -1.79800672e-02\n",
      " -6.64707710e-02 -8.18438581e-02 -6.49223082e-02 -3.23480462e-02\n",
      " -7.00968762e-02 -3.28204020e-03 -1.92949630e-02 -1.85334282e-02\n",
      " -7.45418870e-02 -4.08620408e-02 -8.37251354e-02 -4.12764832e-02\n",
      " -6.83454063e-02 -1.13980071e-03 -7.26148366e-02 -4.86606727e-02\n",
      " -4.10327496e-02 -1.62375523e-02 -5.30580090e-02 -9.24893328e-03\n",
      " -4.99882641e-02 -5.78818035e-02 -5.26521843e-02 -6.76684167e-02\n",
      " -7.28522110e-02 -1.37496932e-02 -2.37068636e-02 -7.62755298e-02\n",
      " -2.91363234e-02 -6.71183112e-04 -3.41485420e-02 -7.91756324e-02\n",
      " -7.22880199e-02 -2.83609952e-02 -1.95805675e-02 -1.65488750e-02\n",
      " -3.83785377e-02 -3.18673753e-02 -6.26593166e-03 -3.28157976e-02\n",
      " -7.59632891e-02 -4.89263637e-02 -1.73879702e-02 -6.22378123e-02\n",
      " -5.27088950e-02 -2.86956742e-02 -1.66185204e-03 -4.05708149e-02\n",
      " -4.71083050e-02 -5.47123202e-03 -3.33522920e-02 -7.45251629e-02\n",
      " -4.58809607e-03 -5.92303112e-02 -4.72886781e-02 -3.99968798e-02\n",
      " -6.63371935e-02 -2.05129396e-02 -4.20050373e-02 -1.77173267e-02\n",
      " -8.28013760e-02 -1.46227769e-02 -3.05525215e-02 -5.44152839e-02\n",
      " -6.48771919e-02 -4.11733724e-02 -4.58039994e-02 -2.34430728e-02\n",
      " -1.19675311e-02 -3.19736358e-02 -7.48795415e-02 -3.79139557e-02\n",
      " -2.43341188e-02 -6.06222237e-02 -4.16461519e-02 -1.24134529e-03\n",
      " -4.35379186e-02 -7.05647704e-02 -5.42201957e-02 -6.85940906e-02\n",
      " -2.98075904e-02 -4.06645789e-02 -7.17101613e-02 -3.96578707e-02\n",
      " -8.25196661e-02 -4.26255271e-02 -8.23665237e-02 -8.02655818e-02\n",
      " -7.73440913e-04 -2.29286145e-03 -6.71487332e-03 -2.98350425e-02\n",
      " -7.31274496e-02 -7.35880034e-02 -2.92818828e-02 -4.83566089e-02\n",
      " -5.62966419e-02 -3.38200309e-02 -6.99423255e-02 -5.73772171e-02\n",
      " -7.42669322e-02 -3.19589781e-02 -7.53893148e-03 -4.31742033e-02\n",
      " -2.80885451e-02 -2.44051423e-02 -7.58158752e-03 -5.64991756e-02\n",
      " -1.50289179e-02 -7.63636235e-02 -4.54481509e-02 -4.36676118e-02\n",
      " -3.98843095e-02 -7.64168194e-02 -1.37866001e-03 -5.38865300e-02\n",
      " -1.72496910e-02 -5.84516615e-02 -5.54982951e-02 -4.37464082e-02\n",
      " -5.94043073e-02 -2.67897328e-02 -3.86452358e-02 -1.16295940e-02\n",
      " -7.22346309e-03 -4.78468081e-02 -5.16087882e-02 -1.74334005e-02\n",
      " -7.98537446e-02 -6.88517805e-02 -7.00797914e-02 -4.58299907e-02\n",
      " -6.67268339e-02 -5.60483272e-03 -5.81462210e-02 -1.00275684e-02\n",
      " -5.23318250e-02 -5.08172681e-02 -3.79746812e-02 -4.86234861e-02\n",
      " -2.07445430e-02 -5.38063761e-02 -7.85650017e-02 -1.90105691e-02\n",
      " -1.20787641e-02 -4.17062968e-02 -8.38842750e-02 -4.44295928e-02\n",
      " -2.74843861e-02 -6.33998934e-02 -9.26511635e-03 -8.02985631e-02\n",
      " -2.61642804e-02 -5.14437108e-02 -8.38245851e-02 -1.79829545e-02\n",
      " -4.20854482e-02 -6.91700162e-03 -1.77534449e-02 -4.04104015e-02\n",
      " -4.25800374e-02 -5.33897946e-02 -7.28136525e-02 -4.76890236e-02\n",
      " -6.38448073e-02 -8.38110307e-02 -8.07954892e-02 -8.05111335e-02\n",
      " -5.80556840e-02 -7.55255468e-02 -2.38280431e-02 -4.26755580e-02\n",
      " -4.26324035e-02 -6.63863763e-03 -5.90464077e-02 -4.42330025e-02\n",
      " -8.02828638e-02 -4.70031425e-03 -3.19888945e-02 -1.53477657e-02\n",
      " -5.16695425e-02 -1.77530463e-02 -8.29354016e-02 -1.68726862e-02\n",
      " -1.71125536e-02 -7.39963873e-02 -2.66866012e-02 -2.26558650e-02\n",
      " -2.42811174e-02 -6.03889683e-02 -1.87398942e-03 -1.60070943e-02\n",
      " -6.66641211e-02 -3.92107365e-02 -6.97145407e-02 -6.64722461e-02\n",
      " -8.10091379e-02 -3.27109078e-02 -7.37767986e-02 -6.83710959e-02\n",
      " -8.03061418e-02 -4.52291216e-02 -7.24321150e-02 -6.11291315e-02\n",
      " -7.09619842e-02 -3.38552746e-02 -6.84837883e-02 -7.28593217e-02\n",
      " -2.83859291e-02 -7.03034086e-02 -3.31562634e-03 -5.48979682e-03\n",
      " -3.33960790e-02 -3.05397038e-03 -7.33144730e-02 -4.73702708e-02\n",
      " -6.97636778e-03 -2.93678624e-02 -4.63482441e-02 -5.54951837e-02\n",
      " -2.19865822e-02 -7.04258761e-02 -2.91388914e-04 -7.77167111e-03\n",
      " -1.54960296e-02 -7.77859049e-02 -1.80623666e-02 -3.03755571e-02\n",
      " -8.70216646e-03 -4.58367799e-02 -5.39645566e-02 -6.24171156e-02\n",
      " -3.11662181e-03 -2.89800469e-02 -7.79284444e-02 -3.04262966e-02\n",
      " -4.84387816e-02 -2.79617225e-02 -4.57666810e-02 -7.18582786e-02\n",
      " -7.50219262e-02 -4.58247329e-02 -4.08779723e-02 -6.25131356e-02\n",
      " -6.69704716e-02 -9.97270737e-04 -9.09458880e-03 -7.38451224e-02\n",
      " -1.03608022e-02 -3.37153502e-02 -1.87712354e-02 -4.19701850e-02\n",
      " -6.97353839e-02 -7.12324255e-03 -3.57046444e-02 -1.23699387e-03\n",
      " -1.73575838e-02 -2.59207930e-02 -1.48508014e-02 -3.67785526e-02\n",
      " -7.34205752e-02 -3.95075724e-02 -1.64201332e-02 -4.45631584e-02\n",
      " -8.18897406e-02 -2.61011042e-02 -5.09742171e-02 -7.85591871e-02\n",
      " -8.87568995e-03 -3.02885434e-02 -4.29021358e-02 -5.72279082e-02\n",
      " -3.18471813e-02 -1.21599375e-02 -2.92566477e-02 -1.52380509e-02\n",
      " -7.14686067e-02 -4.01561417e-03 -7.98251348e-03 -6.68362240e-02\n",
      " -5.50986698e-02 -5.38920474e-02 -5.01139380e-02 -3.92704703e-02\n",
      " -2.44745336e-02 -5.77969171e-02 -4.88436686e-02 -7.66501311e-03\n",
      " -7.51800518e-02 -7.99401323e-02 -7.35682012e-02 -8.27759599e-02\n",
      " -7.53210549e-02 -2.72519824e-02 -7.03017685e-02 -6.09060086e-02\n",
      " -2.26194209e-02 -3.54279199e-02 -4.92754155e-02 -7.44601966e-02\n",
      " -3.49506496e-02 -3.71845184e-02 -8.06270392e-02 -2.60456871e-02\n",
      " -4.00449173e-02 -1.54320745e-02 -5.59514438e-02 -5.94882129e-02\n",
      " -3.14889245e-02 -3.04400154e-02 -4.03936650e-02 -1.35194547e-02\n",
      " -4.87152010e-02 -7.34648216e-02 -6.68679080e-02 -1.11755887e-02\n",
      " -6.01810374e-02 -2.82003298e-02 -7.55038482e-02 -7.38864954e-02\n",
      " -1.31429404e-02 -5.33538665e-02 -2.72339079e-02 -8.14746262e-02\n",
      " -1.55400431e-02 -8.30904943e-02 -2.49149541e-02 -2.99747506e-02\n",
      "  2.35112008e-05 -8.13984584e-02 -4.59887181e-02 -1.45676187e-02]\n",
      "SciPy:\n",
      " [-9.01460906e-03 -8.24166155e-02 -3.72535502e-02 -5.02465332e-02\n",
      " -7.95548239e-02 -2.75440927e-02 -7.71794431e-03 -5.13785911e-02\n",
      " -5.89564946e-03 -3.46716245e-03 -3.80676524e-02 -6.16814960e-02\n",
      " -5.73956164e-02 -4.39905213e-02 -6.01840932e-02 -4.76010288e-02\n",
      " -4.40504355e-02 -2.96363212e-02 -1.79498226e-02 -2.69478357e-02\n",
      " -6.44188011e-02 -7.59329692e-02 -8.30280989e-02 -8.39940774e-02\n",
      " -4.28332215e-03 -6.63982468e-02 -2.80213843e-02 -1.84122955e-02\n",
      " -3.05148823e-03 -6.49023202e-02 -7.68029512e-02 -8.40293245e-02\n",
      " -7.75597149e-02 -2.75514216e-02 -5.47486639e-02 -5.94743653e-02\n",
      " -4.96580560e-02 -7.04918168e-02 -6.59789280e-02 -2.52749855e-02\n",
      " -2.96387146e-02 -7.75775570e-02 -2.19150988e-02 -3.16046471e-02\n",
      " -5.26291211e-02 -4.29222266e-02 -4.49641500e-02 -3.77650462e-02\n",
      " -1.67905090e-02 -8.24667263e-02 -6.93816451e-02 -3.15966800e-02\n",
      " -6.66439139e-02 -5.61103626e-02 -1.24779571e-02 -3.47912194e-04\n",
      " -2.33518182e-02 -7.06573862e-02 -3.38177686e-02 -8.39575340e-02\n",
      " -6.97009379e-02 -6.05605020e-02 -2.62746581e-02 -3.02545105e-02\n",
      " -2.64535186e-03 -4.39493234e-02 -6.37770447e-02 -1.80389807e-02\n",
      " -6.66474189e-02 -8.19947816e-02 -6.50610568e-02 -3.24286821e-02\n",
      " -7.02713773e-02 -3.29853971e-03 -1.93410207e-02 -1.85888430e-02\n",
      " -7.47065320e-02 -4.09679464e-02 -8.39203884e-02 -4.13662941e-02\n",
      " -6.84912333e-02 -1.16652214e-03 -7.27942282e-02 -4.87725048e-02\n",
      " -4.11116786e-02 -1.63213375e-02 -5.31985610e-02 -9.27066401e-03\n",
      " -5.00881456e-02 -5.80270030e-02 -5.27711211e-02 -6.78021623e-02\n",
      " -7.30431097e-02 -1.37968284e-02 -2.37986120e-02 -7.64281755e-02\n",
      " -2.92261369e-02 -7.26061971e-04 -3.42149021e-02 -7.93777244e-02\n",
      " -7.24771028e-02 -2.84186736e-02 -1.96589207e-02 -1.65937744e-02\n",
      " -3.84723783e-02 -3.19405673e-02 -6.32190265e-03 -3.29322068e-02\n",
      " -7.61325190e-02 -4.90489307e-02 -1.74276322e-02 -6.23862868e-02\n",
      " -5.28305562e-02 -2.87584641e-02 -1.71041641e-03 -4.07003718e-02\n",
      " -4.72394303e-02 -5.48953851e-03 -3.34184443e-02 -7.47020749e-02\n",
      " -4.64098398e-03 -5.93406326e-02 -4.73858446e-02 -4.01165920e-02\n",
      " -6.64748361e-02 -2.05543575e-02 -4.21256707e-02 -1.77925558e-02\n",
      " -8.29809427e-02 -1.46949156e-02 -3.06545957e-02 -5.45278638e-02\n",
      " -6.50095838e-02 -4.12597399e-02 -4.59144410e-02 -2.34948555e-02\n",
      " -1.20426988e-02 -3.20329065e-02 -7.50585204e-02 -3.80363880e-02\n",
      " -2.43798569e-02 -6.07625404e-02 -4.17691320e-02 -1.30076173e-03\n",
      " -4.36546543e-02 -7.06977629e-02 -5.43704392e-02 -6.87376900e-02\n",
      " -2.99091288e-02 -4.07544454e-02 -7.18724490e-02 -3.97600202e-02\n",
      " -8.26973696e-02 -4.27414746e-02 -8.25268301e-02 -8.04636395e-02\n",
      " -7.75825157e-04 -2.32445522e-03 -6.77754785e-03 -2.99035789e-02\n",
      " -7.32933528e-02 -7.37441941e-02 -2.93391537e-02 -4.84602063e-02\n",
      " -5.64367220e-02 -3.39259552e-02 -7.00774721e-02 -5.75182844e-02\n",
      " -7.44097293e-02 -3.20562679e-02 -7.60354591e-03 -4.32963196e-02\n",
      " -2.81962195e-02 -2.44785042e-02 -7.62155893e-03 -5.66247583e-02\n",
      " -1.50774987e-02 -7.65155611e-02 -4.55865327e-02 -4.37948340e-02\n",
      " -3.99637261e-02 -7.66020933e-02 -1.40032242e-03 -5.39886601e-02\n",
      " -1.73318569e-02 -5.85608822e-02 -5.56093405e-02 -4.38645610e-02\n",
      " -5.95649761e-02 -2.68812217e-02 -3.87298684e-02 -1.17060664e-02\n",
      " -7.25054846e-03 -4.79759337e-02 -5.17223972e-02 -1.74692619e-02\n",
      " -8.00424770e-02 -6.90025377e-02 -7.02331362e-02 -4.59478637e-02\n",
      " -6.68506632e-02 -5.63425315e-03 -5.82644197e-02 -1.00810370e-02\n",
      " -5.24848247e-02 -5.09417361e-02 -3.80984169e-02 -4.87251148e-02\n",
      " -2.07938647e-02 -5.39366336e-02 -7.87321387e-02 -1.90716463e-02\n",
      " -1.21391799e-02 -4.18098607e-02 -8.40945614e-02 -4.45430448e-02\n",
      " -2.75511547e-02 -6.35641193e-02 -9.31541217e-03 -8.04761434e-02\n",
      " -2.62489870e-02 -5.15713945e-02 -8.39916552e-02 -1.80233248e-02\n",
      " -4.22162010e-02 -6.93409293e-03 -1.77906937e-02 -4.05060998e-02\n",
      " -4.27069054e-02 -5.35011731e-02 -7.30034670e-02 -4.78267976e-02\n",
      " -6.39860547e-02 -8.40149034e-02 -8.09703982e-02 -8.06610004e-02\n",
      " -5.82010333e-02 -7.56805938e-02 -2.38764294e-02 -4.27845264e-02\n",
      " -4.27103861e-02 -6.67452047e-03 -5.91607234e-02 -4.43381677e-02\n",
      " -8.04615016e-02 -4.73983857e-03 -3.20521277e-02 -1.53852224e-02\n",
      " -5.17959378e-02 -1.77865603e-02 -8.30951174e-02 -1.69578612e-02\n",
      " -1.71573225e-02 -7.41537991e-02 -2.67353920e-02 -2.27348985e-02\n",
      " -2.43597038e-02 -6.05527790e-02 -1.92478756e-03 -1.60706808e-02\n",
      " -6.67961528e-02 -3.93369258e-02 -6.98685381e-02 -6.65992275e-02\n",
      " -8.11656966e-02 -3.27888157e-02 -7.39261994e-02 -6.85168566e-02\n",
      " -8.04784417e-02 -4.53120295e-02 -7.25894526e-02 -6.12645478e-02\n",
      " -7.10947728e-02 -3.39283495e-02 -6.86336382e-02 -7.30485269e-02\n",
      " -2.84777229e-02 -7.04609419e-02 -3.35432265e-03 -5.50987634e-03\n",
      " -3.34690582e-02 -3.10292323e-03 -7.34945898e-02 -4.74642833e-02\n",
      " -7.00692230e-03 -2.94517381e-02 -4.64354734e-02 -5.56092870e-02\n",
      " -2.20531756e-02 -7.05823756e-02 -3.29183894e-04 -7.80254608e-03\n",
      " -1.55616140e-02 -7.79649472e-02 -1.81024051e-02 -3.04771752e-02\n",
      " -8.72375958e-03 -4.59215695e-02 -5.40956697e-02 -6.25408977e-02\n",
      " -3.12339687e-03 -2.90803762e-02 -7.80915573e-02 -3.05320780e-02\n",
      " -4.85540317e-02 -2.80476587e-02 -4.58599572e-02 -7.19916003e-02\n",
      " -7.52159248e-02 -4.59285167e-02 -4.09955669e-02 -6.26586956e-02\n",
      " -6.71175482e-02 -1.01935505e-03 -9.16501783e-03 -7.39924736e-02\n",
      " -1.04336840e-02 -3.38040483e-02 -1.88160954e-02 -4.21013603e-02\n",
      " -6.98997926e-02 -7.13790696e-03 -3.58253712e-02 -1.26660585e-03\n",
      " -1.73955949e-02 -2.60189901e-02 -1.48841203e-02 -3.68516733e-02\n",
      " -7.36091280e-02 -3.96048722e-02 -1.64656420e-02 -4.46984993e-02\n",
      " -8.20874133e-02 -2.61835769e-02 -5.11153673e-02 -7.87457714e-02\n",
      " -8.92523393e-03 -3.03673998e-02 -4.30020286e-02 -5.73771681e-02\n",
      " -3.19085882e-02 -1.21831071e-02 -2.93258243e-02 -1.52969824e-02\n",
      " -7.16498433e-02 -4.04166304e-03 -8.03994879e-03 -6.69725644e-02\n",
      " -5.52055630e-02 -5.40168541e-02 -5.02431325e-02 -3.93957783e-02\n",
      " -2.45365191e-02 -5.79393749e-02 -4.89612240e-02 -7.71159152e-03\n",
      " -7.53182492e-02 -8.01017511e-02 -7.37453926e-02 -8.29284491e-02\n",
      " -7.55104367e-02 -2.73452642e-02 -7.04548534e-02 -6.10335695e-02\n",
      " -2.26872920e-02 -3.55421896e-02 -4.94204531e-02 -7.46023269e-02\n",
      " -3.50695661e-02 -3.72527985e-02 -8.08072492e-02 -2.60997344e-02\n",
      " -4.01639848e-02 -1.55129118e-02 -5.60848408e-02 -5.95978006e-02\n",
      " -3.16037693e-02 -3.05104537e-02 -4.04799181e-02 -1.35879359e-02\n",
      " -4.88364959e-02 -7.36150349e-02 -6.70316647e-02 -1.12403278e-02\n",
      " -6.03124277e-02 -2.82775720e-02 -7.56679517e-02 -7.40407102e-02\n",
      " -1.32087070e-02 -5.34603818e-02 -2.73139822e-02 -8.16789582e-02\n",
      " -1.56120300e-02 -8.32658243e-02 -2.49909131e-02 -3.00524808e-02\n",
      " -8.62309588e-06 -8.15914013e-02 -4.61050948e-02 -1.46459409e-02]\n"
     ]
    }
   ],
   "source": [
    "u0 = A @ R.T @ W[:,0] / (S[0]**2)\n",
    "\n",
    "print(\"0番目の特異値に対応するAの左特異ベクトル\")\n",
    "print(\"近似:\\n\",   u0)\n",
    "print(\"SciPy:\\n\", exact_U[:,0])"
   ]
  },
  {
   "cell_type": "markdown",
   "metadata": {},
   "source": [
    "サンプル数を増やしていくにつれて，$\\norm{u^{(\\ell)} - \\tilde{u}^{(\\ell)}}$が小さくなることを確認します．"
   ]
  },
  {
   "cell_type": "code",
   "execution_count": 33,
   "metadata": {},
   "outputs": [
    {
     "name": "stdout",
     "output_type": "stream",
     "text": [
      "(r,c)=(2,2): 0.01363039658378295 140.09897560357606\n",
      "(r,c)=(4,4): 0.010289945038705044 112.98948135613978\n",
      "(r,c)=(8,8): 0.011281326791994797 5.818083842469619\n",
      "(r,c)=(16,16): 0.009328073472766903 4.693722668949129\n",
      "(r,c)=(32,32): 0.00788403639784217 2.24308025274472\n",
      "(r,c)=(64,64): 0.0047692053409146475 1.2538782231617849\n",
      "(r,c)=(128,128): 0.003680889905664607 1.1908862173998653\n",
      "(r,c)=(256,256): 0.003222959568654292 1.2480234507696288\n",
      "(r,c)=(512,512): 0.10216803671747085 1.171412455471266\n"
     ]
    }
   ],
   "source": [
    "sample_size = 20\n",
    "\n",
    "hist0 = []\n",
    "hist1 = []\n",
    "\n",
    "rs = [2**i for i in range(1, 10)]\n",
    "cs = [2**i for i in range(1, 10)]\n",
    "for r, c in zip(rs, cs):\n",
    "\n",
    "    mean0 = 0\n",
    "    mean1 = 0\n",
    "    for _ in range(sample_size):\n",
    "        row_indices, W, S = qi_svd(SQA, r, c)\n",
    "\n",
    "        # 確認\n",
    "        R = construct_R(SQA, A, row_indices)\n",
    "        u0 = A @ R.T @ W[:, 0]/S[0]**2 \n",
    "        u1 = A @ R.T @ W[:, 1]/S[1]**2\n",
    "        mean0 += np.linalg.norm(u0 - exact_U[:, 0])\n",
    "        mean1 += np.linalg.norm(u1 - exact_U[:, 1])\n",
    "        \n",
    "    mean0 = mean0/sample_size\n",
    "    mean1 = mean1/sample_size\n",
    "    hist0.append(mean0)\n",
    "    hist1.append(mean1)\n",
    "    \n",
    "    print(f\"(r,c)=({r},{c}):\", mean0, mean1)"
   ]
  },
  {
   "cell_type": "code",
   "execution_count": 34,
   "metadata": {},
   "outputs": [
    {
     "data": {
      "image/png": "[encoded data removed]",
      "text/plain": [
       "<Figure size 800x600 with 1 Axes>"
      ]
     },
     "metadata": {},
     "output_type": "display_data"
    }
   ],
   "source": [
    "plt.figure(figsize=(8, 6))\n",
    "plt.plot(rs, hist0, label=r\"$\\ell=0$\")\n",
    "plt.plot(rs, hist1, label=r\"$\\ell=1$\")\n",
    "plt.xscale(\"log\")\n",
    "plt.yscale(\"log\")\n",
    "plt.xlabel(\"r, c\")\n",
    "plt.ylabel(\"error\")\n",
    "plt.title(r\"\")\n",
    "plt.legend()\n",
    "plt.show()"
   ]
  },
  {
   "cell_type": "markdown",
   "metadata": {},
   "source": [
    "## まとめ\n",
    "\n",
    "量子インスパイアード古典アルゴリズムにおける，$C$の特異値分解までをみてきました．このノートブックでは，特異ベクトルの復元に，行列$A$や$R$と$C$の左特異ベクトルに関する行列-ベクトル積を行なっているため，元々の行列$A$の次元に関して多項式の計算量を必要とします．`3_SQ(x).ipynb`では，このような計算量をかけずにSample, Query, Normそれぞれを実行することについて説明します．"
   ]
  },
  {
   "cell_type": "markdown",
   "metadata": {},
   "source": [
    "## 参考文献\n",
    "\n",
    "- András Gilyén, Seth Lloyd, and Ewin Tang, ''Quantum-inspired low-rank stochastic regression with logarithmic dependence on the dimension,'' arXiv:1811.04909, (2018). https://arxiv.org/abs/1811.04909\n",
    "\n",
    "- Ewin Tang. 2019. A quantum-inspired classical algorithm for recommendation systems. In Proceedings of the 51st Annual ACM SIGACT Symposium on Theory of Computing (STOC 2019). Association for Computing Machinery, New York, NY, USA, 217–228. https://doi.org/10.1145/3313276.3316310"
   ]
  },
  {
   "cell_type": "code",
   "execution_count": null,
   "metadata": {},
   "outputs": [],
   "source": []
  }
 ],
 "metadata": {
  "instance_type": "ml.t3.medium",
  "kernelspec": {
   "display_name": "Python 3 (Data Science)",
   "language": "python",
   "name": "python3__SAGEMAKER_INTERNAL__arn:aws:sagemaker:us-west-1:742091327244:image/datascience-1.0"
  },
  "language_info": {
   "codemirror_mode": {
    "name": "ipython",
    "version": 3
   },
   "file_extension": ".py",
   "mimetype": "text/x-python",
   "name": "python",
   "nbconvert_exporter": "python",
   "pygments_lexer": "ipython3",
   "version": "3.7.10"
  }
 },
 "nbformat": 4,
 "nbformat_minor": 4
}
