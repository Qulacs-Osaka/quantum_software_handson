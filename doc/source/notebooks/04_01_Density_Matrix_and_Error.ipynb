{
 "cells": [
  {
   "cell_type": "code",
   "execution_count": 1,
   "id": "4992a35f",
   "metadata": {},
   "outputs": [],
   "source": [
    "#!pip install qulacs\n",
    "#!pip install qulacsvis\n",
    "#!pip install matplotlib\n",
    "#!pip install numpy\n",
    "#!pip install scipy"
   ]
  },
  {
   "cell_type": "code",
   "execution_count": 2,
   "id": "37b774db",
   "metadata": {},
   "outputs": [],
   "source": [
    "import matplotlib.pyplot as plt\n",
    "import numpy as np\n",
    "from qulacs import Observable, QuantumState, DensityMatrix\n",
    "from qulacs.gate import  X, H, Z, DepolarizingNoise, DephasingNoise, AmplitudeDampingNoise, TwoQubitDepolarizingNoise"
   ]
  },
  {
   "cell_type": "markdown",
   "id": "2d9c21ef",
   "metadata": {},
   "source": [
    "#  Qulacsでの混合状態\n",
    "## DensityMatrixクラス：qulacsでの密度演算子（混合状態）の取り扱い\n",
    "\n",
    "- 量子状態（密度演算子）の準備\n",
    "- 密度演算子をnumpyのarrayに変換、あるいはその逆：`get_matrix()`, `load()`\n",
    "- いくつかのエラー：`DepolarizingNoise`など\n",
    "- 計算基底でのサンプリング：`sampling()`"
   ]
  },
  {
   "cell_type": "markdown",
   "id": "050c3505",
   "metadata": {},
   "source": [
    "## 量子状態（密度演算子）の準備"
   ]
  },
  {
   "cell_type": "code",
   "execution_count": 3,
   "id": "1cb204ce",
   "metadata": {},
   "outputs": [
    {
     "name": "stdout",
     "output_type": "stream",
     "text": [
      " *** Density Matrix ***\n",
      " * Qubit Count : 1\n",
      " * Dimension   : 2\n",
      " * Density matrix : \n",
      "(1,0) (0,0)\n",
      "(0,0) (0,0)\n",
      "\n"
     ]
    }
   ],
   "source": [
    "#密度演算子を準備\n",
    "n_qubits = 1\n",
    "density_matrix = DensityMatrix(n_qubits)\n",
    "print(density_matrix)"
   ]
  },
  {
   "cell_type": "markdown",
   "id": "6fb7b21e",
   "metadata": {},
   "source": [
    "## 密度演算子をnumpyのarrayに変換、あるいはその逆：`get_matrix()`, `load()`"
   ]
  },
  {
   "cell_type": "code",
   "execution_count": 4,
   "id": "e17f3229",
   "metadata": {},
   "outputs": [
    {
     "name": "stdout",
     "output_type": "stream",
     "text": [
      " *** Density Matrix ***\n",
      " * Qubit Count : 1\n",
      " * Dimension   : 2\n",
      " * Density matrix : \n",
      "(0.5,0) (0.5,0)\n",
      "(0.5,0) (0.5,0)\n",
      "\n",
      "[[0.5+0.j 0.5+0.j]\n",
      " [0.5+0.j 0.5+0.j]]\n"
     ]
    }
   ],
   "source": [
    "#numpy arrayからqulacsのDensityMatrixへ変換\n",
    "mat = np.array([[0.5, 0.5], [0.5, 0.5]])\n",
    "density_matrix.load(mat)\n",
    "print(density_matrix)\n",
    "\n",
    "dm = density_matrix.get_matrix()\n",
    "print(dm)"
   ]
  },
  {
   "cell_type": "markdown",
   "id": "2a44e446",
   "metadata": {},
   "source": [
    "※上の量子状態は、実は$|+\\rangle$である。"
   ]
  },
  {
   "cell_type": "markdown",
   "id": "f735ef7b",
   "metadata": {},
   "source": [
    "## いくつかのエラー：`DepolarizingNoise`など"
   ]
  },
  {
   "cell_type": "markdown",
   "id": "9511e727",
   "metadata": {},
   "source": [
    "Depolarizing noise: $\\mathcal{E}[\\rho]=(1-p)\\rho+\\frac{p}{3} (X\\rho X+Y\\rho Y+Z\\rho Z)$ ($0\\le p \\le 0.75$)"
   ]
  },
  {
   "cell_type": "code",
   "execution_count": 5,
   "id": "eafa1ac0",
   "metadata": {},
   "outputs": [
    {
     "name": "stdout",
     "output_type": "stream",
     "text": [
      " *** Density Matrix ***\n",
      " * Qubit Count : 1\n",
      " * Dimension   : 2\n",
      " * Density matrix : \n",
      "(0.5,0) (0.4,0)\n",
      "(0.4,0) (0.5,0)\n",
      "\n"
     ]
    }
   ],
   "source": [
    "#depolarizing noiseを作用\n",
    "p = 0.15\n",
    "gate = DepolarizingNoise(0, p)\n",
    "gate.update_quantum_state(density_matrix)\n",
    "print(density_matrix)"
   ]
  },
  {
   "cell_type": "markdown",
   "id": "c0199382",
   "metadata": {},
   "source": [
    "Dephasing noise: $\\mathcal{E}[\\rho]=(1-p)\\rho +p Z\\rho Z$ ($0\\le p \\le 0.5$)"
   ]
  },
  {
   "cell_type": "code",
   "execution_count": 6,
   "id": "22f538bc",
   "metadata": {},
   "outputs": [
    {
     "name": "stdout",
     "output_type": "stream",
     "text": [
      " *** Density Matrix ***\n",
      " * Qubit Count : 1\n",
      " * Dimension   : 2\n",
      " * Density matrix : \n",
      "(0.5,0) (0.2,0)\n",
      "(0.2,0) (0.5,0)\n",
      "\n"
     ]
    }
   ],
   "source": [
    "#dephasing noiseを作用\n",
    "density_matrix.load(mat)\n",
    "\n",
    "p=0.3\n",
    "gate = DephasingNoise(0, p)\n",
    "gate.update_quantum_state(density_matrix)\n",
    "print(density_matrix)"
   ]
  },
  {
   "cell_type": "markdown",
   "id": "0be5f6f4",
   "metadata": {},
   "source": [
    "密度演算子で期待値を求めたい場合は、状態ベクトルの場合と同じく`get_expectation_value(state)`を使えばOK"
   ]
  },
  {
   "cell_type": "code",
   "execution_count": 7,
   "id": "0dc67480",
   "metadata": {},
   "outputs": [
    {
     "name": "stdout",
     "output_type": "stream",
     "text": [
      " *** Density Matrix ***\n",
      " * Qubit Count : 1\n",
      " * Dimension   : 2\n",
      " * Density matrix : \n",
      "   (0.575,0) (0.460977,0)\n",
      "(0.460977,0)    (0.425,0)\n",
      "\n",
      "0.1499999999999999\n"
     ]
    }
   ],
   "source": [
    "#Amplitude damping noiseを作用させた後、Zの期待値を計算\n",
    "density_matrix.load(mat)\n",
    "\n",
    "#Amplitude damping noiseを作用\n",
    "p=0.15\n",
    "gate = AmplitudeDampingNoise(0, p)\n",
    "gate.update_quantum_state(density_matrix)\n",
    "\n",
    "#Zの期待値を計算\n",
    "Z0 = Observable(n_qubits)\n",
    "Z0.add_operator(1.0, \"Z 0\")\n",
    "expec = Z0.get_expectation_value(density_matrix)\n",
    "print(density_matrix)\n",
    "print(expec)"
   ]
  },
  {
   "cell_type": "markdown",
   "id": "f7703d01",
   "metadata": {},
   "source": [
    "Depolarizing noiseのようなエラーを表す操作を、qulacs上で状態ベクトル（純粋状態）に作用させると、確率的にエラーが作用した状態ベクトルを返す。\n",
    "例えば、Depolarizing noiseだと、確率$(1-p)$で入力した状態をそのまま返し、確率$p/3$でそれぞれX、Y、Zゲートが作用した状態が確率的に得られる。\n",
    "実行するたびにランダムに状態ベクトルが選ばれることに注意。"
   ]
  },
  {
   "cell_type": "code",
   "execution_count": 8,
   "id": "f3fb7bb7",
   "metadata": {},
   "outputs": [
    {
     "name": "stdout",
     "output_type": "stream",
     "text": [
      "[0.+0.j 1.+0.j]\n",
      "[ 0.-1.j -0.+0.j]\n",
      "[ 0.+0.j -1.-0.j]\n"
     ]
    }
   ],
   "source": [
    "#状態ベクトルにDepolarizingNoiseなどを作用させると、確率的に状態ベクトルが得られる\n",
    "state = QuantumState(n_qubits)\n",
    "vec = np.array([0.0,1.0])\n",
    "\n",
    "p=0.5\n",
    "gate = DepolarizingNoise(0, p)\n",
    "\n",
    "#状態ベクトルvecを用意→DepolarizingNoiseを複数回作用させてみる\n",
    "for i in range(3):\n",
    "    state.load(vec)\n",
    "    gate.update_quantum_state(state)\n",
    "    print(state.get_vector())"
   ]
  },
  {
   "cell_type": "markdown",
   "id": "163f25cc",
   "metadata": {},
   "source": [
    "## 計算基底でのサンプリング：`sampling()`"
   ]
  },
  {
   "cell_type": "code",
   "execution_count": 9,
   "id": "7d7f5cc7",
   "metadata": {},
   "outputs": [
    {
     "name": "stdout",
     "output_type": "stream",
     "text": [
      "0.5600000000000003\n",
      "0.6\n",
      " *** Density Matrix ***\n",
      " * Qubit Count : 1\n",
      " * Dimension   : 2\n",
      " * Density matrix : \n",
      "(0.8,0)   (0,0)\n",
      "  (0,0) (0.2,0)\n",
      "\n"
     ]
    },
    {
     "data": {
      "image/png": "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\n",
      "text/plain": [
       "<Figure size 432x288 with 1 Axes>"
      ]
     },
     "metadata": {
      "needs_background": "light"
     },
     "output_type": "display_data"
    }
   ],
   "source": [
    "#サンプリングにより物理量の平均値を求める\n",
    "shots = 100\n",
    "mat2 = np.array([[1.0, 0.0], [0.0, 0.0]])\n",
    "density_matrix.load(mat2)\n",
    "\n",
    "p = 0.3\n",
    "gate = DepolarizingNoise(0, p)\n",
    "gate.update_quantum_state(density_matrix)\n",
    "noise_sampling = density_matrix.sampling(shots)\n",
    "\n",
    "estimated_Z_average = 0.0\n",
    "#物理量Zのサンプリングからの平均値は、測定結果がゼロのときは＋１、測定結果が１のときは－１を加える→サンプリング回数で割る、のようにして求める\n",
    "for i in range(shots):\n",
    "    estimated_Z_average += (-2*noise_sampling[i]+1)/shots\n",
    "\n",
    "#物理量Zの期待値とサンプリングからの平均値を比較してみる\n",
    "print(estimated_Z_average)\n",
    "print(Z0.get_expectation_value(density_matrix))\n",
    "\n",
    "#サンプリング結果のヒストグラムを書いてみる\n",
    "fig, ax = plt.subplots(constrained_layout=True)\n",
    "ax.hist(noise_sampling, bins=2, range=(-0.5, 1.5), rwidth=0.4, density=True)\n",
    "print(density_matrix)\n"
    "plt.show()"
   ]
  },
  {
   "cell_type": "markdown",
   "id": "af196ef3",
   "metadata": {},
   "source": [
    "計算基底でサンプリングした結果、0, 1が出る割合は密度演算子の対角項に近いことが分かります。サンプリングする回数を増やしていけば、より値が近くなっていきます。"
   ]
  },
  {
   "cell_type": "markdown",
   "id": "bdaba8bf",
   "metadata": {},
   "source": [
    "## 練習\n",
    "- ２つの量子状態（純粋状態$|\\psi\\rangle=\\sqrt{\\frac{3}{4}}|0\\rangle+\\sqrt{\\frac{1}{4}}|1\\rangle$、混合状態$\\rho=\\frac{3}{4}|0\\rangle\\langle0|+\\frac{1}{4}|1\\rangle\\langle1|$）に対して、物理量の期待値XとZを求めてみましょう。\n",
    "- これまではすべて１量子ビットの場合の例でした。２量子ビットの場合で、ノイズが作用した状態（密度演算子）を作成してみましょう。`DepolarizingNoise`が１量子ビット目と２量子ビット目に作用した状態と、`TwoQubitDepolarizingNoise`が作用した状態が一般に異なることを確認してください。"
   ]
  },
  {
   "cell_type": "markdown",
   "id": "ad837111",
   "metadata": {},
   "source": [
    "## 補足：変分量子アルゴリズムなどでは、`QuantumCircuit,  ParametricQuantumCircuit`を使いますが、このとき`circuit.add_gate(DepolarizingNoise(0, 0.15))`のように使えばOK。"
   ]
  },
  {
   "cell_type": "code",
   "execution_count": 13,
   "id": "14535b04",
   "metadata": {},
   "outputs": [
    {
     "name": "stdout",
     "output_type": "stream",
     "text": [
      " *** Density Matrix ***\n",
      " * Qubit Count : 1\n",
      " * Dimension   : 2\n",
      " * Density matrix : \n",
      "(0.5,0) (0.4,0)\n",
      "(0.4,0) (0.5,0)\n",
      "\n"
     ]
    }
   ],
   "source": [
    "from qulacs import QuantumCircuit,  ParametricQuantumCircuit\n",
    "\n",
    "n_qubits = 1\n",
    "p = 0.15\n",
    "density_matrix.load(mat)\n",
    "circuit = QuantumCircuit(n_qubits)\n",
    "circuit.add_gate(DepolarizingNoise(0, p))\n",
    "circuit.update_quantum_state(density_matrix)\n",
    "print(density_matrix)"
   ]
  },
  {
   "cell_type": "code",
   "execution_count": 14,
   "id": "049c1f86",
   "metadata": {},
   "outputs": [
    {
     "name": "stdout",
     "output_type": "stream",
     "text": [
      " *** Density Matrix ***\n",
      " * Qubit Count : 1\n",
      " * Dimension   : 2\n",
      " * Density matrix : \n",
      "(0.5,0) (0.4,0)\n",
      "(0.4,0) (0.5,0)\n",
      "\n"
     ]
    }
   ],
   "source": [
    "density_matrix.load(mat)\n",
    "n_qubits = 1\n",
    "p = 0.15\n",
    "Parametric_circuit = ParametricQuantumCircuit(n_qubits)\n",
    "Parametric_circuit.add_gate(DepolarizingNoise(0, 0.15))\n",
    "Parametric_circuit.update_quantum_state(density_matrix)\n",
    "print(density_matrix)"
   ]
  },
  {
   "cell_type": "code",
   "execution_count": null,
   "id": "b022adfa",
   "metadata": {},
   "outputs": [],
   "source": []
  }
 ],
 "metadata": {
  "kernelspec": {
   "display_name": "Python 3 (ipykernel)",
   "language": "python",
   "name": "python3"
  },
  "language_info": {
   "codemirror_mode": {
    "name": "ipython",
    "version": 3
   },
   "file_extension": ".py",
   "mimetype": "text/x-python",
   "name": "python",
   "nbconvert_exporter": "python",
   "pygments_lexer": "ipython3",
   "version": "3.9.7"
  }
 },
 "nbformat": 4,
 "nbformat_minor": 5
}
