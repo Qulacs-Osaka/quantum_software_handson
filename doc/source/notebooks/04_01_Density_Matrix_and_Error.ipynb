{
 "cells": [
  {
   "cell_type": "code",
   "execution_count": 1,
   "id": "4992a35f",
   "metadata": {},
   "outputs": [],
   "source": [
    "#!pip install qulacs\n",
    "#!pip install qulacsvis\n",
    "#!pip install matplotlib\n",
    "#!pip install numpy\n",
    "#!pip install scipy"
   ]
  },
  {
   "cell_type": "code",
   "execution_count": 2,
   "id": "37b774db",
   "metadata": {},
   "outputs": [],
   "source": [
    "import matplotlib.pyplot as plt\n",
    "import numpy as np\n",
    "from qulacs import Observable, QuantumState, DensityMatrix, GeneralQuantumOperator\n",
    "from qulacs.gate import  X, H, Z, DepolarizingNoise, DephasingNoise, AmplitudeDampingNoise, TwoQubitDepolarizingNoise, NoisyEvolution_fast"
   ]
  },
  {
   "cell_type": "markdown",
   "id": "2d9c21ef",
   "metadata": {},
   "source": [
    "#  Qulacsでの混合状態\n",
    "## DensityMatrixクラス：qulacsでの密度演算子（混合状態）の取り扱い\n",
    "\n",
    "- 量子状態（密度演算子）の準備\n",
    "- 密度演算子をnumpyのarrayに変換、あるいはその逆：`get_matrix()`, `load()`\n",
    "- いくつかのエラー：`DepolarizingNoise`など\n",
    "- 計算基底でのサンプリング：`sampling()`\n",
    "- Lindblad方程式のシミュレーション：`NoisyEvolution_fast()`"
   ]
  },
  {
   "cell_type": "markdown",
   "id": "050c3505",
   "metadata": {},
   "source": [
    "## 量子状態（密度演算子）の準備"
   ]
  },
  {
   "cell_type": "markdown",
   "id": "614e4874",
   "metadata": {},
   "source": [
    "Qulacs上で密度演算子を準備するには、`DensityMatrix`を使います。\n",
    "引数は量子ビット数になっていて、量子ビット数$n$に対して、$2^n\\times 2^n(=2^{2n})$の行列が定義されます。\n",
    "同じ量子ビット数でも、状態ベクトルを使ったシミュレーションに比べて要素数が多いので、量子ビット数が多いときには扱いづらいことに注意。"
   ]
  },
  {
   "cell_type": "code",
   "execution_count": 3,
   "id": "1cb204ce",
   "metadata": {},
   "outputs": [
    {
     "name": "stdout",
     "output_type": "stream",
     "text": [
      "Qulacsで密度演算子を定義 \n",
      "  *** Density Matrix ***\n",
      " * Qubit Count : 1\n",
      " * Dimension   : 2\n",
      " * Density matrix : \n",
      "(1,0) (0,0)\n",
      "(0,0) (0,0)\n",
      "\n"
     ]
    }
   ],
   "source": [
    "#密度演算子を準備\n",
    "n_qubits = 1\n",
    "density_matrix = DensityMatrix(n_qubits)\n",
    "print(\"Qulacsで密度演算子を定義\",\"\\n\",density_matrix)"
   ]
  },
  {
   "cell_type": "markdown",
   "id": "239115ee",
   "metadata": {},
   "source": [
    "初期状態は$|0\\rangle\\langle 0|$になっている。行列成分の$(0,0)$成分が1で残りの成分がすべて0になっていることからも分かる。"
   ]
  },
  {
   "cell_type": "markdown",
   "id": "6fb7b21e",
   "metadata": {},
   "source": [
    "## 密度演算子をnumpyのarrayに変換、あるいはその逆：\n",
    "それぞれ`get_matrix()`, `load()`を使って変換することが可能。"
   ]
  },
  {
   "cell_type": "code",
   "execution_count": 4,
   "id": "e17f3229",
   "metadata": {},
   "outputs": [
    {
     "name": "stdout",
     "output_type": "stream",
     "text": [
      " *** Density Matrix ***\n",
      " * Qubit Count : 1\n",
      " * Dimension   : 2\n",
      " * Density matrix : \n",
      "(0.5,0) (0.5,0)\n",
      "(0.5,0) (0.5,0)\n",
      "\n",
      "[[0.5+0.j 0.5+0.j]\n",
      " [0.5+0.j 0.5+0.j]]\n"
     ]
    }
   ],
   "source": [
    "#numpy arrayからqulacsのDensityMatrixへ変換\n",
    "mat = np.array([[0.5, 0.5], [0.5, 0.5]])\n",
    "density_matrix.load(mat)\n",
    "print(density_matrix)\n",
    "\n",
    "dm = density_matrix.get_matrix()\n",
    "print(dm)"
   ]
  },
  {
   "cell_type": "markdown",
   "id": "2a44e446",
   "metadata": {},
   "source": [
    "※上の量子状態は、実は純粋状態$|+\\rangle=\\frac{1}{\\sqrt{2}}(|0\\rangle+|1\\rangle)$になっています。$|+\\rangle\\langle+|$を表示してみれば一致することが確認できます。"
   ]
  },
  {
   "cell_type": "markdown",
   "id": "26ae8eca",
   "metadata": {},
   "source": [
    "すべて0状態へ初期化するには、状態ベクトルの場合と同じく`set_zero_state()`で行います。"
   ]
  },
  {
   "cell_type": "code",
   "execution_count": 5,
   "id": "30fac7ed",
   "metadata": {},
   "outputs": [
    {
     "name": "stdout",
     "output_type": "stream",
     "text": [
      " *** Density Matrix ***\n",
      " * Qubit Count : 1\n",
      " * Dimension   : 2\n",
      " * Density matrix : \n",
      "(1,0) (0,0)\n",
      "(0,0) (0,0)\n",
      "\n"
     ]
    }
   ],
   "source": [
    "density_matrix.set_zero_state()\n",
    "print(density_matrix)"
   ]
  },
  {
   "cell_type": "markdown",
   "id": "f735ef7b",
   "metadata": {},
   "source": [
    "## いくつかのエラー：`DepolarizingNoise`など"
   ]
  },
  {
   "cell_type": "markdown",
   "id": "9511e727",
   "metadata": {},
   "source": [
    "Qulacsで代表的なノイズを作用させてみます。\n",
    "まずは、Depolarizing noise: $\\mathcal{E}[\\rho]=(1-p)\\rho+\\frac{p}{3} (X\\rho X+Y\\rho Y+Z\\rho Z)$ ($0\\le p \\le 0.75$)。\n",
    "入力を\n",
    "\\begin{equation*}\n",
    "\\rho=|+\\rangle\\langle+|=\n",
    "\\begin{pmatrix}\n",
    "0.5 & 0.5\\\\\n",
    "0.5 & 0.5\n",
    "\\end{pmatrix}\n",
    "\\end{equation*}\n",
    "のようにして、$p = 0.15$で\n",
    "\\begin{equation*}\n",
    "\\mathcal{E}[\\rho]=\n",
    "\\begin{pmatrix}\n",
    "0.5 & 0.4\\\\\n",
    "0.4 & 0.5\n",
    "\\end{pmatrix}\n",
    "\\end{equation*}\n",
    "となることを確認してみます。"
   ]
  },
  {
   "cell_type": "code",
   "execution_count": 6,
   "id": "eafa1ac0",
   "metadata": {},
   "outputs": [
    {
     "name": "stdout",
     "output_type": "stream",
     "text": [
      " *** Density Matrix ***\n",
      " * Qubit Count : 1\n",
      " * Dimension   : 2\n",
      " * Density matrix : \n",
      "(0.5,0) (0.4,0)\n",
      "(0.4,0) (0.5,0)\n",
      "\n"
     ]
    }
   ],
   "source": [
    "#depolarizing noiseを作用\n",
    "density_matrix.load(mat)\n",
    "p = 0.15\n",
    "gate = DepolarizingNoise(0, p)\n",
    "gate.update_quantum_state(density_matrix)\n",
    "print(density_matrix)"
   ]
  },
  {
   "cell_type": "markdown",
   "id": "c0199382",
   "metadata": {},
   "source": [
    "Dephasing noise: $\\mathcal{E}[\\rho]=(1-p)\\rho +p Z\\rho Z$ ($0\\le p \\le 0.5$)"
   ]
  },
  {
   "cell_type": "code",
   "execution_count": 7,
   "id": "22f538bc",
   "metadata": {},
   "outputs": [
    {
     "name": "stdout",
     "output_type": "stream",
     "text": [
      " *** Density Matrix ***\n",
      " * Qubit Count : 1\n",
      " * Dimension   : 2\n",
      " * Density matrix : \n",
      "(0.5,0) (0.2,0)\n",
      "(0.2,0) (0.5,0)\n",
      "\n"
     ]
    }
   ],
   "source": [
    "#dephasing noiseを作用\n",
    "density_matrix.load(mat)\n",
    "\n",
    "p=0.3\n",
    "gate = DephasingNoise(0, p)\n",
    "gate.update_quantum_state(density_matrix)\n",
    "print(density_matrix)"
   ]
  },
  {
   "cell_type": "markdown",
   "id": "6d9a75a7",
   "metadata": {},
   "source": [
    "２量子ビットの場合で、各量子ビットにdepolarizing noiseを作用させます。"
   ]
  },
  {
   "cell_type": "code",
   "execution_count": 8,
   "id": "f4c43517-7815-4984-bff2-3fd5976babe5",
   "metadata": {},
   "outputs": [
    {
     "name": "stdout",
     "output_type": "stream",
     "text": [
      " *** Density Matrix ***\n",
      " * Qubit Count : 2\n",
      " * Dimension   : 4\n",
      " * Density matrix : \n",
      "(0.81,0)    (0,0)    (0,0)    (0,0)\n",
      "   (0,0) (0.09,0)    (0,0)    (0,0)\n",
      "   (0,0)    (0,0) (0.09,0)    (0,0)\n",
      "   (0,0)    (0,0)    (0,0) (0.01,0)\n",
      "\n"
     ]
    }
   ],
   "source": [
    "#２量子ビットの場合：depolarizing noiseを作用\n",
    "density_matrix_2 = DensityMatrix(2)\n",
    "p = 0.15\n",
    "gate = DepolarizingNoise(0, p)\n",
    "gate.update_quantum_state(density_matrix_2)\n",
    "gate = DepolarizingNoise(1, p)\n",
    "gate.update_quantum_state(density_matrix_2)\n",
    "print(density_matrix_2)"
   ]
  },
  {
   "cell_type": "markdown",
   "id": "0be5f6f4",
   "metadata": {},
   "source": [
    "密度演算子で期待値を求めたい場合は、状態ベクトルの場合と同じく`get_expectation_value(state)`を使えばOK。\n",
    "以下の例では、amplitude damping noiseを作用させた後の密度演算子$\\rho$に対し、パウリ$Z$の期待値${\\rm Tr}[\\rho Z]$を求めています。"
   ]
  },
  {
   "cell_type": "code",
   "execution_count": 9,
   "id": "0dc67480",
   "metadata": {},
   "outputs": [
    {
     "name": "stdout",
     "output_type": "stream",
     "text": [
      " *** Density Matrix ***\n",
      " * Qubit Count : 1\n",
      " * Dimension   : 2\n",
      " * Density matrix : \n",
      "   (0.575,0) (0.460977,0)\n",
      "(0.460977,0)    (0.425,0)\n",
      "\n",
      "Zの期待値 0.1499999999999999\n"
     ]
    }
   ],
   "source": [
    "#Amplitude damping noiseを作用させた後、Zの期待値を計算\n",
    "density_matrix.load(mat)\n",
    "\n",
    "#Amplitude damping noiseを作用\n",
    "p=0.15\n",
    "gate = AmplitudeDampingNoise(0, p)\n",
    "gate.update_quantum_state(density_matrix)\n",
    "\n",
    "#Zの期待値を計算\n",
    "Z0 = Observable(n_qubits)\n",
    "Z0.add_operator(1.0, \"Z 0\")\n",
    "expec = Z0.get_expectation_value(density_matrix)\n",
    "print(density_matrix)\n",
    "print(\"Zの期待値\", expec)"
   ]
  },
  {
   "cell_type": "markdown",
   "id": "f7703d01",
   "metadata": {},
   "source": [
    "ここまでは、qulacs上で密度演算子にエラーを作用させることを考えました。\n",
    "一方で、qulacs上で状態ベクトル（純粋状態）に作用させると、確率的にエラーが作用した状態ベクトルを返します。\n",
    "例えば、Depolarizing noiseだと、確率$(1-p)$で入力した状態をそのまま返し、確率$p/3$でそれぞれX、Y、Zゲートが作用した状態が確率的に得られます。\n",
    "実行するたびにランダムに状態ベクトルが選ばれることに注意。"
   ]
  },
  {
   "cell_type": "code",
   "execution_count": 10,
   "id": "f3fb7bb7",
   "metadata": {},
   "outputs": [
    {
     "name": "stdout",
     "output_type": "stream",
     "text": [
      "初期状態 [1.+0.j 0.+0.j]\n",
      "1回目 [ 0.+0.j -1.-0.j]\n",
      "2回目 [ 0.-1.j -0.+0.j]\n",
      "3回目 [ 0.-1.j -0.+0.j]\n",
      "4回目 [0.+0.j 1.+0.j]\n",
      "5回目 [0.+0.j 1.+0.j]\n"
     ]
    }
   ],
   "source": [
    "#状態ベクトルにDepolarizingNoiseなどを作用させると、確率的に状態ベクトルが得られる\n",
    "state = QuantumState(n_qubits)\n",
    "vec = np.array([0.0,1.0])\n",
    "print(\"初期状態\",state.get_vector())\n",
    "\n",
    "p=0.5\n",
    "gate = DepolarizingNoise(0, p)\n",
    "\n",
    "#状態ベクトルvecを用意→DepolarizingNoiseを複数回作用させてみる\n",
    "for i in range(5):\n",
    "    state.load(vec)\n",
    "    gate.update_quantum_state(state)\n",
    "    print(\"{}回目\".format(i+1),state.get_vector())"
   ]
  },
  {
   "cell_type": "markdown",
   "id": "dce7a8d3-8eda-49f9-9c9e-01b108d81c93",
   "metadata": {},
   "source": [
    "確率的に選ばれるため、ノイズが作用した状況のもとで所望の量（期待値など）を求めるためには、同じ計算を何度も実行して平均する必要があります（密度演算子から期待値を計算する場合は、平均操作は不要）。\n",
    "ノイズあり期待値を状態ベクトルで計算する場合は、量子ビット数が大きく取った大規模なシミュレーションを行なう際に用います。"
   ]
  },
  {
   "cell_type": "markdown",
   "id": "163f25cc",
   "metadata": {},
   "source": [
    "## 計算基底でのサンプリング：\n",
    "`sampling()`を用いる。qulacs上で定義した密度演算子に使うことで、測定結果に相当するビット列が得られます。統計誤差を含むシミュレーションをする場合に用います。"
   ]
  },
  {
   "cell_type": "code",
   "execution_count": 11,
   "id": "7d7f5cc7",
   "metadata": {},
   "outputs": [
    {
     "name": "stdout",
     "output_type": "stream",
     "text": [
      "サンプリングで得られたビット列 [0, 1, 0, 0, 0, 0, 0, 0, 0, 0, 0, 0, 0, 1, 0, 0, 0, 0, 0, 0]\n",
      " *** Density Matrix ***\n",
      " * Qubit Count : 1\n",
      " * Dimension   : 2\n",
      " * Density matrix : \n",
      "(0.9,0)   (0,0)\n",
      "  (0,0) (0.1,0)\n",
      "\n"
     ]
    }
   ],
   "source": [
    "#密度演算子からサンプリング\n",
    "shots = 20\n",
    "mat2 = np.array([[0.9, 0.0], [0.0, 0.1]])\n",
    "density_matrix.load(mat2)\n",
    "noiseless_sampling = density_matrix.sampling(shots)\n",
    "\n",
    "print(\"サンプリングで得られたビット列\",noiseless_sampling)\n",
    "print(density_matrix)"
   ]
  },
  {
   "cell_type": "markdown",
   "id": "193a1818-fc08-430c-9a9e-92056cb74840",
   "metadata": {},
   "source": [
    "0が出る確率が$\\langle 0 |\\rho |0\\rangle$で、1が出る確率が$\\langle 1 |\\rho |1\\rangle$になります（ボルンの確率規則）。\n",
    "これらは、密度演算子の対角項の値そのものです。\n",
    "上の例では、0が出る確率が0.9、1が出る確率が0.1であることを意味します。\n",
    "以下では、測定結果から期待値を推定することを考えます。"
   ]
  },
  {
   "cell_type": "code",
   "execution_count": 12,
   "id": "254ed176-4639-42f4-a98c-8b5672051dce",
   "metadata": {},
   "outputs": [
    {
     "name": "stdout",
     "output_type": "stream",
     "text": [
      "エラーなしの場合\n",
      "サンプリングから推定したZの平均値 0.8600000000000005\n",
      "Zの期待値 0.8\n"
     ]
    }
   ],
   "source": [
    "#サンプリングにより物理量Zの平均値を求める\n",
    "shots = 100\n",
    "\n",
    "#エラーなしの場合\n",
    "noiseless_sampling = density_matrix.sampling(shots)\n",
    "\n",
    "estimated_Z_average = 0.0\n",
    "#物理量Zのサンプリングからの平均値は、測定結果がゼロのときは＋１、測定結果が１のときは－１を加える→サンプリング回数で割る、のようにして求める\n",
    "for i in range(shots):\n",
    "    estimated_Z_average += (-2*noiseless_sampling[i]+1)/shots\n",
    "\n",
    "#物理量Zの期待値とサンプリングからの平均値を比較してみる\n",
    "print(\"エラーなしの場合\")\n",
    "print(\"サンプリングから推定したZの平均値\",estimated_Z_average)\n",
    "print(\"Zの期待値\",Z0.get_expectation_value(density_matrix))"
   ]
  },
  {
   "cell_type": "markdown",
   "id": "c918ab5b",
   "metadata": {},
   "source": [
    "上の例では、パウリ$Z$の期待値を計算しています。$Z=|0\\rangle\\langle 0|- |1\\rangle\\langle 1|$であることを使って\n",
    "\\begin{equation*}\n",
    "    {\\rm Tr}[\\rho Z]= \\langle 0 |\\rho |0\\rangle- \\langle 1 |\\rho |1\\rangle\n",
    "\\end{equation*}\n",
    "という関係が導けます。\n",
    "0が出る確率が$\\langle 0 |\\rho |0\\rangle$で、1が出る確率が$\\langle 1 |\\rho |1\\rangle$であったことを思い出すと、\n",
    "サンプリング結果から平均値は\n",
    "\\begin{equation*}\n",
    "{\\rm (平均値)}= \\frac{({\\rm 0が出た回数})}{({\\rm 測定回数})}-\\frac{({\\rm 1が出た回数})}{({\\rm 測定回数})}\n",
    "\\end{equation*}\n",
    "のようにすれば推定可能です。あるいは、\n",
    "測定結果がゼロのときは＋１、測定結果が１のときは－１となることから\n",
    "\\begin{equation*}\n",
    "{\\rm (平均値)}= \\frac{({\\rm すべての測定結果の総和})}{({\\rm 測定回数})}\n",
    "\\end{equation*}\n",
    "のように計算してもOKです。"
   ]
  },
  {
   "cell_type": "code",
   "execution_count": 13,
   "id": "f69758c5",
   "metadata": {},
   "outputs": [
    {
     "name": "stdout",
     "output_type": "stream",
     "text": [
      "0.8600000000000005\n"
     ]
    }
   ],
   "source": [
    "#binを使って平均値を計算\n",
    "estimated_Z_average = 0.0\n",
    "for s in noiseless_sampling:\n",
    "    bitcount = bin(s & 0b1).count(\"1\")\n",
    "    estimated_Z_average += (-1)**bitcount/shots\n",
    "print(estimated_Z_average)"
   ]
  },
  {
   "cell_type": "markdown",
   "id": "4eddc5f7",
   "metadata": {},
   "source": [
    "このように推定して得られた結果は、統計誤差を含むため、厳密な期待値とは一致しません。\n",
    "このことを確認するために、何度も平均値を求めてヒストグラムを作成してみます。"
   ]
  },
  {
   "cell_type": "code",
   "execution_count": 14,
   "id": "d4ca360f-dc8d-4379-acb9-c9dc3462b743",
   "metadata": {},
   "outputs": [],
   "source": [
    "#ヒストグラムを作成\n",
    "n_test = 1000\n",
    "shots = 1000\n",
    "noiseless_list = np.zeros(n_test)\n",
    "\n",
    "for i in range(n_test):\n",
    "    noiseless_sampling = density_matrix.sampling(shots)\n",
    "    estimated_Z_average = 0.0\n",
    "    for j in range(shots):\n",
    "        estimated_Z_average += (-2*noiseless_sampling[j]+1)/shots\n",
    "    noiseless_list[i] = estimated_Z_average\n",
    "noiseless_expec_value = Z0.get_expectation_value(density_matrix)"
   ]
  },
  {
   "cell_type": "code",
   "execution_count": 15,
   "id": "95b87226-3013-4075-9633-0925c1225995",
   "metadata": {},
   "outputs": [
    {
     "data": {
      "image/png": "[encoded data removed]",
      "text/plain": [
       "<Figure size 640x480 with 1 Axes>"
      ]
     },
     "metadata": {},
     "output_type": "display_data"
    }
   ],
   "source": [
    "plt.hist(noiseless_list, alpha=0.2, bins=20, label=f\"Noiseless\")\n",
    "plt.axvline(noiseless_expec_value, color=\"black\")\n",
    "plt.legend(loc=\"upper left\", fontsize=13)\n",
    "plt.show()"
   ]
  },
  {
   "cell_type": "markdown",
   "id": "99d96171",
   "metadata": {},
   "source": [
    "エラーがある場合についてもヒストグラムを求めてみます。"
   ]
  },
  {
   "cell_type": "code",
   "execution_count": 16,
   "id": "db3eac45-5035-46df-8511-da7146400dad",
   "metadata": {},
   "outputs": [
    {
     "name": "stdout",
     "output_type": "stream",
     "text": [
      "エラーがある場合\n",
      "サンプリングから推定したZの平均値 0.46000000000000024\n",
      "Zの期待値 0.48\n"
     ]
    }
   ],
   "source": [
    "#サンプリングにより物理量の平均値を求める\n",
    "shots = 100\n",
    "\n",
    "#エラーありの場合\n",
    "p = 0.3\n",
    "gate = DepolarizingNoise(0, p)\n",
    "gate.update_quantum_state(density_matrix)\n",
    "noise_sampling = density_matrix.sampling(shots)\n",
    "\n",
    "estimated_Z_average = 0.0\n",
    "#物理量Zのサンプリングからの平均値は、測定結果がゼロのときは＋１、測定結果が１のときは－１を加える→サンプリング回数で割る、のようにして求める\n",
    "for i in range(shots):\n",
    "    estimated_Z_average += (-2*noise_sampling[i]+1)/shots\n",
    "\n",
    "#物理量Zの期待値とサンプリングからの平均値を比較してみる\n",
    "print(\"エラーがある場合\")\n",
    "print(\"サンプリングから推定したZの平均値\",estimated_Z_average)\n",
    "print(\"Zの期待値\",Z0.get_expectation_value(density_matrix))"
   ]
  },
  {
   "cell_type": "code",
   "execution_count": 17,
   "id": "ce0d511d-a220-4bb1-a0ae-bc27e3e1b890",
   "metadata": {},
   "outputs": [],
   "source": [
    "#ヒストグラムを作成\n",
    "n_test = 1000\n",
    "shots = 1000\n",
    "noisy_list = np.zeros(n_test)\n",
    "\n",
    "for i in range(n_test):\n",
    "    noisy_sampling = density_matrix.sampling(shots)\n",
    "    estimated_Z_average = 0.0\n",
    "    for j in range(shots):\n",
    "        estimated_Z_average += (-2*noisy_sampling[j]+1)/shots\n",
    "    noisy_list[i] = estimated_Z_average\n",
    "noisy_expec_value = Z0.get_expectation_value(density_matrix)"
   ]
  },
  {
   "cell_type": "code",
   "execution_count": 18,
   "id": "bc619399-65f6-4ce6-af68-1a44a6a517c4",
   "metadata": {},
   "outputs": [
    {
     "data": {
      "image/png": "[encoded data removed]",
      "text/plain": [
       "<Figure size 640x480 with 1 Axes>"
      ]
     },
     "metadata": {},
     "output_type": "display_data"
    }
   ],
   "source": [
    "plt.hist(noiseless_list, alpha=0.2, bins=20, label=f\"Noiseless\")\n",
    "plt.hist(noisy_list, alpha=0.2, bins=20, label=f\"Noisy\")\n",
    "plt.axvline(noiseless_expec_value, color=\"black\")\n",
    "plt.axvline(noisy_expec_value, color=\"red\")\n",
    "plt.legend(loc=\"upper left\", fontsize=13)\n",
    "plt.show()"
   ]
  },
  {
   "cell_type": "markdown",
   "id": "ac0f6018",
   "metadata": {},
   "source": [
    "講義で説明したような図が得られました。期待値の推定は統計誤差を含むこと、ノイズの影響で期待値が変化する（＝バイアスが生じる）ことが確認できます。"
   ]
  },
  {
   "cell_type": "markdown",
   "id": "73755aff",
   "metadata": {},
   "source": [
    "２量子ビットの場合でも、サンプリングから期待値を推定してみます。"
   ]
  },
  {
   "cell_type": "code",
   "execution_count": 19,
   "id": "0742082f-1f82-4527-8d1f-56d41abd9aa6",
   "metadata": {},
   "outputs": [
    {
     "name": "stdout",
     "output_type": "stream",
     "text": [
      "サンプリングで得られたビット列 [3, 0, 3, 0, 0, 2, 3, 3, 0, 3, 3, 0, 0, 0, 0, 0, 2, 3, 3, 3, 0, 0, 2, 0, 0, 0, 0, 0, 0, 2, 2, 3, 3, 0, 0, 0, 0, 0, 2, 0, 2, 3, 0, 2, 0, 3, 2, 3, 0, 0, 3, 0, 0, 2, 3, 0, 0, 0, 2, 3, 0, 2, 3, 0, 3, 3, 0, 0, 0, 3, 0, 0, 0, 2, 0, 3, 0, 0, 2, 2, 0, 0, 2, 0, 0, 2, 0, 0, 2, 0, 0, 0, 2, 3, 2, 0, 3, 0, 2, 3, 3, 0, 2, 3, 2, 3, 0, 3, 0, 0, 0, 0, 2, 2, 0, 0, 0, 0, 2, 2, 0, 0, 0, 0, 3, 2, 0, 3, 2, 2, 0, 3, 2, 0, 2, 0, 3, 0, 3, 0, 3, 3, 2, 2, 2, 2, 0, 0, 3, 0, 3, 2, 2, 0, 3, 0, 0, 0, 2, 0, 0, 2, 3, 0, 3, 3, 2, 0, 0, 2, 2, 2, 0, 0, 0, 0, 2, 2, 3, 2, 0, 0, 3, 0, 3, 2, 2, 3, 2, 2, 2, 0, 0, 2, 0, 3, 0, 3, 0, 0, 3, 0, 0, 3, 3, 2, 3, 0, 0, 2, 3, 0, 0, 0, 2, 0, 3, 0, 2, 2, 2, 3, 0, 2, 2, 0, 0, 3, 3, 3, 2, 0, 0, 2, 3, 2, 0, 0, 0, 0, 2, 2, 0, 0, 0, 3, 2, 2, 0, 0, 2, 0, 0, 3, 3, 2, 0, 2, 0, 0, 0, 0, 0, 2, 0, 0, 2, 3, 2, 0, 0, 0, 0, 0, 2, 0, 0, 0, 2, 2, 3, 2, 2, 0, 2, 2, 3, 2, 3, 0, 0, 2, 0, 3, 2, 0, 0, 0, 0, 0]\n",
      " *** Density Matrix ***\n",
      " * Qubit Count : 2\n",
      " * Dimension   : 4\n",
      " * Density matrix : \n",
      "(0.5,0)   (0,0)   (0,0)   (0,0)\n",
      "  (0,0)   (0,0)   (0,0)   (0,0)\n",
      "  (0,0)   (0,0) (0.3,0)   (0,0)\n",
      "  (0,0)   (0,0)   (0,0) (0.2,0)\n",
      "\n"
     ]
    }
   ],
   "source": [
    "#２量子ビットの場合の密度演算子からサンプリング\n",
    "shots = 300\n",
    "mat3 = np.array([[0.5, 0.0, 0.0, 0.0], [0.0, 0.0, 0.0, 0.0], [0.0, 0.0, 0.3, 0.0], [0.0, 0.0, 0.0, 0.2]])\n",
    "density_matrix_2.load(mat3)\n",
    "noiseless_sampling_2 = density_matrix_2.sampling(shots)\n",
    "\n",
    "print(\"サンプリングで得られたビット列\",noiseless_sampling_2)\n",
    "print(density_matrix_2)"
   ]
  },
  {
   "cell_type": "markdown",
   "id": "7d33fccf-26e1-4c1b-bc2e-3a0339ebb989",
   "metadata": {},
   "source": [
    "測定結果はゼロ以上の整数（上の例なら、0, 2, 3のどれか）が得られます。２進数表示したときのビット列が、各量子ビットの測定結果に対応しています。\n",
    "２量子ビットの場合は以下の通り。\n",
    "\\begin{align*}\n",
    "0 &\\rightarrow 00\\\\\n",
    "1 &\\rightarrow 01\\\\\n",
    "2 &\\rightarrow 10\\\\\n",
    "3 &\\rightarrow 11\\\\\n",
    "\\end{align*}\n",
    "pythonで１０進数を２進数に変換するには、`bin()`を使えばOK。"
   ]
  },
  {
   "cell_type": "code",
   "execution_count": 21,
   "id": "a3866226",
   "metadata": {},
   "outputs": [
    {
     "name": "stdout",
     "output_type": "stream",
     "text": [
      "['0b11', '0b0', '0b11', '0b0', '0b0', '0b10', '0b11', '0b11', '0b0', '0b11', '0b11', '0b0', '0b0', '0b0', '0b0', '0b0', '0b10', '0b11', '0b11', '0b11', '0b0', '0b0', '0b10', '0b0', '0b0', '0b0', '0b0', '0b0', '0b0', '0b10', '0b10', '0b11', '0b11', '0b0', '0b0', '0b0', '0b0', '0b0', '0b10', '0b0', '0b10', '0b11', '0b0', '0b10', '0b0', '0b11', '0b10', '0b11', '0b0', '0b0', '0b11', '0b0', '0b0', '0b10', '0b11', '0b0', '0b0', '0b0', '0b10', '0b11', '0b0', '0b10', '0b11', '0b0', '0b11', '0b11', '0b0', '0b0', '0b0', '0b11', '0b0', '0b0', '0b0', '0b10', '0b0', '0b11', '0b0', '0b0', '0b10', '0b10', '0b0', '0b0', '0b10', '0b0', '0b0', '0b10', '0b0', '0b0', '0b10', '0b0', '0b0', '0b0', '0b10', '0b11', '0b10', '0b0', '0b11', '0b0', '0b10', '0b11', '0b11', '0b0', '0b10', '0b11', '0b10', '0b11', '0b0', '0b11', '0b0', '0b0', '0b0', '0b0', '0b10', '0b10', '0b0', '0b0', '0b0', '0b0', '0b10', '0b10', '0b0', '0b0', '0b0', '0b0', '0b11', '0b10', '0b0', '0b11', '0b10', '0b10', '0b0', '0b11', '0b10', '0b0', '0b10', '0b0', '0b11', '0b0', '0b11', '0b0', '0b11', '0b11', '0b10', '0b10', '0b10', '0b10', '0b0', '0b0', '0b11', '0b0', '0b11', '0b10', '0b10', '0b0', '0b11', '0b0', '0b0', '0b0', '0b10', '0b0', '0b0', '0b10', '0b11', '0b0', '0b11', '0b11', '0b10', '0b0', '0b0', '0b10', '0b10', '0b10', '0b0', '0b0', '0b0', '0b0', '0b10', '0b10', '0b11', '0b10', '0b0', '0b0', '0b11', '0b0', '0b11', '0b10', '0b10', '0b11', '0b10', '0b10', '0b10', '0b0', '0b0', '0b10', '0b0', '0b11', '0b0', '0b11', '0b0', '0b0', '0b11', '0b0', '0b0', '0b11', '0b11', '0b10', '0b11', '0b0', '0b0', '0b10', '0b11', '0b0', '0b0', '0b0', '0b10', '0b0', '0b11', '0b0', '0b10', '0b10', '0b10', '0b11', '0b0', '0b10', '0b10', '0b0', '0b0', '0b11', '0b11', '0b11', '0b10', '0b0', '0b0', '0b10', '0b11', '0b10', '0b0', '0b0', '0b0', '0b0', '0b10', '0b10', '0b0', '0b0', '0b0', '0b11', '0b10', '0b10', '0b0', '0b0', '0b10', '0b0', '0b0', '0b11', '0b11', '0b10', '0b0', '0b10', '0b0', '0b0', '0b0', '0b0', '0b0', '0b10', '0b0', '0b0', '0b10', '0b11', '0b10', '0b0', '0b0', '0b0', '0b0', '0b0', '0b10', '0b0', '0b0', '0b0', '0b10', '0b10', '0b11', '0b10', '0b10', '0b0', '0b10', '0b10', '0b11', '0b10', '0b11', '0b0', '0b0', '0b10', '0b0', '0b11', '0b10', '0b0', '0b0', '0b0', '0b0', '0b0']\n"
     ]
    }
   ],
   "source": [
    "#bin()を使ってサンプリング結果を２進数に変換。0bは２進数を意味します。\n",
    "print([bin(n) for n in noiseless_sampling_2])"
   ]
  },
  {
   "cell_type": "markdown",
   "id": "5acb884b",
   "metadata": {},
   "source": [
    "`bin()`を使って、$Z_0Z_1$の期待値を計算してみます。"
   ]
  },
  {
   "cell_type": "code",
   "execution_count": 22,
   "id": "fd06ab5a",
   "metadata": {},
   "outputs": [
    {
     "name": "stdout",
     "output_type": "stream",
     "text": [
      "サンプリングから推定した平均値 0.4400000000000009\n",
      "ZZの期待値 0.4\n"
     ]
    }
   ],
   "source": [
    "estimated_ZZ_average = 0.0\n",
    "for s in noiseless_sampling_2:\n",
    "    bitcount = bin(s & 0b11).count(\"1\")\n",
    "    estimated_ZZ_average += (-1)**bitcount/shots\n",
    "Z0Z1 = Observable(2)\n",
    "Z0Z1.add_operator(1.0, \"Z 0 Z 1\")\n",
    "print(\"サンプリングから推定した平均値\",estimated_ZZ_average)\n",
    "print(\"ZZの期待値\",Z0Z1.get_expectation_value(density_matrix_2))"
   ]
  },
  {
   "cell_type": "markdown",
   "id": "b25c4992",
   "metadata": {},
   "source": [
    "$Z_0Z_1$は、測定結果に対して値を\n",
    "\\begin{align*}\n",
    "00 &\\rightarrow (+1)\\\\\n",
    "01 &\\rightarrow (-1)\\\\\n",
    "10 &\\rightarrow (-1)\\\\\n",
    "11 &\\rightarrow (+1)\\\\\n",
    "\\end{align*}\n",
    "のように割り当てて平均値を計算しています。\n",
    "$1$が偶数個だと(+1)、奇数個だと(-1)となっていますが、\n",
    "この値は、$Z_0Z_1$の固有値を意味しています。\n",
    "この割り当ては、上のセルの`bin(s & 0b11).count(\"1\")`および`(-1)**bitcount`の部分に対応しています。"
   ]
  },
  {
   "cell_type": "markdown",
   "id": "7e2a93da-9996-4d03-9f56-7fc148dfef6c",
   "metadata": {},
   "source": [
    "## Lindblad方程式のシミュレーション：`NoisyEvolution_fast()`"
   ]
  },
  {
   "cell_type": "markdown",
   "id": "d1e19b08-7049-41b2-a189-c2ed1b392364",
   "metadata": {},
   "source": [
    "環境からの影響を取り入れた量子開放系のダイナミクスのシミュレーションを行ないます。\n",
    "方程式は以下の通りです。\n",
    "\\begin{align}\n",
    "\\frac{d}{dt} \\rho(t) = -i[H,\\rho(t)] +\\sum_k \\left(L_k \\rho(t) L_k^\\dagger -\\frac{1}{2}L_k^\\dagger L_k \\rho(t)-\\frac{1}{2} \\rho(t)L_k^\\dagger L_k\\right).\n",
    "\\end{align}\n",
    "ここで、$\\rho(t)$は時刻$t$における系の密度演算子、$H$はハミルトニアン、$L_k$はリンドブラッド演算子です。\n",
    "簡単な例として、以下の１量子ビット系の場合を考えます。\n",
    "\\begin{align}\n",
    "\\frac{d}{dt} \\rho(t) = -iJ[Z,\\rho(t)] +\\gamma \\left(Z \\rho(t) Z -\\rho(t)\\right).\n",
    "\\end{align}\n",
    "$H=JZ$, $L_k = \\sqrt{\\gamma}Z$として、$k$は一つだけの場合をシミュレーションします。\n",
    "初期状態は$|+\\rangle$として時間発展した場合、時刻$t$における物理量$X$の期待値は以下のようになります。\n",
    "\\begin{align}\n",
    "\\langle X\\rangle_t = e^{-2\\gamma t} \\cos{2Jt}\n",
    "\\end{align}\n",
    "このことを以下のシミュレーションで実行して、確認してみます。"
   ]
  },
  {
   "cell_type": "code",
   "execution_count": 23,
   "id": "07477ed5-5733-4b77-b258-d645a8eaca97",
   "metadata": {},
   "outputs": [],
   "source": [
    "#qulacsを使ったLindblad方程式のシミュレーション\n",
    "n = 1\n",
    "T = 1.5\n",
    "element = 40\n",
    "tlist = np.linspace(0, T, element)\n",
    "\n",
    "#物理量はXにする\n",
    "observable = Observable(n)\n",
    "observable.add_operator(1., \"X 0\")\n",
    "\n",
    "#HamiltonianはZとする\n",
    "hamiltonian = Observable(n)\n",
    "J = 5.0\n",
    "hamiltonian.add_operator(J, \"Z 0 \")\n",
    "\n",
    "#Lindblad演算子を指定\n",
    "decay_rate_z = 0.3\n",
    "c_ops = [GeneralQuantumOperator(n) for _ in range(n)]\n",
    "c_ops[0].add_operator(np.sqrt(decay_rate_z), \"Z 0\")\n",
    "\n",
    "#期待値をサンプリングにより求める\n",
    "n_samples = 100\n",
    "state = QuantumState(n)\n",
    "exp_list = []\n",
    "exp2_list = []\n",
    "for t in tlist:\n",
    "    exp = np.zeros(n_samples)\n",
    "    for i in range(n_samples):\n",
    "        state.set_zero_state()\n",
    "        H(0).update_quantum_state(state)\n",
    "        gate = NoisyEvolution_fast(hamiltonian, c_ops, t)\n",
    "        gate.update_quantum_state(state)\n",
    "        exp[i] = observable.get_expectation_value(state)\n",
    "    exp_list.append(np.average(exp))\n",
    "    exp2_list.append(np.std(exp)/np.sqrt(n_samples))"
   ]
  },
  {
   "cell_type": "code",
   "execution_count": 24,
   "id": "fdb848d9-0b9a-4fce-a9d1-d8c64cf11648",
   "metadata": {},
   "outputs": [
    {
     "data": {
      "image/png": "[encoded data removed]",
      "text/plain": [
       "<Figure size 640x480 with 1 Axes>"
      ]
     },
     "metadata": {},
     "output_type": "display_data"
    }
   ],
   "source": [
    "plt.figure()\n",
    "plt.errorbar(tlist, exp_list, exp2_list, capsize=5, fmt='o',label=f\"sampling\")\n",
    "plt.plot(tlist,np.exp(-2.0*decay_rate_z*tlist)*np.cos(2.0*J*tlist),label=f\"exact\")\n",
    "plt.ylabel(\"Expectation values\")\n",
    "plt.xlabel(\"Time\")\n",
    "plt.legend()\n",
    "plt.show()"
   ]
  },
  {
   "cell_type": "markdown",
   "id": "7cec811e",
   "metadata": {},
   "source": [
    "QulacsではLindbladによる時間発展をモンテカルロ的に実行しているので、何度も実行して平均を取る必要があります。"
   ]
  },
  {
   "cell_type": "markdown",
   "id": "bdaba8bf",
   "metadata": {
    "jp-MarkdownHeadingCollapsed": true,
    "tags": []
   },
   "source": [
    "## 練習\n",
    "- ２つの量子状態（純粋状態$|\\psi\\rangle=\\sqrt{\\frac{3}{4}}|0\\rangle+\\sqrt{\\frac{1}{4}}|1\\rangle$、混合状態$\\rho=\\frac{3}{4}|0\\rangle\\langle0|+\\frac{1}{4}|1\\rangle\\langle1|$）に対して、物理量の期待値XとZを求めてみましょう。\n",
    "- ２量子ビットの場合で、ノイズが作用した状態（密度演算子）を作成してみましょう。`DepolarizingNoise`が１量子ビット目と２量子ビット目に作用した状態と、`TwoQubitDepolarizingNoise`が作用した状態が一般に異なることを確認してください。"
   ]
  },
  {
   "cell_type": "markdown",
   "id": "ad837111",
   "metadata": {},
   "source": [
    "## 補足：\n",
    "変分量子アルゴリズムなどでは、`QuantumCircuit,  ParametricQuantumCircuit`を使いますが、このとき`circuit.add_gate(DepolarizingNoise(0, 0.15))`のように使えばOK。"
   ]
  },
  {
   "cell_type": "code",
   "execution_count": 25,
   "id": "14535b04",
   "metadata": {},
   "outputs": [
    {
     "name": "stdout",
     "output_type": "stream",
     "text": [
      " *** Density Matrix ***\n",
      " * Qubit Count : 1\n",
      " * Dimension   : 2\n",
      " * Density matrix : \n",
      "(0.5,0) (0.4,0)\n",
      "(0.4,0) (0.5,0)\n",
      "\n"
     ]
    }
   ],
   "source": [
    "from qulacs import QuantumCircuit,  ParametricQuantumCircuit\n",
    "\n",
    "n_qubits = 1\n",
    "p = 0.15\n",
    "density_matrix.load(mat)\n",
    "circuit = QuantumCircuit(n_qubits)\n",
    "circuit.add_gate(DepolarizingNoise(0, p))\n",
    "circuit.update_quantum_state(density_matrix)\n",
    "print(density_matrix)"
   ]
  },
  {
   "cell_type": "code",
   "execution_count": 26,
   "id": "049c1f86",
   "metadata": {},
   "outputs": [
    {
     "name": "stdout",
     "output_type": "stream",
     "text": [
      " *** Density Matrix ***\n",
      " * Qubit Count : 1\n",
      " * Dimension   : 2\n",
      " * Density matrix : \n",
      "(0.5,0) (0.4,0)\n",
      "(0.4,0) (0.5,0)\n",
      "\n"
     ]
    }
   ],
   "source": [
    "density_matrix.load(mat)\n",
    "n_qubits = 1\n",
    "p = 0.15\n",
    "Parametric_circuit = ParametricQuantumCircuit(n_qubits)\n",
    "Parametric_circuit.add_gate(DepolarizingNoise(0, 0.15))\n",
    "Parametric_circuit.update_quantum_state(density_matrix)\n",
    "print(density_matrix)"
   ]
  },
  {
   "cell_type": "code",
   "execution_count": null,
   "id": "b022adfa",
   "metadata": {},
   "outputs": [],
   "source": []
  }
 ],
 "metadata": {
  "kernelspec": {
   "display_name": "base",
   "language": "python",
   "name": "python3"
  },
  "language_info": {
   "codemirror_mode": {
    "name": "ipython",
    "version": 3
   },
   "file_extension": ".py",
   "mimetype": "text/x-python",
   "name": "python",
   "nbconvert_exporter": "python",
   "pygments_lexer": "ipython3",
   "version": "3.9.7"
  }
 },
 "nbformat": 4,
 "nbformat_minor": 5
}
