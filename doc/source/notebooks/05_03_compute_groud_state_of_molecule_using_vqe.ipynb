{
 "cells": [
  {
   "cell_type": "code",
   "execution_count": 11,
   "metadata": {
    "colab": {
     "base_uri": "https://localhost:8080/",
     "height": 1000
    },
    "id": "ygjA-pqr8Qaz",
    "outputId": "4b3af365-0902-4190-b61d-a2762ecc5cc2"
   },
   "outputs": [
    {
     "name": "stdout",
     "output_type": "stream",
     "text": [
      "Found existing installation: h5py 3.1.0\n",
      "Uninstalling h5py-3.1.0:\n",
      "  Would remove:\n",
      "    /opt/conda/lib/python3.7/site-packages/h5py-3.1.0.dist-info/*\n",
      "    /opt/conda/lib/python3.7/site-packages/h5py.libs/libaec-9c9e97eb.so.0.0.10\n",
      "    /opt/conda/lib/python3.7/site-packages/h5py.libs/libhdf5-00e8fae8.so.200.0.0\n",
      "    /opt/conda/lib/python3.7/site-packages/h5py.libs/libhdf5_hl-383c339f.so.200.0.0\n",
      "    /opt/conda/lib/python3.7/site-packages/h5py.libs/libsz-e7aa62f5.so.2.0.1\n",
      "    /opt/conda/lib/python3.7/site-packages/h5py.libs/libz-eb09ad1d.so.1.2.3\n",
      "    /opt/conda/lib/python3.7/site-packages/h5py/*\n",
      "Proceed (Y/n)?   Successfully uninstalled h5py-3.1.0\n",
      "\u001b[33mWARNING: Running pip as the 'root' user can result in broken permissions and conflicting behaviour with the system package manager. It is recommended to use a virtual environment instead: https://pip.pypa.io/warnings/venv\u001b[0m\u001b[33m\n",
      "\u001b[0mCollecting h5py==3.1.0\n",
      "  Using cached h5py-3.1.0-cp37-cp37m-manylinux1_x86_64.whl (4.0 MB)\n",
      "Requirement already satisfied: cached-property in /opt/conda/lib/python3.7/site-packages (from h5py==3.1.0) (1.5.2)\n",
      "Requirement already satisfied: numpy>=1.14.5 in /opt/conda/lib/python3.7/site-packages (from h5py==3.1.0) (1.21.6)\n",
      "Installing collected packages: h5py\n",
      "Successfully installed h5py-3.1.0\n",
      "\u001b[33mWARNING: Running pip as the 'root' user can result in broken permissions and conflicting behaviour with the system package manager. It is recommended to use a virtual environment instead: https://pip.pypa.io/warnings/venv\u001b[0m\u001b[33m\n",
      "\u001b[0m\n",
      "\u001b[1m[\u001b[0m\u001b[34;49mnotice\u001b[0m\u001b[1;39;49m]\u001b[0m\u001b[39;49m A new release of pip available: \u001b[0m\u001b[31;49m22.1.2\u001b[0m\u001b[39;49m -> \u001b[0m\u001b[32;49m22.2.2\u001b[0m\n",
      "\u001b[1m[\u001b[0m\u001b[34;49mnotice\u001b[0m\u001b[1;39;49m]\u001b[0m\u001b[39;49m To update, run: \u001b[0m\u001b[32;49mpip install --upgrade pip\u001b[0m\n",
      "Requirement already satisfied: openfermion in /opt/conda/lib/python3.7/site-packages (1.5.1)\n",
      "Requirement already satisfied: openfermionpyscf in /opt/conda/lib/python3.7/site-packages (0.5)\n",
      "Requirement already satisfied: qulacs in /opt/conda/lib/python3.7/site-packages (0.3.1)\n",
      "Requirement already satisfied: scipy in /opt/conda/lib/python3.7/site-packages (1.4.1)\n",
      "Requirement already satisfied: h5py>=2.8 in /opt/conda/lib/python3.7/site-packages (from openfermion) (3.1.0)\n",
      "Requirement already satisfied: pubchempy in /opt/conda/lib/python3.7/site-packages (from openfermion) (1.0.4)\n",
      "Requirement already satisfied: deprecation in /opt/conda/lib/python3.7/site-packages (from openfermion) (2.1.0)\n",
      "Requirement already satisfied: sympy in /opt/conda/lib/python3.7/site-packages (from openfermion) (1.5.1)\n",
      "Requirement already satisfied: numpy>=1.11.0 in /opt/conda/lib/python3.7/site-packages (from openfermion) (1.21.6)\n",
      "Requirement already satisfied: requests>=2.18 in /opt/conda/lib/python3.7/site-packages (from openfermion) (2.28.1)\n",
      "Requirement already satisfied: cirq-google>=0.15.0 in /opt/conda/lib/python3.7/site-packages (from openfermion) (1.0.0)\n",
      "Requirement already satisfied: networkx in /opt/conda/lib/python3.7/site-packages (from openfermion) (2.4)\n",
      "Requirement already satisfied: cirq-core>=0.15.0 in /opt/conda/lib/python3.7/site-packages (from openfermion) (1.0.0)\n",
      "Requirement already satisfied: pyscf in /opt/conda/lib/python3.7/site-packages (from openfermionpyscf) (2.1.0)\n",
      "Requirement already satisfied: pytest in /opt/conda/lib/python3.7/site-packages (from openfermionpyscf) (5.3.5)\n",
      "Requirement already satisfied: sortedcontainers~=2.0 in /opt/conda/lib/python3.7/site-packages (from cirq-core>=0.15.0->openfermion) (2.1.0)\n",
      "Requirement already satisfied: backports.cached-property~=1.0.1 in /opt/conda/lib/python3.7/site-packages (from cirq-core>=0.15.0->openfermion) (1.0.2)\n",
      "Requirement already satisfied: duet~=0.2.7 in /opt/conda/lib/python3.7/site-packages (from cirq-core>=0.15.0->openfermion) (0.2.7)\n",
      "Requirement already satisfied: matplotlib~=3.0 in /opt/conda/lib/python3.7/site-packages (from cirq-core>=0.15.0->openfermion) (3.1.3)\n",
      "Requirement already satisfied: pandas in /opt/conda/lib/python3.7/site-packages (from cirq-core>=0.15.0->openfermion) (1.3.5)\n",
      "Requirement already satisfied: tqdm in /opt/conda/lib/python3.7/site-packages (from cirq-core>=0.15.0->openfermion) (4.42.1)\n",
      "Requirement already satisfied: typing-extensions in /opt/conda/lib/python3.7/site-packages (from cirq-core>=0.15.0->openfermion) (3.10.0.0)\n",
      "Requirement already satisfied: protobuf<4,>=3.15.0 in /opt/conda/lib/python3.7/site-packages (from cirq-google>=0.15.0->openfermion) (3.20.1)\n",
      "Requirement already satisfied: google-api-core[grpc]<2.0.0dev,>=1.14.0 in /opt/conda/lib/python3.7/site-packages (from cirq-google>=0.15.0->openfermion) (1.32.0)\n",
      "Requirement already satisfied: proto-plus>=1.20.0 in /opt/conda/lib/python3.7/site-packages (from cirq-google>=0.15.0->openfermion) (1.22.1)\n",
      "Requirement already satisfied: cached-property in /opt/conda/lib/python3.7/site-packages (from h5py>=2.8->openfermion) (1.5.2)\n",
      "Requirement already satisfied: decorator>=4.3.0 in /opt/conda/lib/python3.7/site-packages (from networkx->openfermion) (4.4.1)\n",
      "Requirement already satisfied: charset-normalizer<3,>=2 in /opt/conda/lib/python3.7/site-packages (from requests>=2.18->openfermion) (2.0.4)\n",
      "Requirement already satisfied: certifi>=2017.4.17 in /opt/conda/lib/python3.7/site-packages (from requests>=2.18->openfermion) (2022.6.15)\n",
      "Requirement already satisfied: idna<4,>=2.5 in /opt/conda/lib/python3.7/site-packages (from requests>=2.18->openfermion) (2.8)\n",
      "Requirement already satisfied: urllib3<1.27,>=1.21.1 in /opt/conda/lib/python3.7/site-packages (from requests>=2.18->openfermion) (1.26.10)\n",
      "Requirement already satisfied: packaging in /opt/conda/lib/python3.7/site-packages (from deprecation->openfermion) (20.1)\n",
      "Requirement already satisfied: py>=1.5.0 in /opt/conda/lib/python3.7/site-packages (from pytest->openfermionpyscf) (1.11.0)\n",
      "Requirement already satisfied: attrs>=17.4.0 in /opt/conda/lib/python3.7/site-packages (from pytest->openfermionpyscf) (21.4.0)\n",
      "Requirement already satisfied: more-itertools>=4.0.0 in /opt/conda/lib/python3.7/site-packages (from pytest->openfermionpyscf) (8.2.0)\n",
      "Requirement already satisfied: pluggy<1.0,>=0.12 in /opt/conda/lib/python3.7/site-packages (from pytest->openfermionpyscf) (0.13.1)\n",
      "Requirement already satisfied: wcwidth in /opt/conda/lib/python3.7/site-packages (from pytest->openfermionpyscf) (0.1.8)\n",
      "Requirement already satisfied: importlib-metadata>=0.12 in /opt/conda/lib/python3.7/site-packages (from pytest->openfermionpyscf) (1.5.0)\n",
      "Requirement already satisfied: mpmath>=0.19 in /opt/conda/lib/python3.7/site-packages (from sympy->openfermion) (1.1.0)\n",
      "Requirement already satisfied: googleapis-common-protos<2.0dev,>=1.6.0 in /opt/conda/lib/python3.7/site-packages (from google-api-core[grpc]<2.0.0dev,>=1.14.0->cirq-google>=0.15.0->openfermion) (1.56.4)\n",
      "Requirement already satisfied: pytz in /opt/conda/lib/python3.7/site-packages (from google-api-core[grpc]<2.0.0dev,>=1.14.0->cirq-google>=0.15.0->openfermion) (2019.3)\n",
      "Requirement already satisfied: google-auth<2.0dev,>=1.25.0 in /opt/conda/lib/python3.7/site-packages (from google-api-core[grpc]<2.0.0dev,>=1.14.0->cirq-google>=0.15.0->openfermion) (1.35.0)\n",
      "Requirement already satisfied: setuptools>=40.3.0 in /opt/conda/lib/python3.7/site-packages (from google-api-core[grpc]<2.0.0dev,>=1.14.0->cirq-google>=0.15.0->openfermion) (59.3.0)\n",
      "Requirement already satisfied: six>=1.13.0 in /opt/conda/lib/python3.7/site-packages (from google-api-core[grpc]<2.0.0dev,>=1.14.0->cirq-google>=0.15.0->openfermion) (1.14.0)\n",
      "Requirement already satisfied: grpcio<2.0dev,>=1.29.0 in /opt/conda/lib/python3.7/site-packages (from google-api-core[grpc]<2.0.0dev,>=1.14.0->cirq-google>=0.15.0->openfermion) (1.48.1)\n",
      "Requirement already satisfied: zipp>=0.5 in /opt/conda/lib/python3.7/site-packages (from importlib-metadata>=0.12->pytest->openfermionpyscf) (2.2.0)\n",
      "Requirement already satisfied: python-dateutil>=2.1 in /opt/conda/lib/python3.7/site-packages (from matplotlib~=3.0->cirq-core>=0.15.0->openfermion) (2.8.1)\n",
      "Requirement already satisfied: kiwisolver>=1.0.1 in /opt/conda/lib/python3.7/site-packages (from matplotlib~=3.0->cirq-core>=0.15.0->openfermion) (1.1.0)\n",
      "Requirement already satisfied: pyparsing!=2.0.4,!=2.1.2,!=2.1.6,>=2.0.1 in /opt/conda/lib/python3.7/site-packages (from matplotlib~=3.0->cirq-core>=0.15.0->openfermion) (2.4.6)\n",
      "Requirement already satisfied: cycler>=0.10 in /opt/conda/lib/python3.7/site-packages (from matplotlib~=3.0->cirq-core>=0.15.0->openfermion) (0.10.0)\n",
      "Requirement already satisfied: pyasn1-modules>=0.2.1 in /opt/conda/lib/python3.7/site-packages (from google-auth<2.0dev,>=1.25.0->google-api-core[grpc]<2.0.0dev,>=1.14.0->cirq-google>=0.15.0->openfermion) (0.2.8)\n",
      "Requirement already satisfied: rsa<5,>=3.1.4 in /opt/conda/lib/python3.7/site-packages (from google-auth<2.0dev,>=1.25.0->google-api-core[grpc]<2.0.0dev,>=1.14.0->cirq-google>=0.15.0->openfermion) (4.8)\n",
      "Requirement already satisfied: cachetools<5.0,>=2.0.0 in /opt/conda/lib/python3.7/site-packages (from google-auth<2.0dev,>=1.25.0->google-api-core[grpc]<2.0.0dev,>=1.14.0->cirq-google>=0.15.0->openfermion) (4.2.4)\n",
      "Requirement already satisfied: pyasn1<0.5.0,>=0.4.6 in /opt/conda/lib/python3.7/site-packages (from pyasn1-modules>=0.2.1->google-auth<2.0dev,>=1.25.0->google-api-core[grpc]<2.0.0dev,>=1.14.0->cirq-google>=0.15.0->openfermion) (0.4.8)\n",
      "\u001b[33mWARNING: Running pip as the 'root' user can result in broken permissions and conflicting behaviour with the system package manager. It is recommended to use a virtual environment instead: https://pip.pypa.io/warnings/venv\u001b[0m\u001b[33m\n",
      "\u001b[0m\n",
      "\u001b[1m[\u001b[0m\u001b[34;49mnotice\u001b[0m\u001b[1;39;49m]\u001b[0m\u001b[39;49m A new release of pip available: \u001b[0m\u001b[31;49m22.1.2\u001b[0m\u001b[39;49m -> \u001b[0m\u001b[32;49m22.2.2\u001b[0m\n",
      "\u001b[1m[\u001b[0m\u001b[34;49mnotice\u001b[0m\u001b[1;39;49m]\u001b[0m\u001b[39;49m To update, run: \u001b[0m\u001b[32;49mpip install --upgrade pip\u001b[0m\n",
      "Requirement already satisfied: py3Dmol in /opt/conda/lib/python3.7/site-packages (1.8.1)\n",
      "\u001b[33mWARNING: Running pip as the 'root' user can result in broken permissions and conflicting behaviour with the system package manager. It is recommended to use a virtual environment instead: https://pip.pypa.io/warnings/venv\u001b[0m\u001b[33m\n",
      "\u001b[0m\n",
      "\u001b[1m[\u001b[0m\u001b[34;49mnotice\u001b[0m\u001b[1;39;49m]\u001b[0m\u001b[39;49m A new release of pip available: \u001b[0m\u001b[31;49m22.1.2\u001b[0m\u001b[39;49m -> \u001b[0m\u001b[32;49m22.2.2\u001b[0m\n",
      "\u001b[1m[\u001b[0m\u001b[34;49mnotice\u001b[0m\u001b[1;39;49m]\u001b[0m\u001b[39;49m To update, run: \u001b[0m\u001b[32;49mpip install --upgrade pip\u001b[0m\n"
     ]
    }
   ],
   "source": [
 　　"!pip install openfermion --upgrade\n", 
    "!pip install h5py --upgrade\n",
    "!pip install openfermionpyscf qulacs scipy\n",
    "!pip install py3Dmol\n"
   ]
  },
  {
   "cell_type": "code",
   "execution_count": 2,
   "metadata": {
    "id": "0C-dmTI_8n5a"
   },
   "outputs": [],
   "source": [
    "import numpy as np\n",
    "import matplotlib.pyplot as plt\n",
    "import scipy.optimize\n",
    "from openfermion.transforms import get_fermion_operator, jordan_wigner, bravyi_kitaev, symmetry_conserving_bravyi_kitaev\n",
    "from openfermion.ops import FermionOperator\n",
    "from pyscf import gto, scf, tools\n",
    "from qchem_util import get_molecular_hamiltonian_from_fcidump\n",
    "from qulacs.observable import create_observable_from_openfermion_text\n",
    "from qulacs import QuantumState, QuantumCircuit\n",
    "from qulacs.gate import X, RY, CNOT, merge, RY"
   ]
  },
  {
   "cell_type": "markdown",
   "metadata": {
    "id": "52AxHb8T-phX"
   },
   "source": [
    "# 量子変分固有値法（VQE)を用いた基底状態計算\n",
    "\n",
    "さて、ここまでで、量子コンピュータ上に電子の波動関数やハミルトニアンを載せる方法を学んだ。\n",
    "分子のエネルギー計算を量子コンピュータで実行するには、あとは、\n",
    "量子コンピュータを使って、以下の固有値問題をどう解くかがわかれば良い。\n",
    "$$H\\Psi = E\\Psi$$\n",
    "\n",
    "\n",
    "この方法もハミルトニアンの変換法と同様に複数存在する。\n",
    "将来的にどの計算法がデファクトスタンダードとなるかは、まだ未知数であるが、\n",
    "代表的なものは位相推定法（Phase Estimation Algorithm, PEA)と変分量子固有値法(Variational Quantum Eigensolver, VQE)の２つである。\n",
    "PEAは厳密解を多項式時間で解くことができるアルゴリズムであり、\n",
    "古典アルゴリズムに対する優位性が保証された方法となっている。\n",
    "しかし、PEAの量子回路は非常に深くなるため、水素分子のようなミニマルな系以外では、NISQ上で動作することは望めない。\n",
    "\n",
    "これに対して、VQEは量子回路$U(\\theta)$を使って、求めたい量子状態の近似波動関数$\\Psi_T(\\theta)$を表現し、量子回路のパラメータ$\\theta$は、$E_T(\\theta) = \\langle \\Phi_T(\\theta) | H | \\Phi_T(\\theta) \\rangle$が最小化されるように古典コンピュータ上で決定する。VQEで用いる$U(\\theta)は$PEAに比べて浅い回路で良く、NISQでも（ある程度）動作する。\n",
    "\n",
    "「03_量子演算を変分的に分解する」や「08_簡単な量子回路学習を実行してみる 」では、コスト関数の最小化をおこなったが、VQEもコスト関数にエネルギーを使って同様のことをおこなっている。\n",
    "\n",
    "\n",
    "## 復習: 水素分子のハミルトニアンをqubit表現で用意\n",
    "\n",
    "さて、これまでの復習になるが、水素分子のハミルトニアンを用意してみる。\n"
   ]
  },
  {
   "cell_type": "code",
   "execution_count": 3,
   "metadata": {
    "colab": {
     "base_uri": "https://localhost:8080/"
    },
    "id": "KLFqgXn69VsA",
    "outputId": "2fad7fe3-d692-4d91-a710-aa0298b5be97"
   },
   "outputs": [
    {
     "name": "stdout",
     "output_type": "stream",
     "text": [
      "Parsing fcidump.rhf\n",
      "(-0.09706626816763086+0j) [] +\n",
      "(-0.04530261550379928+0j) [X0 X1 Y2 Y3] +\n",
      "(0.04530261550379928+0j) [X0 Y1 Y2 X3] +\n",
      "(0.04530261550379928+0j) [Y0 X1 X2 Y3] +\n",
      "(-0.04530261550379928+0j) [Y0 Y1 X2 X3] +\n",
      "(0.1714128264477691+0j) [Z0] +\n",
      "(0.16868898170361213+0j) [Z0 Z1] +\n",
      "(0.1206252348339042+0j) [Z0 Z2] +\n",
      "(0.16592785033770346+0j) [Z0 Z3] +\n",
      "(0.1714128264477692+0j) [Z1] +\n",
      "(0.16592785033770346+0j) [Z1 Z2] +\n",
      "(0.1206252348339042+0j) [Z1 Z3] +\n",
      "(-0.22343153690813464+0j) [Z2] +\n",
      "(0.17441287612261575+0j) [Z2 Z3] +\n",
      "(-0.22343153690813466+0j) [Z3]\n"
     ]
    }
   ],
   "source": [
    "# 水素分子、H-H距離は0.74Å と設定。STO-3GというGaussian型の原子基底関数を使用。\n",
    "mol_h2 = gto.M(atom = 'H 0 0 0; H 0 0 0.74', basis = 'sto-3g')\n",
    "# この水素分子の基底状態を平均場近似（Hartree-Fock theory)で計算してみる。\n",
    "mean_field_wavefunction = scf.RHF(mol_h2)\n",
    "mean_field_wavefunction.verbose = 0\n",
    "hf_energy = mean_field_wavefunction.kernel()\n",
    "# 第二量子化された電子のハミルトニアンを構築し、fcidump 形式で保存\n",
    "tools.fcidump.from_scf(mean_field_wavefunction, 'fcidump.rhf') \n",
    "# OpenFermionに第二量子化されたハミルトニアンをロード\n",
    "fermion_hamiltonian = get_fermion_operator(get_molecular_hamiltonian_from_fcidump('fcidump.rhf'))\n",
    "# Jordan-Wigner変換をおｋなう\n",
    "jw_qubit_hamiltonian = jordan_wigner(fermion_hamiltonian)\n",
    "print (jw_qubit_hamiltonian)"
   ]
  },
  {
   "cell_type": "markdown",
   "metadata": {
    "id": "5VYgS7v3Geao"
   },
   "source": [
    "## 量子回路上でのHartree-Fock状態の用意\n",
    "\n",
    "さて、VQEの量子回路$U(\\theta)$は、何かしらの初期波動関数$|\\Psi_0\\rangle$に作用して、近似波動関数を生成する。\n",
    "$$|\\Psi(\\theta)_T\\rangle = U(\\theta) |\\Psi_0\\rangle$$\n",
    "初期波動関数をどうするかは難しい問題であるが、Hartree-Fock波動関数は重ね合わせがない状態のため、簡単に用意でき、かつ既にみたように化学の問題においては99%程度の精度を持っている、という点で優れている。\n",
    "\n",
    "では、qulacsを使って、Hartree-Fock状態を用意しよう。\n"
   ]
  },
  {
   "cell_type": "code",
   "execution_count": 4,
   "metadata": {
    "id": "JdRnuM3LFru1"
   },
   "outputs": [],
   "source": [
    "n_qubit = 4 \n",
    "hf_state = QuantumState(n_qubit) # 4qubitの量子状態を用意。この時点では|0000> \n",
    "hf_state.set_computational_basis(int('0b0011',2)) # |0011>を用意"
   ]
  },
  {
   "cell_type": "markdown",
   "metadata": {
    "id": "gzUYGKAPLNp1"
   },
   "source": [
    "STO-3G基底関数を使った時の水素分子のHartree-Fockエネルギー -1.1167593073964248 が正しく得られているか確認してみよう。\n",
    "まず、OpenFermion形式で得られたハミルトニアンをqulacsで使える形式に変換する。"
   ]
  },
  {
   "cell_type": "code",
   "execution_count": 5,
   "metadata": {
    "id": "FejQzFMEII2w"
   },
   "outputs": [],
   "source": [
    "qulacs_hamiltonian = create_observable_from_openfermion_text(str(jw_qubit_hamiltonian))"
   ]
  },
  {
   "cell_type": "markdown",
   "metadata": {
    "id": "ATwOA7tvxf-0"
   },
   "source": [
    "hf_stateを使って、qulacs_hamiltonianの期待値を計算すれば、Hartree-Fockエネルギーが計算できる。"
   ]
  },
  {
   "cell_type": "code",
   "execution_count": 6,
   "metadata": {
    "colab": {
     "base_uri": "https://localhost:8080/"
    },
    "id": "DwzNvIbSIKkM",
    "outputId": "8d30aeab-fed8-4b6f-a6ea-e1a09927b037"
   },
   "outputs": [
    {
     "data": {
      "text/plain": [
       "-1.1167593073964257"
      ]
     },
     "execution_count": 6,
     "metadata": {},
     "output_type": "execute_result"
    }
   ],
   "source": [
    "qulacs_hamiltonian.get_expectation_value(hf_state)"
   ]
  },
  {
   "cell_type": "markdown",
   "metadata": {
    "id": "ByfZb_blx3Fh"
   },
   "source": [
    "この値は、PySCFで計算した、Hartree-Fock Energy -1.1167593073964248 と一致していることが見て取れる。"
   ]
  },
  {
   "cell_type": "markdown",
   "metadata": {
    "id": "E7_mKIq_LA0R"
   },
   "source": [
    "# 波動関数を表す量子回路$U(\\theta)$の用意\n",
    "\n",
    "波動関数のモデルのことを物理では、ansatzと呼ぶ。\n",
    "このansatzが、VQEの場合、量子回路$U(\\theta)$となっている。\n",
    "どういった 分子の波動関数に対してどういった$U(\\theta)$がいいかは今も研究がおこなわれている最中であり、決定打となるようなものはまだ存在しない（と少なくとも思われている）。\n",
    "\n",
    "ここでは、Gard et al. による粒子数を保存する回路を用いることにしよう。\n",
    "（https://www.nature.com/articles/s41534-019-0240-1)\n",
    "\n"
   ]
  },
  {
   "cell_type": "code",
   "execution_count": 7,
   "metadata": {
    "id": "vVPhqo8qJfDI"
   },
   "outputs": [],
   "source": [
    "def create_A_gate(theta, target_two_qubits):\n",
    "  first = target_two_qubits[0]\n",
    "  second = target_two_qubits[1]\n",
    "  CNOT02 = CNOT(first, second)\n",
    "  CRY0 = RY(first, theta+np.pi/2)\n",
    "  CRY0_minus = RY(first, -(theta+np.pi/2))\n",
    "  CNOT20 = CNOT(second, first)\n",
    "  return merge(merge(merge(merge(CNOT02, CRY0), CNOT20), CRY0_minus), CNOT02)"
   ]
  },
  {
   "cell_type": "code",
   "execution_count": 8,
   "metadata": {
    "colab": {
     "base_uri": "https://localhost:8080/"
    },
    "id": "r1PJlnInR_49",
    "outputId": "82eb9db8-b3ce-4aed-a456-b4f8075039aa"
   },
   "outputs": [
    {
     "data": {
      "text/plain": [
       " *** gate info *** \n",
       " * gate name : DenseMatrix\n",
       " * target    : \n",
       " 0 : commute       \n",
       " 2 : commute       \n",
       " * control   : \n",
       " * Pauli     : no\n",
       " * Clifford  : no\n",
       " * Gaussian  : no\n",
       " * Parametric: no\n",
       " * Diagonal  : no\n",
       " * Matrix\n",
       "          (1,0)           (0,0)           (0,0)           (0,0)\n",
       "          (0,0)           (1,0) (2.22045e-16,0)           (0,0)\n",
       "          (0,0) (2.22045e-16,0)          (-1,0)           (0,0)\n",
       "          (0,0)           (0,0)           (0,0)           (1,0)"
      ]
     },
     "execution_count": 8,
     "metadata": {},
     "output_type": "execute_result"
    }
   ],
   "source": [
    "create_A_gate(0.0, [0, 2])"
   ]
  },
  {
   "cell_type": "markdown",
   "metadata": {
    "id": "WXyHWdKe30I2"
   },
   "source": [
    "この粒子数保存回路は、2つの量子ビットに作用し、１電子の移動（励起）を表現できる。\n",
    "この回路を組み合わせて作ったアンザッツ(ansatz)を使ってコスト関数（エネルギー）を計算するルーチンを以下のように用意する。"
   ]
  },
  {
   "cell_type": "code",
   "execution_count": 9,
   "metadata": {
    "id": "8ypzv2H3C_Fq"
   },
   "outputs": [],
   "source": [
    "n_repeat = 2 #量子回路の深さ\n",
    "def cost(parameters):\n",
    "    #初期波動関数の用意\n",
    "    n_qubit = 4 \n",
    "    state = QuantumState(n_qubit) # 4qubitの量子状態を用意。この時点では|0000> \n",
    "    state.set_computational_basis(int('0b0011',2)) # |0011>を用意\n",
    "    #ansatz(量子回路を用意)\n",
    "    num_paras = len(parameters)\n",
    "    ansatz = QuantumCircuit(n_qubit)\n",
    "    for i in range(n_repeat):\n",
    "        idx = 2*i \n",
    "        ansatz.add_gate(create_A_gate(parameters[idx], [0, 2]))\n",
    "        ansatz.add_gate(create_A_gate(parameters[idx+1], [1, 3]))\n",
    "        ansatz.add_gate(create_A_gate(parameters[idx], [1, 2]))\n",
    "    #近似波動関数の生成\n",
    "    ansatz.update_quantum_state(state)\n",
    "    return qulacs_hamiltonian.get_expectation_value(state) #エネルギーを返す。"
   ]
  },
  {
   "cell_type": "markdown",
   "metadata": {
    "id": "DU2BQCAqz1xr"
   },
   "source": [
    "このコスト関数を最適化すれば、VQE計算を実行したことになる。\n",
    "では、実行してみよう。"
   ]
  },
  {
   "cell_type": "code",
   "execution_count": 10,
   "metadata": {
    "colab": {
     "base_uri": "https://localhost:8080/",
     "height": 331
    },
    "id": "qPptQdMUAo48",
    "outputId": "1c1c8996-e317-4b3b-f0fa-52cc6e2fa67a"
   },
   "outputs": [
    {
     "name": "stdout",
     "output_type": "stream",
     "text": [
      "Convderged VQE Energy (in hartree) -1.1371944668006475\n",
      "c.f., Full CI Energy (in hartree)  -1.1372838344885023\n"
     ]
    },
    {
     "data": {
      "image/png": "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\n",
      "text/plain": [
       "<Figure size 640x480 with 1 Axes>"
      ]
     },
     "metadata": {},
     "output_type": "display_data"
    }
   ],
   "source": [
    "import scipy.optimize\n",
    "\n",
    "cost_history = []\n",
    "\n",
    "#パラメータの初期値\n",
    "init_theta_list = [np.random.random() for i in range(n_repeat*2)]\n",
    "#init_theta_list = [0.1 for i in range(n_repeat*2)]\n",
    "cost_history.append(cost(init_theta_list))\n",
    "\n",
    "method = \"BFGS\"\n",
    "options = {\"disp\": True, \"maxiter\": 50, \"gtol\": 1e-6}\n",
    "\n",
    "opt = scipy.optimize.minimize(cost, init_theta_list,\n",
    "               method=method,\n",
    "               callback=lambda x: cost_history.append(cost(x)))\n",
    "\n",
    "#print (cost_history)\n",
    "print (\"Convderged VQE Energy (in hartree)\", cost_history[-1])\n",
    "print (\"c.f., Full CI Energy (in hartree)  -1.1372838344885023\")\n",
    "plt.rcParams[\"font.size\"] = 18\n",
    "plt.plot(cost_history)\n",
    "plt.xlabel(\"Iteration\")\n",
    "plt.ylabel(\"Energy\")\n",
    "plt.show()"
   ]
  },
  {
   "cell_type": "markdown",
   "metadata": {
    "id": "Ea1XQuSbulg5"
   },
   "source": [
    "VQE Energyが 0.001 hartree以下の誤差で、Full CIのエネルギーを再現していることが見て取れる。n_repeatの数を増やして、もっと深い量子回路にすれば、Full CIと厳密に一致する解を得ることができる。逆に、n_repeatの数を減らすと(i.e., 1)、精度が低下することが確認できるので、実行してみよう。\n"
   ]
  },
  {
   "cell_type": "markdown",
   "metadata": {},
   "source": [
    "## 活性空間の概念とより大きな系の計算\n",
    "\n",
    "量子コンピュータを使った量子化学計算では、考慮する軌道の数だけ量子ビットが必要です。\n",
    "そのため複雑で大きな系の場合、その系の波動関数を全て量子コンピュータ上で表現することは、沢山の量子ビットがあっても現実的ではありません。\n",
    "化学的に重要な自由度のみを真面目に取り扱い、残りの自由度は比較的安価な方法（例えば平均場近似や摂動論）で記述するという戦略が量子化学では昔から取られてきました。\n",
    "量子化学においては、前者のことを活性空間と呼びます。\n",
    "量子コンピュータが直接扱うを自由度をこうして限定することで、リアリスティックな系のシミュレーションが可能になります。\n",
    "ここでは、活性空間近似を使ったより実際的な系の量子化学計算として、\n",
    "\n",
    "酢酸が酸化チタン表面に吸着するエネルギーを計算してみます。\n",
    "\n",
    "まず、この系を可視化してみましょう。"
   ]
  },
  {
   "cell_type": "code",
   "execution_count": 19,
   "metadata": {},
   "outputs": [],
   "source": [
    "import py3Dmol\n",
    "\n",
    "def visualize_mole(xyzfile):\n",
    "    view = py3Dmol.view(width=400, height=400)\n",
    "    with open(xyzfile) as f:\n",
    "        xyz_str = f.read()\n",
    "    view.addModel(xyz_str, \"xyz\")\n",
    "    view.setStyle({'stick': {}, 'sphere': {'scale': .30}}, viewer=(0,0))\n",
    "    view.setBackgroundColor('#ebf4fb', viewer=(0,0))\n",
    "    view.show()"
   ]
  },
  {
   "cell_type": "code",
   "execution_count": 20,
   "metadata": {},
   "outputs": [
    {
     "data": {
      "application/3dmoljs_load.v0": "<div id=\"3dmolviewer_1662660447814958\"  style=\"position: relative; width: 400px; height: 400px\">\n        <p id=\"3dmolwarning_1662660447814958\" style=\"background-color:#ffcccc;color:black\">You appear to be running in JupyterLab (or JavaScript failed to load for some other reason).  You need to install the 3dmol extension: <br>\n        <tt>jupyter labextension install jupyterlab_3dmol</tt></p>\n        </div>\n<script>\n\nvar loadScriptAsync = function(uri){\n  return new Promise((resolve, reject) => {\n    var tag = document.createElement('script');\n    tag.src = uri;\n    tag.async = true;\n    tag.onload = () => {\n      resolve();\n    };\n  var firstScriptTag = document.getElementsByTagName('script')[0];\n  firstScriptTag.parentNode.insertBefore(tag, firstScriptTag);\n});\n};\n\nif(typeof $3Dmolpromise === 'undefined') {\n$3Dmolpromise = null;\n  $3Dmolpromise = loadScriptAsync('https://cdn.jsdelivr.net/npm/3dmol@latest/build/3Dmol-min.min.js');\n}\n\nvar viewer_1662660447814958 = null;\nvar warn = document.getElementById(\"3dmolwarning_1662660447814958\");\nif(warn) {\n    warn.parentNode.removeChild(warn);\n}\n$3Dmolpromise.then(function() {\nviewer_1662660447814958 = $3Dmol.createViewer($(\"#3dmolviewer_1662660447814958\"),{backgroundColor:\"white\"});\nviewer_1662660447814958.zoomTo();\n\tviewer_1662660447814958.addModel(\"116\\n\\nTi       -0.0179479198       -0.0078042700       -0.0922850421\\nO         0.4497915479        0.0007412647        1.9321232563\\nTi       -1.4316444492       -0.0089893346        2.8221490912\\nO        -1.7887110897        0.0007867236        0.7998892697\\nO        -3.2081345298        0.0411605531        3.6695321087\\nO        -1.8010755493       -1.8874663742        2.8216777686\\nTi       -3.7269830403       -1.9006613639        3.6517557753\\nO         0.3830863054       -1.8910765741       -0.0700021876\\nTi        3.7557586944       -1.8917451634        2.9143676586\\nO         3.3146470921       -0.0011081937        2.8729289358\\nO        -4.6680663094       -1.8855446073        2.0338712494\\nO        -5.4086768695       -1.8843459443        4.3991860126\\nTi       -0.0282285127       -3.7757033787       -0.0787156736\\nO         0.4462623263       -3.7813137083        1.9359917441\\nTi       -1.3999537875       -3.7707056149        2.8874421519\\nO        -1.7903153040       -3.7850263943        0.8021001791\\nO        -3.2390175951       -3.7978185279        3.6716494047\\nO        -1.7864035184       -5.6734792481        2.8627360747\\nTi       -3.7357623244       -5.6788609282        3.4482649850\\nO         0.3837694100       -5.6723382681       -0.0690470865\\nTi        3.7205660980       -5.6668034549        2.9114784222\\nO         3.3236114384       -3.7787921003        2.8721776992\\nO        -4.6689995455       -5.6807480198        1.9358553242\\nO        -5.3525041570       -5.6742752842        4.3359372112\\nTi       -0.0314402214        3.7828933451       -0.0777664638\\nO         0.4518754735        3.7839662632        1.9399715530\\nTi       -1.3792280628        3.7857276911        2.9025413153\\nO        -1.7909627210        3.7866794195        0.8027290293\\nO        -3.2026665631        3.7827561658        3.7306777258\\nO        -1.7857471998        1.9013100770        2.8154049594\\nTi       -3.7307612355        1.9120465523        3.4387577457\\nO         0.3836352141        1.8909325251       -0.0691199251\\nTi        3.7223424203        1.8887162901        2.9133081650\\nO         3.3250830331        3.7807500488        2.8687333178\\nO        -4.6728325926        1.9008997868        1.9326739591\\nO        -5.3457700344        1.8899459254        4.3344454640\\nTi       -1.4852085406       -0.0011927086       -3.7100466053\\nO        -1.0850586016       -0.0008795951       -1.6147031707\\nTi       -2.8526945884       -0.0039467894       -0.7412906371\\nO        -3.3269327110       -0.0004491456       -2.7420242486\\nO        -4.7289708978       -0.0017641392       -0.0618098107\\nO        -3.2591453480       -1.8898583454       -0.7264179834\\nTi       -5.1372070666       -1.8918692243       -0.0012386637\\nO        -1.0878410276       -1.8908975100       -3.6681494905\\nTi        2.2953566326       -1.8945802968       -0.7324918911\\nO         1.8572641703       -0.0016921856       -0.7344045642\\nO         4.0371444331       -1.8910414726       -1.5881377025\\nO         3.3210868792       -1.8907741455        0.8191885244\\nTi       -1.4878179598       -3.7811586802       -3.7059227721\\nO        -1.0853532342       -3.7809408508       -1.6116052274\\nTi       -2.8450252555       -3.7788195849       -0.7274776599\\nO        -3.3267379004       -3.7812381637       -2.7423527944\\nO        -4.7300872942       -3.7790968457       -0.0598090260\\nO        -3.2604741093       -5.6718710426       -0.7338292499\\nTi       -5.1447866872       -5.6729502955       -0.0741564861\\nO        -1.0884608345       -5.6727912820       -3.6676316873\\nTi        2.2684209803       -5.6717142765       -0.7217304029\\nO         1.8574125893       -3.7804564443       -0.7330818756\\nO         4.0285990372       -5.6721054737       -1.6077890803\\nO         3.3201243312       -5.6722897918        0.8087243331\\nTi       -1.4884820434        3.7822906244       -3.7073217712\\nO        -1.0847762013        3.7818636329       -1.6113017246\\nTi       -2.8439453199        3.7841411650       -0.7265400935\\nO        -3.3267270296        3.7819066970       -2.7433025606\\nO        -4.7312054524        3.7823723470       -0.0697069103\\nO        -3.2595288817        1.8897668415       -0.7334187674\\nTi       -5.1446141745        1.8933189943       -0.0754881482\\nO        -1.0885182339        1.8906776867       -3.6679434552\\nTi        2.2687722606        1.8941648243       -0.7213872473\\nO         1.8555780589        3.7824519637       -0.7335160805\\nO         4.0283551896        1.8906904137       -1.6083035670\\nO         3.3194888527        1.8901215845        0.8082989311\\nTi        1.3702533850       -0.0107406935        3.4478828397\\nO        -2.6375196242       -0.0002691731       -5.1384544425\\nTi       -4.2555253076       -0.0004346746       -4.2635860836\\nO        -0.2706997157       -0.0070914550        4.3327078320\\nO         4.0252034756       -0.0000815787       -3.6655962284\\nO        -4.7789243271       -1.8904283625       -4.5262265362\\nTi        3.6276350884       -1.8913012322       -3.6941431294\\nO         1.8693336769       -1.8883429262        3.7243207414\\nTi        0.8648978359       -1.8921733057       -4.2643698117\\nO         0.3356892769       -0.0005951329       -4.5283168344\\nO         2.4831990038       -1.8910320844       -5.1341360953\\nO         1.7891597814       -1.8911498456       -2.7417208102\\nTi        1.3675607179       -3.7714249561        3.4584460387\\nO        -2.6361368408       -3.7817733748       -5.1377491017\\nTi       -4.2537976019       -3.7816703567       -4.2621660812\\nO        -0.2527486810       -3.7773208994        4.3296691681\\nO         4.0251551834       -3.7817133665       -3.6656274881\\nO        -4.7792586102       -5.6728660382       -4.5273909859\\nTi        3.6247553952       -5.6729206250       -3.7048960624\\nO         1.9006169442       -5.6721819263        3.7282320026\\nTi        0.8602204280       -5.6728510136       -4.2616392365\\nO         0.3358111887       -3.7815283986       -4.5276229355\\nO         2.4785034911       -5.6729185089       -5.1373985723\\nO         1.7869078663       -5.6728807589       -2.7423620036\\nTi        1.3817457800        3.7823928879        3.4589497419\\nO        -2.6363646230        3.7820140473       -5.1385122329\\nTi       -4.2543090361        3.7822671573       -4.2626609244\\nO        -0.2374835922        3.7781640807        4.3379058406\\nO         4.0248222240        3.7818879520       -3.6667895479\\nO        -4.7794862202        1.8903770813       -4.5277962247\\nTi        3.6243254290        1.8913422637       -3.7051707738\\nO         1.8974839341        1.8882474143        3.7289879155\\nTi        0.8600377417        1.8920214690       -4.2620560393\\nO         0.3346421543        3.7821159876       -4.5275899679\\nO         2.4782941685        1.8909856222       -5.1376874872\\nO         1.7866749487        1.8910410218       -2.7427494459\\nH        -3.2770955004       -2.4268873548        8.1687296457\\nC        -3.1978647566       -1.3575831172        7.9359146369 \\nH        -4.2239524320       -0.9733256879        7.8414028480\\nH        -2.6752907472       -0.8249390527        8.7355765151\\nC        -2.5132448898       -1.1924834089        6.6141051521 \\nO        -2.8755597850       -1.8460118394        5.6163779603\\nO        -1.5275649623       -0.3212592281        6.6009413157\\nH        -1.0670534373       -0.2549619720        5.6840567874\\n\",\"xyz\");\n\tviewer_1662660447814958.setStyle({\"stick\": {}, \"sphere\": {\"scale\": 0.3}});\n\tviewer_1662660447814958.setBackgroundColor(\"#ebf4fb\");\nviewer_1662660447814958.render();\n});\n</script>",
      "text/html": [
       "<div id=\"3dmolviewer_1662660447814958\"  style=\"position: relative; width: 400px; height: 400px\">\n",
       "        <p id=\"3dmolwarning_1662660447814958\" style=\"background-color:#ffcccc;color:black\">You appear to be running in JupyterLab (or JavaScript failed to load for some other reason).  You need to install the 3dmol extension: <br>\n",
       "        <tt>jupyter labextension install jupyterlab_3dmol</tt></p>\n",
       "        </div>\n",
       "<script>\n",
       "\n",
       "var loadScriptAsync = function(uri){\n",
       "  return new Promise((resolve, reject) => {\n",
       "    var tag = document.createElement('script');\n",
       "    tag.src = uri;\n",
       "    tag.async = true;\n",
       "    tag.onload = () => {\n",
       "      resolve();\n",
       "    };\n",
       "  var firstScriptTag = document.getElementsByTagName('script')[0];\n",
       "  firstScriptTag.parentNode.insertBefore(tag, firstScriptTag);\n",
       "});\n",
       "};\n",
       "\n",
       "if(typeof $3Dmolpromise === 'undefined') {\n",
       "$3Dmolpromise = null;\n",
       "  $3Dmolpromise = loadScriptAsync('https://cdn.jsdelivr.net/npm/3dmol@latest/build/3Dmol-min.min.js');\n",
       "}\n",
       "\n",
       "var viewer_1662660447814958 = null;\n",
       "var warn = document.getElementById(\"3dmolwarning_1662660447814958\");\n",
       "if(warn) {\n",
       "    warn.parentNode.removeChild(warn);\n",
       "}\n",
       "$3Dmolpromise.then(function() {\n",
       "viewer_1662660447814958 = $3Dmol.createViewer($(\"#3dmolviewer_1662660447814958\"),{backgroundColor:\"white\"});\n",
       "viewer_1662660447814958.zoomTo();\n",
       "\tviewer_1662660447814958.addModel(\"116\\n\\nTi       -0.0179479198       -0.0078042700       -0.0922850421\\nO         0.4497915479        0.0007412647        1.9321232563\\nTi       -1.4316444492       -0.0089893346        2.8221490912\\nO        -1.7887110897        0.0007867236        0.7998892697\\nO        -3.2081345298        0.0411605531        3.6695321087\\nO        -1.8010755493       -1.8874663742        2.8216777686\\nTi       -3.7269830403       -1.9006613639        3.6517557753\\nO         0.3830863054       -1.8910765741       -0.0700021876\\nTi        3.7557586944       -1.8917451634        2.9143676586\\nO         3.3146470921       -0.0011081937        2.8729289358\\nO        -4.6680663094       -1.8855446073        2.0338712494\\nO        -5.4086768695       -1.8843459443        4.3991860126\\nTi       -0.0282285127       -3.7757033787       -0.0787156736\\nO         0.4462623263       -3.7813137083        1.9359917441\\nTi       -1.3999537875       -3.7707056149        2.8874421519\\nO        -1.7903153040       -3.7850263943        0.8021001791\\nO        -3.2390175951       -3.7978185279        3.6716494047\\nO        -1.7864035184       -5.6734792481        2.8627360747\\nTi       -3.7357623244       -5.6788609282        3.4482649850\\nO         0.3837694100       -5.6723382681       -0.0690470865\\nTi        3.7205660980       -5.6668034549        2.9114784222\\nO         3.3236114384       -3.7787921003        2.8721776992\\nO        -4.6689995455       -5.6807480198        1.9358553242\\nO        -5.3525041570       -5.6742752842        4.3359372112\\nTi       -0.0314402214        3.7828933451       -0.0777664638\\nO         0.4518754735        3.7839662632        1.9399715530\\nTi       -1.3792280628        3.7857276911        2.9025413153\\nO        -1.7909627210        3.7866794195        0.8027290293\\nO        -3.2026665631        3.7827561658        3.7306777258\\nO        -1.7857471998        1.9013100770        2.8154049594\\nTi       -3.7307612355        1.9120465523        3.4387577457\\nO         0.3836352141        1.8909325251       -0.0691199251\\nTi        3.7223424203        1.8887162901        2.9133081650\\nO         3.3250830331        3.7807500488        2.8687333178\\nO        -4.6728325926        1.9008997868        1.9326739591\\nO        -5.3457700344        1.8899459254        4.3344454640\\nTi       -1.4852085406       -0.0011927086       -3.7100466053\\nO        -1.0850586016       -0.0008795951       -1.6147031707\\nTi       -2.8526945884       -0.0039467894       -0.7412906371\\nO        -3.3269327110       -0.0004491456       -2.7420242486\\nO        -4.7289708978       -0.0017641392       -0.0618098107\\nO        -3.2591453480       -1.8898583454       -0.7264179834\\nTi       -5.1372070666       -1.8918692243       -0.0012386637\\nO        -1.0878410276       -1.8908975100       -3.6681494905\\nTi        2.2953566326       -1.8945802968       -0.7324918911\\nO         1.8572641703       -0.0016921856       -0.7344045642\\nO         4.0371444331       -1.8910414726       -1.5881377025\\nO         3.3210868792       -1.8907741455        0.8191885244\\nTi       -1.4878179598       -3.7811586802       -3.7059227721\\nO        -1.0853532342       -3.7809408508       -1.6116052274\\nTi       -2.8450252555       -3.7788195849       -0.7274776599\\nO        -3.3267379004       -3.7812381637       -2.7423527944\\nO        -4.7300872942       -3.7790968457       -0.0598090260\\nO        -3.2604741093       -5.6718710426       -0.7338292499\\nTi       -5.1447866872       -5.6729502955       -0.0741564861\\nO        -1.0884608345       -5.6727912820       -3.6676316873\\nTi        2.2684209803       -5.6717142765       -0.7217304029\\nO         1.8574125893       -3.7804564443       -0.7330818756\\nO         4.0285990372       -5.6721054737       -1.6077890803\\nO         3.3201243312       -5.6722897918        0.8087243331\\nTi       -1.4884820434        3.7822906244       -3.7073217712\\nO        -1.0847762013        3.7818636329       -1.6113017246\\nTi       -2.8439453199        3.7841411650       -0.7265400935\\nO        -3.3267270296        3.7819066970       -2.7433025606\\nO        -4.7312054524        3.7823723470       -0.0697069103\\nO        -3.2595288817        1.8897668415       -0.7334187674\\nTi       -5.1446141745        1.8933189943       -0.0754881482\\nO        -1.0885182339        1.8906776867       -3.6679434552\\nTi        2.2687722606        1.8941648243       -0.7213872473\\nO         1.8555780589        3.7824519637       -0.7335160805\\nO         4.0283551896        1.8906904137       -1.6083035670\\nO         3.3194888527        1.8901215845        0.8082989311\\nTi        1.3702533850       -0.0107406935        3.4478828397\\nO        -2.6375196242       -0.0002691731       -5.1384544425\\nTi       -4.2555253076       -0.0004346746       -4.2635860836\\nO        -0.2706997157       -0.0070914550        4.3327078320\\nO         4.0252034756       -0.0000815787       -3.6655962284\\nO        -4.7789243271       -1.8904283625       -4.5262265362\\nTi        3.6276350884       -1.8913012322       -3.6941431294\\nO         1.8693336769       -1.8883429262        3.7243207414\\nTi        0.8648978359       -1.8921733057       -4.2643698117\\nO         0.3356892769       -0.0005951329       -4.5283168344\\nO         2.4831990038       -1.8910320844       -5.1341360953\\nO         1.7891597814       -1.8911498456       -2.7417208102\\nTi        1.3675607179       -3.7714249561        3.4584460387\\nO        -2.6361368408       -3.7817733748       -5.1377491017\\nTi       -4.2537976019       -3.7816703567       -4.2621660812\\nO        -0.2527486810       -3.7773208994        4.3296691681\\nO         4.0251551834       -3.7817133665       -3.6656274881\\nO        -4.7792586102       -5.6728660382       -4.5273909859\\nTi        3.6247553952       -5.6729206250       -3.7048960624\\nO         1.9006169442       -5.6721819263        3.7282320026\\nTi        0.8602204280       -5.6728510136       -4.2616392365\\nO         0.3358111887       -3.7815283986       -4.5276229355\\nO         2.4785034911       -5.6729185089       -5.1373985723\\nO         1.7869078663       -5.6728807589       -2.7423620036\\nTi        1.3817457800        3.7823928879        3.4589497419\\nO        -2.6363646230        3.7820140473       -5.1385122329\\nTi       -4.2543090361        3.7822671573       -4.2626609244\\nO        -0.2374835922        3.7781640807        4.3379058406\\nO         4.0248222240        3.7818879520       -3.6667895479\\nO        -4.7794862202        1.8903770813       -4.5277962247\\nTi        3.6243254290        1.8913422637       -3.7051707738\\nO         1.8974839341        1.8882474143        3.7289879155\\nTi        0.8600377417        1.8920214690       -4.2620560393\\nO         0.3346421543        3.7821159876       -4.5275899679\\nO         2.4782941685        1.8909856222       -5.1376874872\\nO         1.7866749487        1.8910410218       -2.7427494459\\nH        -3.2770955004       -2.4268873548        8.1687296457\\nC        -3.1978647566       -1.3575831172        7.9359146369 \\nH        -4.2239524320       -0.9733256879        7.8414028480\\nH        -2.6752907472       -0.8249390527        8.7355765151\\nC        -2.5132448898       -1.1924834089        6.6141051521 \\nO        -2.8755597850       -1.8460118394        5.6163779603\\nO        -1.5275649623       -0.3212592281        6.6009413157\\nH        -1.0670534373       -0.2549619720        5.6840567874\\n\",\"xyz\");\n",
       "\tviewer_1662660447814958.setStyle({\"stick\": {}, \"sphere\": {\"scale\": 0.3}});\n",
       "\tviewer_1662660447814958.setBackgroundColor(\"#ebf4fb\");\n",
       "viewer_1662660447814958.render();\n",
       "});\n",
       "</script>"
      ]
     },
     "metadata": {},
     "output_type": "display_data"
    }
   ],
   "source": [
    "visualize_mole(\"qchem/AA_TiO2.xyz\")"
   ]
  },
  {
   "cell_type": "markdown",
   "metadata": {},
   "source": [
    "吸着エネルギー $E_{ads}$ は、この分子と表面がくっついた状態のエネルギー $E_{AA+TiO2}$ と、\n",
    "以下のように酢酸のエネルギー $E_{AA}$ とTiO2のエネルギー $E_{TiO2}$ とを別々に計算し、以下のエネルギーの差として算出できます。\n",
    "$$E_{ads}=(E_{AA}+E_{TiO2})-E_{AA+TiO2}$$"
   ]
  },
  {
   "cell_type": "code",
   "execution_count": 21,
   "metadata": {},
   "outputs": [
    {
     "data": {
      "application/3dmoljs_load.v0": "<div id=\"3dmolviewer_16626604715202155\"  style=\"position: relative; width: 400px; height: 400px\">\n        <p id=\"3dmolwarning_16626604715202155\" style=\"background-color:#ffcccc;color:black\">You appear to be running in JupyterLab (or JavaScript failed to load for some other reason).  You need to install the 3dmol extension: <br>\n        <tt>jupyter labextension install jupyterlab_3dmol</tt></p>\n        </div>\n<script>\n\nvar loadScriptAsync = function(uri){\n  return new Promise((resolve, reject) => {\n    var tag = document.createElement('script');\n    tag.src = uri;\n    tag.async = true;\n    tag.onload = () => {\n      resolve();\n    };\n  var firstScriptTag = document.getElementsByTagName('script')[0];\n  firstScriptTag.parentNode.insertBefore(tag, firstScriptTag);\n});\n};\n\nif(typeof $3Dmolpromise === 'undefined') {\n$3Dmolpromise = null;\n  $3Dmolpromise = loadScriptAsync('https://cdn.jsdelivr.net/npm/3dmol@latest/build/3Dmol-min.min.js');\n}\n\nvar viewer_16626604715202155 = null;\nvar warn = document.getElementById(\"3dmolwarning_16626604715202155\");\nif(warn) {\n    warn.parentNode.removeChild(warn);\n}\n$3Dmolpromise.then(function() {\nviewer_16626604715202155 = $3Dmol.createViewer($(\"#3dmolviewer_16626604715202155\"),{backgroundColor:\"white\"});\nviewer_16626604715202155.zoomTo();\n\tviewer_16626604715202155.addModel(\"8\\n\\nH        -3.2770955004       -2.4268873548        8.1687296457\\nC        -3.1978647566       -1.3575831172        7.9359146369 \\nH        -4.2239524320       -0.9733256879        7.8414028480\\nH        -2.6752907472       -0.8249390527        8.7355765151\\nC        -2.5132448898       -1.1924834089        6.6141051521 \\nO        -2.8755597850       -1.8460118394        5.6163779603\\nO        -1.5275649623       -0.3212592281        6.6009413157\\nH        -1.0670534373       -0.2549619720        5.6840567874\\n\",\"xyz\");\n\tviewer_16626604715202155.setStyle({\"stick\": {}, \"sphere\": {\"scale\": 0.3}});\n\tviewer_16626604715202155.setBackgroundColor(\"#ebf4fb\");\nviewer_16626604715202155.render();\n});\n</script>",
      "text/html": [
       "<div id=\"3dmolviewer_16626604715202155\"  style=\"position: relative; width: 400px; height: 400px\">\n",
       "        <p id=\"3dmolwarning_16626604715202155\" style=\"background-color:#ffcccc;color:black\">You appear to be running in JupyterLab (or JavaScript failed to load for some other reason).  You need to install the 3dmol extension: <br>\n",
       "        <tt>jupyter labextension install jupyterlab_3dmol</tt></p>\n",
       "        </div>\n",
       "<script>\n",
       "\n",
       "var loadScriptAsync = function(uri){\n",
       "  return new Promise((resolve, reject) => {\n",
       "    var tag = document.createElement('script');\n",
       "    tag.src = uri;\n",
       "    tag.async = true;\n",
       "    tag.onload = () => {\n",
       "      resolve();\n",
       "    };\n",
       "  var firstScriptTag = document.getElementsByTagName('script')[0];\n",
       "  firstScriptTag.parentNode.insertBefore(tag, firstScriptTag);\n",
       "});\n",
       "};\n",
       "\n",
       "if(typeof $3Dmolpromise === 'undefined') {\n",
       "$3Dmolpromise = null;\n",
       "  $3Dmolpromise = loadScriptAsync('https://cdn.jsdelivr.net/npm/3dmol@latest/build/3Dmol-min.min.js');\n",
       "}\n",
       "\n",
       "var viewer_16626604715202155 = null;\n",
       "var warn = document.getElementById(\"3dmolwarning_16626604715202155\");\n",
       "if(warn) {\n",
       "    warn.parentNode.removeChild(warn);\n",
       "}\n",
       "$3Dmolpromise.then(function() {\n",
       "viewer_16626604715202155 = $3Dmol.createViewer($(\"#3dmolviewer_16626604715202155\"),{backgroundColor:\"white\"});\n",
       "viewer_16626604715202155.zoomTo();\n",
       "\tviewer_16626604715202155.addModel(\"8\\n\\nH        -3.2770955004       -2.4268873548        8.1687296457\\nC        -3.1978647566       -1.3575831172        7.9359146369 \\nH        -4.2239524320       -0.9733256879        7.8414028480\\nH        -2.6752907472       -0.8249390527        8.7355765151\\nC        -2.5132448898       -1.1924834089        6.6141051521 \\nO        -2.8755597850       -1.8460118394        5.6163779603\\nO        -1.5275649623       -0.3212592281        6.6009413157\\nH        -1.0670534373       -0.2549619720        5.6840567874\\n\",\"xyz\");\n",
       "\tviewer_16626604715202155.setStyle({\"stick\": {}, \"sphere\": {\"scale\": 0.3}});\n",
       "\tviewer_16626604715202155.setBackgroundColor(\"#ebf4fb\");\n",
       "viewer_16626604715202155.render();\n",
       "});\n",
       "</script>"
      ]
     },
     "metadata": {},
     "output_type": "display_data"
    }
   ],
   "source": [
    "visualize_mole(\"qchem/AA.xyz\")"
   ]
  },
  {
   "cell_type": "code",
   "execution_count": 22,
   "metadata": {},
   "outputs": [
    {
     "data": {
      "application/3dmoljs_load.v0": "<div id=\"3dmolviewer_16626604846598053\"  style=\"position: relative; width: 400px; height: 400px\">\n        <p id=\"3dmolwarning_16626604846598053\" style=\"background-color:#ffcccc;color:black\">You appear to be running in JupyterLab (or JavaScript failed to load for some other reason).  You need to install the 3dmol extension: <br>\n        <tt>jupyter labextension install jupyterlab_3dmol</tt></p>\n        </div>\n<script>\n\nvar loadScriptAsync = function(uri){\n  return new Promise((resolve, reject) => {\n    var tag = document.createElement('script');\n    tag.src = uri;\n    tag.async = true;\n    tag.onload = () => {\n      resolve();\n    };\n  var firstScriptTag = document.getElementsByTagName('script')[0];\n  firstScriptTag.parentNode.insertBefore(tag, firstScriptTag);\n});\n};\n\nif(typeof $3Dmolpromise === 'undefined') {\n$3Dmolpromise = null;\n  $3Dmolpromise = loadScriptAsync('https://cdn.jsdelivr.net/npm/3dmol@latest/build/3Dmol-min.min.js');\n}\n\nvar viewer_16626604846598053 = null;\nvar warn = document.getElementById(\"3dmolwarning_16626604846598053\");\nif(warn) {\n    warn.parentNode.removeChild(warn);\n}\n$3Dmolpromise.then(function() {\nviewer_16626604846598053 = $3Dmol.createViewer($(\"#3dmolviewer_16626604846598053\"),{backgroundColor:\"white\"});\nviewer_16626604846598053.zoomTo();\n\tviewer_16626604846598053.addModel(\"108\\n\\nTi       -0.0196732895        0.0000918380       -0.1416465741\\nO         0.4723754303       -0.0000571398        1.8571329054\\nTi       -1.3559074694        0.0003150892        2.8298591619\\nO        -1.7917634261        0.0000042454        0.7442319008\\nO        -3.2061730694        0.0000443286        3.6117036980\\nO        -1.7223354624       -1.8909532145        2.7851161998\\nTi       -3.7072315168       -1.8909277477        3.3703342068\\nO         0.3901175533       -1.8910690189       -0.0994036486\\nTi        3.7576915752       -1.8911397898        2.8299030461\\nO         3.3911899157       -0.0000297653        2.7851197963\\nO        -4.6411313870       -1.8910064850        1.8571563829\\nO        -5.3047652050       -1.8910036123        4.2598669896\\nTi       -0.0207144299       -3.7823141879       -0.1416512835\\nO         0.4723696865       -3.7819602214        1.8571632167\\nTi       -1.3558005079       -3.7816819453        2.8299339589\\nO        -1.7918422000       -3.7820015816        0.7441593253\\nO        -3.2061826485       -3.7819698735        3.6117085462\\nO        -1.7223161680       -5.6729527662        2.7851217809\\nTi       -3.7072713992       -5.6728628337        3.3703727335\\nO         0.3900935320       -5.6730270615       -0.0995105980\\nTi        3.7576114879       -5.6731618014        2.8298917840\\nO         3.3911555573       -3.7820325584        2.7851125323\\nO        -4.6411391763       -5.6729793650        1.8571500583\\nO        -5.3047626840       -5.6729983041        4.2598661875\\nTi       -0.0207062513        3.7820375711       -0.1416644578\\nO         0.4723667071        3.7820212636        1.8571594186\\nTi       -1.3558175168        3.7823572855        2.8299239946\\nO        -1.7918406363        3.7820160635        0.7441611103\\nO        -3.2061760961        3.7820487555        3.6117151381\\nO        -1.7223390903        1.8910430419        2.7851256747\\nTi       -3.7072222362        1.8911540810        3.3703550256\\nO         0.3900787901        1.8910478727       -0.0995442876\\nTi        3.7576703685        1.8908168863        2.8299163973\\nO         3.3911596509        3.7819754093        2.7851182559\\nO        -4.6411291967        1.8910010642        1.8571457837\\nO        -5.3047626859        1.8909942468        4.2598643270\\nTi       -1.5161932358       -0.0000035504       -3.7515860671\\nO        -1.0530794682        0.0000373091       -1.6689815731\\nTi       -2.8375929946        0.0000125387       -0.7827105109\\nO        -3.3233955054        0.0000075742       -2.7856149033\\nO        -4.7234020378        0.0000127699       -0.0994911115\\nO        -3.2337827875       -1.8909157918       -0.8262536553\\nTi       -5.1341235465       -1.8905124453       -0.1416968775\\nO        -1.1292018546       -1.8909984997       -3.7065474973\\nTi        2.2748016978       -1.8914513528       -0.7826856888\\nO         1.8795957531        0.0000110574       -0.8262556229\\nO         4.0603419699       -1.8909917501       -1.6690496877\\nO         3.3216577066       -1.8910129398        0.7441708384\\nTi       -1.5162127974       -3.7820082245       -3.7515130590\\nO        -1.0531792321       -3.7820330939       -1.6690695233\\nTi       -2.8387264069       -3.7816366671       -0.7827254195\\nO        -3.3234176494       -3.7820188222       -2.7855855806\\nO        -4.7234014156       -3.7819208779       -0.0994918740\\nO        -3.2338808261       -5.6729547241       -0.8262577269\\nTi       -5.1337085619       -5.6728210746       -0.1416253758\\nO        -1.1292133652       -5.6729973337       -3.7065579586\\nTi        2.2753347025       -5.6730893793       -0.7827232123\\nO         1.8797137276       -3.7820716331       -0.8262204725\\nO         4.0603607770       -5.6729995420       -1.6690205190\\nO         3.3216956874       -5.6729959521        0.7441905856\\nTi       -1.5161826614        3.7820038515       -3.7514972186\\nO        -1.0531788180        3.7820037637       -1.6690627781\\nTi       -2.8387418861        3.7820263057       -0.7827288483\\nO        -3.3234140545        3.7820124036       -2.7855756894\\nO        -4.7234083483        3.7819922024       -0.0995146234\\nO        -3.2338028141        1.8909665882       -0.8262616531\\nTi       -5.1337579488        1.8907071790       -0.1416523764\\nO        -1.1292026624        1.8909963190       -3.7065514064\\nTi        2.2752985947        1.8913614389       -0.7827305566\\nO         1.8797190226        3.7820105992       -0.8262619610\\nO         4.0603653380        1.8909999509       -1.6690263461\\nO         3.3217002712        1.8910054858        0.7441955377\\nTi        1.4062179326       -0.0001039492        3.3703877757\\nO        -2.6647908793       -0.0000005289       -5.1851681482\\nTi       -4.2783192715       -0.0000103698       -4.2957638096\\nO        -0.1912654580       -0.0000031849        4.2598577618\\nO         3.9842928859       -0.0000042475       -3.7065509870\\nO        -4.8135555127       -1.8910056257       -4.5423161488\\nTi        3.5973231742       -1.8910334733       -3.7514938579\\nO         1.9073102520       -1.8910183747        3.6116941841\\nTi        0.8351562937       -1.8910134280       -4.2957834807\\nO         0.2999501886        0.0000014389       -4.5423282903\\nO         2.4486923948       -1.8909965776       -5.1851300375\\nO         1.7901009453       -1.8909751422       -2.7855702026\\nTi        1.4062978231       -3.7820651787        3.3703408897\\nO        -2.6648159269       -3.7820081917       -5.1851412951\\nTi       -4.2783858420       -3.7820055719       -4.2957974907\\nO        -0.1912655926       -3.7819815684        4.2598700174\\nO         3.9842992272       -3.7820123323       -3.7065446628\\nO        -4.8135568089       -5.6730065260       -4.5423203244\\nTi        3.5973007930       -5.6730640942       -3.7515344719\\nO         1.9073227407       -5.6730308667        3.6117054398\\nTi        0.8351415277       -5.6729732703       -4.2957889394\\nO         0.2999374565       -3.7820001861       -4.5423268691\\nO         2.4486955431       -5.6730031698       -5.1851504663\\nO         1.7900885384       -5.6729995069       -2.7856065156\\nTi        1.4062636238        3.7818822883        3.3703472345\\nO        -2.6648052713        3.7820054054       -5.1851376998\\nTi       -4.2783535642        3.7819717438       -4.2957964866\\nO        -0.1912672794        3.7820176010        4.2598712038\\nO         3.9842996857        3.7819972148       -3.7065500902\\nO        -4.8135603835        1.8909955587       -4.5423217385\\nTi        3.5972989622        1.8909274430       -3.7515400005\\nO         1.9073252382        1.8909600359        3.6117124490\\nTi        0.8351502243        1.8910341251       -4.2957798103\\nO         0.2999353645        3.7820068984       -4.5423256737\\nO         2.4486964067        1.8909882434       -5.1851527864\\nO         1.7900926030        1.8909706946       -2.7855892400\\n\",\"xyz\");\n\tviewer_16626604846598053.setStyle({\"stick\": {}, \"sphere\": {\"scale\": 0.3}});\n\tviewer_16626604846598053.setBackgroundColor(\"#ebf4fb\");\nviewer_16626604846598053.render();\n});\n</script>",
      "text/html": [
       "<div id=\"3dmolviewer_16626604846598053\"  style=\"position: relative; width: 400px; height: 400px\">\n",
       "        <p id=\"3dmolwarning_16626604846598053\" style=\"background-color:#ffcccc;color:black\">You appear to be running in JupyterLab (or JavaScript failed to load for some other reason).  You need to install the 3dmol extension: <br>\n",
       "        <tt>jupyter labextension install jupyterlab_3dmol</tt></p>\n",
       "        </div>\n",
       "<script>\n",
       "\n",
       "var loadScriptAsync = function(uri){\n",
       "  return new Promise((resolve, reject) => {\n",
       "    var tag = document.createElement('script');\n",
       "    tag.src = uri;\n",
       "    tag.async = true;\n",
       "    tag.onload = () => {\n",
       "      resolve();\n",
       "    };\n",
       "  var firstScriptTag = document.getElementsByTagName('script')[0];\n",
       "  firstScriptTag.parentNode.insertBefore(tag, firstScriptTag);\n",
       "});\n",
       "};\n",
       "\n",
       "if(typeof $3Dmolpromise === 'undefined') {\n",
       "$3Dmolpromise = null;\n",
       "  $3Dmolpromise = loadScriptAsync('https://cdn.jsdelivr.net/npm/3dmol@latest/build/3Dmol-min.min.js');\n",
       "}\n",
       "\n",
       "var viewer_16626604846598053 = null;\n",
       "var warn = document.getElementById(\"3dmolwarning_16626604846598053\");\n",
       "if(warn) {\n",
       "    warn.parentNode.removeChild(warn);\n",
       "}\n",
       "$3Dmolpromise.then(function() {\n",
       "viewer_16626604846598053 = $3Dmol.createViewer($(\"#3dmolviewer_16626604846598053\"),{backgroundColor:\"white\"});\n",
       "viewer_16626604846598053.zoomTo();\n",
       "\tviewer_16626604846598053.addModel(\"108\\n\\nTi       -0.0196732895        0.0000918380       -0.1416465741\\nO         0.4723754303       -0.0000571398        1.8571329054\\nTi       -1.3559074694        0.0003150892        2.8298591619\\nO        -1.7917634261        0.0000042454        0.7442319008\\nO        -3.2061730694        0.0000443286        3.6117036980\\nO        -1.7223354624       -1.8909532145        2.7851161998\\nTi       -3.7072315168       -1.8909277477        3.3703342068\\nO         0.3901175533       -1.8910690189       -0.0994036486\\nTi        3.7576915752       -1.8911397898        2.8299030461\\nO         3.3911899157       -0.0000297653        2.7851197963\\nO        -4.6411313870       -1.8910064850        1.8571563829\\nO        -5.3047652050       -1.8910036123        4.2598669896\\nTi       -0.0207144299       -3.7823141879       -0.1416512835\\nO         0.4723696865       -3.7819602214        1.8571632167\\nTi       -1.3558005079       -3.7816819453        2.8299339589\\nO        -1.7918422000       -3.7820015816        0.7441593253\\nO        -3.2061826485       -3.7819698735        3.6117085462\\nO        -1.7223161680       -5.6729527662        2.7851217809\\nTi       -3.7072713992       -5.6728628337        3.3703727335\\nO         0.3900935320       -5.6730270615       -0.0995105980\\nTi        3.7576114879       -5.6731618014        2.8298917840\\nO         3.3911555573       -3.7820325584        2.7851125323\\nO        -4.6411391763       -5.6729793650        1.8571500583\\nO        -5.3047626840       -5.6729983041        4.2598661875\\nTi       -0.0207062513        3.7820375711       -0.1416644578\\nO         0.4723667071        3.7820212636        1.8571594186\\nTi       -1.3558175168        3.7823572855        2.8299239946\\nO        -1.7918406363        3.7820160635        0.7441611103\\nO        -3.2061760961        3.7820487555        3.6117151381\\nO        -1.7223390903        1.8910430419        2.7851256747\\nTi       -3.7072222362        1.8911540810        3.3703550256\\nO         0.3900787901        1.8910478727       -0.0995442876\\nTi        3.7576703685        1.8908168863        2.8299163973\\nO         3.3911596509        3.7819754093        2.7851182559\\nO        -4.6411291967        1.8910010642        1.8571457837\\nO        -5.3047626859        1.8909942468        4.2598643270\\nTi       -1.5161932358       -0.0000035504       -3.7515860671\\nO        -1.0530794682        0.0000373091       -1.6689815731\\nTi       -2.8375929946        0.0000125387       -0.7827105109\\nO        -3.3233955054        0.0000075742       -2.7856149033\\nO        -4.7234020378        0.0000127699       -0.0994911115\\nO        -3.2337827875       -1.8909157918       -0.8262536553\\nTi       -5.1341235465       -1.8905124453       -0.1416968775\\nO        -1.1292018546       -1.8909984997       -3.7065474973\\nTi        2.2748016978       -1.8914513528       -0.7826856888\\nO         1.8795957531        0.0000110574       -0.8262556229\\nO         4.0603419699       -1.8909917501       -1.6690496877\\nO         3.3216577066       -1.8910129398        0.7441708384\\nTi       -1.5162127974       -3.7820082245       -3.7515130590\\nO        -1.0531792321       -3.7820330939       -1.6690695233\\nTi       -2.8387264069       -3.7816366671       -0.7827254195\\nO        -3.3234176494       -3.7820188222       -2.7855855806\\nO        -4.7234014156       -3.7819208779       -0.0994918740\\nO        -3.2338808261       -5.6729547241       -0.8262577269\\nTi       -5.1337085619       -5.6728210746       -0.1416253758\\nO        -1.1292133652       -5.6729973337       -3.7065579586\\nTi        2.2753347025       -5.6730893793       -0.7827232123\\nO         1.8797137276       -3.7820716331       -0.8262204725\\nO         4.0603607770       -5.6729995420       -1.6690205190\\nO         3.3216956874       -5.6729959521        0.7441905856\\nTi       -1.5161826614        3.7820038515       -3.7514972186\\nO        -1.0531788180        3.7820037637       -1.6690627781\\nTi       -2.8387418861        3.7820263057       -0.7827288483\\nO        -3.3234140545        3.7820124036       -2.7855756894\\nO        -4.7234083483        3.7819922024       -0.0995146234\\nO        -3.2338028141        1.8909665882       -0.8262616531\\nTi       -5.1337579488        1.8907071790       -0.1416523764\\nO        -1.1292026624        1.8909963190       -3.7065514064\\nTi        2.2752985947        1.8913614389       -0.7827305566\\nO         1.8797190226        3.7820105992       -0.8262619610\\nO         4.0603653380        1.8909999509       -1.6690263461\\nO         3.3217002712        1.8910054858        0.7441955377\\nTi        1.4062179326       -0.0001039492        3.3703877757\\nO        -2.6647908793       -0.0000005289       -5.1851681482\\nTi       -4.2783192715       -0.0000103698       -4.2957638096\\nO        -0.1912654580       -0.0000031849        4.2598577618\\nO         3.9842928859       -0.0000042475       -3.7065509870\\nO        -4.8135555127       -1.8910056257       -4.5423161488\\nTi        3.5973231742       -1.8910334733       -3.7514938579\\nO         1.9073102520       -1.8910183747        3.6116941841\\nTi        0.8351562937       -1.8910134280       -4.2957834807\\nO         0.2999501886        0.0000014389       -4.5423282903\\nO         2.4486923948       -1.8909965776       -5.1851300375\\nO         1.7901009453       -1.8909751422       -2.7855702026\\nTi        1.4062978231       -3.7820651787        3.3703408897\\nO        -2.6648159269       -3.7820081917       -5.1851412951\\nTi       -4.2783858420       -3.7820055719       -4.2957974907\\nO        -0.1912655926       -3.7819815684        4.2598700174\\nO         3.9842992272       -3.7820123323       -3.7065446628\\nO        -4.8135568089       -5.6730065260       -4.5423203244\\nTi        3.5973007930       -5.6730640942       -3.7515344719\\nO         1.9073227407       -5.6730308667        3.6117054398\\nTi        0.8351415277       -5.6729732703       -4.2957889394\\nO         0.2999374565       -3.7820001861       -4.5423268691\\nO         2.4486955431       -5.6730031698       -5.1851504663\\nO         1.7900885384       -5.6729995069       -2.7856065156\\nTi        1.4062636238        3.7818822883        3.3703472345\\nO        -2.6648052713        3.7820054054       -5.1851376998\\nTi       -4.2783535642        3.7819717438       -4.2957964866\\nO        -0.1912672794        3.7820176010        4.2598712038\\nO         3.9842996857        3.7819972148       -3.7065500902\\nO        -4.8135603835        1.8909955587       -4.5423217385\\nTi        3.5972989622        1.8909274430       -3.7515400005\\nO         1.9073252382        1.8909600359        3.6117124490\\nTi        0.8351502243        1.8910341251       -4.2957798103\\nO         0.2999353645        3.7820068984       -4.5423256737\\nO         2.4486964067        1.8909882434       -5.1851527864\\nO         1.7900926030        1.8909706946       -2.7855892400\\n\",\"xyz\");\n",
       "\tviewer_16626604846598053.setStyle({\"stick\": {}, \"sphere\": {\"scale\": 0.3}});\n",
       "\tviewer_16626604846598053.setBackgroundColor(\"#ebf4fb\");\n",
       "viewer_16626604846598053.render();\n",
       "});\n",
       "</script>"
      ]
     },
     "metadata": {},
     "output_type": "display_data"
    }
   ],
   "source": [
    "visualize_mole(\"qchem/TiO2.xyz\")"
   ]
  },
  {
   "cell_type": "markdown",
   "metadata": {},
   "source": [
    "それぞれの構造における２空間軌道（４スピン軌道）の第二量子化ハミルトニアンは、\"qchem/AA_TiO2.fcidump\", \"qchem/AA.fcidump\", \"TiO2.fcidump\"として用意してあります。\n",
    "この第二量子化ハミルトニアンを使い先程と同様にVQE計算を実行します。"
   ]
  },
  {
   "cell_type": "code",
   "execution_count": 35,
   "metadata": {},
   "outputs": [],
   "source": [
    "def perform_vqe(fcidump_file):\n",
    "    # OpenFermionに第二量子化されたハミルトニアンをロード\n",
    "    fermion_hamiltonian = get_fermion_operator(get_molecular_hamiltonian_from_fcidump(fcidump_file))\n",
    "    # Jordan-Wigner変換をおｋなう\n",
    "    jw_qubit_hamiltonian = jordan_wigner(fermion_hamiltonian)\n",
    "    # qulacs形式のハミルトニアンの準備\n",
    "    qulacs_hamiltonian = create_observable_from_openfermion_text(str(jw_qubit_hamiltonian))\n",
    "    # 初期量子状態の準備\n",
    "    n_qubit = 4 \n",
    "    hf_state = QuantumState(n_qubit) # 4qubitの量子状態を用意。この時点では|0000> \n",
    "    hf_state.set_computational_basis(int('0b0011',2)) # |0011>を用意\n",
    "    # 量子回路の設定\n",
    "    n_repeat = 2 #量子回路の深さ\n",
    "    def cost(parameters):\n",
    "        #初期波動関数の用意\n",
    "        n_qubit = 4 \n",
    "        state = QuantumState(n_qubit) # 4qubitの量子状態を用意。この時点では|0000> \n",
    "        state.set_computational_basis(int('0b0011',2)) # |0011>を用意\n",
    "        #ansatz(量子回路を用意)\n",
    "        num_paras = len(parameters)\n",
    "        ansatz = QuantumCircuit(n_qubit)\n",
    "        for i in range(n_repeat):\n",
    "            idx = 2*i \n",
    "            ansatz.add_gate(create_A_gate(parameters[idx], [0, 2]))\n",
    "            ansatz.add_gate(create_A_gate(parameters[idx+1], [1, 3]))\n",
    "            ansatz.add_gate(create_A_gate(parameters[idx], [1, 2]))\n",
    "        #近似波動関数の生成\n",
    "        ansatz.update_quantum_state(state)\n",
    "        return qulacs_hamiltonian.get_expectation_value(state) #エネルギーを返す。\n",
    "    cost_history = []\n",
    "\n",
    "    #パラメータの初期値\n",
    "    init_theta_list = [np.random.random() for i in range(n_repeat*2)]\n",
    "    #init_theta_list = [0.1 for i in range(n_repeat*2)]\n",
    "    cost_history.append(cost(init_theta_list))\n",
    "\n",
    "    method = \"BFGS\"\n",
    "    options = {\"disp\": True, \"maxiter\": 50, \"gtol\": 1e-6}\n",
    "\n",
    "    opt = scipy.optimize.minimize(cost, init_theta_list,\n",
    "                   method=method,\n",
    "                   callback=lambda x: cost_history.append(cost(x)))\n",
    "\n",
    "    #print (cost_history)\n",
    "    print (\"Convderged VQE Energy (in hartree)\", cost_history[-1])\n",
    "    return float(cost_history[-1])"
   ]
  },
  {
   "cell_type": "code",
   "execution_count": 36,
   "metadata": {},
   "outputs": [
    {
     "name": "stdout",
     "output_type": "stream",
     "text": [
      "Parsing qchem/AA_TiO2.fcidump\n",
      "Convderged VQE Energy (in hartree) -1296.8174848536626\n",
      "Parsing qchem/TiO2.fcidump\n",
      "Convderged VQE Energy (in hartree) -1252.1088314919496\n",
      "Parsing qchem/AA.fcidump\n",
      "Convderged VQE Energy (in hartree) -44.698057062272134\n"
     ]
    }
   ],
   "source": [
    "ene_aa_tio2 = perform_vqe('qchem/AA_TiO2.fcidump')\n",
    "ene_tio2 = perform_vqe('qchem/TiO2.fcidump')\n",
    "ene_aa = perform_vqe('qchem/AA.fcidump')"
   ]
  },
  {
   "cell_type": "code",
   "execution_count": 38,
   "metadata": {},
   "outputs": [
    {
     "name": "stdout",
     "output_type": "stream",
     "text": [
      "吸着エネルギー (kcal/mol)  6.65\n"
     ]
    }
   ],
   "source": [
    "adsorption_energy = ene_tio2 + ene_aa - ene_aa_tio2\n",
    "print (f\"吸着エネルギー (kcal/mol) {adsorption_energy*627.51:5.2f}\")"
   ]
  },
  {
   "cell_type": "markdown",
   "metadata": {},
   "source": [
    "こうして酢酸のTiO2表面への吸着エネルギーを求めることができた。\n",
    "\n",
    "同様にして、今度は水の20量体から水分子を一つ引き抜くときのエネルギーを計算してみる。\n",
    "\n",
    "その脱離エネルギー $E_{d}$ は、水20量体のエネルギー $E_{(H2O)20}$ と、\n",
    "以下のように水１分子のエネルギー $E_{H2O}$ と水19分子のエネルギー $E_{(H2O)19}$ とを別々に計算し、以下のエネルギーの差として算出できます。\n",
    "$$E_{d}=(E_{(H2O)19}+E_{H2O})-E_{(H2O)20}$$"
   ]
  },
  {
   "cell_type": "code",
   "execution_count": 41,
   "metadata": {},
   "outputs": [
    {
     "data": {
      "application/3dmoljs_load.v0": "<div id=\"3dmolviewer_16626618794681385\"  style=\"position: relative; width: 400px; height: 400px\">\n        <p id=\"3dmolwarning_16626618794681385\" style=\"background-color:#ffcccc;color:black\">You appear to be running in JupyterLab (or JavaScript failed to load for some other reason).  You need to install the 3dmol extension: <br>\n        <tt>jupyter labextension install jupyterlab_3dmol</tt></p>\n        </div>\n<script>\n\nvar loadScriptAsync = function(uri){\n  return new Promise((resolve, reject) => {\n    var tag = document.createElement('script');\n    tag.src = uri;\n    tag.async = true;\n    tag.onload = () => {\n      resolve();\n    };\n  var firstScriptTag = document.getElementsByTagName('script')[0];\n  firstScriptTag.parentNode.insertBefore(tag, firstScriptTag);\n});\n};\n\nif(typeof $3Dmolpromise === 'undefined') {\n$3Dmolpromise = null;\n  $3Dmolpromise = loadScriptAsync('https://cdn.jsdelivr.net/npm/3dmol@latest/build/3Dmol-min.min.js');\n}\n\nvar viewer_16626618794681385 = null;\nvar warn = document.getElementById(\"3dmolwarning_16626618794681385\");\nif(warn) {\n    warn.parentNode.removeChild(warn);\n}\n$3Dmolpromise.then(function() {\nviewer_16626618794681385 = $3Dmol.createViewer($(\"#3dmolviewer_16626618794681385\"),{backgroundColor:\"white\"});\nviewer_16626618794681385.zoomTo();\n\tviewer_16626618794681385.addModel(\"      60\\n i =      188, E =      -336.5871386732\\n  O        11.2506381681        9.3754518810       10.8338609251\\n  H        10.4012123829        9.6693203382       10.4801133545\\n  H        11.3742568791        8.4897689309       10.4721963998\\n  O        12.6040591862       11.4592249496        9.6878374284\\n  H        12.2978355074       10.6573016621       10.1283123935\\n  H        13.0305828747       11.1814510008        8.8728856170\\n  O        13.2287229828       10.4174213447        7.1879905082\\n  H        14.0435092393       10.4387694566        6.6966427979\\n  H        12.9527197306        9.4855406759        7.2442367099\\n  O        11.0424550608        6.9795130735        9.5831351837\\n  H        10.1813858101        7.2154319639        9.2162294911\\n  H        10.8652267295        6.3100825169       10.2492254012\\n  O         8.1247790932       10.5216353705       12.4995069125\\n  H         7.4587379806        9.8481933868       12.6580161432\\n  H         8.9390517872       10.1866611283       12.8951056636\\n  O         6.7967982412        8.0662330313       12.7528125994\\n  H         6.9735302691        7.5842295677       11.9258017737\\n  H         5.9346917909        7.7914163812       13.0493438540\\n  O         7.4989983606        6.5627201814       10.6256603084\\n  H         8.2504860691        6.0265068134       10.8802494793\\n  H         7.7009159319        6.9208208080        9.7601606811\\n  O        10.2075930116       12.4996237675        8.9577418685\\n  H        10.0115526569       13.3079916665        9.4373900731\\n  H        11.0888142183       12.2224587821        9.2345234873\\n  O         8.8543987880       10.3116635459        9.8954560210\\n  H         9.1546676886       11.1496605998        9.5232313531\\n  H         8.4518295893       10.4871491940       10.7546206212\\n  O        10.6656735235       11.2051214953        6.5056019453\\n  H        11.6120335234       11.1272568521        6.6269902952\\n  H        10.3503443012       11.7935021828        7.1929504545\\n  O        11.4574440376       12.2909777685       14.0623606120\\n  H        11.8922910735       12.6363583689       13.2639356052\\n  H        11.9429480494       12.6247907286       14.8099854569\\n  O        12.3961756508       13.3333267190       11.7718400871\\n  H        11.6936209638       13.8798949595       11.4171872876\\n  H        12.6840338293       12.7596677392       11.0596968698\\n  O         9.8958036659        5.5211413590       11.6656851328\\n  H        10.0466778851        4.6531194525       12.0265767319\\n  H         9.7619345959        6.1196824211       12.4216767269\\n  O        12.2418074184        7.9545987899        7.2390601805\\n  H        11.4204220288        7.9826515977        6.7471751506\\n  H        12.0594021445        7.4642977159        8.0421104226\\n  O         9.7917788133        8.6453880320        6.1465001051\\n  H        10.0145425209        9.5840400918        6.2819567986\\n  H         9.4802895750        8.5709408872        5.2497471154\\n  O         8.9580782981       13.1259384386       13.0204718344\\n  H         9.7055988815       12.8707609780       13.5631834682\\n  H         8.4384003008       12.3318903730       12.8834118319\\n  O         9.8966427133       14.4785825139       10.9367987247\\n  H         9.6059812064       15.3840970878       10.9603116717\\n  H         9.4593181634       14.0172224561       11.6732786840\\n  O         8.6459011942        7.9159375215        8.5421360713\\n  H         8.5906021036        8.7909729364        8.9438943327\\n  H         8.8287007321        8.0618183107        7.6108459478\\n  O         9.2713658794        7.1865431927       13.6456359768\\n  H         8.3639953290        7.4738860057       13.5411221096\\n  H         9.7903666771        7.9753285711       13.8086920013\\n  O        10.5202032799        9.6870899633       13.4378579064\\n  H        10.9494836067        9.5306776632       12.5869874649\\n  H        10.9403996798       10.4624639633       13.8204137877\\n\",\"xyz\");\n\tviewer_16626618794681385.setStyle({\"stick\": {}, \"sphere\": {\"scale\": 0.3}});\n\tviewer_16626618794681385.setBackgroundColor(\"#ebf4fb\");\nviewer_16626618794681385.render();\n});\n</script>",
      "text/html": [
       "<div id=\"3dmolviewer_16626618794681385\"  style=\"position: relative; width: 400px; height: 400px\">\n",
       "        <p id=\"3dmolwarning_16626618794681385\" style=\"background-color:#ffcccc;color:black\">You appear to be running in JupyterLab (or JavaScript failed to load for some other reason).  You need to install the 3dmol extension: <br>\n",
       "        <tt>jupyter labextension install jupyterlab_3dmol</tt></p>\n",
       "        </div>\n",
       "<script>\n",
       "\n",
       "var loadScriptAsync = function(uri){\n",
       "  return new Promise((resolve, reject) => {\n",
       "    var tag = document.createElement('script');\n",
       "    tag.src = uri;\n",
       "    tag.async = true;\n",
       "    tag.onload = () => {\n",
       "      resolve();\n",
       "    };\n",
       "  var firstScriptTag = document.getElementsByTagName('script')[0];\n",
       "  firstScriptTag.parentNode.insertBefore(tag, firstScriptTag);\n",
       "});\n",
       "};\n",
       "\n",
       "if(typeof $3Dmolpromise === 'undefined') {\n",
       "$3Dmolpromise = null;\n",
       "  $3Dmolpromise = loadScriptAsync('https://cdn.jsdelivr.net/npm/3dmol@latest/build/3Dmol-min.min.js');\n",
       "}\n",
       "\n",
       "var viewer_16626618794681385 = null;\n",
       "var warn = document.getElementById(\"3dmolwarning_16626618794681385\");\n",
       "if(warn) {\n",
       "    warn.parentNode.removeChild(warn);\n",
       "}\n",
       "$3Dmolpromise.then(function() {\n",
       "viewer_16626618794681385 = $3Dmol.createViewer($(\"#3dmolviewer_16626618794681385\"),{backgroundColor:\"white\"});\n",
       "viewer_16626618794681385.zoomTo();\n",
       "\tviewer_16626618794681385.addModel(\"      60\\n i =      188, E =      -336.5871386732\\n  O        11.2506381681        9.3754518810       10.8338609251\\n  H        10.4012123829        9.6693203382       10.4801133545\\n  H        11.3742568791        8.4897689309       10.4721963998\\n  O        12.6040591862       11.4592249496        9.6878374284\\n  H        12.2978355074       10.6573016621       10.1283123935\\n  H        13.0305828747       11.1814510008        8.8728856170\\n  O        13.2287229828       10.4174213447        7.1879905082\\n  H        14.0435092393       10.4387694566        6.6966427979\\n  H        12.9527197306        9.4855406759        7.2442367099\\n  O        11.0424550608        6.9795130735        9.5831351837\\n  H        10.1813858101        7.2154319639        9.2162294911\\n  H        10.8652267295        6.3100825169       10.2492254012\\n  O         8.1247790932       10.5216353705       12.4995069125\\n  H         7.4587379806        9.8481933868       12.6580161432\\n  H         8.9390517872       10.1866611283       12.8951056636\\n  O         6.7967982412        8.0662330313       12.7528125994\\n  H         6.9735302691        7.5842295677       11.9258017737\\n  H         5.9346917909        7.7914163812       13.0493438540\\n  O         7.4989983606        6.5627201814       10.6256603084\\n  H         8.2504860691        6.0265068134       10.8802494793\\n  H         7.7009159319        6.9208208080        9.7601606811\\n  O        10.2075930116       12.4996237675        8.9577418685\\n  H        10.0115526569       13.3079916665        9.4373900731\\n  H        11.0888142183       12.2224587821        9.2345234873\\n  O         8.8543987880       10.3116635459        9.8954560210\\n  H         9.1546676886       11.1496605998        9.5232313531\\n  H         8.4518295893       10.4871491940       10.7546206212\\n  O        10.6656735235       11.2051214953        6.5056019453\\n  H        11.6120335234       11.1272568521        6.6269902952\\n  H        10.3503443012       11.7935021828        7.1929504545\\n  O        11.4574440376       12.2909777685       14.0623606120\\n  H        11.8922910735       12.6363583689       13.2639356052\\n  H        11.9429480494       12.6247907286       14.8099854569\\n  O        12.3961756508       13.3333267190       11.7718400871\\n  H        11.6936209638       13.8798949595       11.4171872876\\n  H        12.6840338293       12.7596677392       11.0596968698\\n  O         9.8958036659        5.5211413590       11.6656851328\\n  H        10.0466778851        4.6531194525       12.0265767319\\n  H         9.7619345959        6.1196824211       12.4216767269\\n  O        12.2418074184        7.9545987899        7.2390601805\\n  H        11.4204220288        7.9826515977        6.7471751506\\n  H        12.0594021445        7.4642977159        8.0421104226\\n  O         9.7917788133        8.6453880320        6.1465001051\\n  H        10.0145425209        9.5840400918        6.2819567986\\n  H         9.4802895750        8.5709408872        5.2497471154\\n  O         8.9580782981       13.1259384386       13.0204718344\\n  H         9.7055988815       12.8707609780       13.5631834682\\n  H         8.4384003008       12.3318903730       12.8834118319\\n  O         9.8966427133       14.4785825139       10.9367987247\\n  H         9.6059812064       15.3840970878       10.9603116717\\n  H         9.4593181634       14.0172224561       11.6732786840\\n  O         8.6459011942        7.9159375215        8.5421360713\\n  H         8.5906021036        8.7909729364        8.9438943327\\n  H         8.8287007321        8.0618183107        7.6108459478\\n  O         9.2713658794        7.1865431927       13.6456359768\\n  H         8.3639953290        7.4738860057       13.5411221096\\n  H         9.7903666771        7.9753285711       13.8086920013\\n  O        10.5202032799        9.6870899633       13.4378579064\\n  H        10.9494836067        9.5306776632       12.5869874649\\n  H        10.9403996798       10.4624639633       13.8204137877\\n\",\"xyz\");\n",
       "\tviewer_16626618794681385.setStyle({\"stick\": {}, \"sphere\": {\"scale\": 0.3}});\n",
       "\tviewer_16626618794681385.setBackgroundColor(\"#ebf4fb\");\n",
       "viewer_16626618794681385.render();\n",
       "});\n",
       "</script>"
      ]
     },
     "metadata": {},
     "output_type": "display_data"
    }
   ],
   "source": [
    "visualize_mole(\"qchem/WAT_20.xyz\")"
   ]
  },
  {
   "cell_type": "code",
   "execution_count": 45,
   "metadata": {},
   "outputs": [
    {
     "name": "stdout",
     "output_type": "stream",
     "text": [
      "Parsing qchem/WAT_20.fcidump\n",
      "Convderged VQE Energy (in hartree) -336.5062572780178\n",
      "Parsing qchem/WAT_19.fcidump\n",
      "Convderged VQE Energy (in hartree) -319.6718304714442\n",
      "Parsing qchem/WAT_1.fcidump\n",
      "Convderged VQE Energy (in hartree) -16.808261603766944\n"
     ]
    }
   ],
   "source": [
    "ene_h2o_20 = perform_vqe('qchem/WAT_20.fcidump')\n",
    "ene_h2o_19 = perform_vqe('qchem/WAT_19.fcidump')\n",
    "ene_h2o = perform_vqe('qchem/WAT_1.fcidump')"
   ]
  },
  {
   "cell_type": "code",
   "execution_count": 46,
   "metadata": {},
   "outputs": [
    {
     "name": "stdout",
     "output_type": "stream",
     "text": [
      "水分子の脱離エネルギー (kcal/mol) 16.42\n"
     ]
    }
   ],
   "source": [
    "e_d = ene_h2o_19 + ene_h2o - ene_h2o_20\n",
    "print (f\"水分子の脱離エネルギー (kcal/mol) {e_d*627.51:5.2f}\")"
   ]
  },
  {
   "cell_type": "markdown",
   "metadata": {},
   "source": [
    "このように活性空間という概念を導入することで、より化学らしいシステムを計算することが可能となる。\n",
    "活性空間は近似であるが、量子コンピュータを使うことで、現在の古典コンピュータでは取り扱えないサイズの活性空間を顕に考慮できるのではないかと期待されている。"
   ]
  },
  {
   "cell_type": "code",
   "execution_count": null,
   "metadata": {},
   "outputs": [],
   "source": []
  }
 ],
 "metadata": {
  "colab": {
   "collapsed_sections": [],
   "name": "12_compute_groud_state_of_molecule_using_vqe.ipynb ",
   "provenance": []
  },
  "instance_type": "ml.t3.medium",
  "kernelspec": {
   "display_name": "Python 3 (Data Science)",
   "language": "python",
   "name": "python3__SAGEMAKER_INTERNAL__arn:aws:sagemaker:us-west-1:742091327244:image/datascience-1.0"
  },
  "language_info": {
   "codemirror_mode": {
    "name": "ipython",
    "version": 3
   },
   "file_extension": ".py",
   "mimetype": "text/x-python",
   "name": "python",
   "nbconvert_exporter": "python",
   "pygments_lexer": "ipython3",
   "version": "3.7.10"
  }
 },
 "nbformat": 4,
 "nbformat_minor": 4
}
