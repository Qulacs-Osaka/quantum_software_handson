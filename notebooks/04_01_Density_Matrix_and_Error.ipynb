{
 "cells": [
  {
   "cell_type": "code",
   "execution_count": 1,
   "id": "4992a35f",
   "metadata": {},
   "outputs": [],
   "source": [
    "#!pip install qulacs\n",
    "#!pip install qulacsvis\n",
    "#!pip install matplotlib\n",
    "#!pip install numpy\n",
    "#!pip install scipy"
   ]
  },
  {
   "cell_type": "code",
   "execution_count": 2,
   "id": "37b774db",
   "metadata": {},
   "outputs": [],
   "source": [
    "import matplotlib.pyplot as plt\n",
    "import numpy as np\n",
    "from qulacs import Observable, QuantumState, DensityMatrix, GeneralQuantumOperator\n",
    "from qulacs.gate import  X, H, Z, DepolarizingNoise, DephasingNoise, AmplitudeDampingNoise, TwoQubitDepolarizingNoise, NoisyEvolution_fast"
   ]
  },
  {
   "cell_type": "markdown",
   "id": "2d9c21ef",
   "metadata": {},
   "source": [
    "#  Qulacsでの混合状態\n",
    "## DensityMatrixクラス：qulacsでの密度演算子（混合状態）の取り扱い\n",
    "\n",
    "- 量子状態（密度演算子）の準備\n",
    "- 密度演算子をnumpyのarrayに変換、あるいはその逆：`get_matrix()`, `load()`\n",
    "- いくつかのエラー：`DepolarizingNoise`など\n",
    "- 計算基底でのサンプリング：`sampling()`\n",
    "- Lindblad方程式のシミュレーション：`NoisyEvolution_fast()`"
   ]
  },
  {
   "cell_type": "markdown",
   "id": "050c3505",
   "metadata": {},
   "source": [
    "## 量子状態（密度演算子）の準備"
   ]
  },
  {
   "cell_type": "code",
   "execution_count": 3,
   "id": "1cb204ce",
   "metadata": {},
   "outputs": [
    {
     "name": "stdout",
     "output_type": "stream",
     "text": [
      " *** Density Matrix ***\n",
      " * Qubit Count : 1\n",
      " * Dimension   : 2\n",
      " * Density matrix : \n",
      "(1,0) (0,0)\n",
      "(0,0) (0,0)\n",
      "\n"
     ]
    }
   ],
   "source": [
    "#密度演算子を準備\n",
    "n_qubits = 1\n",
    "density_matrix = DensityMatrix(n_qubits)\n",
    "print(density_matrix)"
   ]
  },
  {
   "cell_type": "markdown",
   "id": "6fb7b21e",
   "metadata": {},
   "source": [
    "## 密度演算子をnumpyのarrayに変換、あるいはその逆：`get_matrix()`, `load()`"
   ]
  },
  {
   "cell_type": "code",
   "execution_count": 4,
   "id": "e17f3229",
   "metadata": {},
   "outputs": [
    {
     "name": "stdout",
     "output_type": "stream",
     "text": [
      " *** Density Matrix ***\n",
      " * Qubit Count : 1\n",
      " * Dimension   : 2\n",
      " * Density matrix : \n",
      "(0.5,0) (0.5,0)\n",
      "(0.5,0) (0.5,0)\n",
      "\n",
      "[[0.5+0.j 0.5+0.j]\n",
      " [0.5+0.j 0.5+0.j]]\n"
     ]
    }
   ],
   "source": [
    "#numpy arrayからqulacsのDensityMatrixへ変換\n",
    "mat = np.array([[0.5, 0.5], [0.5, 0.5]])\n",
    "density_matrix.load(mat)\n",
    "print(density_matrix)\n",
    "\n",
    "dm = density_matrix.get_matrix()\n",
    "print(dm)"
   ]
  },
  {
   "cell_type": "markdown",
   "id": "2a44e446",
   "metadata": {},
   "source": [
    "※上の量子状態は、実は純粋状態$|+\\rangle$である。$|+\\rangle\\langle+|$を表示してみれば一致することが確認できる。"
   ]
  },
  {
   "cell_type": "markdown",
   "id": "f735ef7b",
   "metadata": {},
   "source": [
    "## いくつかのエラー：`DepolarizingNoise`など"
   ]
  },
  {
   "cell_type": "markdown",
   "id": "9511e727",
   "metadata": {},
   "source": [
    "Depolarizing noise: $\\mathcal{E}[\\rho]=(1-p)\\rho+\\frac{p}{3} (X\\rho X+Y\\rho Y+Z\\rho Z)$ ($0\\le p \\le 0.75$)"
   ]
  },
  {
   "cell_type": "code",
   "execution_count": 5,
   "id": "eafa1ac0",
   "metadata": {},
   "outputs": [
    {
     "name": "stdout",
     "output_type": "stream",
     "text": [
      " *** Density Matrix ***\n",
      " * Qubit Count : 1\n",
      " * Dimension   : 2\n",
      " * Density matrix : \n",
      "(0.5,0) (0.4,0)\n",
      "(0.4,0) (0.5,0)\n",
      "\n"
     ]
    }
   ],
   "source": [
    "#depolarizing noiseを作用\n",
    "p = 0.15\n",
    "gate = DepolarizingNoise(0, p)\n",
    "gate.update_quantum_state(density_matrix)\n",
    "print(density_matrix)"
   ]
  },
  {
   "cell_type": "markdown",
   "id": "c0199382",
   "metadata": {},
   "source": [
    "Dephasing noise: $\\mathcal{E}[\\rho]=(1-p)\\rho +p Z\\rho Z$ ($0\\le p \\le 0.5$)"
   ]
  },
  {
   "cell_type": "code",
   "execution_count": 6,
   "id": "22f538bc",
   "metadata": {},
   "outputs": [
    {
     "name": "stdout",
     "output_type": "stream",
     "text": [
      " *** Density Matrix ***\n",
      " * Qubit Count : 1\n",
      " * Dimension   : 2\n",
      " * Density matrix : \n",
      "(0.5,0) (0.2,0)\n",
      "(0.2,0) (0.5,0)\n",
      "\n"
     ]
    }
   ],
   "source": [
    "#dephasing noiseを作用\n",
    "density_matrix.load(mat)\n",
    "\n",
    "p=0.3\n",
    "gate = DephasingNoise(0, p)\n",
    "gate.update_quantum_state(density_matrix)\n",
    "print(density_matrix)"
   ]
  },
  {
   "cell_type": "code",
   "execution_count": 7,
   "id": "f4c43517-7815-4984-bff2-3fd5976babe5",
   "metadata": {},
   "outputs": [
    {
     "name": "stdout",
     "output_type": "stream",
     "text": [
      " *** Density Matrix ***\n",
      " * Qubit Count : 2\n",
      " * Dimension   : 4\n",
      " * Density matrix : \n",
      "(0.81,0)    (0,0)    (0,0)    (0,0)\n",
      "   (0,0) (0.09,0)    (0,0)    (0,0)\n",
      "   (0,0)    (0,0) (0.09,0)    (0,0)\n",
      "   (0,0)    (0,0)    (0,0) (0.01,0)\n",
      "\n"
     ]
    }
   ],
   "source": [
    "#２量子ビットの場合：depolarizing noiseを作用\n",
    "density_matrix2 = DensityMatrix(2)\n",
    "p = 0.15\n",
    "gate = DepolarizingNoise(0, p)\n",
    "gate.update_quantum_state(density_matrix2)\n",
    "gate = DepolarizingNoise(1, p)\n",
    "gate.update_quantum_state(density_matrix2)\n",
    "print(density_matrix2)"
   ]
  },
  {
   "cell_type": "markdown",
   "id": "0be5f6f4",
   "metadata": {},
   "source": [
    "密度演算子で期待値を求めたい場合は、状態ベクトルの場合と同じく`get_expectation_value(state)`を使えばOK"
   ]
  },
  {
   "cell_type": "code",
   "execution_count": 8,
   "id": "0dc67480",
   "metadata": {},
   "outputs": [
    {
     "name": "stdout",
     "output_type": "stream",
     "text": [
      " *** Density Matrix ***\n",
      " * Qubit Count : 1\n",
      " * Dimension   : 2\n",
      " * Density matrix : \n",
      "   (0.575,0) (0.460977,0)\n",
      "(0.460977,0)    (0.425,0)\n",
      "\n",
      "0.1499999999999999\n"
     ]
    }
   ],
   "source": [
    "#Amplitude damping noiseを作用させた後、Zの期待値を計算\n",
    "density_matrix.load(mat)\n",
    "\n",
    "#Amplitude damping noiseを作用\n",
    "p=0.15\n",
    "gate = AmplitudeDampingNoise(0, p)\n",
    "gate.update_quantum_state(density_matrix)\n",
    "\n",
    "#Zの期待値を計算\n",
    "Z0 = Observable(n_qubits)\n",
    "Z0.add_operator(1.0, \"Z 0\")\n",
    "expec = Z0.get_expectation_value(density_matrix)\n",
    "print(density_matrix)\n",
    "print(expec)"
   ]
  },
  {
   "cell_type": "markdown",
   "id": "f7703d01",
   "metadata": {},
   "source": [
    "Depolarizing noiseのようなエラーを表す操作を、qulacs上で状態ベクトル（純粋状態）に作用させると、確率的にエラーが作用した状態ベクトルを返す。\n",
    "例えば、Depolarizing noiseだと、確率$(1-p)$で入力した状態をそのまま返し、確率$p/3$でそれぞれX、Y、Zゲートが作用した状態が確率的に得られる。\n",
    "実行するたびにランダムに状態ベクトルが選ばれることに注意。"
   ]
  },
  {
   "cell_type": "code",
   "execution_count": 9,
   "id": "f3fb7bb7",
   "metadata": {},
   "outputs": [
    {
     "name": "stdout",
     "output_type": "stream",
     "text": [
      "[0.+0.j 1.+0.j]\n",
      "[0.+0.j 1.+0.j]\n",
      "[1.+0.j 0.+0.j]\n"
     ]
    }
   ],
   "source": [
    "#状態ベクトルにDepolarizingNoiseなどを作用させると、確率的に状態ベクトルが得られる\n",
    "state = QuantumState(n_qubits)\n",
    "vec = np.array([0.0,1.0])\n",
    "\n",
    "p=0.5\n",
    "gate = DepolarizingNoise(0, p)\n",
    "\n",
    "#状態ベクトルvecを用意→DepolarizingNoiseを複数回作用させてみる\n",
    "for i in range(3):\n",
    "    state.load(vec)\n",
    "    gate.update_quantum_state(state)\n",
    "    print(state.get_vector())"
   ]
  },
  {
   "cell_type": "markdown",
   "id": "dce7a8d3-8eda-49f9-9c9e-01b108d81c93",
   "metadata": {},
   "source": [
    "確率的に選ばれるため、ノイズが作用した状況のもとで所望の量（期待値など）を求めるためには、同じ計算を何度も実行して平均する必要がある（密度演算子から期待値を計算する場合は、平均操作は不要）。\n",
    "こちらは、量子ビット数が20前後の大規模なシミュレーションを行なう際に用いる。"
   ]
  },
  {
   "cell_type": "markdown",
   "id": "163f25cc",
   "metadata": {},
   "source": [
    "## 計算基底でのサンプリング：`sampling()`"
   ]
  },
  {
   "cell_type": "code",
   "execution_count": 10,
   "id": "7d7f5cc7",
   "metadata": {},
   "outputs": [
    {
     "name": "stdout",
     "output_type": "stream",
     "text": [
      "[0, 1, 0, 0, 0, 0, 0, 0, 0, 0, 0, 0, 1, 0, 1, 1, 0, 0, 0, 1]\n",
      " *** Density Matrix ***\n",
      " * Qubit Count : 1\n",
      " * Dimension   : 2\n",
      " * Density matrix : \n",
      "(0.9,0)   (0,0)\n",
      "  (0,0) (0.1,0)\n",
      "\n"
     ]
    }
   ],
   "source": [
    "#密度演算子からサンプリング\n",
    "shots = 20\n",
    "mat2 = np.array([[0.9, 0.0], [0.0, 0.1]])\n",
    "density_matrix.load(mat2)\n",
    "noiseless_sampling = density_matrix.sampling(shots)\n",
    "\n",
    "print(noiseless_sampling)\n",
    "print(density_matrix)"
   ]
  },
  {
   "cell_type": "markdown",
   "id": "193a1818-fc08-430c-9a9e-92056cb74840",
   "metadata": {},
   "source": [
    "`sampling()`を用いることで、密度演算子から計算基底におけるサンプリングの結果を得ることが出来る。言い換えると、密度演算子の対角項に応じた確率分布でサンプリングを行なう、ということである。"
   ]
  },
  {
   "cell_type": "code",
   "execution_count": 11,
   "id": "254ed176-4639-42f4-a98c-8b5672051dce",
   "metadata": {},
   "outputs": [
    {
     "name": "stdout",
     "output_type": "stream",
     "text": [
      "0.7800000000000005\n",
      "0.8\n"
     ]
    }
   ],
   "source": [
    "#サンプリングにより物理量Zの平均値を求める\n",
    "shots = 100\n",
    "\n",
    "#エラーなしの場合\n",
    "noiseless_sampling = density_matrix.sampling(shots)\n",
    "\n",
    "estimated_Z_average = 0.0\n",
    "#物理量Zのサンプリングからの平均値は、測定結果がゼロのときは＋１、測定結果が１のときは－１を加える→サンプリング回数で割る、のようにして求める\n",
    "for i in range(shots):\n",
    "    estimated_Z_average += (-2*noiseless_sampling[i]+1)/shots\n",
    "\n",
    "#物理量Zの期待値とサンプリングからの平均値を比較してみる\n",
    "print(estimated_Z_average)\n",
    "print(Z0.get_expectation_value(density_matrix))"
   ]
  },
  {
   "cell_type": "code",
   "execution_count": 12,
   "id": "d4ca360f-dc8d-4379-acb9-c9dc3462b743",
   "metadata": {},
   "outputs": [],
   "source": [
    "#ヒストグラムを作成\n",
    "n_test = 500\n",
    "shots = 500\n",
    "noiseless_list = np.zeros(n_test)\n",
    "\n",
    "for i in range(n_test):\n",
    "    noiseless_sampling = density_matrix.sampling(shots)\n",
    "    estimated_Z_average = 0.0\n",
    "    for j in range(shots):\n",
    "        estimated_Z_average += (-2*noiseless_sampling[j]+1)/shots\n",
    "    noiseless_list[i] = estimated_Z_average\n",
    "noiseless_expec_value = Z0.get_expectation_value(density_matrix)"
   ]
  },
  {
   "cell_type": "code",
   "execution_count": 13,
   "id": "95b87226-3013-4075-9633-0925c1225995",
   "metadata": {},
   "outputs": [
    {
     "data": {
      "image/png": "[encoded data removed]",
      "text/plain": [
       "<Figure size 432x288 with 1 Axes>"
      ]
     },
     "metadata": {
      "needs_background": "light"
     },
     "output_type": "display_data"
    }
   ],
   "source": [
    "plt.hist(noiseless_list, alpha=0.2, bins=20, label=f\"Noiseless\")\n",
    "plt.axvline(noiseless_expec_value, color=\"black\")\n",
    "plt.legend(loc=\"upper left\", fontsize=13)\n",
    "plt.show()"
   ]
  },
  {
   "cell_type": "code",
   "execution_count": 14,
   "id": "db3eac45-5035-46df-8511-da7146400dad",
   "metadata": {},
   "outputs": [
    {
     "name": "stdout",
     "output_type": "stream",
     "text": [
      "0.34000000000000014\n",
      "0.48\n"
     ]
    }
   ],
   "source": [
    "#サンプリングにより物理量の平均値を求める\n",
    "shots = 100\n",
    "\n",
    "#エラーありの場合\n",
    "p = 0.3\n",
    "gate = DepolarizingNoise(0, p)\n",
    "gate.update_quantum_state(density_matrix)\n",
    "noise_sampling = density_matrix.sampling(shots)\n",
    "\n",
    "estimated_Z_average = 0.0\n",
    "#物理量Zのサンプリングからの平均値は、測定結果がゼロのときは＋１、測定結果が１のときは－１を加える→サンプリング回数で割る、のようにして求める\n",
    "for i in range(shots):\n",
    "    estimated_Z_average += (-2*noise_sampling[i]+1)/shots\n",
    "\n",
    "#物理量Zの期待値とサンプリングからの平均値を比較してみる\n",
    "print(estimated_Z_average)\n",
    "print(Z0.get_expectation_value(density_matrix))"
   ]
  },
  {
   "cell_type": "code",
   "execution_count": 15,
   "id": "ce0d511d-a220-4bb1-a0ae-bc27e3e1b890",
   "metadata": {},
   "outputs": [],
   "source": [
    "#ヒストグラムを作成\n",
    "n_test = 500\n",
    "shots = 500\n",
    "noisy_list = np.zeros(n_test)\n",
    "\n",
    "for i in range(n_test):\n",
    "    noisy_sampling = density_matrix.sampling(shots)\n",
    "    estimated_Z_average = 0.0\n",
    "    for j in range(shots):\n",
    "        estimated_Z_average += (-2*noisy_sampling[j]+1)/shots\n",
    "    noisy_list[i] = estimated_Z_average\n",
    "noisy_expec_value = Z0.get_expectation_value(density_matrix)"
   ]
  },
  {
   "cell_type": "code",
   "execution_count": 16,
   "id": "bc619399-65f6-4ce6-af68-1a44a6a517c4",
   "metadata": {},
   "outputs": [
    {
     "data": {
      "image/png": "[encoded data removed]",
      "text/plain": [
       "<Figure size 432x288 with 1 Axes>"
      ]
     },
     "metadata": {
      "needs_background": "light"
     },
     "output_type": "display_data"
    }
   ],
   "source": [
    "plt.hist(noiseless_list, alpha=0.2, bins=20, label=f\"Noiseless\")\n",
    "plt.hist(noisy_list, alpha=0.2, bins=20, label=f\"Noisy\")\n",
    "plt.axvline(noiseless_expec_value, color=\"black\")\n",
    "plt.axvline(noisy_expec_value, color=\"red\")\n",
    "plt.legend(loc=\"upper left\", fontsize=13)\n",
    "plt.show()"
   ]
  },
  {
   "cell_type": "code",
   "execution_count": 17,
   "id": "0742082f-1f82-4527-8d1f-56d41abd9aa6",
   "metadata": {},
   "outputs": [
    {
     "name": "stdout",
     "output_type": "stream",
     "text": [
      "[0, 0, 0, 0, 0, 0, 0, 3, 0, 0, 2, 0, 3, 2, 0, 0, 2, 0, 3, 2, 0, 0, 0, 3, 2, 0, 2, 0, 2, 0]\n",
      " *** Density Matrix ***\n",
      " * Qubit Count : 2\n",
      " * Dimension   : 4\n",
      " * Density matrix : \n",
      "(0.5,0)   (0,0)   (0,0)   (0,0)\n",
      "  (0,0)   (0,0)   (0,0)   (0,0)\n",
      "  (0,0)   (0,0) (0.3,0)   (0,0)\n",
      "  (0,0)   (0,0)   (0,0) (0.2,0)\n",
      "\n"
     ]
    }
   ],
   "source": [
    "#２量子ビットの場合の密度演算子からサンプリング\n",
    "shots = 30\n",
    "mat3 = np.array([[0.5, 0.0, 0.0, 0.0], [0.0, 0.0, 0.0, 0.0], [0.0, 0.0, 0.3, 0.0], [0.0, 0.0, 0.0, 0.2]])\n",
    "density_matrix2.load(mat3)\n",
    "noiseless_sampling2 = density_matrix2.sampling(shots)\n",
    "\n",
    "print(noiseless_sampling2)\n",
    "print(density_matrix2)"
   ]
  },
  {
   "cell_type": "markdown",
   "id": "7d33fccf-26e1-4c1b-bc2e-3a0339ebb989",
   "metadata": {},
   "source": [
    "測定結果はゼロ以上の整数（上の例なら、0, 2, 3のどれか）が得られる。２進数表示したときのビット列が、各量子ビットの測定結果に対応している。\n",
    "２量子ビットの場合は以下の通り。\n",
    "\\begin{align}\n",
    "0 &\\rightarrow 00\\\\\n",
    "1 &\\rightarrow 01\\\\\n",
    "2 &\\rightarrow 10\\\\\n",
    "3 &\\rightarrow 11\\\\\n",
    "\\end{align}"
   ]
  },
  {
   "cell_type": "markdown",
   "id": "7e2a93da-9996-4d03-9f56-7fc148dfef6c",
   "metadata": {},
   "source": [
    "## Lindblad方程式のシミュレーション：`NoisyEvolution_fast()`"
   ]
  },
  {
   "cell_type": "markdown",
   "id": "d1e19b08-7049-41b2-a189-c2ed1b392364",
   "metadata": {},
   "source": [
    "環境からの影響を取り入れた量子開放系のダイナミクスのシミュレーションを行なう。\n",
    "方程式は以下の通り。\n",
    "\\begin{align}\n",
    "\\frac{d}{dt} \\rho(t) = -i[H,\\rho(t)] +\\sum_k \\left(L_k \\rho(t) L_k^\\dagger -\\frac{1}{2}L_k^\\dagger L_k \\rho(t)-\\frac{1}{2} \\rho(t)L_k^\\dagger L_k\\right).\n",
    "\\end{align}\n",
    "ここで、$\\rho(t)$は時刻$t$における系の密度演算子、$H$はハミルトニアン、$L_k$はリンドブラッド演算子である。\n",
    "簡単な例として、以下の１量子ビット系の場合を考える。\n",
    "\\begin{align}\n",
    "\\frac{d}{dt} \\rho(t) = -iJ[Z,\\rho(t)] +\\gamma \\left(Z \\rho(t) Z -\\rho(t)\\right).\n",
    "\\end{align}\n",
    "$H=JZ$, $L_k = \\sqrt{\\gamma}Z$として、$k$は一つだけの場合をシミュレーションする。\n",
    "初期状態は$|+\\rangle$として時間発展した場合、時刻$t$における物理量$X$の期待値は以下のようになる。\n",
    "\\begin{align}\n",
    "\\langle X\\rangle_t = e^{-2\\gamma t} \\cos{2Jt}\n",
    "\\end{align}"
   ]
  },
  {
   "cell_type": "code",
   "execution_count": 18,
   "id": "07477ed5-5733-4b77-b258-d645a8eaca97",
   "metadata": {},
   "outputs": [],
   "source": [
    "#qulacsを使ったLindblad方程式のシミュレーション\n",
    "n = 1\n",
    "T = 1.5\n",
    "element = 20\n",
    "tlist = np.linspace(0, T, element)\n",
    "\n",
    "#物理量はXにする\n",
    "observable = Observable(n)\n",
    "observable.add_operator(1., \"X 0\")\n",
    "\n",
    "#HamiltonianはZとする\n",
    "hamiltonian = Observable(n)\n",
    "J = 5.0\n",
    "hamiltonian.add_operator(J, \"Z 0 \")\n",
    "\n",
    "#Lindblad演算子を指定\n",
    "decay_rate_z = np.sqrt(0.4)\n",
    "c_ops = [GeneralQuantumOperator(n) for _ in range(n)]\n",
    "c_ops[0].add_operator(decay_rate_z, \"Z 0\")\n",
    "\n",
    "#期待値をサンプリングにより求める\n",
    "n_samples = 5000\n",
    "state = QuantumState(n)\n",
    "exp_list = []\n",
    "exp2_list = []\n",
    "for t in tlist:\n",
    "    exp = np.zeros(n_samples)\n",
    "    for i in range(n_samples):\n",
    "        state.set_zero_state()\n",
    "        H(0).update_quantum_state(state)\n",
    "        gate = NoisyEvolution_fast(hamiltonian, c_ops, t)\n",
    "        gate.update_quantum_state(state)\n",
    "        exp[i] = observable.get_expectation_value(state)\n",
    "    exp_list.append(np.average(exp))\n",
    "    exp2_list.append(np.std(exp))"
   ]
  },
  {
   "cell_type": "code",
   "execution_count": 19,
   "id": "fdb848d9-0b9a-4fce-a9d1-d8c64cf11648",
   "metadata": {},
   "outputs": [
    {
     "data": {
      "image/png": "[encoded data removed]",
      "text/plain": [
       "<Figure size 432x288 with 1 Axes>"
      ]
     },
     "metadata": {
      "needs_background": "light"
     },
     "output_type": "display_data"
    }
   ],
   "source": [
    "plt.figure()\n",
    "plt.errorbar(tlist, exp_list, exp2_list, capsize=5, fmt='o',label=f\"sampling\")\n",
    "plt.plot(tlist,np.exp(-2.0*decay_rate_z*tlist)*np.cos(2.0*J*tlist),label=f\"exact\")\n",
    "plt.ylabel(\"Expectation values\")\n",
    "plt.xlabel(\"Time\")\n",
    "plt.legend()\n",
    "plt.show()"
   ]
  },
  {
   "cell_type": "markdown",
   "id": "bdaba8bf",
   "metadata": {
    "jp-MarkdownHeadingCollapsed": true,
    "tags": []
   },
   "source": [
    "## 練習\n",
    "- ２つの量子状態（純粋状態$|\\psi\\rangle=\\sqrt{\\frac{3}{4}}|0\\rangle+\\sqrt{\\frac{1}{4}}|1\\rangle$、混合状態$\\rho=\\frac{3}{4}|0\\rangle\\langle0|+\\frac{1}{4}|1\\rangle\\langle1|$）に対して、物理量の期待値XとZを求めてみましょう。\n",
    "- ２量子ビットの場合で、ノイズが作用した状態（密度演算子）を作成してみましょう。`DepolarizingNoise`が１量子ビット目と２量子ビット目に作用した状態と、`TwoQubitDepolarizingNoise`が作用した状態が一般に異なることを確認してください。"
   ]
  },
  {
   "cell_type": "markdown",
   "id": "ad837111",
   "metadata": {},
   "source": [
    "## 補足：\n",
    "変分量子アルゴリズムなどでは、`QuantumCircuit,  ParametricQuantumCircuit`を使いますが、このとき`circuit.add_gate(DepolarizingNoise(0, 0.15))`のように使えばOK。"
   ]
  },
  {
   "cell_type": "code",
   "execution_count": 20,
   "id": "14535b04",
   "metadata": {},
   "outputs": [
    {
     "name": "stdout",
     "output_type": "stream",
     "text": [
      " *** Density Matrix ***\n",
      " * Qubit Count : 1\n",
      " * Dimension   : 2\n",
      " * Density matrix : \n",
      "(0.5,0) (0.4,0)\n",
      "(0.4,0) (0.5,0)\n",
      "\n"
     ]
    }
   ],
   "source": [
    "from qulacs import QuantumCircuit,  ParametricQuantumCircuit\n",
    "\n",
    "n_qubits = 1\n",
    "p = 0.15\n",
    "density_matrix.load(mat)\n",
    "circuit = QuantumCircuit(n_qubits)\n",
    "circuit.add_gate(DepolarizingNoise(0, p))\n",
    "circuit.update_quantum_state(density_matrix)\n",
    "print(density_matrix)"
   ]
  },
  {
   "cell_type": "code",
   "execution_count": 21,
   "id": "049c1f86",
   "metadata": {},
   "outputs": [
    {
     "name": "stdout",
     "output_type": "stream",
     "text": [
      " *** Density Matrix ***\n",
      " * Qubit Count : 1\n",
      " * Dimension   : 2\n",
      " * Density matrix : \n",
      "(0.5,0) (0.4,0)\n",
      "(0.4,0) (0.5,0)\n",
      "\n"
     ]
    }
   ],
   "source": [
    "density_matrix.load(mat)\n",
    "n_qubits = 1\n",
    "p = 0.15\n",
    "Parametric_circuit = ParametricQuantumCircuit(n_qubits)\n",
    "Parametric_circuit.add_gate(DepolarizingNoise(0, 0.15))\n",
    "Parametric_circuit.update_quantum_state(density_matrix)\n",
    "print(density_matrix)"
   ]
  },
  {
   "cell_type": "code",
   "execution_count": null,
   "id": "b022adfa",
   "metadata": {},
   "outputs": [],
   "source": []
  }
 ],
 "metadata": {
  "kernelspec": {
   "display_name": "Python 3 (ipykernel)",
   "language": "python",
   "name": "python3"
  },
  "language_info": {
   "codemirror_mode": {
    "name": "ipython",
    "version": 3
   },
   "file_extension": ".py",
   "mimetype": "text/x-python",
   "name": "python",
   "nbconvert_exporter": "python",
   "pygments_lexer": "ipython3",
   "version": "3.9.7"
  }
 },
 "nbformat": 4,
 "nbformat_minor": 5
}
