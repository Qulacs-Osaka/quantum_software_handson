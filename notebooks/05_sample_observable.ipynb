{
 "cells": [
  {
   "cell_type": "code",
   "execution_count": null,
   "id": "5dd737b0-5a92-4836-a978-3615a5f71381",
   "metadata": {},
   "outputs": [],
   "source": [
    "#!pip install qulacs\n",
    "#!pip install circuit_drawer\n",
    "#!pip install matplotlib\n",
    "#!pip install numpy\n",
    "#!pip install scipy"
   ]
  },
  {
   "cell_type": "code",
   "execution_count": 1,
   "id": "5d7971dd-f888-4819-a30a-ff64e8dadb4c",
   "metadata": {},
   "outputs": [],
   "source": [
    "from qulacs import Observable, QuantumState, QuantumCircuit\n",
    "from qulacsvis import circuit_drawer\n",
    "import numpy as np\n",
    "import matplotlib.pyplot as plt"
   ]
  },
  {
   "cell_type": "markdown",
   "id": "3f991249-17cf-45d8-9142-5bde6ea7b383",
   "metadata": {},
   "source": [
    "# サンプリングによってオブザーバブルの期待値を推定する"
   ]
  },
  {
   "cell_type": "markdown",
   "id": "bc2808d0-3099-4709-abb7-bf287b3bb6e8",
   "metadata": {},
   "source": [
    "## オブザーバブルを定義する"
   ]
  },
  {
   "cell_type": "markdown",
   "id": "615b4041-bf78-4679-9715-ffd819738627",
   "metadata": {},
   "source": [
    "ここでは1次元ハイゼンベルグ模型\n",
    "$$H = \\sum_{i} J_{i} (X_iX_{i+1} + Y_iY_{1+1} + Z_iZ_{i+1})$$\n",
    "を考える"
   ]
  },
  {
   "cell_type": "code",
   "execution_count": 2,
   "id": "8403cc44-a820-46b8-9402-873c67ee1f10",
   "metadata": {},
   "outputs": [],
   "source": [
    "n_qubits = 4\n",
    "hamiltonian = Observable(n_qubits)\n",
    "np.random.seed(1)\n",
    "J_list = 2*np.random.rand(n_qubits)-1\n",
    "for i in range(n_qubits):\n",
    "    hamiltonian.add_operator(J_list[i], f\"X {i} X {(i+1)%n_qubits}\")\n",
    "    hamiltonian.add_operator(J_list[i], f\"Y {i} Y {(i+1)%n_qubits}\")\n",
    "    hamiltonian.add_operator(J_list[i], f\"Z {i} Z {(i+1)%n_qubits}\")"
   ]
  },
  {
   "cell_type": "markdown",
   "id": "9d3b4bf2-6b51-4881-a2f4-fa9243461465",
   "metadata": {},
   "source": [
    "## 適当な状態を準備する"
   ]
  },
  {
   "cell_type": "markdown",
   "id": "8899a664-fd57-4df5-bbfe-f30b13abdfd9",
   "metadata": {},
   "source": [
    "期待値測定をする対象として、適当な回路を通した状態を準備します。"
   ]
  },
  {
   "cell_type": "code",
   "execution_count": 3,
   "id": "6f5f9ac4-42d2-4ac5-97f6-5a9e8625f46b",
   "metadata": {},
   "outputs": [
    {
     "data": {
      "image/png": "[encoded data removed]",
      "text/plain": [
       "<Figure size 518.4x367.2 with 1 Axes>"
      ]
     },
     "metadata": {
      "needs_background": "light"
     },
     "output_type": "display_data"
    }
   ],
   "source": [
    "state = QuantumState(n_qubits)\n",
    "circuit = QuantumCircuit(n_qubits)\n",
    "depth = 2\n",
    "np.random.seed(2)\n",
    "for d in range(depth):\n",
    "    for i in range(n_qubits):\n",
    "        circuit.add_U3_gate(i, *(2*np.pi*np.random.rand(3)))\n",
    "    for i in range(n_qubits//2):\n",
    "        circuit.add_CZ_gate((i+d%2)%n_qubits, (i+1+d%2)%n_qubits)\n",
    "circuit.update_quantum_state(state)\n",
    "\n",
    "circuit_drawer(circuit, \"mpl\")"
   ]
  },
  {
   "cell_type": "markdown",
   "id": "26b0c675-86be-4917-92c3-d95c325ddbc9",
   "metadata": {},
   "source": [
    "厳密な期待値を計算すると以下のようになります。これをサンプリングによって再現するのが目標です。"
   ]
  },
  {
   "cell_type": "code",
   "execution_count": 4,
   "id": "b8b95bda-9518-41c3-9ad4-268d454dada2",
   "metadata": {},
   "outputs": [
    {
     "data": {
      "text/plain": [
       "-0.37299366575662646"
      ]
     },
     "execution_count": 4,
     "metadata": {},
     "output_type": "execute_result"
    }
   ],
   "source": [
    "hamiltonian.get_expectation_value(state)"
   ]
  },
  {
   "cell_type": "markdown",
   "id": "58ffa59e-8371-4257-85a9-07ce71f0ccc8",
   "metadata": {},
   "source": [
    "## サンプリングをしてみる。"
   ]
  },
  {
   "cell_type": "markdown",
   "id": "4dcb74fa-833c-434c-a0d2-0efee73ff705",
   "metadata": {},
   "source": [
    "### $Z$ のサンプリング\n",
    "$H_{ZZ} = \\sum_i J_i Z_iZ_{i+1}$ の期待値 $\\langle H \\rangle$ を求めよう。$Z$ の固有ベクトルは $|0\\rangle$, $|1\\rangle$ なので、そのままサンプリングすれば OK です。  \n",
    "変数`mask_list`の中身はそれぞれ、$Z_0 Z_1, Z_1 Z_2, Z_2 Z_3, Z_3 Z_0$に対応しています。($Z_i$を使う場合、`0bxxxx`の右からi番目を1にする)"
   ]
  },
  {
   "cell_type": "code",
   "execution_count": 5,
   "id": "d08757fd-5b37-4b3d-8e94-5bba4b029584",
   "metadata": {},
   "outputs": [],
   "source": [
    "def sample_ZZ(_n_shots):\n",
    "    global J_list, state\n",
    "    samples = state.sampling(_n_shots)\n",
    "    estimated_Z_energy = 0\n",
    "    mask_list = [0b0011, 0b0110, 0b1100, 0b1001]\n",
    "    for s in samples:\n",
    "        for J, mask in zip(J_list, mask_list):\n",
    "            bitcount = bin(s & mask).count(\"1\")\n",
    "#             print(f\"{s:04b}, {bitcount}, {mask:04b}\")\n",
    "            estimated_Z_energy += J*(-1)**bitcount/_n_shots\n",
    "    return estimated_Z_energy"
   ]
  },
  {
   "cell_type": "markdown",
   "id": "9c336b4c-64bd-4f2e-83fb-2d4fc540ca3a",
   "metadata": {},
   "source": [
    "1000個のビット列のサンプリングを1000回繰り返してヒストグラムに表示します"
   ]
  },
  {
   "cell_type": "code",
   "execution_count": 6,
   "id": "1c8d145e-6742-46e5-ae00-d86b519313cf",
   "metadata": {
    "tags": []
   },
   "outputs": [
    {
     "data": {
      "image/png": "[encoded data removed]",
      "text/plain": [
       "<Figure size 432x288 with 1 Axes>"
      ]
     },
     "metadata": {
      "needs_background": "light"
     },
     "output_type": "display_data"
    }
   ],
   "source": [
    "n_test = 1000\n",
    "n_shots = 1000\n",
    "result_list_ZZ = np.zeros(n_test)\n",
    "for i in range(n_test):\n",
    "    result_list_ZZ[i] = sample_ZZ(n_shots)\n",
    "plt.hist(result_list_ZZ, alpha=0.2, bins=20)\n",
    "hamiltonian_ZZ = Observable(n_qubits)\n",
    "for i in range(n_qubits):\n",
    "    hamiltonian_ZZ.add_operator(J_list[i], f\"Z {i} Z {(i+1)%n_qubits}\")\n",
    "plt.axvline(hamiltonian_ZZ.get_expectation_value(state), color=\"black\")\n",
    "plt.show()"
   ]
  },
  {
   "cell_type": "markdown",
   "id": "be63faa1-f821-4300-a658-a792e9ace076",
   "metadata": {},
   "source": [
    "### $X$ のサンプリング\n",
    "$X$ のサンプリングはそのままではできないです。$X=HZH$ を使って期待値を推定します。"
   ]
  },
  {
   "cell_type": "code",
   "execution_count": null,
   "id": "271260e1-c3ec-4d23-996c-b2f8fd130c5b",
   "metadata": {},
   "outputs": [],
   "source": [
    "# 演習\n",
    "def sample_XX(_n_shots):\n",
    "    pass"
   ]
  },
  {
   "cell_type": "code",
   "execution_count": null,
   "id": "9520466d-ba16-4b32-b303-35ac057789eb",
   "metadata": {},
   "outputs": [],
   "source": [
    "n_test = 1000\n",
    "n_shots = 1000\n",
    "result_list_XX = np.zeros(n_test)\n",
    "for i in range(n_test):\n",
    "    result_list_XX[i] = sample_XX(n_shots)\n",
    "plt.hist(result_list_XX, alpha=0.2, bins=20)\n",
    "hamiltonian_XX = Observable(n_qubits)\n",
    "for i in range(n_qubits):\n",
    "    hamiltonian_XX.add_operator(J_list[i], f\"X {i} X {(i+1)%n_qubits}\")\n",
    "plt.axvline(hamiltonian_XX.get_expectation_value(state), color=\"black\")\n",
    "plt.show()"
   ]
  },
  {
   "cell_type": "markdown",
   "id": "22873bde-43cf-4f5a-a9c9-ab7023ace899",
   "metadata": {},
   "source": [
    "### $Y$ のサンプリング\n",
    "$Y$ のサンプリングもそのままではできないので、$Y = SH Z HS^\\dagger$ を使って推定します。"
   ]
  },
  {
   "cell_type": "code",
   "execution_count": null,
   "id": "ebf3f554-9005-439e-ad6a-b6fc2ef369d0",
   "metadata": {},
   "outputs": [],
   "source": [
    "# 演習\n",
    "def sample_YY(_n_shots):\n",
    "    pass"
   ]
  },
  {
   "cell_type": "code",
   "execution_count": null,
   "id": "de798e96-e28c-4504-bd91-6ab9e5d128a6",
   "metadata": {},
   "outputs": [],
   "source": [
    "n_test = 1000\n",
    "n_shots = 1000\n",
    "result_list_YY = np.zeros(n_test)\n",
    "for i in range(n_test):\n",
    "    result_list_YY[i] = sample_YY(n_shots)\n",
    "plt.hist(result_list_YY, alpha=0.2, bins=20)\n",
    "hamiltonian_YY = Observable(n_qubits)\n",
    "for i in range(n_qubits):\n",
    "    hamiltonian_YY.add_operator(J_list[i], f\"Y {i} Y {(i+1)%n_qubits}\")\n",
    "plt.axvline(hamiltonian_YY.get_expectation_value(state), color=\"black\")\n",
    "plt.show()"
   ]
  },
  {
   "cell_type": "markdown",
   "id": "960c554e-4103-457b-aeb8-7f4d0cd41d6d",
   "metadata": {},
   "source": [
    "### 全体のサンプリング結果"
   ]
  },
  {
   "cell_type": "markdown",
   "id": "1b8c94e9-a891-443b-9355-61a586bc8775",
   "metadata": {},
   "source": [
    "エネルギー期待値は \n",
    "$$\\langle H \\rangle = \\langle H_{XX} \\rangle + \\langle H_{YY} \\rangle + \\langle H_{ZZ} \\rangle $$\n",
    "で求められます。"
   ]
  },
  {
   "cell_type": "code",
   "execution_count": null,
   "id": "7472a587-b040-42af-be98-8390bfc2c9dd",
   "metadata": {},
   "outputs": [],
   "source": [
    "result_list_total = result_list_XX + result_list_YY + result_list_ZZ\n",
    "plt.hist(result_list_total, alpha=0.2, bins=20)\n",
    "plt.axvline(hamiltonian.get_expectation_value(state), color=\"black\")\n",
    "plt.show()"
   ]
  }
 ],
 "metadata": {
  "kernelspec": {
   "display_name": "Python 3 (ipykernel)",
   "language": "python",
   "name": "python3"
  },
  "language_info": {
   "codemirror_mode": {
    "name": "ipython",
    "version": 3
   },
   "file_extension": ".py",
   "mimetype": "text/x-python",
   "name": "python",
   "nbconvert_exporter": "python",
   "pygments_lexer": "ipython3",
   "version": "3.7.12"
  }
 },
 "nbformat": 4,
 "nbformat_minor": 5
}
