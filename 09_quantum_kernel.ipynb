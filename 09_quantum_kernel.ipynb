{
 "cells": [
  {
   "cell_type": "code",
   "execution_count": 2,
   "id": "c769356d-9132-4ff5-9341-74c445ce0b11",
   "metadata": {},
   "outputs": [],
   "source": [
    "#!pip install qulacs\n",
    "#!pip install matplotlib\n",
    "#!pip install numpy\n",
    "#!pip install scipy"
   ]
  },
  {
   "cell_type": "code",
   "execution_count": 3,
   "id": "5f3e75cd-8d2e-4499-91f3-41c64332cc8f",
   "metadata": {},
   "outputs": [],
   "source": [
    "from qulacs import Observable, QuantumState, QuantumCircuit, ParametricQuantumCircuit\n",
    "import numpy as np\n",
    "import matplotlib.pyplot as plt\n",
    "from tqdm import tqdm"
   ]
  },
  {
   "cell_type": "code",
   "execution_count": null,
   "id": "7d20e1dc-80d3-4c80-87d1-e19526c8f6c1",
   "metadata": {},
   "outputs": [],
   "source": []
  }
 ],
 "metadata": {
  "kernelspec": {
   "display_name": "Python 3",
   "language": "python",
   "name": "python3"
  },
  "language_info": {
   "codemirror_mode": {
    "name": "ipython",
    "version": 3
   },
   "file_extension": ".py",
   "mimetype": "text/x-python",
   "name": "python",
   "nbconvert_exporter": "python",
   "pygments_lexer": "ipython3",
   "version": "3.9.5"
  }
 },
 "nbformat": 4,
 "nbformat_minor": 5
}
